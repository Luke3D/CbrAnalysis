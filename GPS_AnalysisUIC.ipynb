{
 "cells": [
  {
   "cell_type": "code",
   "execution_count": 2,
   "metadata": {
    "collapsed": false
   },
   "outputs": [],
   "source": [
    "import pandas as pd\n",
    "import numpy as np\n",
    "import seaborn as sns\n",
    "import datetime as dt\n",
    "import os\n",
    "import pytz\n",
    "from pytz import timezone\n",
    "from scipy.stats import pearsonr"
   ]
  },
  {
   "cell_type": "code",
   "execution_count": 3,
   "metadata": {
    "collapsed": true
   },
   "outputs": [],
   "source": [
    "tz = timezone('US/Central') # This data uses GMT-6 rather than standard CST/CDT\n",
    "def toUTC(d):\n",
    "    return tz.normalize(tz.localize(d)).astimezone(pytz.utc)"
   ]
  },
  {
   "cell_type": "code",
   "execution_count": 4,
   "metadata": {
    "collapsed": true
   },
   "outputs": [],
   "source": [
    "def string2datetime(stringDTSeries):\n",
    "    try:\n",
    "        return [(dt.datetime.strptime(DT,'%Y/%m/%d %I:%M:%S %p')) for DT in stringDTSeries]\n",
    "    except(ValueError):\n",
    "        try:\n",
    "            return [(dt.datetime.strptime(DT,'%Y/%m/%d %H:%M:%S')) for DT in stringDTSeries]\n",
    "        except(ValueError):\n",
    "            try:\n",
    "                return [(dt.datetime.strptime(DT,'%m/%d/%Y %I:%M:%S %p')) for DT in stringDTSeries]\n",
    "            except(ValueError):\n",
    "                return [(dt.datetime.strptime(DT,'%m/%d/%Y %H:%M:%S')) for DT in stringDTSeries]"
   ]
  },
  {
   "cell_type": "code",
   "execution_count": 5,
   "metadata": {
    "collapsed": true
   },
   "outputs": [],
   "source": [
    "path = '/Volumes/RT&O/C Brace/GPS Analysis/'"
   ]
  },
  {
   "cell_type": "code",
   "execution_count": 6,
   "metadata": {
    "collapsed": false
   },
   "outputs": [
    {
     "data": {
      "text/plain": [
       "['CBR08_Final_Summary_File.xlsx',\n",
       " 'CBR11_Final_Summary_File.xlsx',\n",
       " 'CBR15_Final_Summary_File.xlsx',\n",
       " 'CBR16_Final_Summary_File.xlsx',\n",
       " 'CBR19_Final_Summary_File.xlsx',\n",
       " 'CBR21_Final_Summary_File.xlsx',\n",
       " 'CBR22_Final_Summary_File.xlsx',\n",
       " 'CBR24_Final_SummaryRLU.xlsx',\n",
       " 'CBR25_Final_Summary_Rname.xlsx',\n",
       " 'CBR26_Final_Summary.xlsx',\n",
       " 'CBR27_Final_Summary_Rname.xlsx',\n",
       " 'CBR28_Final_Summary_Rname.xlsx',\n",
       " 'CBR30_Final_Summary_Rnames.xlsx',\n",
       " '~$CBR08_Final_Summary_File.xlsx']"
      ]
     },
     "execution_count": 6,
     "metadata": {},
     "output_type": "execute_result"
    }
   ],
   "source": [
    "os.listdir(path+'/UIC_GPSData')"
   ]
  },
  {
   "cell_type": "markdown",
   "metadata": {},
   "source": [
    "## Add LandUse coordinates and weartime to UIC preprocessed GPS files"
   ]
  },
  {
   "cell_type": "code",
   "execution_count": 15,
   "metadata": {
    "collapsed": false
   },
   "outputs": [],
   "source": [
    "Baseline = pd.read_excel(path+'/UIC_GPSData/CBR15_Final_Summary_File.xlsx')"
   ]
  },
  {
   "cell_type": "code",
   "execution_count": 16,
   "metadata": {
    "collapsed": false
   },
   "outputs": [
    {
     "data": {
      "text/plain": [
       "array(['trip', 'COM_URBMIX', 'home', 'RES_SF_DETACHED', 'COM_CULT_ENT',\n",
       "       'OS_REC', 'Non-Parcel Road ROW', 'TCU_PARKING', 'COM_REGIONAL',\n",
       "       'COM_OFFICE', 'RES_MF', 'COM_BIGBOX', 'COM_MALL', 'COM_HOTEL',\n",
       "       'INST_MEDICAL'], dtype=object)"
      ]
     },
     "execution_count": 16,
     "metadata": {},
     "output_type": "execute_result"
    }
   ],
   "source": [
    "Baseline.LandUse.unique()"
   ]
  },
  {
   "cell_type": "code",
   "execution_count": 17,
   "metadata": {
    "collapsed": false
   },
   "outputs": [],
   "source": [
    "Gpsdata = pd.read_csv(path+'GPSWT/CBR15_Baseline.csv')"
   ]
  },
  {
   "cell_type": "code",
   "execution_count": 28,
   "metadata": {
    "collapsed": false
   },
   "outputs": [
    {
     "data": {
      "text/html": [
       "<div>\n",
       "<table border=\"1\" class=\"dataframe\">\n",
       "  <thead>\n",
       "    <tr style=\"text-align: right;\">\n",
       "      <th></th>\n",
       "      <th>Date</th>\n",
       "      <th>Sequence</th>\n",
       "      <th>BeginTime</th>\n",
       "      <th>EndTime</th>\n",
       "      <th>Mode</th>\n",
       "      <th>LandUse</th>\n",
       "      <th>MeanSpeed</th>\n",
       "      <th>Numberpoints</th>\n",
       "      <th>TotalGap</th>\n",
       "      <th>Duration</th>\n",
       "    </tr>\n",
       "  </thead>\n",
       "  <tbody>\n",
       "    <tr>\n",
       "      <th>0</th>\n",
       "      <td>2015-07-02</td>\n",
       "      <td>1</td>\n",
       "      <td>11:12:13</td>\n",
       "      <td>12:47:30</td>\n",
       "      <td>Car</td>\n",
       "      <td>trip</td>\n",
       "      <td>77.185558</td>\n",
       "      <td>518</td>\n",
       "      <td>9.116665</td>\n",
       "      <td>95.283333</td>\n",
       "    </tr>\n",
       "    <tr>\n",
       "      <th>1</th>\n",
       "      <td>2015-07-02</td>\n",
       "      <td>2</td>\n",
       "      <td>12:47:35</td>\n",
       "      <td>12:54:18</td>\n",
       "      <td>NaN</td>\n",
       "      <td>COM_URBMIX</td>\n",
       "      <td>2.076743</td>\n",
       "      <td>31</td>\n",
       "      <td>1.633333</td>\n",
       "      <td>6.716667</td>\n",
       "    </tr>\n",
       "    <tr>\n",
       "      <th>2</th>\n",
       "      <td>2015-07-02</td>\n",
       "      <td>3</td>\n",
       "      <td>12:54:23</td>\n",
       "      <td>13:00:53</td>\n",
       "      <td>Car</td>\n",
       "      <td>trip</td>\n",
       "      <td>33.312281</td>\n",
       "      <td>79</td>\n",
       "      <td>0.000000</td>\n",
       "      <td>6.500000</td>\n",
       "    </tr>\n",
       "  </tbody>\n",
       "</table>\n",
       "</div>"
      ],
      "text/plain": [
       "        Date  Sequence BeginTime   EndTime Mode     LandUse  MeanSpeed  \\\n",
       "0 2015-07-02         1  11:12:13  12:47:30  Car        trip  77.185558   \n",
       "1 2015-07-02         2  12:47:35  12:54:18  NaN  COM_URBMIX   2.076743   \n",
       "2 2015-07-02         3  12:54:23  13:00:53  Car        trip  33.312281   \n",
       "\n",
       "   Numberpoints  TotalGap   Duration  \n",
       "0           518  9.116665  95.283333  \n",
       "1            31  1.633333   6.716667  \n",
       "2            79  0.000000   6.500000  "
      ]
     },
     "execution_count": 28,
     "metadata": {},
     "output_type": "execute_result"
    }
   ],
   "source": [
    "Baseline.head(3)"
   ]
  },
  {
   "cell_type": "code",
   "execution_count": 29,
   "metadata": {
    "collapsed": false
   },
   "outputs": [
    {
     "data": {
      "text/html": [
       "<div>\n",
       "<table border=\"1\" class=\"dataframe\">\n",
       "  <thead>\n",
       "    <tr style=\"text-align: right;\">\n",
       "      <th></th>\n",
       "      <th>Unnamed: 0</th>\n",
       "      <th>INDEX</th>\n",
       "      <th>TRACK ID</th>\n",
       "      <th>VALID</th>\n",
       "      <th>UTC DATE</th>\n",
       "      <th>UTC TIME</th>\n",
       "      <th>LOCAL DATE</th>\n",
       "      <th>LOCAL TIME</th>\n",
       "      <th>MS</th>\n",
       "      <th>LATITUDE</th>\n",
       "      <th>N/S</th>\n",
       "      <th>LONGITUDE</th>\n",
       "      <th>E/W</th>\n",
       "      <th>ALTITUDE</th>\n",
       "      <th>SPEED</th>\n",
       "      <th>HEADING</th>\n",
       "      <th>G-X</th>\n",
       "      <th>G-Y</th>\n",
       "      <th>G-Z</th>\n",
       "      <th>Wear/Non-Wear</th>\n",
       "    </tr>\n",
       "  </thead>\n",
       "  <tbody>\n",
       "    <tr>\n",
       "      <th>0</th>\n",
       "      <td>0</td>\n",
       "      <td>1</td>\n",
       "      <td>1</td>\n",
       "      <td>FIXED</td>\n",
       "      <td>7/2/2015</td>\n",
       "      <td>16:12:13</td>\n",
       "      <td>7/2/2015</td>\n",
       "      <td>10:12:13</td>\n",
       "      <td>0</td>\n",
       "      <td>41.895511</td>\n",
       "      <td>N</td>\n",
       "      <td>87.618302</td>\n",
       "      <td>W</td>\n",
       "      <td>189.558014</td>\n",
       "      <td>0.0</td>\n",
       "      <td>0.0</td>\n",
       "      <td>0</td>\n",
       "      <td>0</td>\n",
       "      <td>0</td>\n",
       "      <td>Wear</td>\n",
       "    </tr>\n",
       "    <tr>\n",
       "      <th>1</th>\n",
       "      <td>1</td>\n",
       "      <td>2</td>\n",
       "      <td>1</td>\n",
       "      <td>FIXED</td>\n",
       "      <td>7/2/2015</td>\n",
       "      <td>16:12:14</td>\n",
       "      <td>7/2/2015</td>\n",
       "      <td>10:12:14</td>\n",
       "      <td>0</td>\n",
       "      <td>41.895511</td>\n",
       "      <td>N</td>\n",
       "      <td>87.618302</td>\n",
       "      <td>W</td>\n",
       "      <td>189.558014</td>\n",
       "      <td>0.0</td>\n",
       "      <td>0.0</td>\n",
       "      <td>0</td>\n",
       "      <td>0</td>\n",
       "      <td>0</td>\n",
       "      <td>Wear</td>\n",
       "    </tr>\n",
       "    <tr>\n",
       "      <th>2</th>\n",
       "      <td>2</td>\n",
       "      <td>3</td>\n",
       "      <td>1</td>\n",
       "      <td>FIXED</td>\n",
       "      <td>7/2/2015</td>\n",
       "      <td>16:12:15</td>\n",
       "      <td>7/2/2015</td>\n",
       "      <td>10:12:15</td>\n",
       "      <td>0</td>\n",
       "      <td>41.895511</td>\n",
       "      <td>N</td>\n",
       "      <td>87.618302</td>\n",
       "      <td>W</td>\n",
       "      <td>189.558014</td>\n",
       "      <td>0.0</td>\n",
       "      <td>0.0</td>\n",
       "      <td>0</td>\n",
       "      <td>0</td>\n",
       "      <td>0</td>\n",
       "      <td>Wear</td>\n",
       "    </tr>\n",
       "  </tbody>\n",
       "</table>\n",
       "</div>"
      ],
      "text/plain": [
       "   Unnamed: 0  INDEX  TRACK ID  VALID  UTC DATE  UTC TIME LOCAL DATE  \\\n",
       "0           0      1         1  FIXED  7/2/2015  16:12:13   7/2/2015   \n",
       "1           1      2         1  FIXED  7/2/2015  16:12:14   7/2/2015   \n",
       "2           2      3         1  FIXED  7/2/2015  16:12:15   7/2/2015   \n",
       "\n",
       "  LOCAL TIME  MS   LATITUDE N/S  LONGITUDE E/W    ALTITUDE  SPEED  HEADING  \\\n",
       "0   10:12:13   0  41.895511   N  87.618302   W  189.558014    0.0      0.0   \n",
       "1   10:12:14   0  41.895511   N  87.618302   W  189.558014    0.0      0.0   \n",
       "2   10:12:15   0  41.895511   N  87.618302   W  189.558014    0.0      0.0   \n",
       "\n",
       "   G-X  G-Y  G-Z Wear/Non-Wear  \n",
       "0    0    0    0          Wear  \n",
       "1    0    0    0          Wear  \n",
       "2    0    0    0          Wear  "
      ]
     },
     "execution_count": 29,
     "metadata": {},
     "output_type": "execute_result"
    }
   ],
   "source": [
    "Gpsdata.head(3)"
   ]
  },
  {
   "cell_type": "code",
   "execution_count": 30,
   "metadata": {
    "collapsed": false
   },
   "outputs": [],
   "source": [
    "x = Gpsdata['UTC DATE']+' '+Gpsdata['UTC TIME'] #full date/time\n",
    "GpsDates = string2datetime(x) #convert to datetime object\n",
    "GpsDates=pd.Series(GpsDates)"
   ]
  },
  {
   "cell_type": "code",
   "execution_count": 31,
   "metadata": {
    "collapsed": false
   },
   "outputs": [
    {
     "data": {
      "text/plain": [
       "0   2015-07-02 16:12:13\n",
       "1   2015-07-02 16:12:14\n",
       "2   2015-07-02 16:12:15\n",
       "3   2015-07-02 16:12:16\n",
       "4   2015-07-02 16:12:17\n",
       "5   2015-07-02 16:12:18\n",
       "6   2015-07-02 16:12:21\n",
       "7   2015-07-02 17:03:23\n",
       "8   2015-07-02 17:03:28\n",
       "9   2015-07-02 17:03:33\n",
       "dtype: datetime64[ns]"
      ]
     },
     "execution_count": 31,
     "metadata": {},
     "output_type": "execute_result"
    }
   ],
   "source": [
    "GpsDates[:10]"
   ]
  },
  {
   "cell_type": "code",
   "execution_count": 61,
   "metadata": {
    "collapsed": false
   },
   "outputs": [
    {
     "data": {
      "text/plain": [
       "True"
      ]
     },
     "execution_count": 61,
     "metadata": {},
     "output_type": "execute_result"
    }
   ],
   "source": [
    "any(ind)"
   ]
  },
  {
   "cell_type": "code",
   "execution_count": 66,
   "metadata": {
    "collapsed": false
   },
   "outputs": [],
   "source": [
    "#Baseline: UIC Gps preprocessed Data\n",
    "#GPSdata: raw Gps data with wear time fraction\n",
    "#GpsDates: datetime object from Gpsdata to match with UIC data\n",
    "def add_latlonwear(Baseline,Gpsdata,GpsDates):\n",
    "    loc_lat = []\n",
    "    loc_lon = []\n",
    "    wear_frac = []\n",
    "\n",
    "    for i in range(len(Baseline)):\n",
    "        start = Baseline.BeginTime[i]\n",
    "        end = Baseline.EndTime[i]\n",
    "        d = Baseline.Date[i]\n",
    "        d = d.strftime('%Y-%m-%d') \n",
    "        \n",
    "        startdate = toUTC(dt.datetime.strptime(d+' '+start,'%Y-%m-%d %H:%M:%S'))\n",
    "        enddate = toUTC(dt.datetime.strptime(d+' '+end,'%Y-%m-%d %H:%M:%S'))\n",
    "\n",
    "        ind = (GpsDates > startdate) & (GpsDates < enddate)\n",
    "        meanLat = np.mean(Gpsdata['LATITUDE'][ind])\n",
    "        meanLon = np.mean(Gpsdata['LONGITUDE'][ind])\n",
    "        if np.isnan(meanLat) or np.isnan(meanLon):\n",
    "            print('null found %s'%any(ind))\n",
    "            print(startdate,enddate)\n",
    "        loc_lat.append(meanLat)\n",
    "        loc_lon.append(meanLon)\n",
    "\n",
    "        wear_ind = (Gpsdata['Wear/Non-Wear']=='Wear') & ind\n",
    "        wear_frac.append(sum(wear_ind)/sum(ind))\n",
    "\n",
    "    Baseline['Mean Lat'] = loc_lat\n",
    "    Baseline['Mean Lon'] = loc_lon\n",
    "    Baseline['Wear Frac'] = wear_frac\n"
   ]
  },
  {
   "cell_type": "code",
   "execution_count": 38,
   "metadata": {
    "collapsed": false
   },
   "outputs": [
    {
     "data": {
      "text/html": [
       "<div>\n",
       "<table border=\"1\" class=\"dataframe\">\n",
       "  <thead>\n",
       "    <tr style=\"text-align: right;\">\n",
       "      <th></th>\n",
       "      <th>Date</th>\n",
       "      <th>Sequence</th>\n",
       "      <th>BeginTime</th>\n",
       "      <th>EndTime</th>\n",
       "      <th>Mode</th>\n",
       "      <th>LandUse</th>\n",
       "      <th>MeanSpeed</th>\n",
       "      <th>Numberpoints</th>\n",
       "      <th>TotalGap</th>\n",
       "      <th>Duration</th>\n",
       "      <th>Mean Lat</th>\n",
       "      <th>Mean Lon</th>\n",
       "      <th>Wear Frac</th>\n",
       "    </tr>\n",
       "  </thead>\n",
       "  <tbody>\n",
       "    <tr>\n",
       "      <th>0</th>\n",
       "      <td>2015-07-02</td>\n",
       "      <td>1</td>\n",
       "      <td>11:12:13</td>\n",
       "      <td>12:47:30</td>\n",
       "      <td>Car</td>\n",
       "      <td>trip</td>\n",
       "      <td>77.185558</td>\n",
       "      <td>518</td>\n",
       "      <td>9.116665</td>\n",
       "      <td>95.283333</td>\n",
       "      <td>41.716221</td>\n",
       "      <td>87.685847</td>\n",
       "      <td>1.000000</td>\n",
       "    </tr>\n",
       "    <tr>\n",
       "      <th>1</th>\n",
       "      <td>2015-07-02</td>\n",
       "      <td>2</td>\n",
       "      <td>12:47:35</td>\n",
       "      <td>12:54:18</td>\n",
       "      <td>NaN</td>\n",
       "      <td>COM_URBMIX</td>\n",
       "      <td>2.076743</td>\n",
       "      <td>31</td>\n",
       "      <td>1.633333</td>\n",
       "      <td>6.716667</td>\n",
       "      <td>41.528899</td>\n",
       "      <td>87.849158</td>\n",
       "      <td>1.000000</td>\n",
       "    </tr>\n",
       "    <tr>\n",
       "      <th>2</th>\n",
       "      <td>2015-07-02</td>\n",
       "      <td>3</td>\n",
       "      <td>12:54:23</td>\n",
       "      <td>13:00:53</td>\n",
       "      <td>Car</td>\n",
       "      <td>trip</td>\n",
       "      <td>33.312281</td>\n",
       "      <td>79</td>\n",
       "      <td>0.000000</td>\n",
       "      <td>6.500000</td>\n",
       "      <td>41.514940</td>\n",
       "      <td>87.850628</td>\n",
       "      <td>1.000000</td>\n",
       "    </tr>\n",
       "    <tr>\n",
       "      <th>3</th>\n",
       "      <td>2015-07-02</td>\n",
       "      <td>4</td>\n",
       "      <td>13:00:58</td>\n",
       "      <td>23:59:55</td>\n",
       "      <td>NaN</td>\n",
       "      <td>home</td>\n",
       "      <td>0.187761</td>\n",
       "      <td>7910</td>\n",
       "      <td>0.000000</td>\n",
       "      <td>658.950000</td>\n",
       "      <td>41.499339</td>\n",
       "      <td>87.857458</td>\n",
       "      <td>0.877213</td>\n",
       "    </tr>\n",
       "    <tr>\n",
       "      <th>4</th>\n",
       "      <td>2015-07-03</td>\n",
       "      <td>1</td>\n",
       "      <td>0:00:00</td>\n",
       "      <td>9:45:23</td>\n",
       "      <td>NaN</td>\n",
       "      <td>home</td>\n",
       "      <td>0.073735</td>\n",
       "      <td>7026</td>\n",
       "      <td>0.000000</td>\n",
       "      <td>585.383333</td>\n",
       "      <td>41.499315</td>\n",
       "      <td>87.857421</td>\n",
       "      <td>0.077449</td>\n",
       "    </tr>\n",
       "  </tbody>\n",
       "</table>\n",
       "</div>"
      ],
      "text/plain": [
       "        Date  Sequence BeginTime   EndTime Mode     LandUse  MeanSpeed  \\\n",
       "0 2015-07-02         1  11:12:13  12:47:30  Car        trip  77.185558   \n",
       "1 2015-07-02         2  12:47:35  12:54:18  NaN  COM_URBMIX   2.076743   \n",
       "2 2015-07-02         3  12:54:23  13:00:53  Car        trip  33.312281   \n",
       "3 2015-07-02         4  13:00:58  23:59:55  NaN        home   0.187761   \n",
       "4 2015-07-03         1   0:00:00   9:45:23  NaN        home   0.073735   \n",
       "\n",
       "   Numberpoints  TotalGap    Duration   Mean Lat   Mean Lon  Wear Frac  \n",
       "0           518  9.116665   95.283333  41.716221  87.685847   1.000000  \n",
       "1            31  1.633333    6.716667  41.528899  87.849158   1.000000  \n",
       "2            79  0.000000    6.500000  41.514940  87.850628   1.000000  \n",
       "3          7910  0.000000  658.950000  41.499339  87.857458   0.877213  \n",
       "4          7026  0.000000  585.383333  41.499315  87.857421   0.077449  "
      ]
     },
     "execution_count": 38,
     "metadata": {},
     "output_type": "execute_result"
    }
   ],
   "source": [
    "Baseline.head()"
   ]
  },
  {
   "cell_type": "code",
   "execution_count": 39,
   "metadata": {
    "collapsed": false
   },
   "outputs": [
    {
     "data": {
      "text/plain": [
       "array(['trip', 'COM_URBMIX', 'home', 'RES_SF_DETACHED', 'COM_CULT_ENT',\n",
       "       'OS_REC', 'Non-Parcel Road ROW', 'TCU_PARKING', 'COM_REGIONAL',\n",
       "       'COM_OFFICE', 'RES_MF', 'COM_BIGBOX', 'COM_MALL', 'COM_HOTEL',\n",
       "       'INST_MEDICAL'], dtype=object)"
      ]
     },
     "execution_count": 39,
     "metadata": {},
     "output_type": "execute_result"
    }
   ],
   "source": [
    "Baseline.LandUse.unique()"
   ]
  },
  {
   "cell_type": "markdown",
   "metadata": {},
   "source": [
    "# TODO:\n",
    "* Loop through files and generate data for each brace (now sheets are renamed Baseline, SCO, CBR)"
   ]
  },
  {
   "cell_type": "code",
   "execution_count": 69,
   "metadata": {
    "collapsed": false
   },
   "outputs": [
    {
     "data": {
      "text/html": [
       "<div>\n",
       "<table border=\"1\" class=\"dataframe\">\n",
       "  <thead>\n",
       "    <tr style=\"text-align: right;\">\n",
       "      <th></th>\n",
       "      <th>Unnamed: 0</th>\n",
       "      <th>INDEX</th>\n",
       "      <th>TRACK ID</th>\n",
       "      <th>VALID</th>\n",
       "      <th>UTC DATE</th>\n",
       "      <th>UTC TIME</th>\n",
       "      <th>LOCAL DATE</th>\n",
       "      <th>LOCAL TIME</th>\n",
       "      <th>MS</th>\n",
       "      <th>LATITUDE</th>\n",
       "      <th>N/S</th>\n",
       "      <th>LONGITUDE</th>\n",
       "      <th>E/W</th>\n",
       "      <th>ALTITUDE</th>\n",
       "      <th>SPEED</th>\n",
       "      <th>HEADING</th>\n",
       "      <th>G-X</th>\n",
       "      <th>G-Y</th>\n",
       "      <th>G-Z</th>\n",
       "      <th>Wear/Non-Wear</th>\n",
       "    </tr>\n",
       "  </thead>\n",
       "  <tbody>\n",
       "    <tr>\n",
       "      <th>0</th>\n",
       "      <td>0</td>\n",
       "      <td>1</td>\n",
       "      <td>1</td>\n",
       "      <td>FIXED</td>\n",
       "      <td>2015/2/10</td>\n",
       "      <td>17:42:37</td>\n",
       "      <td>2015/2/10</td>\n",
       "      <td>12:42:37</td>\n",
       "      <td>0</td>\n",
       "      <td>41.895196</td>\n",
       "      <td>N</td>\n",
       "      <td>87.624259</td>\n",
       "      <td>W</td>\n",
       "      <td>149.990494</td>\n",
       "      <td>0.574010</td>\n",
       "      <td>335.392252</td>\n",
       "      <td>0.0</td>\n",
       "      <td>0.0</td>\n",
       "      <td>0.0</td>\n",
       "      <td>Wear</td>\n",
       "    </tr>\n",
       "    <tr>\n",
       "      <th>1</th>\n",
       "      <td>1</td>\n",
       "      <td>2</td>\n",
       "      <td>1</td>\n",
       "      <td>FIXED</td>\n",
       "      <td>2015/2/10</td>\n",
       "      <td>17:42:47</td>\n",
       "      <td>2015/2/10</td>\n",
       "      <td>12:42:47</td>\n",
       "      <td>0</td>\n",
       "      <td>41.895462</td>\n",
       "      <td>N</td>\n",
       "      <td>87.624423</td>\n",
       "      <td>W</td>\n",
       "      <td>149.995331</td>\n",
       "      <td>0.879961</td>\n",
       "      <td>316.410852</td>\n",
       "      <td>0.0</td>\n",
       "      <td>0.0</td>\n",
       "      <td>0.0</td>\n",
       "      <td>Wear</td>\n",
       "    </tr>\n",
       "    <tr>\n",
       "      <th>2</th>\n",
       "      <td>2</td>\n",
       "      <td>3</td>\n",
       "      <td>1</td>\n",
       "      <td>FIXED</td>\n",
       "      <td>2015/2/10</td>\n",
       "      <td>17:42:57</td>\n",
       "      <td>2015/2/10</td>\n",
       "      <td>12:42:57</td>\n",
       "      <td>0</td>\n",
       "      <td>41.895555</td>\n",
       "      <td>N</td>\n",
       "      <td>87.624541</td>\n",
       "      <td>W</td>\n",
       "      <td>149.995544</td>\n",
       "      <td>1.826770</td>\n",
       "      <td>358.239356</td>\n",
       "      <td>0.0</td>\n",
       "      <td>0.0</td>\n",
       "      <td>0.0</td>\n",
       "      <td>Wear</td>\n",
       "    </tr>\n",
       "    <tr>\n",
       "      <th>3</th>\n",
       "      <td>3</td>\n",
       "      <td>4</td>\n",
       "      <td>1</td>\n",
       "      <td>FIXED</td>\n",
       "      <td>2015/2/10</td>\n",
       "      <td>17:43:7</td>\n",
       "      <td>2015/2/10</td>\n",
       "      <td>12:43:7</td>\n",
       "      <td>0</td>\n",
       "      <td>41.895645</td>\n",
       "      <td>N</td>\n",
       "      <td>87.624545</td>\n",
       "      <td>W</td>\n",
       "      <td>150.000412</td>\n",
       "      <td>1.679634</td>\n",
       "      <td>173.634000</td>\n",
       "      <td>0.0</td>\n",
       "      <td>0.0</td>\n",
       "      <td>0.0</td>\n",
       "      <td>Wear</td>\n",
       "    </tr>\n",
       "    <tr>\n",
       "      <th>4</th>\n",
       "      <td>4</td>\n",
       "      <td>5</td>\n",
       "      <td>1</td>\n",
       "      <td>FIXED</td>\n",
       "      <td>2015/2/10</td>\n",
       "      <td>17:43:17</td>\n",
       "      <td>2015/2/10</td>\n",
       "      <td>12:43:17</td>\n",
       "      <td>0</td>\n",
       "      <td>41.895430</td>\n",
       "      <td>N</td>\n",
       "      <td>87.624513</td>\n",
       "      <td>W</td>\n",
       "      <td>150.013351</td>\n",
       "      <td>4.007445</td>\n",
       "      <td>163.587416</td>\n",
       "      <td>0.0</td>\n",
       "      <td>0.0</td>\n",
       "      <td>0.0</td>\n",
       "      <td>Wear</td>\n",
       "    </tr>\n",
       "  </tbody>\n",
       "</table>\n",
       "</div>"
      ],
      "text/plain": [
       "   Unnamed: 0  INDEX  TRACK ID  VALID   UTC DATE  UTC TIME LOCAL DATE  \\\n",
       "0           0      1         1  FIXED  2015/2/10  17:42:37  2015/2/10   \n",
       "1           1      2         1  FIXED  2015/2/10  17:42:47  2015/2/10   \n",
       "2           2      3         1  FIXED  2015/2/10  17:42:57  2015/2/10   \n",
       "3           3      4         1  FIXED  2015/2/10   17:43:7  2015/2/10   \n",
       "4           4      5         1  FIXED  2015/2/10  17:43:17  2015/2/10   \n",
       "\n",
       "  LOCAL TIME  MS   LATITUDE N/S  LONGITUDE E/W    ALTITUDE     SPEED  \\\n",
       "0   12:42:37   0  41.895196   N  87.624259   W  149.990494  0.574010   \n",
       "1   12:42:47   0  41.895462   N  87.624423   W  149.995331  0.879961   \n",
       "2   12:42:57   0  41.895555   N  87.624541   W  149.995544  1.826770   \n",
       "3    12:43:7   0  41.895645   N  87.624545   W  150.000412  1.679634   \n",
       "4   12:43:17   0  41.895430   N  87.624513   W  150.013351  4.007445   \n",
       "\n",
       "      HEADING  G-X  G-Y  G-Z Wear/Non-Wear  \n",
       "0  335.392252  0.0  0.0  0.0          Wear  \n",
       "1  316.410852  0.0  0.0  0.0          Wear  \n",
       "2  358.239356  0.0  0.0  0.0          Wear  \n",
       "3  173.634000  0.0  0.0  0.0          Wear  \n",
       "4  163.587416  0.0  0.0  0.0          Wear  "
      ]
     },
     "execution_count": 69,
     "metadata": {},
     "output_type": "execute_result"
    }
   ],
   "source": [
    "GPSDates"
   ]
  },
  {
   "cell_type": "code",
   "execution_count": 67,
   "metadata": {
    "collapsed": false
   },
   "outputs": [
    {
     "name": "stdout",
     "output_type": "stream",
     "text": [
      "null found False\n",
      "2015-02-10 21:55:10+00:00 2015-02-10 22:02:30+00:00\n",
      "null found False\n",
      "2015-02-10 22:02:40+00:00 2015-02-10 22:30:50+00:00\n",
      "null found False\n",
      "2015-02-12 17:12:25+00:00 2015-02-12 17:13:15+00:00\n",
      "null found False\n",
      "2015-02-24 22:56:42+00:00 2015-02-24 23:27:37+00:00\n"
     ]
    }
   ],
   "source": [
    "f = 'CBR08_CBrace.csv'\n",
    "Gpsdata = pd.read_csv(path+'GPSWT/'+f)\n",
    "Subjid = f[:5]\n",
    "trial = f[6] #cbrace,SCO or baseline\n",
    "switcher = {'C':'CBR','S':'SCO','B':'Baseline'}\n",
    "UICdata = pd.read_excel(path+'UIC_GPSData/'+Subjid+'_Final_Summary_File.xlsx',sheetname=switcher[trial])\n",
    "\n",
    "#convert date formats\n",
    "x = Gpsdata['UTC DATE']+' '+Gpsdata['UTC TIME'] #full date/time\n",
    "GpsDates = string2datetime(x) #convert to datetime object\n",
    "GpsDates=pd.Series(GpsDates)\n",
    "\n",
    "add_latlonwear(UICdata,Gpsdata,GpsDates)"
   ]
  },
  {
   "cell_type": "code",
   "execution_count": 60,
   "metadata": {
    "collapsed": false
   },
   "outputs": [
    {
     "data": {
      "text/plain": [
       "41.8507153488372"
      ]
     },
     "execution_count": 60,
     "metadata": {},
     "output_type": "execute_result"
    }
   ],
   "source": [
    "startdate = dt.datetime(2015,2,10,20,55,10)\n",
    "enddate = dt.datetime(2015,2,10,21,2,30)\n",
    "# print(GpsDates[GpsDates==startdate])\n",
    "# print(GpsDates[GpsDates==enddate])\n",
    "ind = (GpsDates > startdate) & (GpsDates < enddate)\n",
    "np.mean(GPSdata.loc[ind,'LATITUDE'])"
   ]
  },
  {
   "cell_type": "code",
   "execution_count": 96,
   "metadata": {
    "collapsed": false
   },
   "outputs": [
    {
     "name": "stdout",
     "output_type": "stream",
     "text": [
      "CBR08_CBrace.csv\n",
      "-1 days +23:00:00\n",
      "CBR08_SCO.csv\n",
      "0 days 00:00:00\n",
      "CBR11_Baseline.csv\n",
      "0 days 00:00:00\n",
      "CBR11_CBrace.csv\n",
      "0 days 00:00:00\n",
      "CBR11_SCO.csv\n",
      "0 days 00:00:00\n",
      "CBR15_Baseline.csv\n",
      "0 days 00:00:00\n",
      "CBR15_CBrace.csv\n",
      "-15 days +04:56:09\n",
      "CBR15_SCO.csv\n",
      "-10 days +14:24:55\n",
      "CBR16_CBrace.csv\n",
      "0 days 00:00:00\n",
      "CBR16_SCO.csv\n",
      "0 days 00:00:00\n",
      "CBR19_Baseline.csv\n",
      "0 days 00:00:00\n",
      "CBR19_CBrace.csv\n",
      "0 days 01:00:00\n",
      "CBR19_SCO.csv\n",
      "0 days 00:00:00\n",
      "CBR21_Baseline.csv\n",
      "0 days 00:00:00\n",
      "CBR21_CBrace.csv\n",
      "0 days 00:00:00\n",
      "CBR21_SCO.csv\n",
      "0 days 00:00:00\n",
      "CBR22_Baseline.csv\n",
      "-1 days +22:24:36\n",
      "CBR22_CBrace.csv\n",
      "0 days 00:00:00\n",
      "CBR22_SCO.csv\n",
      "0 days 00:00:00\n",
      "CBR24_Baseline.csv\n",
      "-1 days +23:00:00\n",
      "CBR24_CBrace.csv\n",
      "0 days 00:00:00\n",
      "CBR24_SCO.csv\n",
      "0 days 00:00:00\n",
      "CBR25_Baseline.csv\n",
      "0 days 00:00:00\n",
      "CBR25_CBrace.csv\n",
      "0 days 00:00:00\n",
      "CBR26_Baseline.csv\n",
      "0 days 00:00:00\n",
      "CBR26_CBrace.csv\n"
     ]
    },
    {
     "ename": "ValueError",
     "evalue": "time data '2016-10-13 15:31:05' does not match format '%m/%d/%Y %H:%M:%S'",
     "output_type": "error",
     "traceback": [
      "\u001b[0;31m---------------------------------------------------------------------------\u001b[0m",
      "\u001b[0;31mValueError\u001b[0m                                Traceback (most recent call last)",
      "\u001b[0;32m<ipython-input-96-7d00e748b278>\u001b[0m in \u001b[0;36m<module>\u001b[0;34m()\u001b[0m\n\u001b[1;32m     23\u001b[0m         \u001b[0;32mtry\u001b[0m\u001b[0;34m:\u001b[0m\u001b[0;34m\u001b[0m\u001b[0m\n\u001b[0;32m---> 24\u001b[0;31m             \u001b[0mstartdate\u001b[0m \u001b[0;34m=\u001b[0m \u001b[0mtoUTC\u001b[0m\u001b[0;34m(\u001b[0m\u001b[0mdt\u001b[0m\u001b[0;34m.\u001b[0m\u001b[0mdatetime\u001b[0m\u001b[0;34m.\u001b[0m\u001b[0mstrptime\u001b[0m\u001b[0;34m(\u001b[0m\u001b[0md\u001b[0m\u001b[0;34m+\u001b[0m\u001b[0;34m' '\u001b[0m\u001b[0;34m+\u001b[0m\u001b[0mstart\u001b[0m\u001b[0;34m,\u001b[0m\u001b[0;34m'%Y/%m/%d %H:%M:%S'\u001b[0m\u001b[0;34m)\u001b[0m\u001b[0;34m)\u001b[0m\u001b[0;34m\u001b[0m\u001b[0m\n\u001b[0m\u001b[1;32m     25\u001b[0m         \u001b[0;32mexcept\u001b[0m\u001b[0;34m(\u001b[0m\u001b[0mValueError\u001b[0m\u001b[0;34m)\u001b[0m\u001b[0;34m:\u001b[0m\u001b[0;34m\u001b[0m\u001b[0m\n",
      "\u001b[0;32m/Users/luca/anaconda/envs/py35/lib/python3.5/_strptime.py\u001b[0m in \u001b[0;36m_strptime_datetime\u001b[0;34m(cls, data_string, format)\u001b[0m\n\u001b[1;32m    509\u001b[0m     format string.\"\"\"\n\u001b[0;32m--> 510\u001b[0;31m     \u001b[0mtt\u001b[0m\u001b[0;34m,\u001b[0m \u001b[0mfraction\u001b[0m \u001b[0;34m=\u001b[0m \u001b[0m_strptime\u001b[0m\u001b[0;34m(\u001b[0m\u001b[0mdata_string\u001b[0m\u001b[0;34m,\u001b[0m \u001b[0mformat\u001b[0m\u001b[0;34m)\u001b[0m\u001b[0;34m\u001b[0m\u001b[0m\n\u001b[0m\u001b[1;32m    511\u001b[0m     \u001b[0mtzname\u001b[0m\u001b[0;34m,\u001b[0m \u001b[0mgmtoff\u001b[0m \u001b[0;34m=\u001b[0m \u001b[0mtt\u001b[0m\u001b[0;34m[\u001b[0m\u001b[0;34m-\u001b[0m\u001b[0;36m2\u001b[0m\u001b[0;34m:\u001b[0m\u001b[0;34m]\u001b[0m\u001b[0;34m\u001b[0m\u001b[0m\n",
      "\u001b[0;32m/Users/luca/anaconda/envs/py35/lib/python3.5/_strptime.py\u001b[0m in \u001b[0;36m_strptime\u001b[0;34m(data_string, format)\u001b[0m\n\u001b[1;32m    342\u001b[0m         raise ValueError(\"time data %r does not match format %r\" %\n\u001b[0;32m--> 343\u001b[0;31m                          (data_string, format))\n\u001b[0m\u001b[1;32m    344\u001b[0m     \u001b[0;32mif\u001b[0m \u001b[0mlen\u001b[0m\u001b[0;34m(\u001b[0m\u001b[0mdata_string\u001b[0m\u001b[0;34m)\u001b[0m \u001b[0;34m!=\u001b[0m \u001b[0mfound\u001b[0m\u001b[0;34m.\u001b[0m\u001b[0mend\u001b[0m\u001b[0;34m(\u001b[0m\u001b[0;34m)\u001b[0m\u001b[0;34m:\u001b[0m\u001b[0;34m\u001b[0m\u001b[0m\n",
      "\u001b[0;31mValueError\u001b[0m: time data '2016-10-13 15:31:05' does not match format '%Y/%m/%d %H:%M:%S'",
      "\nDuring handling of the above exception, another exception occurred:\n",
      "\u001b[0;31mValueError\u001b[0m                                Traceback (most recent call last)",
      "\u001b[0;32m<ipython-input-96-7d00e748b278>\u001b[0m in \u001b[0;36m<module>\u001b[0;34m()\u001b[0m\n\u001b[1;32m     24\u001b[0m             \u001b[0mstartdate\u001b[0m \u001b[0;34m=\u001b[0m \u001b[0mtoUTC\u001b[0m\u001b[0;34m(\u001b[0m\u001b[0mdt\u001b[0m\u001b[0;34m.\u001b[0m\u001b[0mdatetime\u001b[0m\u001b[0;34m.\u001b[0m\u001b[0mstrptime\u001b[0m\u001b[0;34m(\u001b[0m\u001b[0md\u001b[0m\u001b[0;34m+\u001b[0m\u001b[0;34m' '\u001b[0m\u001b[0;34m+\u001b[0m\u001b[0mstart\u001b[0m\u001b[0;34m,\u001b[0m\u001b[0;34m'%Y/%m/%d %H:%M:%S'\u001b[0m\u001b[0;34m)\u001b[0m\u001b[0;34m)\u001b[0m\u001b[0;34m\u001b[0m\u001b[0m\n\u001b[1;32m     25\u001b[0m         \u001b[0;32mexcept\u001b[0m\u001b[0;34m(\u001b[0m\u001b[0mValueError\u001b[0m\u001b[0;34m)\u001b[0m\u001b[0;34m:\u001b[0m\u001b[0;34m\u001b[0m\u001b[0m\n\u001b[0;32m---> 26\u001b[0;31m             \u001b[0mstartdate\u001b[0m \u001b[0;34m=\u001b[0m \u001b[0mtoUTC\u001b[0m\u001b[0;34m(\u001b[0m\u001b[0mdt\u001b[0m\u001b[0;34m.\u001b[0m\u001b[0mdatetime\u001b[0m\u001b[0;34m.\u001b[0m\u001b[0mstrptime\u001b[0m\u001b[0;34m(\u001b[0m\u001b[0md\u001b[0m\u001b[0;34m+\u001b[0m\u001b[0;34m' '\u001b[0m\u001b[0;34m+\u001b[0m\u001b[0mstart\u001b[0m\u001b[0;34m,\u001b[0m\u001b[0;34m'%m/%d/%Y %H:%M:%S'\u001b[0m\u001b[0;34m)\u001b[0m\u001b[0;34m)\u001b[0m\u001b[0;34m\u001b[0m\u001b[0m\n\u001b[0m\u001b[1;32m     27\u001b[0m \u001b[0;34m\u001b[0m\u001b[0m\n\u001b[1;32m     28\u001b[0m         \u001b[0mprint\u001b[0m\u001b[0;34m(\u001b[0m\u001b[0mpytz\u001b[0m\u001b[0;34m.\u001b[0m\u001b[0mutc\u001b[0m\u001b[0;34m.\u001b[0m\u001b[0mlocalize\u001b[0m\u001b[0;34m(\u001b[0m\u001b[0mGpsDates\u001b[0m\u001b[0;34m[\u001b[0m\u001b[0mi\u001b[0m\u001b[0;34m]\u001b[0m\u001b[0;34m)\u001b[0m\u001b[0;34m-\u001b[0m\u001b[0mstartdate\u001b[0m\u001b[0;34m)\u001b[0m\u001b[0;34m\u001b[0m\u001b[0m\n",
      "\u001b[0;32m/Users/luca/anaconda/envs/py35/lib/python3.5/_strptime.py\u001b[0m in \u001b[0;36m_strptime_datetime\u001b[0;34m(cls, data_string, format)\u001b[0m\n\u001b[1;32m    508\u001b[0m     \"\"\"Return a class cls instance based on the input string and the\n\u001b[1;32m    509\u001b[0m     format string.\"\"\"\n\u001b[0;32m--> 510\u001b[0;31m     \u001b[0mtt\u001b[0m\u001b[0;34m,\u001b[0m \u001b[0mfraction\u001b[0m \u001b[0;34m=\u001b[0m \u001b[0m_strptime\u001b[0m\u001b[0;34m(\u001b[0m\u001b[0mdata_string\u001b[0m\u001b[0;34m,\u001b[0m \u001b[0mformat\u001b[0m\u001b[0;34m)\u001b[0m\u001b[0;34m\u001b[0m\u001b[0m\n\u001b[0m\u001b[1;32m    511\u001b[0m     \u001b[0mtzname\u001b[0m\u001b[0;34m,\u001b[0m \u001b[0mgmtoff\u001b[0m \u001b[0;34m=\u001b[0m \u001b[0mtt\u001b[0m\u001b[0;34m[\u001b[0m\u001b[0;34m-\u001b[0m\u001b[0;36m2\u001b[0m\u001b[0;34m:\u001b[0m\u001b[0;34m]\u001b[0m\u001b[0;34m\u001b[0m\u001b[0m\n\u001b[1;32m    512\u001b[0m     \u001b[0margs\u001b[0m \u001b[0;34m=\u001b[0m \u001b[0mtt\u001b[0m\u001b[0;34m[\u001b[0m\u001b[0;34m:\u001b[0m\u001b[0;36m6\u001b[0m\u001b[0;34m]\u001b[0m \u001b[0;34m+\u001b[0m \u001b[0;34m(\u001b[0m\u001b[0mfraction\u001b[0m\u001b[0;34m,\u001b[0m\u001b[0;34m)\u001b[0m\u001b[0;34m\u001b[0m\u001b[0m\n",
      "\u001b[0;32m/Users/luca/anaconda/envs/py35/lib/python3.5/_strptime.py\u001b[0m in \u001b[0;36m_strptime\u001b[0;34m(data_string, format)\u001b[0m\n\u001b[1;32m    341\u001b[0m     \u001b[0;32mif\u001b[0m \u001b[0;32mnot\u001b[0m \u001b[0mfound\u001b[0m\u001b[0;34m:\u001b[0m\u001b[0;34m\u001b[0m\u001b[0m\n\u001b[1;32m    342\u001b[0m         raise ValueError(\"time data %r does not match format %r\" %\n\u001b[0;32m--> 343\u001b[0;31m                          (data_string, format))\n\u001b[0m\u001b[1;32m    344\u001b[0m     \u001b[0;32mif\u001b[0m \u001b[0mlen\u001b[0m\u001b[0;34m(\u001b[0m\u001b[0mdata_string\u001b[0m\u001b[0;34m)\u001b[0m \u001b[0;34m!=\u001b[0m \u001b[0mfound\u001b[0m\u001b[0;34m.\u001b[0m\u001b[0mend\u001b[0m\u001b[0;34m(\u001b[0m\u001b[0;34m)\u001b[0m\u001b[0;34m:\u001b[0m\u001b[0;34m\u001b[0m\u001b[0m\n\u001b[1;32m    345\u001b[0m         raise ValueError(\"unconverted data remains: %s\" %\n",
      "\u001b[0;31mValueError\u001b[0m: time data '2016-10-13 15:31:05' does not match format '%m/%d/%Y %H:%M:%S'"
     ]
    }
   ],
   "source": [
    "i = 0\n",
    "for f in os.listdir(path+'GPSWT/'):\n",
    "    try:\n",
    "        #load files\n",
    "        print(f)\n",
    "        Gpsdata = pd.read_csv(path+'GPSWT/'+f)\n",
    "        Subjid = f[:5]\n",
    "        trial = f[6] #cbrace,SCO or baseline\n",
    "        switcher = {'C':'CBR','S':'SCO','B':'Baseline'}\n",
    "        UICdata = pd.read_excel(path+'UIC_GPSData/'+Subjid+'_Final_Summary_File.xlsx',sheetname=switcher[trial])\n",
    "        \n",
    "        #convert date formats from raw gps\n",
    "        x = Gpsdata['UTC DATE']+' '+Gpsdata['UTC TIME'] #full date/time\n",
    "        GpsDates = string2datetime(x) #convert to datetime object\n",
    "        GpsDates=pd.Series(GpsDates)\n",
    "        \n",
    "        start = UICdata.BeginTime[i]\n",
    "        d = UICdata.Date[i]\n",
    "        if type(d) != str:\n",
    "            d = d.strftime('%Y/%m/%d') \n",
    "        if type(start) != str:\n",
    "            start = str(start)\n",
    "        try:\n",
    "            startdate = toUTC(dt.datetime.strptime(d+' '+start,'%Y/%m/%d %H:%M:%S'))\n",
    "        except(ValueError):\n",
    "            startdate = toUTC(dt.datetime.strptime(d+' '+start,'%m/%d/%Y %H:%M:%S'))\n",
    "\n",
    "        print(pytz.utc.localize(GpsDates[i])-startdate)    \n",
    "            \n",
    "        \n",
    "\n",
    "        \n",
    "#         #match dates and add lat lon and weartime to UIC processed data\n",
    "#         add_latlonwear(UICdata,Gpsdata,GpsDates)\n",
    "        \n",
    "#         #save file\n",
    "#         UICdata.to_csv(path+'UIC_GPSData/w_LatLonWear/'+f)\n",
    "    except(FileNotFoundError):\n",
    "        print('File not found')"
   ]
  }
 ],
 "metadata": {
  "anaconda-cloud": {},
  "kernelspec": {
   "display_name": "Python [conda env:py35]",
   "language": "python",
   "name": "conda-env-py35-py"
  },
  "language_info": {
   "codemirror_mode": {
    "name": "ipython",
    "version": 3
   },
   "file_extension": ".py",
   "mimetype": "text/x-python",
   "name": "python",
   "nbconvert_exporter": "python",
   "pygments_lexer": "ipython3",
   "version": "3.5.2"
  }
 },
 "nbformat": 4,
 "nbformat_minor": 1
}
