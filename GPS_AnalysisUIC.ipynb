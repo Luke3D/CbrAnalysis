{
 "cells": [
  {
   "cell_type": "code",
   "execution_count": 2,
   "metadata": {
    "collapsed": false
   },
   "outputs": [],
   "source": [
    "import pandas as pd\n",
    "import numpy as np\n",
    "import seaborn as sns\n",
    "import datetime as dt\n",
    "import os\n",
    "import pytz\n",
    "from pytz import timezone\n",
    "from scipy.stats import pearsonr"
   ]
  },
  {
   "cell_type": "code",
   "execution_count": 3,
   "metadata": {
    "collapsed": true
   },
   "outputs": [],
   "source": [
    "tz = timezone('US/Central') # This data uses GMT-6 rather than standard CST/CDT\n",
    "def toUTC(d):\n",
    "    return tz.normalize(tz.localize(d)).astimezone(pytz.utc)"
   ]
  },
  {
   "cell_type": "code",
   "execution_count": 4,
   "metadata": {
    "collapsed": true
   },
   "outputs": [],
   "source": [
    "def string2datetime(stringDTSeries):\n",
    "    try:\n",
    "        return [(dt.datetime.strptime(DT,'%Y/%m/%d %I:%M:%S %p')) for DT in stringDTSeries]\n",
    "    except(ValueError):\n",
    "        try:\n",
    "            return [(dt.datetime.strptime(DT,'%Y/%m/%d %H:%M:%S')) for DT in stringDTSeries]\n",
    "        except(ValueError):\n",
    "            try:\n",
    "                return [(dt.datetime.strptime(DT,'%m/%d/%Y %I:%M:%S %p')) for DT in stringDTSeries]\n",
    "            except(ValueError):\n",
    "                return [(dt.datetime.strptime(DT,'%m/%d/%Y %H:%M:%S')) for DT in stringDTSeries]"
   ]
  },
  {
   "cell_type": "code",
   "execution_count": 5,
   "metadata": {
    "collapsed": true
   },
   "outputs": [],
   "source": [
    "path = '/Volumes/RT&O/C Brace/GPS Analysis/'"
   ]
  },
  {
   "cell_type": "code",
   "execution_count": 6,
   "metadata": {
    "collapsed": false
   },
   "outputs": [
    {
     "data": {
      "text/plain": [
       "['.DS_Store',\n",
       " 'CBR08_Final_Summary_File.xlsx',\n",
       " 'CBR11_Final_Summary_File.xlsx',\n",
       " 'CBR15_Final_Summary_File.xlsx',\n",
       " 'CBR16_Final_Summary_File.xlsx',\n",
       " 'CBR19_Final_Summary_File.xlsx',\n",
       " 'CBR21_Final_Summary_File.xlsx',\n",
       " 'CBR22_Final_Summary_File.xlsx',\n",
       " 'CBR24_Final_Summary_File.xlsx',\n",
       " 'CBR25_Final_Summary_File.xlsx',\n",
       " 'CBR26_Final_Summary_File.xlsx',\n",
       " 'CBR27_Final_Summary_File.xlsx',\n",
       " 'CBR28_Final_Summary_File.xlsx',\n",
       " 'CBR30_Final_Summary_File.xlsx',\n",
       " 'CBR31_Final_Summary.xlsx',\n",
       " 'w_LatLonWear',\n",
       " '~$CBR08_Final_Summary_File.xlsx']"
      ]
     },
     "execution_count": 6,
     "metadata": {},
     "output_type": "execute_result"
    }
   ],
   "source": [
    "os.listdir(path+'/UIC_GPSData')"
   ]
  },
  {
   "cell_type": "markdown",
   "metadata": {},
   "source": [
    "## Add LandUse coordinates and weartime to UIC preprocessed GPS files"
   ]
  },
  {
   "cell_type": "code",
   "execution_count": 15,
   "metadata": {
    "collapsed": false
   },
   "outputs": [],
   "source": [
    "Baseline = pd.read_excel(path+'/UIC_GPSData/CBR15_Final_Summary_File.xlsx')"
   ]
  },
  {
   "cell_type": "code",
   "execution_count": 16,
   "metadata": {
    "collapsed": false
   },
   "outputs": [
    {
     "data": {
      "text/plain": [
       "array(['trip', 'COM_URBMIX', 'home', 'RES_SF_DETACHED', 'COM_CULT_ENT',\n",
       "       'OS_REC', 'Non-Parcel Road ROW', 'TCU_PARKING', 'COM_REGIONAL',\n",
       "       'COM_OFFICE', 'RES_MF', 'COM_BIGBOX', 'COM_MALL', 'COM_HOTEL',\n",
       "       'INST_MEDICAL'], dtype=object)"
      ]
     },
     "execution_count": 16,
     "metadata": {},
     "output_type": "execute_result"
    }
   ],
   "source": [
    "Baseline.LandUse.unique()"
   ]
  },
  {
   "cell_type": "code",
   "execution_count": 17,
   "metadata": {
    "collapsed": false
   },
   "outputs": [],
   "source": [
    "Gpsdata = pd.read_csv(path+'GPSWT/CBR15_Baseline.csv')"
   ]
  },
  {
   "cell_type": "code",
   "execution_count": 28,
   "metadata": {
    "collapsed": false
   },
   "outputs": [
    {
     "data": {
      "text/html": [
       "<div>\n",
       "<table border=\"1\" class=\"dataframe\">\n",
       "  <thead>\n",
       "    <tr style=\"text-align: right;\">\n",
       "      <th></th>\n",
       "      <th>Date</th>\n",
       "      <th>Sequence</th>\n",
       "      <th>BeginTime</th>\n",
       "      <th>EndTime</th>\n",
       "      <th>Mode</th>\n",
       "      <th>LandUse</th>\n",
       "      <th>MeanSpeed</th>\n",
       "      <th>Numberpoints</th>\n",
       "      <th>TotalGap</th>\n",
       "      <th>Duration</th>\n",
       "    </tr>\n",
       "  </thead>\n",
       "  <tbody>\n",
       "    <tr>\n",
       "      <th>0</th>\n",
       "      <td>2015-07-02</td>\n",
       "      <td>1</td>\n",
       "      <td>11:12:13</td>\n",
       "      <td>12:47:30</td>\n",
       "      <td>Car</td>\n",
       "      <td>trip</td>\n",
       "      <td>77.185558</td>\n",
       "      <td>518</td>\n",
       "      <td>9.116665</td>\n",
       "      <td>95.283333</td>\n",
       "    </tr>\n",
       "    <tr>\n",
       "      <th>1</th>\n",
       "      <td>2015-07-02</td>\n",
       "      <td>2</td>\n",
       "      <td>12:47:35</td>\n",
       "      <td>12:54:18</td>\n",
       "      <td>NaN</td>\n",
       "      <td>COM_URBMIX</td>\n",
       "      <td>2.076743</td>\n",
       "      <td>31</td>\n",
       "      <td>1.633333</td>\n",
       "      <td>6.716667</td>\n",
       "    </tr>\n",
       "    <tr>\n",
       "      <th>2</th>\n",
       "      <td>2015-07-02</td>\n",
       "      <td>3</td>\n",
       "      <td>12:54:23</td>\n",
       "      <td>13:00:53</td>\n",
       "      <td>Car</td>\n",
       "      <td>trip</td>\n",
       "      <td>33.312281</td>\n",
       "      <td>79</td>\n",
       "      <td>0.000000</td>\n",
       "      <td>6.500000</td>\n",
       "    </tr>\n",
       "  </tbody>\n",
       "</table>\n",
       "</div>"
      ],
      "text/plain": [
       "        Date  Sequence BeginTime   EndTime Mode     LandUse  MeanSpeed  \\\n",
       "0 2015-07-02         1  11:12:13  12:47:30  Car        trip  77.185558   \n",
       "1 2015-07-02         2  12:47:35  12:54:18  NaN  COM_URBMIX   2.076743   \n",
       "2 2015-07-02         3  12:54:23  13:00:53  Car        trip  33.312281   \n",
       "\n",
       "   Numberpoints  TotalGap   Duration  \n",
       "0           518  9.116665  95.283333  \n",
       "1            31  1.633333   6.716667  \n",
       "2            79  0.000000   6.500000  "
      ]
     },
     "execution_count": 28,
     "metadata": {},
     "output_type": "execute_result"
    }
   ],
   "source": [
    "Baseline.head(3)"
   ]
  },
  {
   "cell_type": "code",
   "execution_count": 29,
   "metadata": {
    "collapsed": false
   },
   "outputs": [
    {
     "data": {
      "text/html": [
       "<div>\n",
       "<table border=\"1\" class=\"dataframe\">\n",
       "  <thead>\n",
       "    <tr style=\"text-align: right;\">\n",
       "      <th></th>\n",
       "      <th>Unnamed: 0</th>\n",
       "      <th>INDEX</th>\n",
       "      <th>TRACK ID</th>\n",
       "      <th>VALID</th>\n",
       "      <th>UTC DATE</th>\n",
       "      <th>UTC TIME</th>\n",
       "      <th>LOCAL DATE</th>\n",
       "      <th>LOCAL TIME</th>\n",
       "      <th>MS</th>\n",
       "      <th>LATITUDE</th>\n",
       "      <th>N/S</th>\n",
       "      <th>LONGITUDE</th>\n",
       "      <th>E/W</th>\n",
       "      <th>ALTITUDE</th>\n",
       "      <th>SPEED</th>\n",
       "      <th>HEADING</th>\n",
       "      <th>G-X</th>\n",
       "      <th>G-Y</th>\n",
       "      <th>G-Z</th>\n",
       "      <th>Wear/Non-Wear</th>\n",
       "    </tr>\n",
       "  </thead>\n",
       "  <tbody>\n",
       "    <tr>\n",
       "      <th>0</th>\n",
       "      <td>0</td>\n",
       "      <td>1</td>\n",
       "      <td>1</td>\n",
       "      <td>FIXED</td>\n",
       "      <td>7/2/2015</td>\n",
       "      <td>16:12:13</td>\n",
       "      <td>7/2/2015</td>\n",
       "      <td>10:12:13</td>\n",
       "      <td>0</td>\n",
       "      <td>41.895511</td>\n",
       "      <td>N</td>\n",
       "      <td>87.618302</td>\n",
       "      <td>W</td>\n",
       "      <td>189.558014</td>\n",
       "      <td>0.0</td>\n",
       "      <td>0.0</td>\n",
       "      <td>0</td>\n",
       "      <td>0</td>\n",
       "      <td>0</td>\n",
       "      <td>Wear</td>\n",
       "    </tr>\n",
       "    <tr>\n",
       "      <th>1</th>\n",
       "      <td>1</td>\n",
       "      <td>2</td>\n",
       "      <td>1</td>\n",
       "      <td>FIXED</td>\n",
       "      <td>7/2/2015</td>\n",
       "      <td>16:12:14</td>\n",
       "      <td>7/2/2015</td>\n",
       "      <td>10:12:14</td>\n",
       "      <td>0</td>\n",
       "      <td>41.895511</td>\n",
       "      <td>N</td>\n",
       "      <td>87.618302</td>\n",
       "      <td>W</td>\n",
       "      <td>189.558014</td>\n",
       "      <td>0.0</td>\n",
       "      <td>0.0</td>\n",
       "      <td>0</td>\n",
       "      <td>0</td>\n",
       "      <td>0</td>\n",
       "      <td>Wear</td>\n",
       "    </tr>\n",
       "    <tr>\n",
       "      <th>2</th>\n",
       "      <td>2</td>\n",
       "      <td>3</td>\n",
       "      <td>1</td>\n",
       "      <td>FIXED</td>\n",
       "      <td>7/2/2015</td>\n",
       "      <td>16:12:15</td>\n",
       "      <td>7/2/2015</td>\n",
       "      <td>10:12:15</td>\n",
       "      <td>0</td>\n",
       "      <td>41.895511</td>\n",
       "      <td>N</td>\n",
       "      <td>87.618302</td>\n",
       "      <td>W</td>\n",
       "      <td>189.558014</td>\n",
       "      <td>0.0</td>\n",
       "      <td>0.0</td>\n",
       "      <td>0</td>\n",
       "      <td>0</td>\n",
       "      <td>0</td>\n",
       "      <td>Wear</td>\n",
       "    </tr>\n",
       "  </tbody>\n",
       "</table>\n",
       "</div>"
      ],
      "text/plain": [
       "   Unnamed: 0  INDEX  TRACK ID  VALID  UTC DATE  UTC TIME LOCAL DATE  \\\n",
       "0           0      1         1  FIXED  7/2/2015  16:12:13   7/2/2015   \n",
       "1           1      2         1  FIXED  7/2/2015  16:12:14   7/2/2015   \n",
       "2           2      3         1  FIXED  7/2/2015  16:12:15   7/2/2015   \n",
       "\n",
       "  LOCAL TIME  MS   LATITUDE N/S  LONGITUDE E/W    ALTITUDE  SPEED  HEADING  \\\n",
       "0   10:12:13   0  41.895511   N  87.618302   W  189.558014    0.0      0.0   \n",
       "1   10:12:14   0  41.895511   N  87.618302   W  189.558014    0.0      0.0   \n",
       "2   10:12:15   0  41.895511   N  87.618302   W  189.558014    0.0      0.0   \n",
       "\n",
       "   G-X  G-Y  G-Z Wear/Non-Wear  \n",
       "0    0    0    0          Wear  \n",
       "1    0    0    0          Wear  \n",
       "2    0    0    0          Wear  "
      ]
     },
     "execution_count": 29,
     "metadata": {},
     "output_type": "execute_result"
    }
   ],
   "source": [
    "Gpsdata.head(3)"
   ]
  },
  {
   "cell_type": "code",
   "execution_count": 30,
   "metadata": {
    "collapsed": false
   },
   "outputs": [],
   "source": [
    "x = Gpsdata['UTC DATE']+' '+Gpsdata['UTC TIME'] #full date/time\n",
    "GpsDates = string2datetime(x) #convert to datetime object\n",
    "GpsDates=pd.Series(GpsDates)"
   ]
  },
  {
   "cell_type": "code",
   "execution_count": 31,
   "metadata": {
    "collapsed": false
   },
   "outputs": [
    {
     "data": {
      "text/plain": [
       "0   2015-07-02 16:12:13\n",
       "1   2015-07-02 16:12:14\n",
       "2   2015-07-02 16:12:15\n",
       "3   2015-07-02 16:12:16\n",
       "4   2015-07-02 16:12:17\n",
       "5   2015-07-02 16:12:18\n",
       "6   2015-07-02 16:12:21\n",
       "7   2015-07-02 17:03:23\n",
       "8   2015-07-02 17:03:28\n",
       "9   2015-07-02 17:03:33\n",
       "dtype: datetime64[ns]"
      ]
     },
     "execution_count": 31,
     "metadata": {},
     "output_type": "execute_result"
    }
   ],
   "source": [
    "GpsDates[:10]"
   ]
  },
  {
   "cell_type": "code",
   "execution_count": 61,
   "metadata": {
    "collapsed": false
   },
   "outputs": [
    {
     "data": {
      "text/plain": [
       "True"
      ]
     },
     "execution_count": 61,
     "metadata": {},
     "output_type": "execute_result"
    }
   ],
   "source": [
    "any(ind)"
   ]
  },
  {
   "cell_type": "code",
   "execution_count": 13,
   "metadata": {
    "collapsed": false
   },
   "outputs": [],
   "source": [
    "#Baseline: UIC Gps preprocessed Data\n",
    "#GPSdata: raw Gps data with wear time fraction\n",
    "#GpsDates: datetime object from Gpsdata to match with UIC data\n",
    "def add_latlonwear(Baseline,Gpsdata,GpsDates):\n",
    "    loc_lat = []\n",
    "    loc_lon = []\n",
    "    wear_frac = []\n",
    "\n",
    "    for i in range(len(Baseline)):\n",
    "        start = Baseline.BeginTime[i]\n",
    "        end = Baseline.EndTime[i]\n",
    "        d = Baseline.Date[i]\n",
    "        \n",
    "        if type(d) != str:\n",
    "            d = d.strftime('%Y/%m/%d') \n",
    "        if type(start) != str:\n",
    "            start = str(start)\n",
    "        if type(end) != str:\n",
    "            end = str(end)\n",
    "        try:\n",
    "#             try:\n",
    "\n",
    "            startdate = toUTC(dt.datetime.strptime(d+' '+start,'%Y/%m/%d %H:%M:%S'))\n",
    "#             print(i)    \n",
    "            enddate = toUTC(dt.datetime.strptime(d+' '+end,'%Y/%m/%d %H:%M:%S'))\n",
    "#             print(enddate)\n",
    "#             except\n",
    "\n",
    "\n",
    "        except(ValueError):\n",
    "            startdate = toUTC(dt.datetime.strptime(d+' '+start,'%m/%d/%Y %H:%M:%S'))\n",
    "            enddate = toUTC(dt.datetime.strptime(d+' '+end,'%%m/%d/%Y %H:%M:%S'))\n",
    "\n",
    "        ind = (GpsDates > startdate) & (GpsDates < enddate)\n",
    "        meanLat = np.mean(Gpsdata['LATITUDE'][ind])\n",
    "        meanLon = np.mean(Gpsdata['LONGITUDE'][ind])\n",
    "        if np.isnan(meanLat) or np.isnan(meanLon):\n",
    "            print('null found %s'%any(ind))\n",
    "            print(startdate,enddate)\n",
    "        loc_lat.append(meanLat)\n",
    "        loc_lon.append(meanLon)\n",
    "\n",
    "        wear_ind = (Gpsdata['Wear/Non-Wear']=='Wear') & ind\n",
    "        wear_frac.append(sum(wear_ind)/sum(ind))\n",
    "\n",
    "    Baseline['Mean Lat'] = loc_lat\n",
    "    Baseline['Mean Lon'] = loc_lon\n",
    "    Baseline['Wear Frac'] = wear_frac\n"
   ]
  },
  {
   "cell_type": "code",
   "execution_count": 14,
   "metadata": {
    "collapsed": false
   },
   "outputs": [
    {
     "name": "stdout",
     "output_type": "stream",
     "text": [
      "CBR08_CBrace.csv\n",
      "null found False\n",
      "2015-02-20 17:26:45+00:00 2015-02-20 20:52:44+00:00\n",
      "CBR08_SCO.csv\n",
      "CBR11_Baseline.csv\n",
      "null found False\n",
      "2015-02-07 06:00:08+00:00 2015-02-07 06:00:18+00:00\n",
      "null found False\n",
      "2015-04-22 23:08:13+00:00 2015-04-22 23:08:23+00:00\n",
      "File not found\n",
      "CBR11_CBrace.csv\n"
     ]
    },
    {
     "ename": "OSError",
     "evalue": "File b'/Volumes/RT&O/C Brace/GPS Analysis/GPSWT/CBR11_CBrace.csv' does not exist",
     "output_type": "error",
     "traceback": [
      "\u001b[0;31m---------------------------------------------------------------------------\u001b[0m",
      "\u001b[0;31mOSError\u001b[0m                                   Traceback (most recent call last)",
      "\u001b[0;32m<ipython-input-14-50d59c9bc423>\u001b[0m in \u001b[0;36m<module>\u001b[0;34m()\u001b[0m\n\u001b[1;32m      4\u001b[0m         \u001b[0;31m#load files\u001b[0m\u001b[0;34m\u001b[0m\u001b[0;34m\u001b[0m\u001b[0m\n\u001b[1;32m      5\u001b[0m         \u001b[0mprint\u001b[0m\u001b[0;34m(\u001b[0m\u001b[0mf\u001b[0m\u001b[0;34m)\u001b[0m\u001b[0;34m\u001b[0m\u001b[0m\n\u001b[0;32m----> 6\u001b[0;31m         \u001b[0mGpsdata\u001b[0m \u001b[0;34m=\u001b[0m \u001b[0mpd\u001b[0m\u001b[0;34m.\u001b[0m\u001b[0mread_csv\u001b[0m\u001b[0;34m(\u001b[0m\u001b[0mpath\u001b[0m\u001b[0;34m+\u001b[0m\u001b[0;34m'GPSWT/'\u001b[0m\u001b[0;34m+\u001b[0m\u001b[0mf\u001b[0m\u001b[0;34m)\u001b[0m\u001b[0;34m\u001b[0m\u001b[0m\n\u001b[0m\u001b[1;32m      7\u001b[0m         \u001b[0mSubjid\u001b[0m \u001b[0;34m=\u001b[0m \u001b[0mf\u001b[0m\u001b[0;34m[\u001b[0m\u001b[0;34m:\u001b[0m\u001b[0;36m5\u001b[0m\u001b[0;34m]\u001b[0m\u001b[0;34m\u001b[0m\u001b[0m\n\u001b[1;32m      8\u001b[0m         \u001b[0mtrial\u001b[0m \u001b[0;34m=\u001b[0m \u001b[0mf\u001b[0m\u001b[0;34m[\u001b[0m\u001b[0;36m6\u001b[0m\u001b[0;34m]\u001b[0m \u001b[0;31m#cbrace,SCO or baseline\u001b[0m\u001b[0;34m\u001b[0m\u001b[0m\n",
      "\u001b[0;32m/Users/luca/anaconda/envs/py35/lib/python3.5/site-packages/pandas/io/parsers.py\u001b[0m in \u001b[0;36mparser_f\u001b[0;34m(filepath_or_buffer, sep, delimiter, header, names, index_col, usecols, squeeze, prefix, mangle_dupe_cols, dtype, engine, converters, true_values, false_values, skipinitialspace, skiprows, skipfooter, nrows, na_values, keep_default_na, na_filter, verbose, skip_blank_lines, parse_dates, infer_datetime_format, keep_date_col, date_parser, dayfirst, iterator, chunksize, compression, thousands, decimal, lineterminator, quotechar, quoting, escapechar, comment, encoding, dialect, tupleize_cols, error_bad_lines, warn_bad_lines, skip_footer, doublequote, delim_whitespace, as_recarray, compact_ints, use_unsigned, low_memory, buffer_lines, memory_map, float_precision)\u001b[0m\n\u001b[1;32m    560\u001b[0m                     skip_blank_lines=skip_blank_lines)\n\u001b[1;32m    561\u001b[0m \u001b[0;34m\u001b[0m\u001b[0m\n\u001b[0;32m--> 562\u001b[0;31m         \u001b[0;32mreturn\u001b[0m \u001b[0m_read\u001b[0m\u001b[0;34m(\u001b[0m\u001b[0mfilepath_or_buffer\u001b[0m\u001b[0;34m,\u001b[0m \u001b[0mkwds\u001b[0m\u001b[0;34m)\u001b[0m\u001b[0;34m\u001b[0m\u001b[0m\n\u001b[0m\u001b[1;32m    563\u001b[0m \u001b[0;34m\u001b[0m\u001b[0m\n\u001b[1;32m    564\u001b[0m     \u001b[0mparser_f\u001b[0m\u001b[0;34m.\u001b[0m\u001b[0m__name__\u001b[0m \u001b[0;34m=\u001b[0m \u001b[0mname\u001b[0m\u001b[0;34m\u001b[0m\u001b[0m\n",
      "\u001b[0;32m/Users/luca/anaconda/envs/py35/lib/python3.5/site-packages/pandas/io/parsers.py\u001b[0m in \u001b[0;36m_read\u001b[0;34m(filepath_or_buffer, kwds)\u001b[0m\n\u001b[1;32m    313\u001b[0m \u001b[0;34m\u001b[0m\u001b[0m\n\u001b[1;32m    314\u001b[0m     \u001b[0;31m# Create the parser.\u001b[0m\u001b[0;34m\u001b[0m\u001b[0;34m\u001b[0m\u001b[0m\n\u001b[0;32m--> 315\u001b[0;31m     \u001b[0mparser\u001b[0m \u001b[0;34m=\u001b[0m \u001b[0mTextFileReader\u001b[0m\u001b[0;34m(\u001b[0m\u001b[0mfilepath_or_buffer\u001b[0m\u001b[0;34m,\u001b[0m \u001b[0;34m**\u001b[0m\u001b[0mkwds\u001b[0m\u001b[0;34m)\u001b[0m\u001b[0;34m\u001b[0m\u001b[0m\n\u001b[0m\u001b[1;32m    316\u001b[0m \u001b[0;34m\u001b[0m\u001b[0m\n\u001b[1;32m    317\u001b[0m     \u001b[0;32mif\u001b[0m \u001b[0;34m(\u001b[0m\u001b[0mnrows\u001b[0m \u001b[0;32mis\u001b[0m \u001b[0;32mnot\u001b[0m \u001b[0;32mNone\u001b[0m\u001b[0;34m)\u001b[0m \u001b[0;32mand\u001b[0m \u001b[0;34m(\u001b[0m\u001b[0mchunksize\u001b[0m \u001b[0;32mis\u001b[0m \u001b[0;32mnot\u001b[0m \u001b[0;32mNone\u001b[0m\u001b[0;34m)\u001b[0m\u001b[0;34m:\u001b[0m\u001b[0;34m\u001b[0m\u001b[0m\n",
      "\u001b[0;32m/Users/luca/anaconda/envs/py35/lib/python3.5/site-packages/pandas/io/parsers.py\u001b[0m in \u001b[0;36m__init__\u001b[0;34m(self, f, engine, **kwds)\u001b[0m\n\u001b[1;32m    643\u001b[0m             \u001b[0mself\u001b[0m\u001b[0;34m.\u001b[0m\u001b[0moptions\u001b[0m\u001b[0;34m[\u001b[0m\u001b[0;34m'has_index_names'\u001b[0m\u001b[0;34m]\u001b[0m \u001b[0;34m=\u001b[0m \u001b[0mkwds\u001b[0m\u001b[0;34m[\u001b[0m\u001b[0;34m'has_index_names'\u001b[0m\u001b[0;34m]\u001b[0m\u001b[0;34m\u001b[0m\u001b[0m\n\u001b[1;32m    644\u001b[0m \u001b[0;34m\u001b[0m\u001b[0m\n\u001b[0;32m--> 645\u001b[0;31m         \u001b[0mself\u001b[0m\u001b[0;34m.\u001b[0m\u001b[0m_make_engine\u001b[0m\u001b[0;34m(\u001b[0m\u001b[0mself\u001b[0m\u001b[0;34m.\u001b[0m\u001b[0mengine\u001b[0m\u001b[0;34m)\u001b[0m\u001b[0;34m\u001b[0m\u001b[0m\n\u001b[0m\u001b[1;32m    646\u001b[0m \u001b[0;34m\u001b[0m\u001b[0m\n\u001b[1;32m    647\u001b[0m     \u001b[0;32mdef\u001b[0m \u001b[0mclose\u001b[0m\u001b[0;34m(\u001b[0m\u001b[0mself\u001b[0m\u001b[0;34m)\u001b[0m\u001b[0;34m:\u001b[0m\u001b[0;34m\u001b[0m\u001b[0m\n",
      "\u001b[0;32m/Users/luca/anaconda/envs/py35/lib/python3.5/site-packages/pandas/io/parsers.py\u001b[0m in \u001b[0;36m_make_engine\u001b[0;34m(self, engine)\u001b[0m\n\u001b[1;32m    797\u001b[0m     \u001b[0;32mdef\u001b[0m \u001b[0m_make_engine\u001b[0m\u001b[0;34m(\u001b[0m\u001b[0mself\u001b[0m\u001b[0;34m,\u001b[0m \u001b[0mengine\u001b[0m\u001b[0;34m=\u001b[0m\u001b[0;34m'c'\u001b[0m\u001b[0;34m)\u001b[0m\u001b[0;34m:\u001b[0m\u001b[0;34m\u001b[0m\u001b[0m\n\u001b[1;32m    798\u001b[0m         \u001b[0;32mif\u001b[0m \u001b[0mengine\u001b[0m \u001b[0;34m==\u001b[0m \u001b[0;34m'c'\u001b[0m\u001b[0;34m:\u001b[0m\u001b[0;34m\u001b[0m\u001b[0m\n\u001b[0;32m--> 799\u001b[0;31m             \u001b[0mself\u001b[0m\u001b[0;34m.\u001b[0m\u001b[0m_engine\u001b[0m \u001b[0;34m=\u001b[0m \u001b[0mCParserWrapper\u001b[0m\u001b[0;34m(\u001b[0m\u001b[0mself\u001b[0m\u001b[0;34m.\u001b[0m\u001b[0mf\u001b[0m\u001b[0;34m,\u001b[0m \u001b[0;34m**\u001b[0m\u001b[0mself\u001b[0m\u001b[0;34m.\u001b[0m\u001b[0moptions\u001b[0m\u001b[0;34m)\u001b[0m\u001b[0;34m\u001b[0m\u001b[0m\n\u001b[0m\u001b[1;32m    800\u001b[0m         \u001b[0;32melse\u001b[0m\u001b[0;34m:\u001b[0m\u001b[0;34m\u001b[0m\u001b[0m\n\u001b[1;32m    801\u001b[0m             \u001b[0;32mif\u001b[0m \u001b[0mengine\u001b[0m \u001b[0;34m==\u001b[0m \u001b[0;34m'python'\u001b[0m\u001b[0;34m:\u001b[0m\u001b[0;34m\u001b[0m\u001b[0m\n",
      "\u001b[0;32m/Users/luca/anaconda/envs/py35/lib/python3.5/site-packages/pandas/io/parsers.py\u001b[0m in \u001b[0;36m__init__\u001b[0;34m(self, src, **kwds)\u001b[0m\n\u001b[1;32m   1211\u001b[0m         \u001b[0mkwds\u001b[0m\u001b[0;34m[\u001b[0m\u001b[0;34m'allow_leading_cols'\u001b[0m\u001b[0;34m]\u001b[0m \u001b[0;34m=\u001b[0m \u001b[0mself\u001b[0m\u001b[0;34m.\u001b[0m\u001b[0mindex_col\u001b[0m \u001b[0;32mis\u001b[0m \u001b[0;32mnot\u001b[0m \u001b[0;32mFalse\u001b[0m\u001b[0;34m\u001b[0m\u001b[0m\n\u001b[1;32m   1212\u001b[0m \u001b[0;34m\u001b[0m\u001b[0m\n\u001b[0;32m-> 1213\u001b[0;31m         \u001b[0mself\u001b[0m\u001b[0;34m.\u001b[0m\u001b[0m_reader\u001b[0m \u001b[0;34m=\u001b[0m \u001b[0m_parser\u001b[0m\u001b[0;34m.\u001b[0m\u001b[0mTextReader\u001b[0m\u001b[0;34m(\u001b[0m\u001b[0msrc\u001b[0m\u001b[0;34m,\u001b[0m \u001b[0;34m**\u001b[0m\u001b[0mkwds\u001b[0m\u001b[0;34m)\u001b[0m\u001b[0;34m\u001b[0m\u001b[0m\n\u001b[0m\u001b[1;32m   1214\u001b[0m \u001b[0;34m\u001b[0m\u001b[0m\n\u001b[1;32m   1215\u001b[0m         \u001b[0;31m# XXX\u001b[0m\u001b[0;34m\u001b[0m\u001b[0;34m\u001b[0m\u001b[0m\n",
      "\u001b[0;32mpandas/parser.pyx\u001b[0m in \u001b[0;36mpandas.parser.TextReader.__cinit__ (pandas/parser.c:3427)\u001b[0;34m()\u001b[0m\n",
      "\u001b[0;32mpandas/parser.pyx\u001b[0m in \u001b[0;36mpandas.parser.TextReader._setup_parser_source (pandas/parser.c:6861)\u001b[0;34m()\u001b[0m\n",
      "\u001b[0;31mOSError\u001b[0m: File b'/Volumes/RT&O/C Brace/GPS Analysis/GPSWT/CBR11_CBrace.csv' does not exist"
     ]
    }
   ],
   "source": [
    "i = 0\n",
    "for f in os.listdir(path+'GPSWT/'):\n",
    "    try:\n",
    "        #load files\n",
    "        print(f)\n",
    "        Gpsdata = pd.read_csv(path+'GPSWT/'+f)\n",
    "        Subjid = f[:5]\n",
    "        trial = f[6] #cbrace,SCO or baseline\n",
    "        switcher = {'C':'CBR','S':'SCO','B':'Baseline'}\n",
    "        UICdata = pd.read_excel(path+'UIC_GPSData/'+Subjid+'_Final_Summary_File.xlsx',sheetname=switcher[trial])\n",
    "        \n",
    "        #convert date formats from raw gps\n",
    "        x = Gpsdata['UTC DATE']+' '+Gpsdata['UTC TIME'] #full date/time\n",
    "        GpsDates = string2datetime(x) #convert to datetime object\n",
    "        GpsDates=pd.Series(GpsDates)\n",
    "        \n",
    "#         start = UICdata.BeginTime[i]\n",
    "#         d = UICdata.Date[i]\n",
    "#         if type(d) != str:\n",
    "#             d = d.strftime('%Y/% m/%d') \n",
    "#         if type(start) != str:\n",
    "#             start = str(start)\n",
    "#         try:\n",
    "#             startdate = toUTC(dt.datetime.strptime(d+' '+start,'%Y/%m/%d %H:%M:%S'))\n",
    "#         except(ValueError):\n",
    "#             startdate = toUTC(dt.datetime.strptime(d+' '+start,'%m/%d/%Y %H:%M:%S'))\n",
    "\n",
    "#         print(pytz.utc.localize(GpsDates[i])-startdate)    \n",
    "            \n",
    "               \n",
    "#         #match dates and add lat lon and weartime to UIC processed data\n",
    "        add_latlonwear(UICdata,Gpsdata,GpsDates)\n",
    "        \n",
    "#         #save file\n",
    "        UICdata.to_csv(path+'UIC_GPSData/w_LatLonWear/'+f)\n",
    "    except(FileNotFoundError):\n",
    "        print('File not found')"
   ]
  },
  {
   "cell_type": "code",
   "execution_count": 38,
   "metadata": {
    "collapsed": false
   },
   "outputs": [
    {
     "data": {
      "text/html": [
       "<div>\n",
       "<table border=\"1\" class=\"dataframe\">\n",
       "  <thead>\n",
       "    <tr style=\"text-align: right;\">\n",
       "      <th></th>\n",
       "      <th>Date</th>\n",
       "      <th>Sequence</th>\n",
       "      <th>BeginTime</th>\n",
       "      <th>EndTime</th>\n",
       "      <th>Mode</th>\n",
       "      <th>LandUse</th>\n",
       "      <th>MeanSpeed</th>\n",
       "      <th>Numberpoints</th>\n",
       "      <th>TotalGap</th>\n",
       "      <th>Duration</th>\n",
       "      <th>Mean Lat</th>\n",
       "      <th>Mean Lon</th>\n",
       "      <th>Wear Frac</th>\n",
       "    </tr>\n",
       "  </thead>\n",
       "  <tbody>\n",
       "    <tr>\n",
       "      <th>0</th>\n",
       "      <td>2015-07-02</td>\n",
       "      <td>1</td>\n",
       "      <td>11:12:13</td>\n",
       "      <td>12:47:30</td>\n",
       "      <td>Car</td>\n",
       "      <td>trip</td>\n",
       "      <td>77.185558</td>\n",
       "      <td>518</td>\n",
       "      <td>9.116665</td>\n",
       "      <td>95.283333</td>\n",
       "      <td>41.716221</td>\n",
       "      <td>87.685847</td>\n",
       "      <td>1.000000</td>\n",
       "    </tr>\n",
       "    <tr>\n",
       "      <th>1</th>\n",
       "      <td>2015-07-02</td>\n",
       "      <td>2</td>\n",
       "      <td>12:47:35</td>\n",
       "      <td>12:54:18</td>\n",
       "      <td>NaN</td>\n",
       "      <td>COM_URBMIX</td>\n",
       "      <td>2.076743</td>\n",
       "      <td>31</td>\n",
       "      <td>1.633333</td>\n",
       "      <td>6.716667</td>\n",
       "      <td>41.528899</td>\n",
       "      <td>87.849158</td>\n",
       "      <td>1.000000</td>\n",
       "    </tr>\n",
       "    <tr>\n",
       "      <th>2</th>\n",
       "      <td>2015-07-02</td>\n",
       "      <td>3</td>\n",
       "      <td>12:54:23</td>\n",
       "      <td>13:00:53</td>\n",
       "      <td>Car</td>\n",
       "      <td>trip</td>\n",
       "      <td>33.312281</td>\n",
       "      <td>79</td>\n",
       "      <td>0.000000</td>\n",
       "      <td>6.500000</td>\n",
       "      <td>41.514940</td>\n",
       "      <td>87.850628</td>\n",
       "      <td>1.000000</td>\n",
       "    </tr>\n",
       "    <tr>\n",
       "      <th>3</th>\n",
       "      <td>2015-07-02</td>\n",
       "      <td>4</td>\n",
       "      <td>13:00:58</td>\n",
       "      <td>23:59:55</td>\n",
       "      <td>NaN</td>\n",
       "      <td>home</td>\n",
       "      <td>0.187761</td>\n",
       "      <td>7910</td>\n",
       "      <td>0.000000</td>\n",
       "      <td>658.950000</td>\n",
       "      <td>41.499339</td>\n",
       "      <td>87.857458</td>\n",
       "      <td>0.877213</td>\n",
       "    </tr>\n",
       "    <tr>\n",
       "      <th>4</th>\n",
       "      <td>2015-07-03</td>\n",
       "      <td>1</td>\n",
       "      <td>0:00:00</td>\n",
       "      <td>9:45:23</td>\n",
       "      <td>NaN</td>\n",
       "      <td>home</td>\n",
       "      <td>0.073735</td>\n",
       "      <td>7026</td>\n",
       "      <td>0.000000</td>\n",
       "      <td>585.383333</td>\n",
       "      <td>41.499315</td>\n",
       "      <td>87.857421</td>\n",
       "      <td>0.077449</td>\n",
       "    </tr>\n",
       "  </tbody>\n",
       "</table>\n",
       "</div>"
      ],
      "text/plain": [
       "        Date  Sequence BeginTime   EndTime Mode     LandUse  MeanSpeed  \\\n",
       "0 2015-07-02         1  11:12:13  12:47:30  Car        trip  77.185558   \n",
       "1 2015-07-02         2  12:47:35  12:54:18  NaN  COM_URBMIX   2.076743   \n",
       "2 2015-07-02         3  12:54:23  13:00:53  Car        trip  33.312281   \n",
       "3 2015-07-02         4  13:00:58  23:59:55  NaN        home   0.187761   \n",
       "4 2015-07-03         1   0:00:00   9:45:23  NaN        home   0.073735   \n",
       "\n",
       "   Numberpoints  TotalGap    Duration   Mean Lat   Mean Lon  Wear Frac  \n",
       "0           518  9.116665   95.283333  41.716221  87.685847   1.000000  \n",
       "1            31  1.633333    6.716667  41.528899  87.849158   1.000000  \n",
       "2            79  0.000000    6.500000  41.514940  87.850628   1.000000  \n",
       "3          7910  0.000000  658.950000  41.499339  87.857458   0.877213  \n",
       "4          7026  0.000000  585.383333  41.499315  87.857421   0.077449  "
      ]
     },
     "execution_count": 38,
     "metadata": {},
     "output_type": "execute_result"
    }
   ],
   "source": [
    "Baseline.head()"
   ]
  },
  {
   "cell_type": "code",
   "execution_count": 39,
   "metadata": {
    "collapsed": false
   },
   "outputs": [
    {
     "data": {
      "text/plain": [
       "array(['trip', 'COM_URBMIX', 'home', 'RES_SF_DETACHED', 'COM_CULT_ENT',\n",
       "       'OS_REC', 'Non-Parcel Road ROW', 'TCU_PARKING', 'COM_REGIONAL',\n",
       "       'COM_OFFICE', 'RES_MF', 'COM_BIGBOX', 'COM_MALL', 'COM_HOTEL',\n",
       "       'INST_MEDICAL'], dtype=object)"
      ]
     },
     "execution_count": 39,
     "metadata": {},
     "output_type": "execute_result"
    }
   ],
   "source": [
    "Baseline.LandUse.unique()"
   ]
  },
  {
   "cell_type": "markdown",
   "metadata": {},
   "source": [
    "# TODO:\n",
    "* Loop through files and generate data for each brace (now sheets are renamed Baseline, SCO, CBR)"
   ]
  },
  {
   "cell_type": "code",
   "execution_count": 69,
   "metadata": {
    "collapsed": false
   },
   "outputs": [
    {
     "data": {
      "text/html": [
       "<div>\n",
       "<table border=\"1\" class=\"dataframe\">\n",
       "  <thead>\n",
       "    <tr style=\"text-align: right;\">\n",
       "      <th></th>\n",
       "      <th>Unnamed: 0</th>\n",
       "      <th>INDEX</th>\n",
       "      <th>TRACK ID</th>\n",
       "      <th>VALID</th>\n",
       "      <th>UTC DATE</th>\n",
       "      <th>UTC TIME</th>\n",
       "      <th>LOCAL DATE</th>\n",
       "      <th>LOCAL TIME</th>\n",
       "      <th>MS</th>\n",
       "      <th>LATITUDE</th>\n",
       "      <th>N/S</th>\n",
       "      <th>LONGITUDE</th>\n",
       "      <th>E/W</th>\n",
       "      <th>ALTITUDE</th>\n",
       "      <th>SPEED</th>\n",
       "      <th>HEADING</th>\n",
       "      <th>G-X</th>\n",
       "      <th>G-Y</th>\n",
       "      <th>G-Z</th>\n",
       "      <th>Wear/Non-Wear</th>\n",
       "    </tr>\n",
       "  </thead>\n",
       "  <tbody>\n",
       "    <tr>\n",
       "      <th>0</th>\n",
       "      <td>0</td>\n",
       "      <td>1</td>\n",
       "      <td>1</td>\n",
       "      <td>FIXED</td>\n",
       "      <td>2015/2/10</td>\n",
       "      <td>17:42:37</td>\n",
       "      <td>2015/2/10</td>\n",
       "      <td>12:42:37</td>\n",
       "      <td>0</td>\n",
       "      <td>41.895196</td>\n",
       "      <td>N</td>\n",
       "      <td>87.624259</td>\n",
       "      <td>W</td>\n",
       "      <td>149.990494</td>\n",
       "      <td>0.574010</td>\n",
       "      <td>335.392252</td>\n",
       "      <td>0.0</td>\n",
       "      <td>0.0</td>\n",
       "      <td>0.0</td>\n",
       "      <td>Wear</td>\n",
       "    </tr>\n",
       "    <tr>\n",
       "      <th>1</th>\n",
       "      <td>1</td>\n",
       "      <td>2</td>\n",
       "      <td>1</td>\n",
       "      <td>FIXED</td>\n",
       "      <td>2015/2/10</td>\n",
       "      <td>17:42:47</td>\n",
       "      <td>2015/2/10</td>\n",
       "      <td>12:42:47</td>\n",
       "      <td>0</td>\n",
       "      <td>41.895462</td>\n",
       "      <td>N</td>\n",
       "      <td>87.624423</td>\n",
       "      <td>W</td>\n",
       "      <td>149.995331</td>\n",
       "      <td>0.879961</td>\n",
       "      <td>316.410852</td>\n",
       "      <td>0.0</td>\n",
       "      <td>0.0</td>\n",
       "      <td>0.0</td>\n",
       "      <td>Wear</td>\n",
       "    </tr>\n",
       "    <tr>\n",
       "      <th>2</th>\n",
       "      <td>2</td>\n",
       "      <td>3</td>\n",
       "      <td>1</td>\n",
       "      <td>FIXED</td>\n",
       "      <td>2015/2/10</td>\n",
       "      <td>17:42:57</td>\n",
       "      <td>2015/2/10</td>\n",
       "      <td>12:42:57</td>\n",
       "      <td>0</td>\n",
       "      <td>41.895555</td>\n",
       "      <td>N</td>\n",
       "      <td>87.624541</td>\n",
       "      <td>W</td>\n",
       "      <td>149.995544</td>\n",
       "      <td>1.826770</td>\n",
       "      <td>358.239356</td>\n",
       "      <td>0.0</td>\n",
       "      <td>0.0</td>\n",
       "      <td>0.0</td>\n",
       "      <td>Wear</td>\n",
       "    </tr>\n",
       "    <tr>\n",
       "      <th>3</th>\n",
       "      <td>3</td>\n",
       "      <td>4</td>\n",
       "      <td>1</td>\n",
       "      <td>FIXED</td>\n",
       "      <td>2015/2/10</td>\n",
       "      <td>17:43:7</td>\n",
       "      <td>2015/2/10</td>\n",
       "      <td>12:43:7</td>\n",
       "      <td>0</td>\n",
       "      <td>41.895645</td>\n",
       "      <td>N</td>\n",
       "      <td>87.624545</td>\n",
       "      <td>W</td>\n",
       "      <td>150.000412</td>\n",
       "      <td>1.679634</td>\n",
       "      <td>173.634000</td>\n",
       "      <td>0.0</td>\n",
       "      <td>0.0</td>\n",
       "      <td>0.0</td>\n",
       "      <td>Wear</td>\n",
       "    </tr>\n",
       "    <tr>\n",
       "      <th>4</th>\n",
       "      <td>4</td>\n",
       "      <td>5</td>\n",
       "      <td>1</td>\n",
       "      <td>FIXED</td>\n",
       "      <td>2015/2/10</td>\n",
       "      <td>17:43:17</td>\n",
       "      <td>2015/2/10</td>\n",
       "      <td>12:43:17</td>\n",
       "      <td>0</td>\n",
       "      <td>41.895430</td>\n",
       "      <td>N</td>\n",
       "      <td>87.624513</td>\n",
       "      <td>W</td>\n",
       "      <td>150.013351</td>\n",
       "      <td>4.007445</td>\n",
       "      <td>163.587416</td>\n",
       "      <td>0.0</td>\n",
       "      <td>0.0</td>\n",
       "      <td>0.0</td>\n",
       "      <td>Wear</td>\n",
       "    </tr>\n",
       "  </tbody>\n",
       "</table>\n",
       "</div>"
      ],
      "text/plain": [
       "   Unnamed: 0  INDEX  TRACK ID  VALID   UTC DATE  UTC TIME LOCAL DATE  \\\n",
       "0           0      1         1  FIXED  2015/2/10  17:42:37  2015/2/10   \n",
       "1           1      2         1  FIXED  2015/2/10  17:42:47  2015/2/10   \n",
       "2           2      3         1  FIXED  2015/2/10  17:42:57  2015/2/10   \n",
       "3           3      4         1  FIXED  2015/2/10   17:43:7  2015/2/10   \n",
       "4           4      5         1  FIXED  2015/2/10  17:43:17  2015/2/10   \n",
       "\n",
       "  LOCAL TIME  MS   LATITUDE N/S  LONGITUDE E/W    ALTITUDE     SPEED  \\\n",
       "0   12:42:37   0  41.895196   N  87.624259   W  149.990494  0.574010   \n",
       "1   12:42:47   0  41.895462   N  87.624423   W  149.995331  0.879961   \n",
       "2   12:42:57   0  41.895555   N  87.624541   W  149.995544  1.826770   \n",
       "3    12:43:7   0  41.895645   N  87.624545   W  150.000412  1.679634   \n",
       "4   12:43:17   0  41.895430   N  87.624513   W  150.013351  4.007445   \n",
       "\n",
       "      HEADING  G-X  G-Y  G-Z Wear/Non-Wear  \n",
       "0  335.392252  0.0  0.0  0.0          Wear  \n",
       "1  316.410852  0.0  0.0  0.0          Wear  \n",
       "2  358.239356  0.0  0.0  0.0          Wear  \n",
       "3  173.634000  0.0  0.0  0.0          Wear  \n",
       "4  163.587416  0.0  0.0  0.0          Wear  "
      ]
     },
     "execution_count": 69,
     "metadata": {},
     "output_type": "execute_result"
    }
   ],
   "source": [
    "GPSDates"
   ]
  },
  {
   "cell_type": "code",
   "execution_count": 67,
   "metadata": {
    "collapsed": false
   },
   "outputs": [
    {
     "name": "stdout",
     "output_type": "stream",
     "text": [
      "null found False\n",
      "2015-02-10 21:55:10+00:00 2015-02-10 22:02:30+00:00\n",
      "null found False\n",
      "2015-02-10 22:02:40+00:00 2015-02-10 22:30:50+00:00\n",
      "null found False\n",
      "2015-02-12 17:12:25+00:00 2015-02-12 17:13:15+00:00\n",
      "null found False\n",
      "2015-02-24 22:56:42+00:00 2015-02-24 23:27:37+00:00\n"
     ]
    }
   ],
   "source": [
    "f = 'CBR08_CBrace.csv'\n",
    "Gpsdata = pd.read_csv(path+'GPSWT/'+f)\n",
    "Subjid = f[:5]\n",
    "trial = f[6] #cbrace,SCO or baseline\n",
    "switcher = {'C':'CBR','S':'SCO','B':'Baseline'}\n",
    "UICdata = pd.read_excel(path+'UIC_GPSData/'+Subjid+'_Final_Summary_File.xlsx',sheetname=switcher[trial])\n",
    "\n",
    "#convert date formats\n",
    "x = Gpsdata['UTC DATE']+' '+Gpsdata['UTC TIME'] #full date/time\n",
    "GpsDates = string2datetime(x) #convert to datetime object\n",
    "GpsDates=pd.Series(GpsDates)\n",
    "\n",
    "add_latlonwear(UICdata,Gpsdata,GpsDates)"
   ]
  },
  {
   "cell_type": "code",
   "execution_count": 60,
   "metadata": {
    "collapsed": false
   },
   "outputs": [
    {
     "data": {
      "text/plain": [
       "41.8507153488372"
      ]
     },
     "execution_count": 60,
     "metadata": {},
     "output_type": "execute_result"
    }
   ],
   "source": [
    "startdate = dt.datetime(2015,2,10,20,55,10)\n",
    "enddate = dt.datetime(2015,2,10,21,2,30)\n",
    "# print(GpsDates[GpsDates==startdate])\n",
    "# print(GpsDates[GpsDates==enddate])\n",
    "ind = (GpsDates > startdate) & (GpsDates < enddate)\n",
    "np.mean(GPSdata.loc[ind,'LATITUDE'])"
   ]
  },
  {
   "cell_type": "code",
   "execution_count": null,
   "metadata": {
    "collapsed": true
   },
   "outputs": [],
   "source": []
  }
 ],
 "metadata": {
  "anaconda-cloud": {},
  "kernelspec": {
   "display_name": "Python [conda env:py35]",
   "language": "python",
   "name": "conda-env-py35-py"
  },
  "language_info": {
   "codemirror_mode": {
    "name": "ipython",
    "version": 3
   },
   "file_extension": ".py",
   "mimetype": "text/x-python",
   "name": "python",
   "nbconvert_exporter": "python",
   "pygments_lexer": "ipython3",
   "version": "3.5.2"
  }
 },
 "nbformat": 4,
 "nbformat_minor": 1
}
