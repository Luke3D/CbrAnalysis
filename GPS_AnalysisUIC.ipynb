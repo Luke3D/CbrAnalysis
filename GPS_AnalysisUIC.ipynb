{
 "cells": [
  {
   "cell_type": "code",
   "execution_count": 1,
   "metadata": {},
   "outputs": [],
   "source": [
    "import pandas as pd\n",
    "import numpy as np\n",
    "import seaborn as sns\n",
    "import datetime as dt\n",
    "import os\n",
    "import pytz\n",
    "from pytz import timezone\n",
    "from scipy.stats import pearsonr"
   ]
  },
  {
   "cell_type": "code",
   "execution_count": 2,
   "metadata": {
    "collapsed": true
   },
   "outputs": [],
   "source": [
    "tz = timezone('US/Central') # This data uses GMT-6 rather than standard CST/CDT\n",
    "def toUTC(d):\n",
    "    return tz.normalize(tz.localize(d)).astimezone(pytz.utc)"
   ]
  },
  {
   "cell_type": "code",
   "execution_count": 23,
   "metadata": {
    "collapsed": true
   },
   "outputs": [],
   "source": [
    "def string2datetime(stringDTSeries):\n",
    "    try:\n",
    "        return [(dt.datetime.strptime(DT,'%Y/%m/%d %I:%M:%S %p')) for DT in stringDTSeries]\n",
    "    except(ValueError):\n",
    "        try:\n",
    "            return [(dt.datetime.strptime(DT,'%Y/%m/%d %H:%M:%S')) for DT in stringDTSeries]\n",
    "        except(ValueError):\n",
    "            try:\n",
    "                return [(dt.datetime.strptime(DT,'%m/%d/%Y %I:%M:%S %p')) for DT in stringDTSeries]\n",
    "            except(ValueError):\n",
    "                try:\n",
    "                    return [(dt.datetime.strptime(DT,'%m/%d/%Y %H:%M:%S')) for DT in stringDTSeries]\n",
    "                except(ValueError):\n",
    "                    return [(dt.datetime.strptime(DT,'%m/%d/%y %H:%M:%S')) for DT in stringDTSeries]"
   ]
  },
  {
   "cell_type": "code",
   "execution_count": 17,
   "metadata": {
    "collapsed": true
   },
   "outputs": [],
   "source": [
    "# path = '/Volumes/RT&O/C Brace/GPS Analysis/' #mac\n",
    "path = 'X:/C Brace/GPS Analysis/' #win\n"
   ]
  },
  {
   "cell_type": "markdown",
   "metadata": {},
   "source": [
    "## Add LandUse coordinates and weartime to UIC preprocessed GPS files"
   ]
  },
  {
   "cell_type": "code",
   "execution_count": 15,
   "metadata": {},
   "outputs": [],
   "source": [
    "Baseline = pd.read_excel(path+'/UIC_GPSData/CBR15_Final_Summary_File.xlsx')"
   ]
  },
  {
   "cell_type": "code",
   "execution_count": 16,
   "metadata": {},
   "outputs": [
    {
     "data": {
      "text/plain": [
       "array(['trip', 'COM_URBMIX', 'home', 'RES_SF_DETACHED', 'COM_CULT_ENT',\n",
       "       'OS_REC', 'Non-Parcel Road ROW', 'TCU_PARKING', 'COM_REGIONAL',\n",
       "       'COM_OFFICE', 'RES_MF', 'COM_BIGBOX', 'COM_MALL', 'COM_HOTEL',\n",
       "       'INST_MEDICAL'], dtype=object)"
      ]
     },
     "execution_count": 16,
     "metadata": {},
     "output_type": "execute_result"
    }
   ],
   "source": [
    "Baseline.LandUse.unique()"
   ]
  },
  {
   "cell_type": "code",
   "execution_count": 17,
   "metadata": {},
   "outputs": [],
   "source": [
    "Gpsdata = pd.read_csv(path+'GPSWT/CBR15_Baseline.csv')"
   ]
  },
  {
   "cell_type": "code",
   "execution_count": 28,
   "metadata": {},
   "outputs": [
    {
     "data": {
      "text/html": [
       "<div>\n",
       "<table border=\"1\" class=\"dataframe\">\n",
       "  <thead>\n",
       "    <tr style=\"text-align: right;\">\n",
       "      <th></th>\n",
       "      <th>Date</th>\n",
       "      <th>Sequence</th>\n",
       "      <th>BeginTime</th>\n",
       "      <th>EndTime</th>\n",
       "      <th>Mode</th>\n",
       "      <th>LandUse</th>\n",
       "      <th>MeanSpeed</th>\n",
       "      <th>Numberpoints</th>\n",
       "      <th>TotalGap</th>\n",
       "      <th>Duration</th>\n",
       "    </tr>\n",
       "  </thead>\n",
       "  <tbody>\n",
       "    <tr>\n",
       "      <th>0</th>\n",
       "      <td>2015-07-02</td>\n",
       "      <td>1</td>\n",
       "      <td>11:12:13</td>\n",
       "      <td>12:47:30</td>\n",
       "      <td>Car</td>\n",
       "      <td>trip</td>\n",
       "      <td>77.185558</td>\n",
       "      <td>518</td>\n",
       "      <td>9.116665</td>\n",
       "      <td>95.283333</td>\n",
       "    </tr>\n",
       "    <tr>\n",
       "      <th>1</th>\n",
       "      <td>2015-07-02</td>\n",
       "      <td>2</td>\n",
       "      <td>12:47:35</td>\n",
       "      <td>12:54:18</td>\n",
       "      <td>NaN</td>\n",
       "      <td>COM_URBMIX</td>\n",
       "      <td>2.076743</td>\n",
       "      <td>31</td>\n",
       "      <td>1.633333</td>\n",
       "      <td>6.716667</td>\n",
       "    </tr>\n",
       "    <tr>\n",
       "      <th>2</th>\n",
       "      <td>2015-07-02</td>\n",
       "      <td>3</td>\n",
       "      <td>12:54:23</td>\n",
       "      <td>13:00:53</td>\n",
       "      <td>Car</td>\n",
       "      <td>trip</td>\n",
       "      <td>33.312281</td>\n",
       "      <td>79</td>\n",
       "      <td>0.000000</td>\n",
       "      <td>6.500000</td>\n",
       "    </tr>\n",
       "  </tbody>\n",
       "</table>\n",
       "</div>"
      ],
      "text/plain": [
       "        Date  Sequence BeginTime   EndTime Mode     LandUse  MeanSpeed  \\\n",
       "0 2015-07-02         1  11:12:13  12:47:30  Car        trip  77.185558   \n",
       "1 2015-07-02         2  12:47:35  12:54:18  NaN  COM_URBMIX   2.076743   \n",
       "2 2015-07-02         3  12:54:23  13:00:53  Car        trip  33.312281   \n",
       "\n",
       "   Numberpoints  TotalGap   Duration  \n",
       "0           518  9.116665  95.283333  \n",
       "1            31  1.633333   6.716667  \n",
       "2            79  0.000000   6.500000  "
      ]
     },
     "execution_count": 28,
     "metadata": {},
     "output_type": "execute_result"
    }
   ],
   "source": [
    "Baseline.head(3)"
   ]
  },
  {
   "cell_type": "code",
   "execution_count": 29,
   "metadata": {},
   "outputs": [
    {
     "data": {
      "text/html": [
       "<div>\n",
       "<table border=\"1\" class=\"dataframe\">\n",
       "  <thead>\n",
       "    <tr style=\"text-align: right;\">\n",
       "      <th></th>\n",
       "      <th>Unnamed: 0</th>\n",
       "      <th>INDEX</th>\n",
       "      <th>TRACK ID</th>\n",
       "      <th>VALID</th>\n",
       "      <th>UTC DATE</th>\n",
       "      <th>UTC TIME</th>\n",
       "      <th>LOCAL DATE</th>\n",
       "      <th>LOCAL TIME</th>\n",
       "      <th>MS</th>\n",
       "      <th>LATITUDE</th>\n",
       "      <th>N/S</th>\n",
       "      <th>LONGITUDE</th>\n",
       "      <th>E/W</th>\n",
       "      <th>ALTITUDE</th>\n",
       "      <th>SPEED</th>\n",
       "      <th>HEADING</th>\n",
       "      <th>G-X</th>\n",
       "      <th>G-Y</th>\n",
       "      <th>G-Z</th>\n",
       "      <th>Wear/Non-Wear</th>\n",
       "    </tr>\n",
       "  </thead>\n",
       "  <tbody>\n",
       "    <tr>\n",
       "      <th>0</th>\n",
       "      <td>0</td>\n",
       "      <td>1</td>\n",
       "      <td>1</td>\n",
       "      <td>FIXED</td>\n",
       "      <td>7/2/2015</td>\n",
       "      <td>16:12:13</td>\n",
       "      <td>7/2/2015</td>\n",
       "      <td>10:12:13</td>\n",
       "      <td>0</td>\n",
       "      <td>41.895511</td>\n",
       "      <td>N</td>\n",
       "      <td>87.618302</td>\n",
       "      <td>W</td>\n",
       "      <td>189.558014</td>\n",
       "      <td>0.0</td>\n",
       "      <td>0.0</td>\n",
       "      <td>0</td>\n",
       "      <td>0</td>\n",
       "      <td>0</td>\n",
       "      <td>Wear</td>\n",
       "    </tr>\n",
       "    <tr>\n",
       "      <th>1</th>\n",
       "      <td>1</td>\n",
       "      <td>2</td>\n",
       "      <td>1</td>\n",
       "      <td>FIXED</td>\n",
       "      <td>7/2/2015</td>\n",
       "      <td>16:12:14</td>\n",
       "      <td>7/2/2015</td>\n",
       "      <td>10:12:14</td>\n",
       "      <td>0</td>\n",
       "      <td>41.895511</td>\n",
       "      <td>N</td>\n",
       "      <td>87.618302</td>\n",
       "      <td>W</td>\n",
       "      <td>189.558014</td>\n",
       "      <td>0.0</td>\n",
       "      <td>0.0</td>\n",
       "      <td>0</td>\n",
       "      <td>0</td>\n",
       "      <td>0</td>\n",
       "      <td>Wear</td>\n",
       "    </tr>\n",
       "    <tr>\n",
       "      <th>2</th>\n",
       "      <td>2</td>\n",
       "      <td>3</td>\n",
       "      <td>1</td>\n",
       "      <td>FIXED</td>\n",
       "      <td>7/2/2015</td>\n",
       "      <td>16:12:15</td>\n",
       "      <td>7/2/2015</td>\n",
       "      <td>10:12:15</td>\n",
       "      <td>0</td>\n",
       "      <td>41.895511</td>\n",
       "      <td>N</td>\n",
       "      <td>87.618302</td>\n",
       "      <td>W</td>\n",
       "      <td>189.558014</td>\n",
       "      <td>0.0</td>\n",
       "      <td>0.0</td>\n",
       "      <td>0</td>\n",
       "      <td>0</td>\n",
       "      <td>0</td>\n",
       "      <td>Wear</td>\n",
       "    </tr>\n",
       "  </tbody>\n",
       "</table>\n",
       "</div>"
      ],
      "text/plain": [
       "   Unnamed: 0  INDEX  TRACK ID  VALID  UTC DATE  UTC TIME LOCAL DATE  \\\n",
       "0           0      1         1  FIXED  7/2/2015  16:12:13   7/2/2015   \n",
       "1           1      2         1  FIXED  7/2/2015  16:12:14   7/2/2015   \n",
       "2           2      3         1  FIXED  7/2/2015  16:12:15   7/2/2015   \n",
       "\n",
       "  LOCAL TIME  MS   LATITUDE N/S  LONGITUDE E/W    ALTITUDE  SPEED  HEADING  \\\n",
       "0   10:12:13   0  41.895511   N  87.618302   W  189.558014    0.0      0.0   \n",
       "1   10:12:14   0  41.895511   N  87.618302   W  189.558014    0.0      0.0   \n",
       "2   10:12:15   0  41.895511   N  87.618302   W  189.558014    0.0      0.0   \n",
       "\n",
       "   G-X  G-Y  G-Z Wear/Non-Wear  \n",
       "0    0    0    0          Wear  \n",
       "1    0    0    0          Wear  \n",
       "2    0    0    0          Wear  "
      ]
     },
     "execution_count": 29,
     "metadata": {},
     "output_type": "execute_result"
    }
   ],
   "source": [
    "Gpsdata.head(3)"
   ]
  },
  {
   "cell_type": "code",
   "execution_count": 30,
   "metadata": {},
   "outputs": [],
   "source": [
    "x = Gpsdata['UTC DATE']+' '+Gpsdata['UTC TIME'] #full date/time\n",
    "GpsDates = string2datetime(x) #convert to datetime object\n",
    "GpsDates=pd.Series(GpsDates)"
   ]
  },
  {
   "cell_type": "code",
   "execution_count": 31,
   "metadata": {},
   "outputs": [
    {
     "data": {
      "text/plain": [
       "0   2015-07-02 16:12:13\n",
       "1   2015-07-02 16:12:14\n",
       "2   2015-07-02 16:12:15\n",
       "3   2015-07-02 16:12:16\n",
       "4   2015-07-02 16:12:17\n",
       "5   2015-07-02 16:12:18\n",
       "6   2015-07-02 16:12:21\n",
       "7   2015-07-02 17:03:23\n",
       "8   2015-07-02 17:03:28\n",
       "9   2015-07-02 17:03:33\n",
       "dtype: datetime64[ns]"
      ]
     },
     "execution_count": 31,
     "metadata": {},
     "output_type": "execute_result"
    }
   ],
   "source": [
    "GpsDates[:10]"
   ]
  },
  {
   "cell_type": "code",
   "execution_count": 61,
   "metadata": {},
   "outputs": [
    {
     "data": {
      "text/plain": [
       "True"
      ]
     },
     "execution_count": 61,
     "metadata": {},
     "output_type": "execute_result"
    }
   ],
   "source": [
    "any(ind)"
   ]
  },
  {
   "cell_type": "code",
   "execution_count": 50,
   "metadata": {},
   "outputs": [],
   "source": [
    "#Baseline: UIC Gps preprocessed Data\n",
    "#GPSdata: raw Gps data with wear time fraction\n",
    "#GpsDates: datetime object from Gpsdata to match with UIC data\n",
    "def add_latlonwear(Baseline,Gpsdata,GpsDates):\n",
    "    loc_lat = []\n",
    "    loc_lon = []\n",
    "    wear_frac = []\n",
    "\n",
    "    for i in range(len(Baseline)):\n",
    "        start = Baseline.BeginTime[i]\n",
    "        end = Baseline.EndTime[i]\n",
    "        d = Baseline.Date[i]\n",
    "        \n",
    "        if type(d) != str:\n",
    "            d = d.strftime('%Y/%m/%d') \n",
    "        if type(start) != str:\n",
    "            start = str(start)\n",
    "        if type(end) != str:\n",
    "            end = str(end)\n",
    "        try:\n",
    "            startdate = toUTC(dt.datetime.strptime(d+' '+start,'%Y/%m/%d %H:%M:%S'))\n",
    "            enddate = toUTC(dt.datetime.strptime(d+' '+end,'%Y/%m/%d %H:%M:%S'))\n",
    "        except(ValueError):\n",
    "            try:\n",
    "                startdate = toUTC(dt.datetime.strptime(d+' '+start,'%m/%d/%y %H:%M:%S'))\n",
    "                enddate = toUTC(dt.datetime.strptime(d+' '+end,'%m/%d/%y %H:%M:%S'))\n",
    "            except(ValueError):\n",
    "                try:\n",
    "                    startdate = toUTC(dt.datetime.strptime(d+' '+start,'%m/%d/%Y %H:%M:%S'))\n",
    "                    enddate = toUTC(dt.datetime.strptime(d+' '+end,'%m/%d/%Y %H:%M:%S'))\n",
    "                except(ValueError):\n",
    "                    startdate = toUTC(dt.datetime.strptime(d+' '+start,'%Y-%m-%d %H:%M:%S'))\n",
    "                    enddate = toUTC(dt.datetime.strptime(d+' '+end,'%Y-%m-%d %H:%M:%S'))\n",
    "\n",
    "\n",
    "\n",
    "        ind = (GpsDates >= startdate) & (GpsDates <= enddate)\n",
    "        meanLat = np.mean(Gpsdata['LATITUDE'][ind])\n",
    "        meanLon = np.mean(Gpsdata['LONGITUDE'][ind])\n",
    "        if np.isnan(meanLat) or np.isnan(meanLon):\n",
    "            print('null found %s'%any(ind))\n",
    "            print(startdate,enddate)\n",
    "        loc_lat.append(meanLat)\n",
    "        loc_lon.append(meanLon)\n",
    "\n",
    "        wear_ind = (Gpsdata['Wear/Non-Wear']=='Wear') & ind\n",
    "        wear_frac.append(sum(wear_ind)/sum(ind))\n",
    "\n",
    "    Baseline['Mean Lat'] = loc_lat\n",
    "    Baseline['Mean Lon'] = loc_lon\n",
    "    Baseline['Wear Frac'] = wear_frac\n"
   ]
  },
  {
   "cell_type": "code",
   "execution_count": 63,
   "metadata": {},
   "outputs": [
    {
     "data": {
      "text/plain": [
       "False"
      ]
     },
     "execution_count": 63,
     "metadata": {},
     "output_type": "execute_result"
    }
   ],
   "source": [
    "all(np.array([0,1,1]))"
   ]
  },
  {
   "cell_type": "markdown",
   "metadata": {},
   "source": [
    "# Loop through files and add Lat, Lon and Wear Time to UIC files"
   ]
  },
  {
   "cell_type": "code",
   "execution_count": 57,
   "metadata": {
    "scrolled": false
   },
   "outputs": [
    {
     "name": "stdout",
     "output_type": "stream",
     "text": [
      "CBR31_SCO.csv\n",
      "CBR31_CBrace.csv\n",
      "CBR26_CBrace.csv\n",
      "CBR27_SCO.csv\n",
      "CBR30_SCO.csv\n",
      "CBR24_SCO.csv\n",
      "CBR21_Baseline.csv\n",
      "CBR21_CBrace.csv\n",
      "null found False\n",
      "2016-08-26 20:34:35+00:00 2016-08-26 14:46:56+00:00\n"
     ]
    },
    {
     "name": "stderr",
     "output_type": "stream",
     "text": [
      "C:\\Users\\llonini\\AppData\\Local\\Continuum\\Anaconda3\\lib\\site-packages\\ipykernel_launcher.py:47: RuntimeWarning: invalid value encountered in long_scalars\n"
     ]
    },
    {
     "name": "stdout",
     "output_type": "stream",
     "text": [
      "null found False\n",
      "2016-08-29 21:35:02+00:00 2016-08-29 13:45:08+00:00\n",
      "CBR22_CBrace.csv\n",
      "CBR15_SCO.csv\n",
      "CBR30_Baseline.csv\n",
      "CBR26_Baseline.csv\n",
      "CBR25_CBrace.csv\n",
      "CBR28_CBrace.csv\n",
      "CBR24_Baseline.csv\n",
      "CBR22_Baseline.csv\n",
      "null found False\n",
      "2016-03-10 22:05:33+00:00 2016-03-10 22:43:23+00:00\n",
      "null found False\n",
      "2016-03-10 22:43:33+00:00 2016-03-10 22:51:23+00:00\n",
      "null found False\n",
      "2016-03-10 22:51:33+00:00 2016-03-10 22:58:43+00:00\n",
      "CBR19_Baseline.csv\n",
      "CBR31_Baseline.csv\n",
      "CBR27_CBrace.csv\n",
      "CBR30_CBrace.csv\n",
      "CBR19_CBrace.csv\n",
      "null found False\n",
      "2016-07-20 19:28:31+00:00 2016-07-20 19:43:03+00:00\n",
      "null found False\n",
      "2016-07-20 23:26:27+00:00 2016-07-20 23:35:27+00:00\n",
      "CBR26_SCO.csv\n",
      "CBR16_SCO.csv\n"
     ]
    }
   ],
   "source": [
    "fwt = os.listdir(path+'GPSWT/')\n",
    "fconv = os.listdir(path+'UIC_GPSData/w_LatLonWear/')\n",
    "\n",
    "for f in list(set(fwt)-set(fconv)):\n",
    "    try:\n",
    "        #load files\n",
    "        print(f)\n",
    "        Gpsdata = pd.read_csv(path+'GPSWT/'+f)\n",
    "        Subjid = f[:5]\n",
    "        trial = f[6] #cbrace,SCO or baseline\n",
    "        switcher = {'C':'CBR','S':'SCO','B':'Baseline'}\n",
    "        UICdata = pd.read_excel(path+'UIC_GPSData/'+Subjid+'_Final_Summary_File.xlsx',sheetname=switcher[trial])\n",
    "        \n",
    "        #convert date formats from raw gps\n",
    "        x = Gpsdata['UTC DATE']+' '+Gpsdata['UTC TIME'] #full date/time\n",
    "        GpsDates = string2datetime(x) #convert to datetime object\n",
    "        GpsDates=pd.Series(GpsDates)\n",
    "                       \n",
    "#         #match dates and add lat lon and weartime to UIC processed data\n",
    "        add_latlonwear(UICdata,Gpsdata,GpsDates)\n",
    "        \n",
    "#         #save file\n",
    "        UICdata.to_csv(path+'UIC_GPSData/w_LatLonWear/'+f)\n",
    "    except(FileNotFoundError):\n",
    "        print('File not found')"
   ]
  },
  {
   "cell_type": "code",
   "execution_count": null,
   "metadata": {
    "collapsed": true
   },
   "outputs": [],
   "source": []
  }
 ],
 "metadata": {
  "anaconda-cloud": {},
  "kernelspec": {
   "display_name": "Python 3",
   "language": "python",
   "name": "python3"
  },
  "language_info": {
   "codemirror_mode": {
    "name": "ipython",
    "version": 3
   },
   "file_extension": ".py",
   "mimetype": "text/x-python",
   "name": "python",
   "nbconvert_exporter": "python",
   "pygments_lexer": "ipython3",
   "version": "3.6.1"
  }
 },
 "nbformat": 4,
 "nbformat_minor": 1
}
