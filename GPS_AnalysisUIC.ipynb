{
 "cells": [
  {
   "cell_type": "code",
   "execution_count": 74,
   "metadata": {
    "collapsed": true
   },
   "outputs": [],
   "source": [
    "import pandas as pd\n",
    "import numpy as np\n",
    "import seaborn as sns\n",
    "import datetime as dt\n",
    "import os\n",
    "import pytz\n",
    "from pytz import timezone\n",
    "from scipy.stats import pearsonr\n",
    "import matplotlib.pyplot as plt\n",
    "%matplotlib inline"
   ]
  },
  {
   "cell_type": "code",
   "execution_count": 2,
   "metadata": {
    "collapsed": true
   },
   "outputs": [],
   "source": [
    "tz = timezone('US/Central') # This data uses GMT-6 rather than standard CST/CDT\n",
    "def toUTC(d):\n",
    "    return tz.normalize(tz.localize(d)).astimezone(pytz.utc)"
   ]
  },
  {
   "cell_type": "code",
   "execution_count": 3,
   "metadata": {
    "collapsed": true
   },
   "outputs": [],
   "source": [
    "def string2datetime(stringDTSeries):\n",
    "    try:\n",
    "        return [(dt.datetime.strptime(DT,'%Y/%m/%d %I:%M:%S %p')) for DT in stringDTSeries]\n",
    "    except(ValueError):\n",
    "        try:\n",
    "            return [(dt.datetime.strptime(DT,'%Y/%m/%d %H:%M:%S')) for DT in stringDTSeries]\n",
    "        except(ValueError):\n",
    "            try:\n",
    "                return [(dt.datetime.strptime(DT,'%m/%d/%Y %I:%M:%S %p')) for DT in stringDTSeries]\n",
    "            except(ValueError):\n",
    "                try:\n",
    "                    return [(dt.datetime.strptime(DT,'%m/%d/%Y %H:%M:%S')) for DT in stringDTSeries]\n",
    "                except(ValueError):\n",
    "                    return [(dt.datetime.strptime(DT,'%m/%d/%y %H:%M:%S')) for DT in stringDTSeries]"
   ]
  },
  {
   "cell_type": "code",
   "execution_count": 4,
   "metadata": {
    "collapsed": true
   },
   "outputs": [],
   "source": [
    "# path = '/Volumes/RT&O/C Brace/GPS Analysis/' #mac\n",
    "path = 'X:/C Brace/GPS Analysis/' #win\n"
   ]
  },
  {
   "cell_type": "markdown",
   "metadata": {},
   "source": [
    "## Add LandUse coordinates and weartime to UIC preprocessed GPS files"
   ]
  },
  {
   "cell_type": "code",
   "execution_count": 15,
   "metadata": {
    "collapsed": true
   },
   "outputs": [],
   "source": [
    "Baseline = pd.read_excel(path+'/UIC_GPSData/CBR15_Final_Summary_File.xlsx')"
   ]
  },
  {
   "cell_type": "code",
   "execution_count": 16,
   "metadata": {},
   "outputs": [
    {
     "data": {
      "text/plain": [
       "array(['trip', 'COM_URBMIX', 'home', 'RES_SF_DETACHED', 'COM_CULT_ENT',\n",
       "       'OS_REC', 'Non-Parcel Road ROW', 'TCU_PARKING', 'COM_REGIONAL',\n",
       "       'COM_OFFICE', 'RES_MF', 'COM_BIGBOX', 'COM_MALL', 'COM_HOTEL',\n",
       "       'INST_MEDICAL'], dtype=object)"
      ]
     },
     "execution_count": 16,
     "metadata": {},
     "output_type": "execute_result"
    }
   ],
   "source": [
    "Baseline.LandUse.unique()"
   ]
  },
  {
   "cell_type": "code",
   "execution_count": 17,
   "metadata": {
    "collapsed": true
   },
   "outputs": [],
   "source": [
    "Gpsdata = pd.read_csv(path+'GPSWT/CBR15_Baseline.csv')"
   ]
  },
  {
   "cell_type": "code",
   "execution_count": 28,
   "metadata": {},
   "outputs": [
    {
     "data": {
      "text/html": [
       "<div>\n",
       "<table border=\"1\" class=\"dataframe\">\n",
       "  <thead>\n",
       "    <tr style=\"text-align: right;\">\n",
       "      <th></th>\n",
       "      <th>Date</th>\n",
       "      <th>Sequence</th>\n",
       "      <th>BeginTime</th>\n",
       "      <th>EndTime</th>\n",
       "      <th>Mode</th>\n",
       "      <th>LandUse</th>\n",
       "      <th>MeanSpeed</th>\n",
       "      <th>Numberpoints</th>\n",
       "      <th>TotalGap</th>\n",
       "      <th>Duration</th>\n",
       "    </tr>\n",
       "  </thead>\n",
       "  <tbody>\n",
       "    <tr>\n",
       "      <th>0</th>\n",
       "      <td>2015-07-02</td>\n",
       "      <td>1</td>\n",
       "      <td>11:12:13</td>\n",
       "      <td>12:47:30</td>\n",
       "      <td>Car</td>\n",
       "      <td>trip</td>\n",
       "      <td>77.185558</td>\n",
       "      <td>518</td>\n",
       "      <td>9.116665</td>\n",
       "      <td>95.283333</td>\n",
       "    </tr>\n",
       "    <tr>\n",
       "      <th>1</th>\n",
       "      <td>2015-07-02</td>\n",
       "      <td>2</td>\n",
       "      <td>12:47:35</td>\n",
       "      <td>12:54:18</td>\n",
       "      <td>NaN</td>\n",
       "      <td>COM_URBMIX</td>\n",
       "      <td>2.076743</td>\n",
       "      <td>31</td>\n",
       "      <td>1.633333</td>\n",
       "      <td>6.716667</td>\n",
       "    </tr>\n",
       "    <tr>\n",
       "      <th>2</th>\n",
       "      <td>2015-07-02</td>\n",
       "      <td>3</td>\n",
       "      <td>12:54:23</td>\n",
       "      <td>13:00:53</td>\n",
       "      <td>Car</td>\n",
       "      <td>trip</td>\n",
       "      <td>33.312281</td>\n",
       "      <td>79</td>\n",
       "      <td>0.000000</td>\n",
       "      <td>6.500000</td>\n",
       "    </tr>\n",
       "  </tbody>\n",
       "</table>\n",
       "</div>"
      ],
      "text/plain": [
       "        Date  Sequence BeginTime   EndTime Mode     LandUse  MeanSpeed  \\\n",
       "0 2015-07-02         1  11:12:13  12:47:30  Car        trip  77.185558   \n",
       "1 2015-07-02         2  12:47:35  12:54:18  NaN  COM_URBMIX   2.076743   \n",
       "2 2015-07-02         3  12:54:23  13:00:53  Car        trip  33.312281   \n",
       "\n",
       "   Numberpoints  TotalGap   Duration  \n",
       "0           518  9.116665  95.283333  \n",
       "1            31  1.633333   6.716667  \n",
       "2            79  0.000000   6.500000  "
      ]
     },
     "execution_count": 28,
     "metadata": {},
     "output_type": "execute_result"
    }
   ],
   "source": [
    "Baseline.head(3)"
   ]
  },
  {
   "cell_type": "code",
   "execution_count": 29,
   "metadata": {},
   "outputs": [
    {
     "data": {
      "text/html": [
       "<div>\n",
       "<table border=\"1\" class=\"dataframe\">\n",
       "  <thead>\n",
       "    <tr style=\"text-align: right;\">\n",
       "      <th></th>\n",
       "      <th>Unnamed: 0</th>\n",
       "      <th>INDEX</th>\n",
       "      <th>TRACK ID</th>\n",
       "      <th>VALID</th>\n",
       "      <th>UTC DATE</th>\n",
       "      <th>UTC TIME</th>\n",
       "      <th>LOCAL DATE</th>\n",
       "      <th>LOCAL TIME</th>\n",
       "      <th>MS</th>\n",
       "      <th>LATITUDE</th>\n",
       "      <th>N/S</th>\n",
       "      <th>LONGITUDE</th>\n",
       "      <th>E/W</th>\n",
       "      <th>ALTITUDE</th>\n",
       "      <th>SPEED</th>\n",
       "      <th>HEADING</th>\n",
       "      <th>G-X</th>\n",
       "      <th>G-Y</th>\n",
       "      <th>G-Z</th>\n",
       "      <th>Wear/Non-Wear</th>\n",
       "    </tr>\n",
       "  </thead>\n",
       "  <tbody>\n",
       "    <tr>\n",
       "      <th>0</th>\n",
       "      <td>0</td>\n",
       "      <td>1</td>\n",
       "      <td>1</td>\n",
       "      <td>FIXED</td>\n",
       "      <td>7/2/2015</td>\n",
       "      <td>16:12:13</td>\n",
       "      <td>7/2/2015</td>\n",
       "      <td>10:12:13</td>\n",
       "      <td>0</td>\n",
       "      <td>41.895511</td>\n",
       "      <td>N</td>\n",
       "      <td>87.618302</td>\n",
       "      <td>W</td>\n",
       "      <td>189.558014</td>\n",
       "      <td>0.0</td>\n",
       "      <td>0.0</td>\n",
       "      <td>0</td>\n",
       "      <td>0</td>\n",
       "      <td>0</td>\n",
       "      <td>Wear</td>\n",
       "    </tr>\n",
       "    <tr>\n",
       "      <th>1</th>\n",
       "      <td>1</td>\n",
       "      <td>2</td>\n",
       "      <td>1</td>\n",
       "      <td>FIXED</td>\n",
       "      <td>7/2/2015</td>\n",
       "      <td>16:12:14</td>\n",
       "      <td>7/2/2015</td>\n",
       "      <td>10:12:14</td>\n",
       "      <td>0</td>\n",
       "      <td>41.895511</td>\n",
       "      <td>N</td>\n",
       "      <td>87.618302</td>\n",
       "      <td>W</td>\n",
       "      <td>189.558014</td>\n",
       "      <td>0.0</td>\n",
       "      <td>0.0</td>\n",
       "      <td>0</td>\n",
       "      <td>0</td>\n",
       "      <td>0</td>\n",
       "      <td>Wear</td>\n",
       "    </tr>\n",
       "    <tr>\n",
       "      <th>2</th>\n",
       "      <td>2</td>\n",
       "      <td>3</td>\n",
       "      <td>1</td>\n",
       "      <td>FIXED</td>\n",
       "      <td>7/2/2015</td>\n",
       "      <td>16:12:15</td>\n",
       "      <td>7/2/2015</td>\n",
       "      <td>10:12:15</td>\n",
       "      <td>0</td>\n",
       "      <td>41.895511</td>\n",
       "      <td>N</td>\n",
       "      <td>87.618302</td>\n",
       "      <td>W</td>\n",
       "      <td>189.558014</td>\n",
       "      <td>0.0</td>\n",
       "      <td>0.0</td>\n",
       "      <td>0</td>\n",
       "      <td>0</td>\n",
       "      <td>0</td>\n",
       "      <td>Wear</td>\n",
       "    </tr>\n",
       "  </tbody>\n",
       "</table>\n",
       "</div>"
      ],
      "text/plain": [
       "   Unnamed: 0  INDEX  TRACK ID  VALID  UTC DATE  UTC TIME LOCAL DATE  \\\n",
       "0           0      1         1  FIXED  7/2/2015  16:12:13   7/2/2015   \n",
       "1           1      2         1  FIXED  7/2/2015  16:12:14   7/2/2015   \n",
       "2           2      3         1  FIXED  7/2/2015  16:12:15   7/2/2015   \n",
       "\n",
       "  LOCAL TIME  MS   LATITUDE N/S  LONGITUDE E/W    ALTITUDE  SPEED  HEADING  \\\n",
       "0   10:12:13   0  41.895511   N  87.618302   W  189.558014    0.0      0.0   \n",
       "1   10:12:14   0  41.895511   N  87.618302   W  189.558014    0.0      0.0   \n",
       "2   10:12:15   0  41.895511   N  87.618302   W  189.558014    0.0      0.0   \n",
       "\n",
       "   G-X  G-Y  G-Z Wear/Non-Wear  \n",
       "0    0    0    0          Wear  \n",
       "1    0    0    0          Wear  \n",
       "2    0    0    0          Wear  "
      ]
     },
     "execution_count": 29,
     "metadata": {},
     "output_type": "execute_result"
    }
   ],
   "source": [
    "Gpsdata.head(3)"
   ]
  },
  {
   "cell_type": "code",
   "execution_count": 30,
   "metadata": {
    "collapsed": true
   },
   "outputs": [],
   "source": [
    "x = Gpsdata['UTC DATE']+' '+Gpsdata['UTC TIME'] #full date/time\n",
    "GpsDates = string2datetime(x) #convert to datetime object\n",
    "GpsDates=pd.Series(GpsDates)"
   ]
  },
  {
   "cell_type": "code",
   "execution_count": 31,
   "metadata": {},
   "outputs": [
    {
     "data": {
      "text/plain": [
       "0   2015-07-02 16:12:13\n",
       "1   2015-07-02 16:12:14\n",
       "2   2015-07-02 16:12:15\n",
       "3   2015-07-02 16:12:16\n",
       "4   2015-07-02 16:12:17\n",
       "5   2015-07-02 16:12:18\n",
       "6   2015-07-02 16:12:21\n",
       "7   2015-07-02 17:03:23\n",
       "8   2015-07-02 17:03:28\n",
       "9   2015-07-02 17:03:33\n",
       "dtype: datetime64[ns]"
      ]
     },
     "execution_count": 31,
     "metadata": {},
     "output_type": "execute_result"
    }
   ],
   "source": [
    "GpsDates[:10]"
   ]
  },
  {
   "cell_type": "code",
   "execution_count": 61,
   "metadata": {},
   "outputs": [
    {
     "data": {
      "text/plain": [
       "True"
      ]
     },
     "execution_count": 61,
     "metadata": {},
     "output_type": "execute_result"
    }
   ],
   "source": [
    "any(ind)"
   ]
  },
  {
   "cell_type": "code",
   "execution_count": 5,
   "metadata": {
    "collapsed": true
   },
   "outputs": [],
   "source": [
    "#Baseline: UIC Gps preprocessed Data\n",
    "#GPSdata: raw Gps data with wear time fraction\n",
    "#GpsDates: datetime object from Gpsdata to match with UIC data\n",
    "def add_latlonwear(Baseline,Gpsdata,GpsDates):\n",
    "    loc_lat = []\n",
    "    loc_lon = []\n",
    "    wear_frac = []\n",
    "\n",
    "    for i in range(len(Baseline)):\n",
    "        start = Baseline.BeginTime[i]\n",
    "        end = Baseline.EndTime[i]\n",
    "        d = Baseline.Date[i]\n",
    "        \n",
    "        if type(d) != str:\n",
    "            d = d.strftime('%Y/%m/%d') \n",
    "        if type(start) != str:\n",
    "            start = str(start)\n",
    "        if type(end) != str:\n",
    "            end = str(end)\n",
    "        try:\n",
    "            startdate = toUTC(dt.datetime.strptime(d+' '+start,'%Y/%m/%d %H:%M:%S'))\n",
    "            enddate = toUTC(dt.datetime.strptime(d+' '+end,'%Y/%m/%d %H:%M:%S'))\n",
    "        except(ValueError):\n",
    "            try:\n",
    "                startdate = toUTC(dt.datetime.strptime(d+' '+start,'%m/%d/%y %H:%M:%S'))\n",
    "                enddate = toUTC(dt.datetime.strptime(d+' '+end,'%m/%d/%y %H:%M:%S'))\n",
    "            except(ValueError):\n",
    "                try:\n",
    "                    startdate = toUTC(dt.datetime.strptime(d+' '+start,'%m/%d/%Y %H:%M:%S'))\n",
    "                    enddate = toUTC(dt.datetime.strptime(d+' '+end,'%m/%d/%Y %H:%M:%S'))\n",
    "                except(ValueError):\n",
    "                    startdate = toUTC(dt.datetime.strptime(d+' '+start,'%Y-%m-%d %H:%M:%S'))\n",
    "                    enddate = toUTC(dt.datetime.strptime(d+' '+end,'%Y-%m-%d %H:%M:%S'))\n",
    "\n",
    "\n",
    "\n",
    "        ind = (GpsDates >= startdate) & (GpsDates <= enddate)\n",
    "        meanLat = np.mean(Gpsdata['LATITUDE'][ind])\n",
    "        meanLon = np.mean(Gpsdata['LONGITUDE'][ind])\n",
    "        if np.isnan(meanLat) or np.isnan(meanLon):\n",
    "            print('null found %s'%any(ind))\n",
    "            print(startdate,enddate)\n",
    "        loc_lat.append(meanLat)\n",
    "        loc_lon.append(meanLon)\n",
    "\n",
    "        wear_ind = (Gpsdata['Wear/Non-Wear']=='Wear') & ind\n",
    "        wear_frac.append(sum(wear_ind)/sum(ind))\n",
    "\n",
    "    Baseline['Mean Lat'] = loc_lat\n",
    "    Baseline['Mean Lon'] = loc_lon\n",
    "    Baseline['Wear Frac'] = wear_frac\n"
   ]
  },
  {
   "cell_type": "markdown",
   "metadata": {},
   "source": [
    "# Loop through files and add Lat, Lon and Wear Time to UIC files"
   ]
  },
  {
   "cell_type": "code",
   "execution_count": 7,
   "metadata": {
    "scrolled": false
   },
   "outputs": [
    {
     "name": "stdout",
     "output_type": "stream",
     "text": [
      "CBR19_CBrace.csv\n",
      "CBR22_Baseline.csv\n",
      "null found False\n",
      "2016-03-10 22:05:33+00:00 2016-03-10 22:43:23+00:00\n",
      "null found False\n",
      "2016-03-10 22:43:33+00:00 2016-03-10 22:51:23+00:00\n"
     ]
    },
    {
     "name": "stderr",
     "output_type": "stream",
     "text": [
      "C:\\Users\\llonini\\AppData\\Local\\Continuum\\Anaconda3\\lib\\site-packages\\ipykernel_launcher.py:47: RuntimeWarning: invalid value encountered in long_scalars\n"
     ]
    },
    {
     "name": "stdout",
     "output_type": "stream",
     "text": [
      "null found False\n",
      "2016-03-10 22:51:33+00:00 2016-03-10 22:58:43+00:00\n",
      "CBR21_CBrace.csv\n"
     ]
    }
   ],
   "source": [
    "fwt = os.listdir(path+'GPSWT/')\n",
    "fconv = os.listdir(path+'UIC_GPSData/w_LatLonWear/')\n",
    "\n",
    "for f in list(set(fwt)-set(fconv)):\n",
    "    try:\n",
    "        #load files\n",
    "        print(f)\n",
    "        Gpsdata = pd.read_csv(path+'GPSWT/'+f)\n",
    "        Subjid = f[:5]\n",
    "        trial = f[6] #cbrace,SCO or baseline\n",
    "        switcher = {'C':'CBR','S':'SCO','B':'Baseline'}\n",
    "        UICdata = pd.read_excel(path+'UIC_GPSData/'+Subjid+'_Final_Summary_File.xlsx',sheetname=switcher[trial])\n",
    "        \n",
    "        #convert date formats from raw gps\n",
    "        x = Gpsdata['UTC DATE']+' '+Gpsdata['UTC TIME'] #full date/time\n",
    "        GpsDates = string2datetime(x) #convert to datetime object\n",
    "        GpsDates=pd.Series(GpsDates)\n",
    "                       \n",
    "#         #match dates and add lat lon and weartime to UIC processed data\n",
    "        add_latlonwear(UICdata,Gpsdata,GpsDates)\n",
    "        \n",
    "#         #save file\n",
    "        UICdata.to_csv(path+'UIC_GPSData/w_LatLonWear/'+f)\n",
    "    except(FileNotFoundError):\n",
    "        print('File not found')"
   ]
  },
  {
   "cell_type": "markdown",
   "metadata": {
    "collapsed": true
   },
   "source": [
    "# Load Files and aggregate per brace"
   ]
  },
  {
   "cell_type": "code",
   "execution_count": 14,
   "metadata": {},
   "outputs": [],
   "source": [
    "d = pd.read_csv(path+'UIC_GPSData/w_LatLonWear/CBR08_CBrace.csv')\n"
   ]
  },
  {
   "cell_type": "code",
   "execution_count": 43,
   "metadata": {},
   "outputs": [
    {
     "data": {
      "text/plain": [
       "array(['Date', 'Sequence', 'BeginTime', 'EndTime', 'Mode', 'LandUse',\n",
       "       'MeanSpeed', 'Numberpoints', 'TotalGap', 'Duration', 'Mean Lat',\n",
       "       'Mean Lon', 'Wear Frac'], dtype=object)"
      ]
     },
     "execution_count": 43,
     "metadata": {},
     "output_type": "execute_result"
    }
   ],
   "source": [
    "d['SubjID'] = 1\n",
    "c = d.columns\n",
    "c = c.values\n",
    "c[:-1]"
   ]
  },
  {
   "cell_type": "code",
   "execution_count": 68,
   "metadata": {},
   "outputs": [],
   "source": [
    "Data = pd.DataFrame()\n",
    "for f in os.listdir(path+'UIC_GPSData/w_LatLonWear/'):\n",
    "#     print(f)\n",
    "    d = pd.read_csv(os.path.join(path+'UIC_GPSData/w_LatLonWear/',f))\n",
    "    del d['Unnamed: 0']\n",
    "    d['SubjID'] = str(f[:5])\n",
    "    d['Brace'] = str.capitalize(f[6:9])\n",
    "    Data = pd.concat([Data,d]) #concatenate data from each subj"
   ]
  },
  {
   "cell_type": "code",
   "execution_count": 69,
   "metadata": {},
   "outputs": [
    {
     "data": {
      "text/html": [
       "<div>\n",
       "<style>\n",
       "    .dataframe thead tr:only-child th {\n",
       "        text-align: right;\n",
       "    }\n",
       "\n",
       "    .dataframe thead th {\n",
       "        text-align: left;\n",
       "    }\n",
       "\n",
       "    .dataframe tbody tr th {\n",
       "        vertical-align: top;\n",
       "    }\n",
       "</style>\n",
       "<table border=\"1\" class=\"dataframe\">\n",
       "  <thead>\n",
       "    <tr style=\"text-align: right;\">\n",
       "      <th></th>\n",
       "      <th>SubjID</th>\n",
       "      <th>Brace</th>\n",
       "      <th>BeginTime</th>\n",
       "      <th>Date</th>\n",
       "      <th>Duration</th>\n",
       "      <th>EndTime</th>\n",
       "      <th>LandUse</th>\n",
       "      <th>MaximumSpeed</th>\n",
       "      <th>Mean Lat</th>\n",
       "      <th>Mean Lon</th>\n",
       "      <th>MeanSpeed</th>\n",
       "      <th>MinimumSpeed</th>\n",
       "      <th>Mode</th>\n",
       "      <th>Numberpoints</th>\n",
       "      <th>Sequence</th>\n",
       "      <th>TotalGap</th>\n",
       "      <th>Wear Frac</th>\n",
       "    </tr>\n",
       "  </thead>\n",
       "  <tbody>\n",
       "    <tr>\n",
       "      <th>0</th>\n",
       "      <td>CBR08</td>\n",
       "      <td>Cbr</td>\n",
       "      <td>11:42:37</td>\n",
       "      <td>2015-02-10</td>\n",
       "      <td>27.35</td>\n",
       "      <td>12:09:58</td>\n",
       "      <td>Trip</td>\n",
       "      <td>NaN</td>\n",
       "      <td>41.870200</td>\n",
       "      <td>87.711023</td>\n",
       "      <td>46.9405</td>\n",
       "      <td>NaN</td>\n",
       "      <td>Car</td>\n",
       "      <td>165</td>\n",
       "      <td>1</td>\n",
       "      <td>0.559999</td>\n",
       "      <td>1.0</td>\n",
       "    </tr>\n",
       "    <tr>\n",
       "      <th>1</th>\n",
       "      <td>CBR08</td>\n",
       "      <td>Cbr</td>\n",
       "      <td>12:10:08</td>\n",
       "      <td>2015-02-10</td>\n",
       "      <td>7.16667</td>\n",
       "      <td>12:17:18</td>\n",
       "      <td>COM_URBMIX</td>\n",
       "      <td>NaN</td>\n",
       "      <td>41.830436</td>\n",
       "      <td>87.803025</td>\n",
       "      <td>2.28438</td>\n",
       "      <td>NaN</td>\n",
       "      <td>NaN</td>\n",
       "      <td>44</td>\n",
       "      <td>2</td>\n",
       "      <td>0.146667</td>\n",
       "      <td>1.0</td>\n",
       "    </tr>\n",
       "    <tr>\n",
       "      <th>2</th>\n",
       "      <td>CBR08</td>\n",
       "      <td>Cbr</td>\n",
       "      <td>12:17:28</td>\n",
       "      <td>2015-02-10</td>\n",
       "      <td>19</td>\n",
       "      <td>12:36:28</td>\n",
       "      <td>Trip</td>\n",
       "      <td>NaN</td>\n",
       "      <td>41.839046</td>\n",
       "      <td>87.767186</td>\n",
       "      <td>20.0673</td>\n",
       "      <td>NaN</td>\n",
       "      <td>Car</td>\n",
       "      <td>115</td>\n",
       "      <td>3</td>\n",
       "      <td>0.383333</td>\n",
       "      <td>1.0</td>\n",
       "    </tr>\n",
       "    <tr>\n",
       "      <th>3</th>\n",
       "      <td>CBR08</td>\n",
       "      <td>Cbr</td>\n",
       "      <td>12:36:38</td>\n",
       "      <td>2015-02-10</td>\n",
       "      <td>9</td>\n",
       "      <td>12:45:38</td>\n",
       "      <td>COM_URBMIX</td>\n",
       "      <td>NaN</td>\n",
       "      <td>41.851519</td>\n",
       "      <td>87.747862</td>\n",
       "      <td>1.56251</td>\n",
       "      <td>NaN</td>\n",
       "      <td>NaN</td>\n",
       "      <td>55</td>\n",
       "      <td>4</td>\n",
       "      <td>0.183333</td>\n",
       "      <td>1.0</td>\n",
       "    </tr>\n",
       "    <tr>\n",
       "      <th>4</th>\n",
       "      <td>CBR08</td>\n",
       "      <td>Cbr</td>\n",
       "      <td>12:45:48</td>\n",
       "      <td>2015-02-10</td>\n",
       "      <td>69.3667</td>\n",
       "      <td>13:55:10</td>\n",
       "      <td>Trip</td>\n",
       "      <td>NaN</td>\n",
       "      <td>41.872845</td>\n",
       "      <td>87.685020</td>\n",
       "      <td>26.8295</td>\n",
       "      <td>NaN</td>\n",
       "      <td>Car</td>\n",
       "      <td>379</td>\n",
       "      <td>5</td>\n",
       "      <td>7.603332</td>\n",
       "      <td>1.0</td>\n",
       "    </tr>\n",
       "  </tbody>\n",
       "</table>\n",
       "</div>"
      ],
      "text/plain": [
       "  SubjID Brace BeginTime        Date Duration   EndTime     LandUse  \\\n",
       "0  CBR08   Cbr  11:42:37  2015-02-10    27.35  12:09:58        Trip   \n",
       "1  CBR08   Cbr  12:10:08  2015-02-10  7.16667  12:17:18  COM_URBMIX   \n",
       "2  CBR08   Cbr  12:17:28  2015-02-10       19  12:36:28        Trip   \n",
       "3  CBR08   Cbr  12:36:38  2015-02-10        9  12:45:38  COM_URBMIX   \n",
       "4  CBR08   Cbr  12:45:48  2015-02-10  69.3667  13:55:10        Trip   \n",
       "\n",
       "   MaximumSpeed   Mean Lat   Mean Lon MeanSpeed MinimumSpeed Mode  \\\n",
       "0           NaN  41.870200  87.711023   46.9405          NaN  Car   \n",
       "1           NaN  41.830436  87.803025   2.28438          NaN  NaN   \n",
       "2           NaN  41.839046  87.767186   20.0673          NaN  Car   \n",
       "3           NaN  41.851519  87.747862   1.56251          NaN  NaN   \n",
       "4           NaN  41.872845  87.685020   26.8295          NaN  Car   \n",
       "\n",
       "  Numberpoints  Sequence  TotalGap  Wear Frac  \n",
       "0          165         1  0.559999        1.0  \n",
       "1           44         2  0.146667        1.0  \n",
       "2          115         3  0.383333        1.0  \n",
       "3           55         4  0.183333        1.0  \n",
       "4          379         5  7.603332        1.0  "
      ]
     },
     "execution_count": 69,
     "metadata": {},
     "output_type": "execute_result"
    }
   ],
   "source": [
    "cols=list((Data.columns).values)\n",
    "cols.remove('SubjID')\n",
    "cols.remove('Brace')\n",
    "Data = Data[['SubjID','Brace']+cols]\n",
    "Data.head()"
   ]
  },
  {
   "cell_type": "code",
   "execution_count": 85,
   "metadata": {},
   "outputs": [
    {
     "data": {
      "text/plain": [
       "trip                     3088\n",
       "home                     1422\n",
       "COM_URBMIX                905\n",
       "COM_REGIONAL              358\n",
       "RES_SF_DETACHED           283\n",
       "Car                       247\n",
       "RES_MF                    191\n",
       "Trip                      167\n",
       "Home                      159\n",
       "Non-Parcel Road ROW       121\n",
       "COM_BIGBOX                 91\n",
       "COM_OFFICE                 89\n",
       "INST_MEDICAL               65\n",
       "OS_CONS                    54\n",
       "INST_RELIGIOUS             42\n",
       "TRIP                       41\n",
       "RES_SF_ATTACHED            35\n",
       "IND_GENERAL                33\n",
       "INST_GOVT                  32\n",
       "INST_EDU_HIGHER            25\n",
       "COM_URBMIXwRES             23\n",
       "COM_MALL                   15\n",
       "COM_HOTEL                  15\n",
       "COM_CULT_ENT               14\n",
       "VACANT_COM                 14\n",
       "OS_REC                     11\n",
       "INST_EDU_K12               10\n",
       "CONST_COM                   7\n",
       "OS_GOLF                     7\n",
       "TCU_AIR                     7\n",
       "TCU_PARKING                 6\n",
       "TCU_OTH_LINEAR              4\n",
       "RES_COMMON                  4\n",
       "CONST_OTHER                 2\n",
       "CONST_RES                   2\n",
       "INST_OTHER                  2\n",
       "AG                          2\n",
       "Non-Parcel Water            2\n",
       "INST_EDU_K14                1\n",
       "TCU_ROW_RAIL                1\n",
       "VACANT_RES                  1\n",
       "INST_CEMETERY               1\n",
       "IND_MANUF_100K              1\n",
       "IND_FLEX_100K               1\n",
       "1310                        1\n",
       "Walk                        1\n",
       "Non-Parcel Open Space       1\n",
       "VACANT_OTHER                1\n",
       "OS_PRIVATE                  1\n",
       "TCU_STORMWATER              1\n",
       "INST_EDU_K13                1\n",
       "Name: LandUse, dtype: int64"
      ]
     },
     "execution_count": 85,
     "metadata": {},
     "output_type": "execute_result"
    }
   ],
   "source": [
    "Data.LandUse.value_counts()"
   ]
  },
  {
   "cell_type": "code",
   "execution_count": 82,
   "metadata": {},
   "outputs": [
    {
     "data": {
      "image/png": "[encoded data removed]",
      "text/plain": [
       "<matplotlib.figure.Figure at 0x133a1630>"
      ]
     },
     "metadata": {},
     "output_type": "display_data"
    }
   ],
   "source": [
    "plt.figure(figsize=(18,8))\n",
    "ax = sns.countplot(Data.LandUse)\n",
    "ax = plt.xticks(rotation=75)"
   ]
  },
  {
   "cell_type": "code",
   "execution_count": null,
   "metadata": {
    "collapsed": true
   },
   "outputs": [],
   "source": []
  }
 ],
 "metadata": {
  "anaconda-cloud": {},
  "kernelspec": {
   "display_name": "Python 3",
   "language": "python",
   "name": "python3"
  },
  "language_info": {
   "codemirror_mode": {
    "name": "ipython",
    "version": 3
   },
   "file_extension": ".py",
   "mimetype": "text/x-python",
   "name": "python",
   "nbconvert_exporter": "python",
   "pygments_lexer": "ipython3",
   "version": "3.6.1"
  }
 },
 "nbformat": 4,
 "nbformat_minor": 1
}
