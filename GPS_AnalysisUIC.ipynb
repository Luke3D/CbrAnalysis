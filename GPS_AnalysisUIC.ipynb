{
 "cells": [
  {
   "cell_type": "code",
   "execution_count": 155,
   "metadata": {
    "collapsed": true
   },
   "outputs": [],
   "source": [
    "import pandas as pd\n",
    "import numpy as np\n",
    "import seaborn as sns\n",
    "import datetime as dt\n",
    "import os\n",
    "from scipy.stats import pearsonr"
   ]
  },
  {
   "cell_type": "code",
   "execution_count": 135,
   "metadata": {
    "collapsed": true
   },
   "outputs": [],
   "source": [
    "def string2datetime(stringDTSeries):\n",
    "    try:\n",
    "        return [(dt.datetime.strptime(DT,'%Y/%m/%d %I:%M:%S %p')) for DT in stringDTSeries]\n",
    "    except(ValueError):\n",
    "        return [(dt.datetime.strptime(DT,'%Y/%m/%d %H:%M:%S')) for DT in stringDTSeries]"
   ]
  },
  {
   "cell_type": "code",
   "execution_count": 163,
   "metadata": {
    "collapsed": true
   },
   "outputs": [],
   "source": [
    "path = '/Volumes/RT&O/C Brace/GPS Analysis/UIC_GPSData/'"
   ]
  },
  {
   "cell_type": "code",
   "execution_count": 164,
   "metadata": {
    "collapsed": false
   },
   "outputs": [
    {
     "data": {
      "text/plain": [
       "['CBR08_Final_Summary_File.xlsx',\n",
       " 'CBR11_Final_Summary_File.xls',\n",
       " 'CBR15_Final_Summary_File.xlsx',\n",
       " 'CBR16_Final_Summary_File.xlsx',\n",
       " 'CBR19_Final_Summary_File.xlsx',\n",
       " 'CBR21_Final_Summary_File.xlsx',\n",
       " 'CBR22_Final_Summary_File.xlsx',\n",
       " 'CBR24_Final_SummaryRLU.xlsx',\n",
       " 'CBR25_Final_Summary_Rname.xlsx',\n",
       " 'CBR26_Final_Summary.xlsx',\n",
       " 'CBR27_Final_Summary_Rname.xlsx',\n",
       " 'CBR28_Final_Summary_Rname.xlsx',\n",
       " 'CBR30_Final_Summary_Rnames.xlsx',\n",
       " '~$CBR08_Final_Summary_File.xlsx']"
      ]
     },
     "execution_count": 164,
     "metadata": {},
     "output_type": "execute_result"
    }
   ],
   "source": [
    "os.listdir(path)"
   ]
  },
  {
   "cell_type": "markdown",
   "metadata": {},
   "source": [
    "## Add LandUse coordinates from GPS Data"
   ]
  },
  {
   "cell_type": "code",
   "execution_count": 165,
   "metadata": {
    "collapsed": false
   },
   "outputs": [],
   "source": [
    "Baseline = pd.read_excel(path+'CBR08_Final_Summary_File.xlsx')"
   ]
  },
  {
   "cell_type": "code",
   "execution_count": 166,
   "metadata": {
    "collapsed": false
   },
   "outputs": [
    {
     "data": {
      "text/plain": [
       "array(['trip', 'Non-Parcel Road ROW', 'home', 'INST_EDU_K12', 'COM_URBMIX',\n",
       "       'COM_REGIONAL', 'RES_MF', 'COM_BIGBOX', 'COM_URBMIXwRES',\n",
       "       'COM_MALL', 'INST_MEDICAL'], dtype=object)"
      ]
     },
     "execution_count": 166,
     "metadata": {},
     "output_type": "execute_result"
    }
   ],
   "source": [
    "Baseline.LandUse.unique()"
   ]
  },
  {
   "cell_type": "code",
   "execution_count": 167,
   "metadata": {
    "collapsed": true
   },
   "outputs": [],
   "source": [
    "Gpsdata = pd.read_csv('./GPS Data/CBR08_Baseline.csv')"
   ]
  },
  {
   "cell_type": "code",
   "execution_count": 175,
   "metadata": {
    "collapsed": false
   },
   "outputs": [
    {
     "data": {
      "text/html": [
       "<div>\n",
       "<table border=\"1\" class=\"dataframe\">\n",
       "  <thead>\n",
       "    <tr style=\"text-align: right;\">\n",
       "      <th></th>\n",
       "      <th>Date</th>\n",
       "      <th>Sequence</th>\n",
       "      <th>BeginTime</th>\n",
       "      <th>EndTime</th>\n",
       "      <th>Mode</th>\n",
       "      <th>LandUse</th>\n",
       "      <th>MeanSpeed</th>\n",
       "      <th>Numberpoints</th>\n",
       "      <th>TotalGap</th>\n",
       "      <th>Duration</th>\n",
       "    </tr>\n",
       "  </thead>\n",
       "  <tbody>\n",
       "    <tr>\n",
       "      <th>0</th>\n",
       "      <td>2014-11-20</td>\n",
       "      <td>1</td>\n",
       "      <td>12:16:42</td>\n",
       "      <td>13:01:42</td>\n",
       "      <td>Car</td>\n",
       "      <td>trip</td>\n",
       "      <td>18.802146</td>\n",
       "      <td>269</td>\n",
       "      <td>1.226666</td>\n",
       "      <td>45.0</td>\n",
       "    </tr>\n",
       "    <tr>\n",
       "      <th>1</th>\n",
       "      <td>2014-11-20</td>\n",
       "      <td>2</td>\n",
       "      <td>13:01:52</td>\n",
       "      <td>13:16:22</td>\n",
       "      <td>NaN</td>\n",
       "      <td>Non-Parcel Road ROW</td>\n",
       "      <td>0.134054</td>\n",
       "      <td>88</td>\n",
       "      <td>0.293333</td>\n",
       "      <td>14.5</td>\n",
       "    </tr>\n",
       "    <tr>\n",
       "      <th>2</th>\n",
       "      <td>2014-11-20</td>\n",
       "      <td>3</td>\n",
       "      <td>13:16:32</td>\n",
       "      <td>13:17:32</td>\n",
       "      <td>Car</td>\n",
       "      <td>trip</td>\n",
       "      <td>28.091538</td>\n",
       "      <td>7</td>\n",
       "      <td>0.023333</td>\n",
       "      <td>1.0</td>\n",
       "    </tr>\n",
       "  </tbody>\n",
       "</table>\n",
       "</div>"
      ],
      "text/plain": [
       "        Date  Sequence BeginTime   EndTime Mode              LandUse  \\\n",
       "0 2014-11-20         1  12:16:42  13:01:42  Car                 trip   \n",
       "1 2014-11-20         2  13:01:52  13:16:22  NaN  Non-Parcel Road ROW   \n",
       "2 2014-11-20         3  13:16:32  13:17:32  Car                 trip   \n",
       "\n",
       "   MeanSpeed  Numberpoints  TotalGap  Duration  \n",
       "0  18.802146           269  1.226666      45.0  \n",
       "1   0.134054            88  0.293333      14.5  \n",
       "2  28.091538             7  0.023333       1.0  "
      ]
     },
     "execution_count": 175,
     "metadata": {},
     "output_type": "execute_result"
    }
   ],
   "source": [
    "Baseline.head(3)"
   ]
  },
  {
   "cell_type": "code",
   "execution_count": 176,
   "metadata": {
    "collapsed": false
   },
   "outputs": [
    {
     "data": {
      "text/html": [
       "<div>\n",
       "<table border=\"1\" class=\"dataframe\">\n",
       "  <thead>\n",
       "    <tr style=\"text-align: right;\">\n",
       "      <th></th>\n",
       "      <th>INDEX</th>\n",
       "      <th>TRACK ID</th>\n",
       "      <th>VALID</th>\n",
       "      <th>UTC DATE</th>\n",
       "      <th>UTC TIME</th>\n",
       "      <th>LOCAL DATE</th>\n",
       "      <th>LOCAL TIME</th>\n",
       "      <th>MS</th>\n",
       "      <th>LATITUDE</th>\n",
       "      <th>N/S</th>\n",
       "      <th>LONGITUDE</th>\n",
       "      <th>E/W</th>\n",
       "      <th>ALTITUDE</th>\n",
       "      <th>SPEED</th>\n",
       "      <th>HEADING</th>\n",
       "      <th>G-X</th>\n",
       "      <th>G-Y</th>\n",
       "      <th>G-Z</th>\n",
       "    </tr>\n",
       "  </thead>\n",
       "  <tbody>\n",
       "    <tr>\n",
       "      <th>0</th>\n",
       "      <td>1</td>\n",
       "      <td>1</td>\n",
       "      <td>FIXED</td>\n",
       "      <td>2014/11/20</td>\n",
       "      <td>18:16:42</td>\n",
       "      <td>2014/11/20</td>\n",
       "      <td>13:16:42</td>\n",
       "      <td>0</td>\n",
       "      <td>41.894528</td>\n",
       "      <td>N</td>\n",
       "      <td>87.620507</td>\n",
       "      <td>W</td>\n",
       "      <td>150.075867</td>\n",
       "      <td>3.069808</td>\n",
       "      <td>172.784179</td>\n",
       "      <td>0.0</td>\n",
       "      <td>0.0</td>\n",
       "      <td>0.0</td>\n",
       "    </tr>\n",
       "    <tr>\n",
       "      <th>1</th>\n",
       "      <td>2</td>\n",
       "      <td>1</td>\n",
       "      <td>FIXED</td>\n",
       "      <td>2014/11/20</td>\n",
       "      <td>18:16:52</td>\n",
       "      <td>2014/11/20</td>\n",
       "      <td>13:16:52</td>\n",
       "      <td>0</td>\n",
       "      <td>41.893873</td>\n",
       "      <td>N</td>\n",
       "      <td>87.620396</td>\n",
       "      <td>W</td>\n",
       "      <td>150.352463</td>\n",
       "      <td>0.941980</td>\n",
       "      <td>195.028903</td>\n",
       "      <td>0.0</td>\n",
       "      <td>0.0</td>\n",
       "      <td>0.0</td>\n",
       "    </tr>\n",
       "    <tr>\n",
       "      <th>2</th>\n",
       "      <td>3</td>\n",
       "      <td>1</td>\n",
       "      <td>FIXED</td>\n",
       "      <td>2014/11/20</td>\n",
       "      <td>18:17:2</td>\n",
       "      <td>2014/11/20</td>\n",
       "      <td>13:17:2</td>\n",
       "      <td>0</td>\n",
       "      <td>41.893369</td>\n",
       "      <td>N</td>\n",
       "      <td>87.620578</td>\n",
       "      <td>W</td>\n",
       "      <td>152.352982</td>\n",
       "      <td>9.673010</td>\n",
       "      <td>2.266546</td>\n",
       "      <td>0.0</td>\n",
       "      <td>0.0</td>\n",
       "      <td>0.0</td>\n",
       "    </tr>\n",
       "  </tbody>\n",
       "</table>\n",
       "</div>"
      ],
      "text/plain": [
       "   INDEX  TRACK ID  VALID    UTC DATE  UTC TIME  LOCAL DATE LOCAL TIME  MS  \\\n",
       "0      1         1  FIXED  2014/11/20  18:16:42  2014/11/20   13:16:42   0   \n",
       "1      2         1  FIXED  2014/11/20  18:16:52  2014/11/20   13:16:52   0   \n",
       "2      3         1  FIXED  2014/11/20   18:17:2  2014/11/20    13:17:2   0   \n",
       "\n",
       "    LATITUDE N/S  LONGITUDE E/W    ALTITUDE     SPEED     HEADING  G-X  G-Y  \\\n",
       "0  41.894528   N  87.620507   W  150.075867  3.069808  172.784179  0.0  0.0   \n",
       "1  41.893873   N  87.620396   W  150.352463  0.941980  195.028903  0.0  0.0   \n",
       "2  41.893369   N  87.620578   W  152.352982  9.673010    2.266546  0.0  0.0   \n",
       "\n",
       "   G-Z  \n",
       "0  0.0  \n",
       "1  0.0  \n",
       "2  0.0  "
      ]
     },
     "execution_count": 176,
     "metadata": {},
     "output_type": "execute_result"
    }
   ],
   "source": [
    "Gpsdata.head(3)"
   ]
  },
  {
   "cell_type": "code",
   "execution_count": 170,
   "metadata": {
    "collapsed": false
   },
   "outputs": [],
   "source": [
    "x = Gpsdata['LOCAL DATE']+' '+Gpsdata['LOCAL TIME'] #full date/time\n",
    "GpsDates = string2datetime(x) #convert to datetime object\n",
    "GpsDates=pd.Series(GpsDates)"
   ]
  },
  {
   "cell_type": "code",
   "execution_count": 122,
   "metadata": {
    "collapsed": false
   },
   "outputs": [
    {
     "data": {
      "text/plain": [
       "'2014/11/20'"
      ]
     },
     "execution_count": 122,
     "metadata": {},
     "output_type": "execute_result"
    }
   ],
   "source": [
    "Gpsdata['Full Local Date'] = Gpsdata.apply(dt.datetime.strptime)"
   ]
  },
  {
   "cell_type": "code",
   "execution_count": 171,
   "metadata": {
    "collapsed": false
   },
   "outputs": [],
   "source": [
    "loc_lat = []\n",
    "loc_lon = []\n",
    "\n",
    "for i in range(10):\n",
    "    start = Baseline.BeginTime[i]\n",
    "    end = Baseline.EndTime[i]\n",
    "    d = Baseline.Date[i]\n",
    "    d = d.strftime('%Y-%m-%d') \n",
    "    startdate = dt.datetime.strptime(d+' '+start,'%Y-%m-%d %H:%M:%S')\n",
    "    enddate = dt.datetime.strptime(d+' '+end,'%Y-%m-%d %H:%M:%S')\n",
    "       \n",
    "    ind = (GpsDates > startdate) & (GpsDates < enddate)\n",
    "    meanLat = np.mean(Gpsdata['LATITUDE'][ind])\n",
    "    meanLon = np.mean(Gpsdata['LONGITUDE'][ind])\n",
    "    loc_lat.append(meanLat)\n",
    "    loc_lon.append(meanLon)\n"
   ]
  },
  {
   "cell_type": "code",
   "execution_count": 172,
   "metadata": {
    "collapsed": false
   },
   "outputs": [
    {
     "data": {
      "text/plain": [
       "[nan,\n",
       " nan,\n",
       " 41.8942158,\n",
       " 41.86598685617973,\n",
       " 41.85632984000001,\n",
       " 41.85636240506329,\n",
       " 41.85641747368422,\n",
       " 41.85611473379714,\n",
       " 41.85644931521085,\n",
       " 41.856278]"
      ]
     },
     "execution_count": 172,
     "metadata": {},
     "output_type": "execute_result"
    }
   ],
   "source": [
    "loc_lat"
   ]
  },
  {
   "cell_type": "markdown",
   "metadata": {},
   "source": [
    "# TODO:\n",
    "* Daylight savings\n",
    "* Add Wear time fraction for each row\n",
    "* Loop through files and generate data for each brace (need to rename xls sheets)"
   ]
  },
  {
   "cell_type": "code",
   "execution_count": null,
   "metadata": {
    "collapsed": true
   },
   "outputs": [],
   "source": []
  }
 ],
 "metadata": {
  "anaconda-cloud": {},
  "kernelspec": {
   "display_name": "Python [conda env:py35]",
   "language": "python",
   "name": "conda-env-py35-py"
  },
  "language_info": {
   "codemirror_mode": {
    "name": "ipython",
    "version": 3
   },
   "file_extension": ".py",
   "mimetype": "text/x-python",
   "name": "python",
   "nbconvert_exporter": "python",
   "pygments_lexer": "ipython3",
   "version": "3.5.2"
  }
 },
 "nbformat": 4,
 "nbformat_minor": 1
}
