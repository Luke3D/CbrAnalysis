{
 "cells": [
  {
   "cell_type": "code",
   "execution_count": 103,
   "metadata": {
    "collapsed": true
   },
   "outputs": [],
   "source": [
    "import numpy as np\n",
    "import pandas as pd\n",
    "import seaborn as sns\n",
    "import matplotlib.pyplot as plt\n",
    "%matplotlib inline"
   ]
  },
  {
   "cell_type": "markdown",
   "metadata": {},
   "source": [
    "## Wear time analysis"
   ]
  },
  {
   "cell_type": "code",
   "execution_count": 104,
   "metadata": {
    "collapsed": true
   },
   "outputs": [],
   "source": [
    "weartime = pd.read_csv('WearTimes_Device.csv',header=[0,1])"
   ]
  },
  {
   "cell_type": "code",
   "execution_count": 105,
   "metadata": {
    "collapsed": false
   },
   "outputs": [
    {
     "data": {
      "text/html": [
       "<div>\n",
       "<table border=\"1\" class=\"dataframe\">\n",
       "  <thead>\n",
       "    <tr>\n",
       "      <th></th>\n",
       "      <th>Unnamed: 0_level_0</th>\n",
       "      <th colspan=\"2\" halign=\"left\">CBR11</th>\n",
       "      <th colspan=\"2\" halign=\"left\">CBR14</th>\n",
       "      <th colspan=\"2\" halign=\"left\">CBR15</th>\n",
       "      <th colspan=\"2\" halign=\"left\">CBR16</th>\n",
       "      <th>CBR19</th>\n",
       "      <th>...</th>\n",
       "      <th colspan=\"2\" halign=\"left\">CBR24</th>\n",
       "      <th colspan=\"2\" halign=\"left\">CBR26</th>\n",
       "      <th colspan=\"2\" halign=\"left\">CBR25</th>\n",
       "      <th colspan=\"2\" halign=\"left\">CBR27</th>\n",
       "      <th colspan=\"2\" halign=\"left\">CBR28</th>\n",
       "    </tr>\n",
       "    <tr>\n",
       "      <th></th>\n",
       "      <th>Days</th>\n",
       "      <th>SCO-Device</th>\n",
       "      <th>CBR-Device</th>\n",
       "      <th>SCO-Device</th>\n",
       "      <th>CBR-Device</th>\n",
       "      <th>SCO-Device</th>\n",
       "      <th>CBR-Device</th>\n",
       "      <th>SCO-Device</th>\n",
       "      <th>CBR-Device</th>\n",
       "      <th>SCO-Device</th>\n",
       "      <th>...</th>\n",
       "      <th>SCO-Device</th>\n",
       "      <th>CBR-Device</th>\n",
       "      <th>SCO-Device</th>\n",
       "      <th>CBR-Device</th>\n",
       "      <th>SCO-Device</th>\n",
       "      <th>CBR-Device</th>\n",
       "      <th>SCO-Device</th>\n",
       "      <th>CBR-Device</th>\n",
       "      <th>SCO-Device</th>\n",
       "      <th>CBR-Device</th>\n",
       "    </tr>\n",
       "  </thead>\n",
       "  <tbody>\n",
       "    <tr>\n",
       "      <th>0</th>\n",
       "      <td>1</td>\n",
       "      <td>86.7</td>\n",
       "      <td>71.2</td>\n",
       "      <td>33.5</td>\n",
       "      <td>27.8</td>\n",
       "      <td>56.2</td>\n",
       "      <td>86.2</td>\n",
       "      <td>69.7</td>\n",
       "      <td>74.0</td>\n",
       "      <td>48.7</td>\n",
       "      <td>...</td>\n",
       "      <td>13.9</td>\n",
       "      <td>6.3</td>\n",
       "      <td>88.0</td>\n",
       "      <td>28.6</td>\n",
       "      <td>NaN</td>\n",
       "      <td>32.7</td>\n",
       "      <td>49.1</td>\n",
       "      <td>10.4</td>\n",
       "      <td>44.9</td>\n",
       "      <td>39.2</td>\n",
       "    </tr>\n",
       "    <tr>\n",
       "      <th>1</th>\n",
       "      <td>2</td>\n",
       "      <td>20.4</td>\n",
       "      <td>1.7</td>\n",
       "      <td>0.0</td>\n",
       "      <td>0.0</td>\n",
       "      <td>47.5</td>\n",
       "      <td>61.8</td>\n",
       "      <td>32.0</td>\n",
       "      <td>0.0</td>\n",
       "      <td>0.0</td>\n",
       "      <td>...</td>\n",
       "      <td>16.4</td>\n",
       "      <td>17.6</td>\n",
       "      <td>29.7</td>\n",
       "      <td>4.8</td>\n",
       "      <td>NaN</td>\n",
       "      <td>26.0</td>\n",
       "      <td>0.0</td>\n",
       "      <td>0.0</td>\n",
       "      <td>0.0</td>\n",
       "      <td>5.8</td>\n",
       "    </tr>\n",
       "    <tr>\n",
       "      <th>2</th>\n",
       "      <td>3</td>\n",
       "      <td>0.0</td>\n",
       "      <td>53.4</td>\n",
       "      <td>0.0</td>\n",
       "      <td>0.0</td>\n",
       "      <td>53.1</td>\n",
       "      <td>51.4</td>\n",
       "      <td>27.3</td>\n",
       "      <td>42.0</td>\n",
       "      <td>16.3</td>\n",
       "      <td>...</td>\n",
       "      <td>22.4</td>\n",
       "      <td>0.2</td>\n",
       "      <td>17.4</td>\n",
       "      <td>0.0</td>\n",
       "      <td>NaN</td>\n",
       "      <td>31.4</td>\n",
       "      <td>0.6</td>\n",
       "      <td>0.0</td>\n",
       "      <td>6.5</td>\n",
       "      <td>0.0</td>\n",
       "    </tr>\n",
       "  </tbody>\n",
       "</table>\n",
       "<p>3 rows × 25 columns</p>\n",
       "</div>"
      ],
      "text/plain": [
       "  Unnamed: 0_level_0      CBR11                 CBR14                 CBR15  \\\n",
       "                Days SCO-Device CBR-Device SCO-Device CBR-Device SCO-Device   \n",
       "0                  1       86.7       71.2       33.5       27.8       56.2   \n",
       "1                  2       20.4        1.7        0.0        0.0       47.5   \n",
       "2                  3        0.0       53.4        0.0        0.0       53.1   \n",
       "\n",
       "                  CBR16                 CBR19    ...          CBR24  \\\n",
       "  CBR-Device SCO-Device CBR-Device SCO-Device    ...     SCO-Device   \n",
       "0       86.2       69.7       74.0       48.7    ...           13.9   \n",
       "1       61.8       32.0        0.0        0.0    ...           16.4   \n",
       "2       51.4       27.3       42.0       16.3    ...           22.4   \n",
       "\n",
       "                  CBR26                 CBR25                 CBR27  \\\n",
       "  CBR-Device SCO-Device CBR-Device SCO-Device CBR-Device SCO-Device   \n",
       "0        6.3       88.0       28.6        NaN       32.7       49.1   \n",
       "1       17.6       29.7        4.8        NaN       26.0        0.0   \n",
       "2        0.2       17.4        0.0        NaN       31.4        0.6   \n",
       "\n",
       "                  CBR28             \n",
       "  CBR-Device SCO-Device CBR-Device  \n",
       "0       10.4       44.9       39.2  \n",
       "1        0.0        0.0        5.8  \n",
       "2        0.0        6.5        0.0  \n",
       "\n",
       "[3 rows x 25 columns]"
      ]
     },
     "execution_count": 105,
     "metadata": {},
     "output_type": "execute_result"
    }
   ],
   "source": [
    "weartime.head(3)"
   ]
  },
  {
   "cell_type": "code",
   "execution_count": 106,
   "metadata": {
    "collapsed": false
   },
   "outputs": [
    {
     "name": "stderr",
     "output_type": "stream",
     "text": [
      "/Users/luca/anaconda/lib/python2.7/site-packages/ipykernel/__main__.py:1: PerformanceWarning: dropping on a non-lexsorted multi-index without a level parameter may impact performance.\n",
      "  if __name__ == '__main__':\n"
     ]
    }
   ],
   "source": [
    "weartime = weartime.drop('Unnamed: 0_level_0',axis=1)"
   ]
  },
  {
   "cell_type": "code",
   "execution_count": 107,
   "metadata": {
    "collapsed": false
   },
   "outputs": [
    {
     "data": {
      "text/html": [
       "<div>\n",
       "<table border=\"1\" class=\"dataframe\">\n",
       "  <thead>\n",
       "    <tr>\n",
       "      <th></th>\n",
       "      <th colspan=\"2\" halign=\"left\">CBR11</th>\n",
       "      <th colspan=\"2\" halign=\"left\">CBR14</th>\n",
       "      <th colspan=\"2\" halign=\"left\">CBR15</th>\n",
       "      <th colspan=\"2\" halign=\"left\">CBR16</th>\n",
       "      <th colspan=\"2\" halign=\"left\">CBR19</th>\n",
       "      <th>...</th>\n",
       "      <th colspan=\"2\" halign=\"left\">CBR24</th>\n",
       "      <th colspan=\"2\" halign=\"left\">CBR26</th>\n",
       "      <th colspan=\"2\" halign=\"left\">CBR25</th>\n",
       "      <th colspan=\"2\" halign=\"left\">CBR27</th>\n",
       "      <th colspan=\"2\" halign=\"left\">CBR28</th>\n",
       "    </tr>\n",
       "    <tr>\n",
       "      <th></th>\n",
       "      <th>SCO-Device</th>\n",
       "      <th>CBR-Device</th>\n",
       "      <th>SCO-Device</th>\n",
       "      <th>CBR-Device</th>\n",
       "      <th>SCO-Device</th>\n",
       "      <th>CBR-Device</th>\n",
       "      <th>SCO-Device</th>\n",
       "      <th>CBR-Device</th>\n",
       "      <th>SCO-Device</th>\n",
       "      <th>CBR-Device</th>\n",
       "      <th>...</th>\n",
       "      <th>SCO-Device</th>\n",
       "      <th>CBR-Device</th>\n",
       "      <th>SCO-Device</th>\n",
       "      <th>CBR-Device</th>\n",
       "      <th>SCO-Device</th>\n",
       "      <th>CBR-Device</th>\n",
       "      <th>SCO-Device</th>\n",
       "      <th>CBR-Device</th>\n",
       "      <th>SCO-Device</th>\n",
       "      <th>CBR-Device</th>\n",
       "    </tr>\n",
       "  </thead>\n",
       "  <tbody>\n",
       "    <tr>\n",
       "      <th>0</th>\n",
       "      <td>86.7</td>\n",
       "      <td>71.2</td>\n",
       "      <td>33.5</td>\n",
       "      <td>27.8</td>\n",
       "      <td>56.2</td>\n",
       "      <td>86.2</td>\n",
       "      <td>69.7</td>\n",
       "      <td>74.0</td>\n",
       "      <td>48.7</td>\n",
       "      <td>45.2</td>\n",
       "      <td>...</td>\n",
       "      <td>13.9</td>\n",
       "      <td>6.3</td>\n",
       "      <td>88.0</td>\n",
       "      <td>28.6</td>\n",
       "      <td>NaN</td>\n",
       "      <td>32.7</td>\n",
       "      <td>49.1</td>\n",
       "      <td>10.4</td>\n",
       "      <td>44.9</td>\n",
       "      <td>39.2</td>\n",
       "    </tr>\n",
       "    <tr>\n",
       "      <th>1</th>\n",
       "      <td>20.4</td>\n",
       "      <td>1.7</td>\n",
       "      <td>0.0</td>\n",
       "      <td>0.0</td>\n",
       "      <td>47.5</td>\n",
       "      <td>61.8</td>\n",
       "      <td>32.0</td>\n",
       "      <td>0.0</td>\n",
       "      <td>0.0</td>\n",
       "      <td>0.0</td>\n",
       "      <td>...</td>\n",
       "      <td>16.4</td>\n",
       "      <td>17.6</td>\n",
       "      <td>29.7</td>\n",
       "      <td>4.8</td>\n",
       "      <td>NaN</td>\n",
       "      <td>26.0</td>\n",
       "      <td>0.0</td>\n",
       "      <td>0.0</td>\n",
       "      <td>0.0</td>\n",
       "      <td>5.8</td>\n",
       "    </tr>\n",
       "    <tr>\n",
       "      <th>2</th>\n",
       "      <td>0.0</td>\n",
       "      <td>53.4</td>\n",
       "      <td>0.0</td>\n",
       "      <td>0.0</td>\n",
       "      <td>53.1</td>\n",
       "      <td>51.4</td>\n",
       "      <td>27.3</td>\n",
       "      <td>42.0</td>\n",
       "      <td>16.3</td>\n",
       "      <td>6.0</td>\n",
       "      <td>...</td>\n",
       "      <td>22.4</td>\n",
       "      <td>0.2</td>\n",
       "      <td>17.4</td>\n",
       "      <td>0.0</td>\n",
       "      <td>NaN</td>\n",
       "      <td>31.4</td>\n",
       "      <td>0.6</td>\n",
       "      <td>0.0</td>\n",
       "      <td>6.5</td>\n",
       "      <td>0.0</td>\n",
       "    </tr>\n",
       "    <tr>\n",
       "      <th>3</th>\n",
       "      <td>0.0</td>\n",
       "      <td>40.8</td>\n",
       "      <td>0.0</td>\n",
       "      <td>0.0</td>\n",
       "      <td>45.0</td>\n",
       "      <td>49.8</td>\n",
       "      <td>50.8</td>\n",
       "      <td>53.1</td>\n",
       "      <td>0.0</td>\n",
       "      <td>7.2</td>\n",
       "      <td>...</td>\n",
       "      <td>22.9</td>\n",
       "      <td>15.4</td>\n",
       "      <td>15.8</td>\n",
       "      <td>7.3</td>\n",
       "      <td>NaN</td>\n",
       "      <td>39.7</td>\n",
       "      <td>10.9</td>\n",
       "      <td>0.0</td>\n",
       "      <td>1.3</td>\n",
       "      <td>0.0</td>\n",
       "    </tr>\n",
       "  </tbody>\n",
       "</table>\n",
       "<p>4 rows × 24 columns</p>\n",
       "</div>"
      ],
      "text/plain": [
       "       CBR11                 CBR14                 CBR15             \\\n",
       "  SCO-Device CBR-Device SCO-Device CBR-Device SCO-Device CBR-Device   \n",
       "0       86.7       71.2       33.5       27.8       56.2       86.2   \n",
       "1       20.4        1.7        0.0        0.0       47.5       61.8   \n",
       "2        0.0       53.4        0.0        0.0       53.1       51.4   \n",
       "3        0.0       40.8        0.0        0.0       45.0       49.8   \n",
       "\n",
       "       CBR16                 CBR19               ...          CBR24  \\\n",
       "  SCO-Device CBR-Device SCO-Device CBR-Device    ...     SCO-Device   \n",
       "0       69.7       74.0       48.7       45.2    ...           13.9   \n",
       "1       32.0        0.0        0.0        0.0    ...           16.4   \n",
       "2       27.3       42.0       16.3        6.0    ...           22.4   \n",
       "3       50.8       53.1        0.0        7.2    ...           22.9   \n",
       "\n",
       "                  CBR26                 CBR25                 CBR27  \\\n",
       "  CBR-Device SCO-Device CBR-Device SCO-Device CBR-Device SCO-Device   \n",
       "0        6.3       88.0       28.6        NaN       32.7       49.1   \n",
       "1       17.6       29.7        4.8        NaN       26.0        0.0   \n",
       "2        0.2       17.4        0.0        NaN       31.4        0.6   \n",
       "3       15.4       15.8        7.3        NaN       39.7       10.9   \n",
       "\n",
       "                  CBR28             \n",
       "  CBR-Device SCO-Device CBR-Device  \n",
       "0       10.4       44.9       39.2  \n",
       "1        0.0        0.0        5.8  \n",
       "2        0.0        6.5        0.0  \n",
       "3        0.0        1.3        0.0  \n",
       "\n",
       "[4 rows x 24 columns]"
      ]
     },
     "execution_count": 107,
     "metadata": {},
     "output_type": "execute_result"
    }
   ],
   "source": [
    "weartime.head(4)"
   ]
  },
  {
   "cell_type": "code",
   "execution_count": 108,
   "metadata": {
    "collapsed": false
   },
   "outputs": [
    {
     "data": {
      "text/plain": [
       "MultiIndex(levels=[[u'CBR11', u'CBR14', u'CBR15', u'CBR16', u'CBR19', u'CBR21', u'CBR22', u'CBR24', u'CBR25', u'CBR26', u'CBR27', u'CBR28', u'Unnamed: 0_level_0'], [u'CBR-Device', u'Days', u'SCO-Device']],\n",
       "           labels=[[0, 0, 1, 1, 2, 2, 3, 3, 4, 4, 5, 5, 6, 6, 7, 7, 9, 9, 8, 8, 10, 10, 11, 11], [2, 0, 2, 0, 2, 0, 2, 0, 2, 0, 2, 0, 2, 0, 2, 0, 2, 0, 2, 0, 2, 0, 2, 0]])"
      ]
     },
     "execution_count": 108,
     "metadata": {},
     "output_type": "execute_result"
    }
   ],
   "source": [
    "weartime.columns"
   ]
  },
  {
   "cell_type": "code",
   "execution_count": 109,
   "metadata": {
    "collapsed": false
   },
   "outputs": [],
   "source": [
    "weartime = weartime.T"
   ]
  },
  {
   "cell_type": "code",
   "execution_count": 110,
   "metadata": {
    "collapsed": false
   },
   "outputs": [
    {
     "data": {
      "text/html": [
       "<div>\n",
       "<table border=\"1\" class=\"dataframe\">\n",
       "  <thead>\n",
       "    <tr style=\"text-align: right;\">\n",
       "      <th></th>\n",
       "      <th></th>\n",
       "      <th>0</th>\n",
       "      <th>1</th>\n",
       "      <th>2</th>\n",
       "      <th>3</th>\n",
       "      <th>4</th>\n",
       "      <th>5</th>\n",
       "      <th>6</th>\n",
       "      <th>7</th>\n",
       "      <th>8</th>\n",
       "      <th>9</th>\n",
       "      <th>...</th>\n",
       "      <th>26</th>\n",
       "      <th>27</th>\n",
       "      <th>28</th>\n",
       "      <th>29</th>\n",
       "      <th>30</th>\n",
       "      <th>31</th>\n",
       "      <th>32</th>\n",
       "      <th>33</th>\n",
       "      <th>34</th>\n",
       "      <th>35</th>\n",
       "    </tr>\n",
       "  </thead>\n",
       "  <tbody>\n",
       "    <tr>\n",
       "      <th rowspan=\"2\" valign=\"top\">CBR11</th>\n",
       "      <th>SCO-Device</th>\n",
       "      <td>86.7</td>\n",
       "      <td>20.4</td>\n",
       "      <td>0.0</td>\n",
       "      <td>0.0</td>\n",
       "      <td>0.0</td>\n",
       "      <td>0.0</td>\n",
       "      <td>0.0</td>\n",
       "      <td>0.0</td>\n",
       "      <td>12.2</td>\n",
       "      <td>0.0</td>\n",
       "      <td>...</td>\n",
       "      <td>5.4</td>\n",
       "      <td>NaN</td>\n",
       "      <td>NaN</td>\n",
       "      <td>NaN</td>\n",
       "      <td>NaN</td>\n",
       "      <td>NaN</td>\n",
       "      <td>NaN</td>\n",
       "      <td>NaN</td>\n",
       "      <td>NaN</td>\n",
       "      <td>NaN</td>\n",
       "    </tr>\n",
       "    <tr>\n",
       "      <th>CBR-Device</th>\n",
       "      <td>71.2</td>\n",
       "      <td>1.7</td>\n",
       "      <td>53.4</td>\n",
       "      <td>40.8</td>\n",
       "      <td>60.2</td>\n",
       "      <td>50.4</td>\n",
       "      <td>46.5</td>\n",
       "      <td>31.1</td>\n",
       "      <td>35.4</td>\n",
       "      <td>80.0</td>\n",
       "      <td>...</td>\n",
       "      <td>53.3</td>\n",
       "      <td>18.3</td>\n",
       "      <td>15.8</td>\n",
       "      <td>NaN</td>\n",
       "      <td>NaN</td>\n",
       "      <td>NaN</td>\n",
       "      <td>NaN</td>\n",
       "      <td>NaN</td>\n",
       "      <td>NaN</td>\n",
       "      <td>NaN</td>\n",
       "    </tr>\n",
       "    <tr>\n",
       "      <th rowspan=\"2\" valign=\"top\">CBR14</th>\n",
       "      <th>SCO-Device</th>\n",
       "      <td>33.5</td>\n",
       "      <td>0.0</td>\n",
       "      <td>0.0</td>\n",
       "      <td>0.0</td>\n",
       "      <td>0.0</td>\n",
       "      <td>14.2</td>\n",
       "      <td>0.0</td>\n",
       "      <td>0.0</td>\n",
       "      <td>0.0</td>\n",
       "      <td>0.0</td>\n",
       "      <td>...</td>\n",
       "      <td>NaN</td>\n",
       "      <td>NaN</td>\n",
       "      <td>NaN</td>\n",
       "      <td>NaN</td>\n",
       "      <td>NaN</td>\n",
       "      <td>NaN</td>\n",
       "      <td>NaN</td>\n",
       "      <td>NaN</td>\n",
       "      <td>NaN</td>\n",
       "      <td>NaN</td>\n",
       "    </tr>\n",
       "    <tr>\n",
       "      <th>CBR-Device</th>\n",
       "      <td>27.8</td>\n",
       "      <td>0.0</td>\n",
       "      <td>0.0</td>\n",
       "      <td>0.0</td>\n",
       "      <td>0.0</td>\n",
       "      <td>0.0</td>\n",
       "      <td>0.0</td>\n",
       "      <td>0.0</td>\n",
       "      <td>0.0</td>\n",
       "      <td>0.0</td>\n",
       "      <td>...</td>\n",
       "      <td>NaN</td>\n",
       "      <td>NaN</td>\n",
       "      <td>NaN</td>\n",
       "      <td>NaN</td>\n",
       "      <td>NaN</td>\n",
       "      <td>NaN</td>\n",
       "      <td>NaN</td>\n",
       "      <td>NaN</td>\n",
       "      <td>NaN</td>\n",
       "      <td>NaN</td>\n",
       "    </tr>\n",
       "    <tr>\n",
       "      <th rowspan=\"2\" valign=\"top\">CBR15</th>\n",
       "      <th>SCO-Device</th>\n",
       "      <td>56.2</td>\n",
       "      <td>47.5</td>\n",
       "      <td>53.1</td>\n",
       "      <td>45.0</td>\n",
       "      <td>51.6</td>\n",
       "      <td>50.4</td>\n",
       "      <td>50.4</td>\n",
       "      <td>54.4</td>\n",
       "      <td>52.0</td>\n",
       "      <td>48.6</td>\n",
       "      <td>...</td>\n",
       "      <td>48.0</td>\n",
       "      <td>49.8</td>\n",
       "      <td>47.9</td>\n",
       "      <td>49.7</td>\n",
       "      <td>46.7</td>\n",
       "      <td>83.1</td>\n",
       "      <td>NaN</td>\n",
       "      <td>NaN</td>\n",
       "      <td>NaN</td>\n",
       "      <td>NaN</td>\n",
       "    </tr>\n",
       "    <tr>\n",
       "      <th>CBR-Device</th>\n",
       "      <td>86.2</td>\n",
       "      <td>61.8</td>\n",
       "      <td>51.4</td>\n",
       "      <td>49.8</td>\n",
       "      <td>31.9</td>\n",
       "      <td>51.5</td>\n",
       "      <td>53.7</td>\n",
       "      <td>52.7</td>\n",
       "      <td>55.1</td>\n",
       "      <td>44.9</td>\n",
       "      <td>...</td>\n",
       "      <td>56.8</td>\n",
       "      <td>46.8</td>\n",
       "      <td>31.3</td>\n",
       "      <td>61.4</td>\n",
       "      <td>59.2</td>\n",
       "      <td>52.8</td>\n",
       "      <td>53.6</td>\n",
       "      <td>64.4</td>\n",
       "      <td>NaN</td>\n",
       "      <td>NaN</td>\n",
       "    </tr>\n",
       "  </tbody>\n",
       "</table>\n",
       "<p>6 rows × 36 columns</p>\n",
       "</div>"
      ],
      "text/plain": [
       "                    0     1     2     3     4     5     6     7     8     9   \\\n",
       "CBR11 SCO-Device  86.7  20.4   0.0   0.0   0.0   0.0   0.0   0.0  12.2   0.0   \n",
       "      CBR-Device  71.2   1.7  53.4  40.8  60.2  50.4  46.5  31.1  35.4  80.0   \n",
       "CBR14 SCO-Device  33.5   0.0   0.0   0.0   0.0  14.2   0.0   0.0   0.0   0.0   \n",
       "      CBR-Device  27.8   0.0   0.0   0.0   0.0   0.0   0.0   0.0   0.0   0.0   \n",
       "CBR15 SCO-Device  56.2  47.5  53.1  45.0  51.6  50.4  50.4  54.4  52.0  48.6   \n",
       "      CBR-Device  86.2  61.8  51.4  49.8  31.9  51.5  53.7  52.7  55.1  44.9   \n",
       "\n",
       "                 ...    26    27    28    29    30    31    32    33  34  35  \n",
       "CBR11 SCO-Device ...   5.4   NaN   NaN   NaN   NaN   NaN   NaN   NaN NaN NaN  \n",
       "      CBR-Device ...  53.3  18.3  15.8   NaN   NaN   NaN   NaN   NaN NaN NaN  \n",
       "CBR14 SCO-Device ...   NaN   NaN   NaN   NaN   NaN   NaN   NaN   NaN NaN NaN  \n",
       "      CBR-Device ...   NaN   NaN   NaN   NaN   NaN   NaN   NaN   NaN NaN NaN  \n",
       "CBR15 SCO-Device ...  48.0  49.8  47.9  49.7  46.7  83.1   NaN   NaN NaN NaN  \n",
       "      CBR-Device ...  56.8  46.8  31.3  61.4  59.2  52.8  53.6  64.4 NaN NaN  \n",
       "\n",
       "[6 rows x 36 columns]"
      ]
     },
     "execution_count": 110,
     "metadata": {},
     "output_type": "execute_result"
    }
   ],
   "source": [
    "weartime.head(6)"
   ]
  },
  {
   "cell_type": "code",
   "execution_count": 111,
   "metadata": {
    "collapsed": false
   },
   "outputs": [
    {
     "data": {
      "text/html": [
       "<div>\n",
       "<table border=\"1\" class=\"dataframe\">\n",
       "  <thead>\n",
       "    <tr style=\"text-align: right;\">\n",
       "      <th></th>\n",
       "      <th></th>\n",
       "      <th>1</th>\n",
       "      <th>2</th>\n",
       "      <th>3</th>\n",
       "      <th>4</th>\n",
       "      <th>5</th>\n",
       "      <th>6</th>\n",
       "      <th>7</th>\n",
       "      <th>8</th>\n",
       "      <th>9</th>\n",
       "      <th>10</th>\n",
       "      <th>...</th>\n",
       "      <th>26</th>\n",
       "      <th>27</th>\n",
       "      <th>28</th>\n",
       "      <th>29</th>\n",
       "      <th>30</th>\n",
       "      <th>31</th>\n",
       "      <th>32</th>\n",
       "      <th>33</th>\n",
       "      <th>34</th>\n",
       "      <th>35</th>\n",
       "    </tr>\n",
       "  </thead>\n",
       "  <tbody>\n",
       "    <tr>\n",
       "      <th>CBR11</th>\n",
       "      <th>SCO-Device</th>\n",
       "      <td>20.4</td>\n",
       "      <td>0.0</td>\n",
       "      <td>0.0</td>\n",
       "      <td>0.0</td>\n",
       "      <td>0.0</td>\n",
       "      <td>0.0</td>\n",
       "      <td>0.0</td>\n",
       "      <td>12.2</td>\n",
       "      <td>0.0</td>\n",
       "      <td>21.7</td>\n",
       "      <td>...</td>\n",
       "      <td>5.4</td>\n",
       "      <td>NaN</td>\n",
       "      <td>NaN</td>\n",
       "      <td>NaN</td>\n",
       "      <td>NaN</td>\n",
       "      <td>NaN</td>\n",
       "      <td>NaN</td>\n",
       "      <td>NaN</td>\n",
       "      <td>NaN</td>\n",
       "      <td>NaN</td>\n",
       "    </tr>\n",
       "    <tr>\n",
       "      <th>CBR14</th>\n",
       "      <th>SCO-Device</th>\n",
       "      <td>0.0</td>\n",
       "      <td>0.0</td>\n",
       "      <td>0.0</td>\n",
       "      <td>0.0</td>\n",
       "      <td>14.2</td>\n",
       "      <td>0.0</td>\n",
       "      <td>0.0</td>\n",
       "      <td>0.0</td>\n",
       "      <td>0.0</td>\n",
       "      <td>0.0</td>\n",
       "      <td>...</td>\n",
       "      <td>NaN</td>\n",
       "      <td>NaN</td>\n",
       "      <td>NaN</td>\n",
       "      <td>NaN</td>\n",
       "      <td>NaN</td>\n",
       "      <td>NaN</td>\n",
       "      <td>NaN</td>\n",
       "      <td>NaN</td>\n",
       "      <td>NaN</td>\n",
       "      <td>NaN</td>\n",
       "    </tr>\n",
       "    <tr>\n",
       "      <th>CBR15</th>\n",
       "      <th>SCO-Device</th>\n",
       "      <td>47.5</td>\n",
       "      <td>53.1</td>\n",
       "      <td>45.0</td>\n",
       "      <td>51.6</td>\n",
       "      <td>50.4</td>\n",
       "      <td>50.4</td>\n",
       "      <td>54.4</td>\n",
       "      <td>52.0</td>\n",
       "      <td>48.6</td>\n",
       "      <td>55.9</td>\n",
       "      <td>...</td>\n",
       "      <td>48.0</td>\n",
       "      <td>49.8</td>\n",
       "      <td>47.9</td>\n",
       "      <td>49.7</td>\n",
       "      <td>46.7</td>\n",
       "      <td>83.1</td>\n",
       "      <td>NaN</td>\n",
       "      <td>NaN</td>\n",
       "      <td>NaN</td>\n",
       "      <td>NaN</td>\n",
       "    </tr>\n",
       "    <tr>\n",
       "      <th>CBR16</th>\n",
       "      <th>SCO-Device</th>\n",
       "      <td>32.0</td>\n",
       "      <td>27.3</td>\n",
       "      <td>50.8</td>\n",
       "      <td>35.5</td>\n",
       "      <td>38.6</td>\n",
       "      <td>42.8</td>\n",
       "      <td>48.3</td>\n",
       "      <td>54.7</td>\n",
       "      <td>42.7</td>\n",
       "      <td>56.4</td>\n",
       "      <td>...</td>\n",
       "      <td>22.9</td>\n",
       "      <td>40.9</td>\n",
       "      <td>41.2</td>\n",
       "      <td>31.4</td>\n",
       "      <td>35.8</td>\n",
       "      <td>20.1</td>\n",
       "      <td>41.4</td>\n",
       "      <td>NaN</td>\n",
       "      <td>NaN</td>\n",
       "      <td>NaN</td>\n",
       "    </tr>\n",
       "  </tbody>\n",
       "</table>\n",
       "<p>4 rows × 35 columns</p>\n",
       "</div>"
      ],
      "text/plain": [
       "                    1     2     3     4     5     6     7     8     9     10  \\\n",
       "CBR11 SCO-Device  20.4   0.0   0.0   0.0   0.0   0.0   0.0  12.2   0.0  21.7   \n",
       "CBR14 SCO-Device   0.0   0.0   0.0   0.0  14.2   0.0   0.0   0.0   0.0   0.0   \n",
       "CBR15 SCO-Device  47.5  53.1  45.0  51.6  50.4  50.4  54.4  52.0  48.6  55.9   \n",
       "CBR16 SCO-Device  32.0  27.3  50.8  35.5  38.6  42.8  48.3  54.7  42.7  56.4   \n",
       "\n",
       "                 ...    26    27    28    29    30    31    32  33  34  35  \n",
       "CBR11 SCO-Device ...   5.4   NaN   NaN   NaN   NaN   NaN   NaN NaN NaN NaN  \n",
       "CBR14 SCO-Device ...   NaN   NaN   NaN   NaN   NaN   NaN   NaN NaN NaN NaN  \n",
       "CBR15 SCO-Device ...  48.0  49.8  47.9  49.7  46.7  83.1   NaN NaN NaN NaN  \n",
       "CBR16 SCO-Device ...  22.9  40.9  41.2  31.4  35.8  20.1  41.4 NaN NaN NaN  \n",
       "\n",
       "[4 rows x 35 columns]"
      ]
     },
     "execution_count": 111,
     "metadata": {},
     "output_type": "execute_result"
    }
   ],
   "source": [
    "SCO = weartime.iloc[0::2]\n",
    "SCO = SCO.drop(SCO.columns[0], axis=1) #drop day 0 (lab)\n",
    "SCO.head(4)"
   ]
  },
  {
   "cell_type": "code",
   "execution_count": 112,
   "metadata": {
    "collapsed": false
   },
   "outputs": [
    {
     "data": {
      "text/html": [
       "<div>\n",
       "<table border=\"1\" class=\"dataframe\">\n",
       "  <thead>\n",
       "    <tr style=\"text-align: right;\">\n",
       "      <th></th>\n",
       "      <th></th>\n",
       "      <th>1</th>\n",
       "      <th>2</th>\n",
       "      <th>3</th>\n",
       "      <th>4</th>\n",
       "      <th>5</th>\n",
       "      <th>6</th>\n",
       "      <th>7</th>\n",
       "      <th>8</th>\n",
       "      <th>9</th>\n",
       "      <th>10</th>\n",
       "      <th>...</th>\n",
       "      <th>26</th>\n",
       "      <th>27</th>\n",
       "      <th>28</th>\n",
       "      <th>29</th>\n",
       "      <th>30</th>\n",
       "      <th>31</th>\n",
       "      <th>32</th>\n",
       "      <th>33</th>\n",
       "      <th>34</th>\n",
       "      <th>35</th>\n",
       "    </tr>\n",
       "  </thead>\n",
       "  <tbody>\n",
       "    <tr>\n",
       "      <th>CBR11</th>\n",
       "      <th>CBR-Device</th>\n",
       "      <td>1.7</td>\n",
       "      <td>53.4</td>\n",
       "      <td>40.8</td>\n",
       "      <td>60.2</td>\n",
       "      <td>50.4</td>\n",
       "      <td>46.5</td>\n",
       "      <td>31.1</td>\n",
       "      <td>35.4</td>\n",
       "      <td>80.0</td>\n",
       "      <td>68.3</td>\n",
       "      <td>...</td>\n",
       "      <td>53.3</td>\n",
       "      <td>18.3</td>\n",
       "      <td>15.8</td>\n",
       "      <td>NaN</td>\n",
       "      <td>NaN</td>\n",
       "      <td>NaN</td>\n",
       "      <td>NaN</td>\n",
       "      <td>NaN</td>\n",
       "      <td>NaN</td>\n",
       "      <td>NaN</td>\n",
       "    </tr>\n",
       "    <tr>\n",
       "      <th>CBR14</th>\n",
       "      <th>CBR-Device</th>\n",
       "      <td>0.0</td>\n",
       "      <td>0.0</td>\n",
       "      <td>0.0</td>\n",
       "      <td>0.0</td>\n",
       "      <td>0.0</td>\n",
       "      <td>0.0</td>\n",
       "      <td>0.0</td>\n",
       "      <td>0.0</td>\n",
       "      <td>0.0</td>\n",
       "      <td>0.3</td>\n",
       "      <td>...</td>\n",
       "      <td>NaN</td>\n",
       "      <td>NaN</td>\n",
       "      <td>NaN</td>\n",
       "      <td>NaN</td>\n",
       "      <td>NaN</td>\n",
       "      <td>NaN</td>\n",
       "      <td>NaN</td>\n",
       "      <td>NaN</td>\n",
       "      <td>NaN</td>\n",
       "      <td>NaN</td>\n",
       "    </tr>\n",
       "    <tr>\n",
       "      <th>CBR15</th>\n",
       "      <th>CBR-Device</th>\n",
       "      <td>61.8</td>\n",
       "      <td>51.4</td>\n",
       "      <td>49.8</td>\n",
       "      <td>31.9</td>\n",
       "      <td>51.5</td>\n",
       "      <td>53.7</td>\n",
       "      <td>52.7</td>\n",
       "      <td>55.1</td>\n",
       "      <td>44.9</td>\n",
       "      <td>54.4</td>\n",
       "      <td>...</td>\n",
       "      <td>56.8</td>\n",
       "      <td>46.8</td>\n",
       "      <td>31.3</td>\n",
       "      <td>61.4</td>\n",
       "      <td>59.2</td>\n",
       "      <td>52.8</td>\n",
       "      <td>53.6</td>\n",
       "      <td>64.4</td>\n",
       "      <td>NaN</td>\n",
       "      <td>NaN</td>\n",
       "    </tr>\n",
       "    <tr>\n",
       "      <th>CBR16</th>\n",
       "      <th>CBR-Device</th>\n",
       "      <td>0.0</td>\n",
       "      <td>42.0</td>\n",
       "      <td>53.1</td>\n",
       "      <td>39.4</td>\n",
       "      <td>40.8</td>\n",
       "      <td>34.7</td>\n",
       "      <td>52.8</td>\n",
       "      <td>48.9</td>\n",
       "      <td>36.0</td>\n",
       "      <td>21.8</td>\n",
       "      <td>...</td>\n",
       "      <td>67.2</td>\n",
       "      <td>86.3</td>\n",
       "      <td>60.5</td>\n",
       "      <td>84.0</td>\n",
       "      <td>62.5</td>\n",
       "      <td>88.8</td>\n",
       "      <td>NaN</td>\n",
       "      <td>NaN</td>\n",
       "      <td>NaN</td>\n",
       "      <td>NaN</td>\n",
       "    </tr>\n",
       "  </tbody>\n",
       "</table>\n",
       "<p>4 rows × 35 columns</p>\n",
       "</div>"
      ],
      "text/plain": [
       "                    1     2     3     4     5     6     7     8     9     10  \\\n",
       "CBR11 CBR-Device   1.7  53.4  40.8  60.2  50.4  46.5  31.1  35.4  80.0  68.3   \n",
       "CBR14 CBR-Device   0.0   0.0   0.0   0.0   0.0   0.0   0.0   0.0   0.0   0.3   \n",
       "CBR15 CBR-Device  61.8  51.4  49.8  31.9  51.5  53.7  52.7  55.1  44.9  54.4   \n",
       "CBR16 CBR-Device   0.0  42.0  53.1  39.4  40.8  34.7  52.8  48.9  36.0  21.8   \n",
       "\n",
       "                 ...    26    27    28    29    30    31    32    33  34  35  \n",
       "CBR11 CBR-Device ...  53.3  18.3  15.8   NaN   NaN   NaN   NaN   NaN NaN NaN  \n",
       "CBR14 CBR-Device ...   NaN   NaN   NaN   NaN   NaN   NaN   NaN   NaN NaN NaN  \n",
       "CBR15 CBR-Device ...  56.8  46.8  31.3  61.4  59.2  52.8  53.6  64.4 NaN NaN  \n",
       "CBR16 CBR-Device ...  67.2  86.3  60.5  84.0  62.5  88.8   NaN   NaN NaN NaN  \n",
       "\n",
       "[4 rows x 35 columns]"
      ]
     },
     "execution_count": 112,
     "metadata": {},
     "output_type": "execute_result"
    }
   ],
   "source": [
    "CBR = weartime.iloc[1::2]\n",
    "CBR = CBR.drop(CBR.columns[0],axis=1)\n",
    "CBR.head(4)"
   ]
  },
  {
   "cell_type": "code",
   "execution_count": 113,
   "metadata": {
    "collapsed": false
   },
   "outputs": [],
   "source": [
    "SCO = SCO.T"
   ]
  },
  {
   "cell_type": "code",
   "execution_count": 114,
   "metadata": {
    "collapsed": false
   },
   "outputs": [],
   "source": [
    "SCO.columns = SCO.columns.droplevel(level=1)"
   ]
  },
  {
   "cell_type": "code",
   "execution_count": 115,
   "metadata": {
    "collapsed": false
   },
   "outputs": [
    {
     "data": {
      "text/plain": [
       "Index([u'CBR11', u'CBR14', u'CBR15', u'CBR16', u'CBR19', u'CBR21', u'CBR22',\n",
       "       u'CBR24', u'CBR26', u'CBR25', u'CBR27', u'CBR28'],\n",
       "      dtype='object')"
      ]
     },
     "execution_count": 115,
     "metadata": {},
     "output_type": "execute_result"
    }
   ],
   "source": [
    "SCO.columns"
   ]
  },
  {
   "cell_type": "code",
   "execution_count": 116,
   "metadata": {
    "collapsed": false
   },
   "outputs": [
    {
     "data": {
      "text/html": [
       "<div>\n",
       "<table border=\"1\" class=\"dataframe\">\n",
       "  <thead>\n",
       "    <tr style=\"text-align: right;\">\n",
       "      <th></th>\n",
       "      <th>CBR11</th>\n",
       "      <th>CBR14</th>\n",
       "      <th>CBR15</th>\n",
       "      <th>CBR16</th>\n",
       "      <th>CBR19</th>\n",
       "      <th>CBR21</th>\n",
       "      <th>CBR22</th>\n",
       "      <th>CBR24</th>\n",
       "      <th>CBR26</th>\n",
       "      <th>CBR25</th>\n",
       "      <th>CBR27</th>\n",
       "      <th>CBR28</th>\n",
       "    </tr>\n",
       "  </thead>\n",
       "  <tbody>\n",
       "    <tr>\n",
       "      <th>1</th>\n",
       "      <td>20.4</td>\n",
       "      <td>0.0</td>\n",
       "      <td>47.5</td>\n",
       "      <td>32.0</td>\n",
       "      <td>0.0</td>\n",
       "      <td>19.5</td>\n",
       "      <td>0.0</td>\n",
       "      <td>16.4</td>\n",
       "      <td>29.7</td>\n",
       "      <td>NaN</td>\n",
       "      <td>0.0</td>\n",
       "      <td>0.0</td>\n",
       "    </tr>\n",
       "    <tr>\n",
       "      <th>2</th>\n",
       "      <td>0.0</td>\n",
       "      <td>0.0</td>\n",
       "      <td>53.1</td>\n",
       "      <td>27.3</td>\n",
       "      <td>16.3</td>\n",
       "      <td>3.8</td>\n",
       "      <td>0.0</td>\n",
       "      <td>22.4</td>\n",
       "      <td>17.4</td>\n",
       "      <td>NaN</td>\n",
       "      <td>0.6</td>\n",
       "      <td>6.5</td>\n",
       "    </tr>\n",
       "    <tr>\n",
       "      <th>3</th>\n",
       "      <td>0.0</td>\n",
       "      <td>0.0</td>\n",
       "      <td>45.0</td>\n",
       "      <td>50.8</td>\n",
       "      <td>0.0</td>\n",
       "      <td>11.8</td>\n",
       "      <td>17.2</td>\n",
       "      <td>22.9</td>\n",
       "      <td>15.8</td>\n",
       "      <td>NaN</td>\n",
       "      <td>10.9</td>\n",
       "      <td>1.3</td>\n",
       "    </tr>\n",
       "    <tr>\n",
       "      <th>4</th>\n",
       "      <td>0.0</td>\n",
       "      <td>0.0</td>\n",
       "      <td>51.6</td>\n",
       "      <td>35.5</td>\n",
       "      <td>16.5</td>\n",
       "      <td>13.5</td>\n",
       "      <td>0.0</td>\n",
       "      <td>0.0</td>\n",
       "      <td>34.7</td>\n",
       "      <td>NaN</td>\n",
       "      <td>4.9</td>\n",
       "      <td>0.0</td>\n",
       "    </tr>\n",
       "  </tbody>\n",
       "</table>\n",
       "</div>"
      ],
      "text/plain": [
       "   CBR11  CBR14  CBR15  CBR16  CBR19  CBR21  CBR22  CBR24  CBR26  CBR25  \\\n",
       "1   20.4    0.0   47.5   32.0    0.0   19.5    0.0   16.4   29.7    NaN   \n",
       "2    0.0    0.0   53.1   27.3   16.3    3.8    0.0   22.4   17.4    NaN   \n",
       "3    0.0    0.0   45.0   50.8    0.0   11.8   17.2   22.9   15.8    NaN   \n",
       "4    0.0    0.0   51.6   35.5   16.5   13.5    0.0    0.0   34.7    NaN   \n",
       "\n",
       "   CBR27  CBR28  \n",
       "1    0.0    0.0  \n",
       "2    0.6    6.5  \n",
       "3   10.9    1.3  \n",
       "4    4.9    0.0  "
      ]
     },
     "execution_count": 116,
     "metadata": {},
     "output_type": "execute_result"
    }
   ],
   "source": [
    "SCO.head(4)"
   ]
  },
  {
   "cell_type": "code",
   "execution_count": 117,
   "metadata": {
    "collapsed": false
   },
   "outputs": [
    {
     "data": {
      "text/html": [
       "<div>\n",
       "<table border=\"1\" class=\"dataframe\">\n",
       "  <thead>\n",
       "    <tr style=\"text-align: right;\">\n",
       "      <th></th>\n",
       "      <th>CBR11</th>\n",
       "      <th>CBR14</th>\n",
       "      <th>CBR15</th>\n",
       "      <th>CBR16</th>\n",
       "      <th>CBR19</th>\n",
       "      <th>CBR21</th>\n",
       "      <th>CBR22</th>\n",
       "      <th>CBR24</th>\n",
       "      <th>CBR26</th>\n",
       "      <th>CBR25</th>\n",
       "      <th>CBR27</th>\n",
       "      <th>CBR28</th>\n",
       "    </tr>\n",
       "  </thead>\n",
       "  <tbody>\n",
       "    <tr>\n",
       "      <th>1</th>\n",
       "      <td>1.7</td>\n",
       "      <td>0.0</td>\n",
       "      <td>61.8</td>\n",
       "      <td>0.0</td>\n",
       "      <td>0.0</td>\n",
       "      <td>0.0</td>\n",
       "      <td>24.7</td>\n",
       "      <td>17.6</td>\n",
       "      <td>4.8</td>\n",
       "      <td>26.0</td>\n",
       "      <td>0.0</td>\n",
       "      <td>5.8</td>\n",
       "    </tr>\n",
       "    <tr>\n",
       "      <th>2</th>\n",
       "      <td>53.4</td>\n",
       "      <td>0.0</td>\n",
       "      <td>51.4</td>\n",
       "      <td>42.0</td>\n",
       "      <td>6.0</td>\n",
       "      <td>0.0</td>\n",
       "      <td>29.3</td>\n",
       "      <td>0.2</td>\n",
       "      <td>0.0</td>\n",
       "      <td>31.4</td>\n",
       "      <td>0.0</td>\n",
       "      <td>0.0</td>\n",
       "    </tr>\n",
       "    <tr>\n",
       "      <th>3</th>\n",
       "      <td>40.8</td>\n",
       "      <td>0.0</td>\n",
       "      <td>49.8</td>\n",
       "      <td>53.1</td>\n",
       "      <td>7.2</td>\n",
       "      <td>3.8</td>\n",
       "      <td>34.0</td>\n",
       "      <td>15.4</td>\n",
       "      <td>7.3</td>\n",
       "      <td>39.7</td>\n",
       "      <td>0.0</td>\n",
       "      <td>0.0</td>\n",
       "    </tr>\n",
       "    <tr>\n",
       "      <th>4</th>\n",
       "      <td>60.2</td>\n",
       "      <td>0.0</td>\n",
       "      <td>31.9</td>\n",
       "      <td>39.4</td>\n",
       "      <td>7.2</td>\n",
       "      <td>2.6</td>\n",
       "      <td>4.9</td>\n",
       "      <td>0.0</td>\n",
       "      <td>13.1</td>\n",
       "      <td>5.1</td>\n",
       "      <td>0.0</td>\n",
       "      <td>0.0</td>\n",
       "    </tr>\n",
       "  </tbody>\n",
       "</table>\n",
       "</div>"
      ],
      "text/plain": [
       "   CBR11  CBR14  CBR15  CBR16  CBR19  CBR21  CBR22  CBR24  CBR26  CBR25  \\\n",
       "1    1.7    0.0   61.8    0.0    0.0    0.0   24.7   17.6    4.8   26.0   \n",
       "2   53.4    0.0   51.4   42.0    6.0    0.0   29.3    0.2    0.0   31.4   \n",
       "3   40.8    0.0   49.8   53.1    7.2    3.8   34.0   15.4    7.3   39.7   \n",
       "4   60.2    0.0   31.9   39.4    7.2    2.6    4.9    0.0   13.1    5.1   \n",
       "\n",
       "   CBR27  CBR28  \n",
       "1    0.0    5.8  \n",
       "2    0.0    0.0  \n",
       "3    0.0    0.0  \n",
       "4    0.0    0.0  "
      ]
     },
     "execution_count": 117,
     "metadata": {},
     "output_type": "execute_result"
    }
   ],
   "source": [
    "CBR = CBR.T\n",
    "CBR.columns = CBR.columns.droplevel(level=1)\n",
    "CBR.head(4)"
   ]
  },
  {
   "cell_type": "markdown",
   "metadata": {},
   "source": [
    "# Wear time analysis - Device Actigraph"
   ]
  },
  {
   "cell_type": "code",
   "execution_count": 118,
   "metadata": {
    "collapsed": false
   },
   "outputs": [
    {
     "data": {
      "text/plain": [
       "<matplotlib.axes._subplots.AxesSubplot at 0x125f4b8d0>"
      ]
     },
     "execution_count": 118,
     "metadata": {},
     "output_type": "execute_result"
    },
    {
     "data": {
      "image/png": "[encoded data removed]",
      "text/plain": [
       "<matplotlib.figure.Figure at 0x124830210>"
      ]
     },
     "metadata": {},
     "output_type": "display_data"
    }
   ],
   "source": [
    "# Create a figure instance, and the two subplots\n",
    "fig = plt.figure(figsize=(16,6))\n",
    "ax1 = fig.add_subplot(121); plt.ylim(-5,100); ax1.set_title('CBR - Device')\n",
    "ax2 = fig.add_subplot(122); plt.ylim(-5,100); ax2.set_title('SCO - Device')\n",
    "sns.boxplot(CBR,ax=ax1)\n",
    "sns.boxplot(SCO,ax=ax2)"
   ]
  },
  {
   "cell_type": "markdown",
   "metadata": {},
   "source": [
    "**It seems that some people (CBR14,19,21,27) did not use the Cbr at all or very little (median time ~ 0). Others used it moderately (CBR22,24,26, median ~ 15%). CBR11,15,16 used it more (median ~ 40,50% daily wear time).**\n",
    "\n",
    "**Usage within individuals looks consistent across the 2 braces (SCO and CBR), i.e. if an individual did not use the Cbr he/she also did not use much the SCO. However there are some exceptions, such as CBR11 and CBR22 who seemed to use more the Cbr than the SCO**"
   ]
  },
  {
   "cell_type": "markdown",
   "metadata": {},
   "source": [
    "# Are there days where usage is preferred?"
   ]
  },
  {
   "cell_type": "code",
   "execution_count": 119,
   "metadata": {
    "collapsed": false
   },
   "outputs": [
    {
     "data": {
      "text/plain": [
       "<matplotlib.text.Text at 0x128a80590>"
      ]
     },
     "execution_count": 119,
     "metadata": {},
     "output_type": "execute_result"
    },
    {
     "data": {
      "image/png": "[encoded data removed]",
      "text/plain": [
       "<matplotlib.figure.Figure at 0x1248308d0>"
      ]
     },
     "metadata": {},
     "output_type": "display_data"
    }
   ],
   "source": [
    "#high usage patients\n",
    "fig = plt.figure(figsize=(16,6))\n",
    "ax1 = fig.add_subplot(121); \n",
    "ax2 = fig.add_subplot(122); \n",
    "CBR[['CBR11','CBR15','CBR16']].plot(ax=ax1); ax1.set_xlabel('Day #'); ax1.set_ylabel('Wear time [%]'); \n",
    "ax1.set_title('CBR daily use')\n",
    "SCO[['CBR11','CBR15','CBR16']].plot(ax=ax2); ax2.set_xlabel('Day #'); ax2.set_ylabel('Wear time [%]')\n",
    "ax2.set_title('SCO daily use')"
   ]
  },
  {
   "cell_type": "code",
   "execution_count": 120,
   "metadata": {
    "collapsed": false
   },
   "outputs": [
    {
     "data": {
      "text/plain": [
       "<matplotlib.text.Text at 0x123af2410>"
      ]
     },
     "execution_count": 120,
     "metadata": {},
     "output_type": "execute_result"
    },
    {
     "data": {
      "image/png": "[encoded data removed]",
      "text/plain": [
       "<matplotlib.figure.Figure at 0x124828d10>"
      ]
     },
     "metadata": {},
     "output_type": "display_data"
    }
   ],
   "source": [
    "fig = plt.figure(figsize=(16,6))\n",
    "ax1 = fig.add_subplot(121); \n",
    "ax2 = fig.add_subplot(122); \n",
    "CBR[['CBR19','CBR21','CBR27']].plot(ax=ax1); ax1.set_ylim(-5,90); ax1.set_title('CBR daily use')\n",
    "SCO[['CBR19','CBR21','CBR27']].plot(ax=ax2); ax2.set_ylim(-5,90); ax2.set_title('SCO daily use')"
   ]
  },
  {
   "cell_type": "markdown",
   "metadata": {},
   "source": [
    "**People who used the brace less seems to use it intermittently**"
   ]
  },
  {
   "cell_type": "markdown",
   "metadata": {},
   "source": [
    "## Daily Steps and Wear time (Device)"
   ]
  },
  {
   "cell_type": "code",
   "execution_count": null,
   "metadata": {
    "collapsed": true
   },
   "outputs": [],
   "source": [
    "Weartime"
   ]
  },
  {
   "cell_type": "code",
   "execution_count": 121,
   "metadata": {
    "collapsed": false
   },
   "outputs": [
    {
     "name": "stdout",
     "output_type": "stream",
     "text": [
      "765\n"
     ]
    },
    {
     "data": {
      "text/html": [
       "<div>\n",
       "<table border=\"1\" class=\"dataframe\">\n",
       "  <thead>\n",
       "    <tr style=\"text-align: right;\">\n",
       "      <th></th>\n",
       "      <th>Subject</th>\n",
       "      <th>SubjID</th>\n",
       "      <th>Brace</th>\n",
       "      <th>Actigraph</th>\n",
       "      <th>Day of Week</th>\n",
       "      <th>Day of Week Num</th>\n",
       "      <th>Steps Counts</th>\n",
       "      <th>Steps Per Minute</th>\n",
       "    </tr>\n",
       "  </thead>\n",
       "  <tbody>\n",
       "    <tr>\n",
       "      <th>0</th>\n",
       "      <td>CBR 11 home SCO on device</td>\n",
       "      <td>11</td>\n",
       "      <td>SCO</td>\n",
       "      <td>Waist</td>\n",
       "      <td>Wednesday</td>\n",
       "      <td>3</td>\n",
       "      <td>690</td>\n",
       "      <td>1.4</td>\n",
       "    </tr>\n",
       "    <tr>\n",
       "      <th>1</th>\n",
       "      <td>CBR 11 home SCO on device</td>\n",
       "      <td>11</td>\n",
       "      <td>SCO</td>\n",
       "      <td>Waist</td>\n",
       "      <td>Thursday</td>\n",
       "      <td>4</td>\n",
       "      <td>1301</td>\n",
       "      <td>4.4</td>\n",
       "    </tr>\n",
       "    <tr>\n",
       "      <th>2</th>\n",
       "      <td>CBR 11 home SCO on device</td>\n",
       "      <td>11</td>\n",
       "      <td>SCO</td>\n",
       "      <td>Waist</td>\n",
       "      <td>Tuesday</td>\n",
       "      <td>2</td>\n",
       "      <td>0</td>\n",
       "      <td>0.0</td>\n",
       "    </tr>\n",
       "    <tr>\n",
       "      <th>3</th>\n",
       "      <td>CBR 11 home SCO on device</td>\n",
       "      <td>11</td>\n",
       "      <td>SCO</td>\n",
       "      <td>Waist</td>\n",
       "      <td>Thursday</td>\n",
       "      <td>4</td>\n",
       "      <td>549</td>\n",
       "      <td>3.1</td>\n",
       "    </tr>\n",
       "    <tr>\n",
       "      <th>4</th>\n",
       "      <td>CBR 11 home SCO on device</td>\n",
       "      <td>11</td>\n",
       "      <td>SCO</td>\n",
       "      <td>Waist</td>\n",
       "      <td>Saturday</td>\n",
       "      <td>6</td>\n",
       "      <td>196</td>\n",
       "      <td>0.6</td>\n",
       "    </tr>\n",
       "  </tbody>\n",
       "</table>\n",
       "</div>"
      ],
      "text/plain": [
       "                     Subject  SubjID Brace Actigraph Day of Week  \\\n",
       "0  CBR 11 home SCO on device      11   SCO     Waist   Wednesday   \n",
       "1  CBR 11 home SCO on device      11   SCO     Waist    Thursday   \n",
       "2  CBR 11 home SCO on device      11   SCO     Waist     Tuesday   \n",
       "3  CBR 11 home SCO on device      11   SCO     Waist    Thursday   \n",
       "4  CBR 11 home SCO on device      11   SCO     Waist    Saturday   \n",
       "\n",
       "   Day of Week Num  Steps Counts  Steps Per Minute  \n",
       "0                3           690               1.4  \n",
       "1                4          1301               4.4  \n",
       "2                2             0               0.0  \n",
       "3                4           549               3.1  \n",
       "4                6           196               0.6  "
      ]
     },
     "execution_count": 121,
     "metadata": {},
     "output_type": "execute_result"
    }
   ],
   "source": [
    "Steps = pd.read_csv('Summary Steps.csv')\n",
    "print len(Steps)\n",
    "Steps.head()"
   ]
  },
  {
   "cell_type": "code",
   "execution_count": 122,
   "metadata": {
    "collapsed": false
   },
   "outputs": [
    {
     "data": {
      "text/plain": [
       "array(['SCO', 'CBR'], dtype=object)"
      ]
     },
     "execution_count": 122,
     "metadata": {},
     "output_type": "execute_result"
    }
   ],
   "source": [
    "Steps[Steps.SubjID==11].Brace.unique()"
   ]
  },
  {
   "cell_type": "code",
   "execution_count": 123,
   "metadata": {
    "collapsed": false
   },
   "outputs": [],
   "source": [
    "#remove Waist data\n",
    "Steps = Steps[Steps.Actigraph!='Waist']"
   ]
  },
  {
   "cell_type": "code",
   "execution_count": 124,
   "metadata": {
    "collapsed": false,
    "scrolled": true
   },
   "outputs": [
    {
     "data": {
      "image/png": "[encoded data removed]",
      "text/plain": [
       "<matplotlib.figure.Figure at 0x123b7c810>"
      ]
     },
     "metadata": {},
     "output_type": "display_data"
    }
   ],
   "source": [
    "sns.set_context('talk')\n",
    "fig = plt.figure(figsize=(16,6))\n",
    "ax = sns.boxplot(x='SubjID',y='Steps Counts',hue='Brace',data=Steps)\n",
    "ax = sns.swarmplot(x='SubjID',y='Steps Counts',hue='Brace',data=Steps)"
   ]
  },
  {
   "cell_type": "markdown",
   "metadata": {},
   "source": [
    "**Only 4 participants (11,16,25,26) have a median # of steps > 1000. All others have medians between 0 and 500**"
   ]
  },
  {
   "cell_type": "code",
   "execution_count": 125,
   "metadata": {
    "collapsed": false
   },
   "outputs": [
    {
     "data": {
      "text/plain": [
       "(-2, 20)"
      ]
     },
     "execution_count": 125,
     "metadata": {},
     "output_type": "execute_result"
    },
    {
     "data": {
      "image/png": "[encoded data removed]",
      "text/plain": [
       "<matplotlib.figure.Figure at 0x126281110>"
      ]
     },
     "metadata": {},
     "output_type": "display_data"
    }
   ],
   "source": [
    "fig = plt.figure(figsize=(16,6))\n",
    "ax = sns.boxplot(x='SubjID',y='Steps Per Minute',hue='Brace',data=Steps)\n",
    "# ax = sns.swarmplot(x='SubjID',y='Steps Per Minute',hue='Brace',data=Steps)\n",
    "plt.ylim([-2, 20])"
   ]
  },
  {
   "cell_type": "code",
   "execution_count": 126,
   "metadata": {
    "collapsed": true
   },
   "outputs": [],
   "source": [
    "#t-test - TO DO\n",
    "from scipy import stats"
   ]
  },
  {
   "cell_type": "markdown",
   "metadata": {},
   "source": [
    "# Waist vs Device wear time"
   ]
  },
  {
   "cell_type": "code",
   "execution_count": 127,
   "metadata": {
    "collapsed": false
   },
   "outputs": [],
   "source": [
    "weartime = pd.read_csv('WearTimes_Waist.csv',header=[0,1])"
   ]
  },
  {
   "cell_type": "code",
   "execution_count": 128,
   "metadata": {
    "collapsed": false
   },
   "outputs": [
    {
     "data": {
      "text/html": [
       "<div>\n",
       "<table border=\"1\" class=\"dataframe\">\n",
       "  <thead>\n",
       "    <tr>\n",
       "      <th></th>\n",
       "      <th>Unnamed: 0_level_0</th>\n",
       "      <th colspan=\"2\" halign=\"left\">CBR11</th>\n",
       "      <th colspan=\"2\" halign=\"left\">CBR14</th>\n",
       "      <th colspan=\"2\" halign=\"left\">CBR15</th>\n",
       "      <th colspan=\"2\" halign=\"left\">CBR16</th>\n",
       "      <th>CBR19</th>\n",
       "      <th>...</th>\n",
       "      <th colspan=\"2\" halign=\"left\">CBR24</th>\n",
       "      <th colspan=\"2\" halign=\"left\">CBR26</th>\n",
       "      <th colspan=\"2\" halign=\"left\">CBR25</th>\n",
       "      <th colspan=\"2\" halign=\"left\">CBR27</th>\n",
       "      <th colspan=\"2\" halign=\"left\">CBR28</th>\n",
       "    </tr>\n",
       "    <tr>\n",
       "      <th></th>\n",
       "      <th>Days</th>\n",
       "      <th>SCO-Waist</th>\n",
       "      <th>CBR-Waist</th>\n",
       "      <th>SCO-Waist</th>\n",
       "      <th>CBR-Waist</th>\n",
       "      <th>SCO-Waist</th>\n",
       "      <th>CBR-Waist</th>\n",
       "      <th>SCO-Waist</th>\n",
       "      <th>CBR-Waist</th>\n",
       "      <th>SCO-Waist</th>\n",
       "      <th>...</th>\n",
       "      <th>SCO-Waist</th>\n",
       "      <th>CBR-Waist</th>\n",
       "      <th>SCO-Waist</th>\n",
       "      <th>CBR-Waist</th>\n",
       "      <th>CBR-Waist</th>\n",
       "      <th>SCO-Waist</th>\n",
       "      <th>SCO-Waist</th>\n",
       "      <th>CBR-Waist</th>\n",
       "      <th>SCO-Waist</th>\n",
       "      <th>CBR-Waist</th>\n",
       "    </tr>\n",
       "  </thead>\n",
       "  <tbody>\n",
       "    <tr>\n",
       "      <th>0</th>\n",
       "      <td>1</td>\n",
       "      <td>86.6</td>\n",
       "      <td>81.6</td>\n",
       "      <td>97.8</td>\n",
       "      <td>30.7</td>\n",
       "      <td>88.0</td>\n",
       "      <td>84.6</td>\n",
       "      <td>69.5</td>\n",
       "      <td>100.0</td>\n",
       "      <td>48.7</td>\n",
       "      <td>...</td>\n",
       "      <td>14.1</td>\n",
       "      <td>55.1</td>\n",
       "      <td>85.2</td>\n",
       "      <td>29.2</td>\n",
       "      <td>11.6</td>\n",
       "      <td>NaN</td>\n",
       "      <td>54.4</td>\n",
       "      <td>13.1</td>\n",
       "      <td>44.9</td>\n",
       "      <td>39.2</td>\n",
       "    </tr>\n",
       "    <tr>\n",
       "      <th>1</th>\n",
       "      <td>2</td>\n",
       "      <td>39.8</td>\n",
       "      <td>16.3</td>\n",
       "      <td>0.0</td>\n",
       "      <td>0.0</td>\n",
       "      <td>56.3</td>\n",
       "      <td>66.6</td>\n",
       "      <td>34.4</td>\n",
       "      <td>3.8</td>\n",
       "      <td>0.0</td>\n",
       "      <td>...</td>\n",
       "      <td>22.8</td>\n",
       "      <td>31.7</td>\n",
       "      <td>34.7</td>\n",
       "      <td>9.0</td>\n",
       "      <td>26.2</td>\n",
       "      <td>NaN</td>\n",
       "      <td>0.0</td>\n",
       "      <td>0.9</td>\n",
       "      <td>0.0</td>\n",
       "      <td>6.3</td>\n",
       "    </tr>\n",
       "    <tr>\n",
       "      <th>2</th>\n",
       "      <td>3</td>\n",
       "      <td>22.3</td>\n",
       "      <td>62.8</td>\n",
       "      <td>47.8</td>\n",
       "      <td>0.0</td>\n",
       "      <td>60.6</td>\n",
       "      <td>58.1</td>\n",
       "      <td>27.3</td>\n",
       "      <td>42.8</td>\n",
       "      <td>35.1</td>\n",
       "      <td>...</td>\n",
       "      <td>33.8</td>\n",
       "      <td>32.2</td>\n",
       "      <td>16.1</td>\n",
       "      <td>0.0</td>\n",
       "      <td>31.5</td>\n",
       "      <td>NaN</td>\n",
       "      <td>0.0</td>\n",
       "      <td>0.0</td>\n",
       "      <td>6.5</td>\n",
       "      <td>0.8</td>\n",
       "    </tr>\n",
       "    <tr>\n",
       "      <th>3</th>\n",
       "      <td>4</td>\n",
       "      <td>17.3</td>\n",
       "      <td>21.9</td>\n",
       "      <td>0.2</td>\n",
       "      <td>1.8</td>\n",
       "      <td>53.6</td>\n",
       "      <td>53.5</td>\n",
       "      <td>53.6</td>\n",
       "      <td>61.3</td>\n",
       "      <td>3.8</td>\n",
       "      <td>...</td>\n",
       "      <td>28.8</td>\n",
       "      <td>25.5</td>\n",
       "      <td>12.6</td>\n",
       "      <td>6.7</td>\n",
       "      <td>41.0</td>\n",
       "      <td>NaN</td>\n",
       "      <td>10.8</td>\n",
       "      <td>0.3</td>\n",
       "      <td>1.9</td>\n",
       "      <td>1.0</td>\n",
       "    </tr>\n",
       "  </tbody>\n",
       "</table>\n",
       "<p>4 rows × 25 columns</p>\n",
       "</div>"
      ],
      "text/plain": [
       "  Unnamed: 0_level_0     CBR11               CBR14               CBR15  \\\n",
       "                Days SCO-Waist CBR-Waist SCO-Waist CBR-Waist SCO-Waist   \n",
       "0                  1      86.6      81.6      97.8      30.7      88.0   \n",
       "1                  2      39.8      16.3       0.0       0.0      56.3   \n",
       "2                  3      22.3      62.8      47.8       0.0      60.6   \n",
       "3                  4      17.3      21.9       0.2       1.8      53.6   \n",
       "\n",
       "                CBR16               CBR19    ...        CBR24            \\\n",
       "  CBR-Waist SCO-Waist CBR-Waist SCO-Waist    ...    SCO-Waist CBR-Waist   \n",
       "0      84.6      69.5     100.0      48.7    ...         14.1      55.1   \n",
       "1      66.6      34.4       3.8       0.0    ...         22.8      31.7   \n",
       "2      58.1      27.3      42.8      35.1    ...         33.8      32.2   \n",
       "3      53.5      53.6      61.3       3.8    ...         28.8      25.5   \n",
       "\n",
       "      CBR26               CBR25               CBR27               CBR28  \\\n",
       "  SCO-Waist CBR-Waist CBR-Waist SCO-Waist SCO-Waist CBR-Waist SCO-Waist   \n",
       "0      85.2      29.2      11.6       NaN      54.4      13.1      44.9   \n",
       "1      34.7       9.0      26.2       NaN       0.0       0.9       0.0   \n",
       "2      16.1       0.0      31.5       NaN       0.0       0.0       6.5   \n",
       "3      12.6       6.7      41.0       NaN      10.8       0.3       1.9   \n",
       "\n",
       "             \n",
       "  CBR-Waist  \n",
       "0      39.2  \n",
       "1       6.3  \n",
       "2       0.8  \n",
       "3       1.0  \n",
       "\n",
       "[4 rows x 25 columns]"
      ]
     },
     "execution_count": 128,
     "metadata": {},
     "output_type": "execute_result"
    }
   ],
   "source": [
    "weartime.head(4)"
   ]
  },
  {
   "cell_type": "code",
   "execution_count": 129,
   "metadata": {
    "collapsed": false
   },
   "outputs": [
    {
     "name": "stderr",
     "output_type": "stream",
     "text": [
      "/Users/luca/anaconda/lib/python2.7/site-packages/ipykernel/__main__.py:1: PerformanceWarning: dropping on a non-lexsorted multi-index without a level parameter may impact performance.\n",
      "  if __name__ == '__main__':\n"
     ]
    }
   ],
   "source": [
    "weartime = weartime.drop('Unnamed: 0_level_0',axis=1)\n",
    "weartime = weartime.T"
   ]
  },
  {
   "cell_type": "code",
   "execution_count": 130,
   "metadata": {
    "collapsed": false
   },
   "outputs": [
    {
     "data": {
      "text/html": [
       "<div>\n",
       "<table border=\"1\" class=\"dataframe\">\n",
       "  <thead>\n",
       "    <tr style=\"text-align: right;\">\n",
       "      <th></th>\n",
       "      <th>CBR11</th>\n",
       "      <th>CBR14</th>\n",
       "      <th>CBR15</th>\n",
       "      <th>CBR16</th>\n",
       "      <th>CBR19</th>\n",
       "      <th>CBR21</th>\n",
       "      <th>CBR22</th>\n",
       "      <th>CBR24</th>\n",
       "      <th>CBR26</th>\n",
       "      <th>CBR25</th>\n",
       "      <th>CBR27</th>\n",
       "      <th>CBR28</th>\n",
       "    </tr>\n",
       "  </thead>\n",
       "  <tbody>\n",
       "    <tr>\n",
       "      <th>1</th>\n",
       "      <td>39.8</td>\n",
       "      <td>0.0</td>\n",
       "      <td>56.3</td>\n",
       "      <td>34.4</td>\n",
       "      <td>0.0</td>\n",
       "      <td>41.9</td>\n",
       "      <td>0.0</td>\n",
       "      <td>22.8</td>\n",
       "      <td>34.7</td>\n",
       "      <td>26.2</td>\n",
       "      <td>0.0</td>\n",
       "      <td>0.0</td>\n",
       "    </tr>\n",
       "    <tr>\n",
       "      <th>2</th>\n",
       "      <td>22.3</td>\n",
       "      <td>47.8</td>\n",
       "      <td>60.6</td>\n",
       "      <td>27.3</td>\n",
       "      <td>35.1</td>\n",
       "      <td>59.4</td>\n",
       "      <td>0.0</td>\n",
       "      <td>33.8</td>\n",
       "      <td>16.1</td>\n",
       "      <td>31.5</td>\n",
       "      <td>0.0</td>\n",
       "      <td>6.5</td>\n",
       "    </tr>\n",
       "    <tr>\n",
       "      <th>3</th>\n",
       "      <td>17.3</td>\n",
       "      <td>0.2</td>\n",
       "      <td>53.6</td>\n",
       "      <td>53.6</td>\n",
       "      <td>3.8</td>\n",
       "      <td>47.2</td>\n",
       "      <td>21.2</td>\n",
       "      <td>28.8</td>\n",
       "      <td>12.6</td>\n",
       "      <td>41.0</td>\n",
       "      <td>10.8</td>\n",
       "      <td>1.9</td>\n",
       "    </tr>\n",
       "    <tr>\n",
       "      <th>4</th>\n",
       "      <td>31.6</td>\n",
       "      <td>0.0</td>\n",
       "      <td>59.3</td>\n",
       "      <td>34.9</td>\n",
       "      <td>16.9</td>\n",
       "      <td>55.2</td>\n",
       "      <td>0.0</td>\n",
       "      <td>0.0</td>\n",
       "      <td>29.7</td>\n",
       "      <td>2.7</td>\n",
       "      <td>5.7</td>\n",
       "      <td>0.4</td>\n",
       "    </tr>\n",
       "  </tbody>\n",
       "</table>\n",
       "</div>"
      ],
      "text/plain": [
       "   CBR11  CBR14  CBR15  CBR16  CBR19  CBR21  CBR22  CBR24  CBR26  CBR25  \\\n",
       "1   39.8    0.0   56.3   34.4    0.0   41.9    0.0   22.8   34.7   26.2   \n",
       "2   22.3   47.8   60.6   27.3   35.1   59.4    0.0   33.8   16.1   31.5   \n",
       "3   17.3    0.2   53.6   53.6    3.8   47.2   21.2   28.8   12.6   41.0   \n",
       "4   31.6    0.0   59.3   34.9   16.9   55.2    0.0    0.0   29.7    2.7   \n",
       "\n",
       "   CBR27  CBR28  \n",
       "1    0.0    0.0  \n",
       "2    0.0    6.5  \n",
       "3   10.8    1.9  \n",
       "4    5.7    0.4  "
      ]
     },
     "execution_count": 130,
     "metadata": {},
     "output_type": "execute_result"
    }
   ],
   "source": [
    "SCOw = weartime.iloc[0::2]\n",
    "SCOw = SCOw.drop(SCOw.columns[0], axis=1) #drop day 0 (lab)\n",
    "SCOw = SCOw.T\n",
    "SCOw.columns = SCOw.columns.droplevel(level=1)\n",
    "SCOw.head(4)"
   ]
  },
  {
   "cell_type": "code",
   "execution_count": 131,
   "metadata": {
    "collapsed": false
   },
   "outputs": [
    {
     "data": {
      "text/html": [
       "<div>\n",
       "<table border=\"1\" class=\"dataframe\">\n",
       "  <thead>\n",
       "    <tr style=\"text-align: right;\">\n",
       "      <th></th>\n",
       "      <th>CBR11</th>\n",
       "      <th>CBR14</th>\n",
       "      <th>CBR15</th>\n",
       "      <th>CBR16</th>\n",
       "      <th>CBR19</th>\n",
       "      <th>CBR21</th>\n",
       "      <th>CBR22</th>\n",
       "      <th>CBR24</th>\n",
       "      <th>CBR26</th>\n",
       "      <th>CBR25</th>\n",
       "      <th>CBR27</th>\n",
       "      <th>CBR28</th>\n",
       "    </tr>\n",
       "  </thead>\n",
       "  <tbody>\n",
       "    <tr>\n",
       "      <th>1</th>\n",
       "      <td>16.3</td>\n",
       "      <td>0.0</td>\n",
       "      <td>66.6</td>\n",
       "      <td>3.8</td>\n",
       "      <td>0.3</td>\n",
       "      <td>17.4</td>\n",
       "      <td>0.0</td>\n",
       "      <td>31.7</td>\n",
       "      <td>9.0</td>\n",
       "      <td>NaN</td>\n",
       "      <td>0.9</td>\n",
       "      <td>6.3</td>\n",
       "    </tr>\n",
       "    <tr>\n",
       "      <th>2</th>\n",
       "      <td>62.8</td>\n",
       "      <td>0.0</td>\n",
       "      <td>58.1</td>\n",
       "      <td>42.8</td>\n",
       "      <td>9.3</td>\n",
       "      <td>33.9</td>\n",
       "      <td>0.0</td>\n",
       "      <td>32.2</td>\n",
       "      <td>0.0</td>\n",
       "      <td>NaN</td>\n",
       "      <td>0.0</td>\n",
       "      <td>0.8</td>\n",
       "    </tr>\n",
       "    <tr>\n",
       "      <th>3</th>\n",
       "      <td>21.9</td>\n",
       "      <td>1.8</td>\n",
       "      <td>53.5</td>\n",
       "      <td>61.3</td>\n",
       "      <td>7.1</td>\n",
       "      <td>0.0</td>\n",
       "      <td>0.0</td>\n",
       "      <td>25.5</td>\n",
       "      <td>6.7</td>\n",
       "      <td>NaN</td>\n",
       "      <td>0.3</td>\n",
       "      <td>1.0</td>\n",
       "    </tr>\n",
       "    <tr>\n",
       "      <th>4</th>\n",
       "      <td>52.9</td>\n",
       "      <td>0.0</td>\n",
       "      <td>50.3</td>\n",
       "      <td>54.5</td>\n",
       "      <td>11.6</td>\n",
       "      <td>50.6</td>\n",
       "      <td>0.2</td>\n",
       "      <td>0.0</td>\n",
       "      <td>11.6</td>\n",
       "      <td>NaN</td>\n",
       "      <td>0.4</td>\n",
       "      <td>3.6</td>\n",
       "    </tr>\n",
       "  </tbody>\n",
       "</table>\n",
       "</div>"
      ],
      "text/plain": [
       "   CBR11  CBR14  CBR15  CBR16  CBR19  CBR21  CBR22  CBR24  CBR26  CBR25  \\\n",
       "1   16.3    0.0   66.6    3.8    0.3   17.4    0.0   31.7    9.0    NaN   \n",
       "2   62.8    0.0   58.1   42.8    9.3   33.9    0.0   32.2    0.0    NaN   \n",
       "3   21.9    1.8   53.5   61.3    7.1    0.0    0.0   25.5    6.7    NaN   \n",
       "4   52.9    0.0   50.3   54.5   11.6   50.6    0.2    0.0   11.6    NaN   \n",
       "\n",
       "   CBR27  CBR28  \n",
       "1    0.9    6.3  \n",
       "2    0.0    0.8  \n",
       "3    0.3    1.0  \n",
       "4    0.4    3.6  "
      ]
     },
     "execution_count": 131,
     "metadata": {},
     "output_type": "execute_result"
    }
   ],
   "source": [
    "CBRw = weartime.iloc[1::2]\n",
    "CBRw = CBRw.drop(CBRw.columns[0],axis=1) #drop day 0 (lab)\n",
    "CBRw = CBRw.T\n",
    "CBRw.columns = CBRw.columns.droplevel(level=1)\n",
    "CBRw.head(4)"
   ]
  },
  {
   "cell_type": "code",
   "execution_count": 132,
   "metadata": {
    "collapsed": false
   },
   "outputs": [
    {
     "data": {
      "text/plain": [
       "<matplotlib.axes._subplots.AxesSubplot at 0x12ba7e2d0>"
      ]
     },
     "execution_count": 132,
     "metadata": {},
     "output_type": "execute_result"
    },
    {
     "data": {
      "image/png": "[encoded data removed]",
      "text/plain": [
       "<matplotlib.figure.Figure at 0x123b83b50>"
      ]
     },
     "metadata": {},
     "output_type": "display_data"
    }
   ],
   "source": [
    "fig = plt.figure(figsize=(16,6))\n",
    "sns.set_context('notebook')\n",
    "ax1 = fig.add_subplot(221); plt.ylim(-5,100); ax1.set_title('SCO - Device')\n",
    "ax2 = fig.add_subplot(222); plt.ylim(-5,100); ax2.set_title('CBR - Device')\n",
    "ax3 = fig.add_subplot(223); plt.ylim(-5,100); ax3.set_title('SCO - Waist')\n",
    "ax4 = fig.add_subplot(224); plt.ylim(-5,100); ax4.set_title('CBR - Waist')\n",
    "sns.boxplot(SCO,ax=ax1)\n",
    "sns.boxplot(CBR,ax=ax2)\n",
    "sns.boxplot(SCOw,ax=ax3)\n",
    "sns.boxplot(CBRw,ax=ax4)"
   ]
  },
  {
   "cell_type": "markdown",
   "metadata": {},
   "source": [
    "**For most subjects, the daily wear time recorded by the waist Actigraph matches that of the device Actigraph. In some cases (11,21,25 SCO) the median wear time from the Waist device is higher than that of the brace, indicating they have been active without using the brace**"
   ]
  },
  {
   "cell_type": "code",
   "execution_count": 133,
   "metadata": {
    "collapsed": false
   },
   "outputs": [
    {
     "ename": "ValueError",
     "evalue": "cannot convert float NaN to integer",
     "output_type": "error",
     "traceback": [
      "\u001b[0;31m---------------------------------------------------------------------------\u001b[0m",
      "\u001b[0;31mValueError\u001b[0m                                Traceback (most recent call last)",
      "\u001b[0;32m<ipython-input-133-3953aec943c9>\u001b[0m in \u001b[0;36m<module>\u001b[0;34m()\u001b[0m\n\u001b[0;32m----> 1\u001b[0;31m \u001b[0mg\u001b[0m \u001b[0;34m=\u001b[0m \u001b[0msns\u001b[0m\u001b[0;34m.\u001b[0m\u001b[0mjointplot\u001b[0m\u001b[0;34m(\u001b[0m\u001b[0mSCOw\u001b[0m\u001b[0;34m,\u001b[0m\u001b[0mSCO\u001b[0m\u001b[0;34m)\u001b[0m\u001b[0;34m\u001b[0m\u001b[0m\n\u001b[0m",
      "\u001b[0;32m/Users/luca/anaconda/lib/python2.7/site-packages/seaborn/distributions.pyc\u001b[0m in \u001b[0;36mjointplot\u001b[0;34m(x, y, data, kind, stat_func, color, size, ratio, space, dropna, xlim, ylim, joint_kws, marginal_kws, annot_kws, **kwargs)\u001b[0m\n\u001b[1;32m    803\u001b[0m         \u001b[0mmarginal_kws\u001b[0m\u001b[0;34m.\u001b[0m\u001b[0msetdefault\u001b[0m\u001b[0;34m(\u001b[0m\u001b[0;34m\"kde\"\u001b[0m\u001b[0;34m,\u001b[0m \u001b[0mFalse\u001b[0m\u001b[0;34m)\u001b[0m\u001b[0;34m\u001b[0m\u001b[0m\n\u001b[1;32m    804\u001b[0m         \u001b[0mmarginal_kws\u001b[0m\u001b[0;34m.\u001b[0m\u001b[0msetdefault\u001b[0m\u001b[0;34m(\u001b[0m\u001b[0;34m\"color\"\u001b[0m\u001b[0;34m,\u001b[0m \u001b[0mcolor\u001b[0m\u001b[0;34m)\u001b[0m\u001b[0;34m\u001b[0m\u001b[0m\n\u001b[0;32m--> 805\u001b[0;31m         \u001b[0mgrid\u001b[0m\u001b[0;34m.\u001b[0m\u001b[0mplot_marginals\u001b[0m\u001b[0;34m(\u001b[0m\u001b[0mdistplot\u001b[0m\u001b[0;34m,\u001b[0m \u001b[0;34m**\u001b[0m\u001b[0mmarginal_kws\u001b[0m\u001b[0;34m)\u001b[0m\u001b[0;34m\u001b[0m\u001b[0m\n\u001b[0m\u001b[1;32m    806\u001b[0m \u001b[0;34m\u001b[0m\u001b[0m\n\u001b[1;32m    807\u001b[0m     \u001b[0;32melif\u001b[0m \u001b[0mkind\u001b[0m\u001b[0;34m.\u001b[0m\u001b[0mstartswith\u001b[0m\u001b[0;34m(\u001b[0m\u001b[0;34m\"hex\"\u001b[0m\u001b[0;34m)\u001b[0m\u001b[0;34m:\u001b[0m\u001b[0;34m\u001b[0m\u001b[0m\n",
      "\u001b[0;32m/Users/luca/anaconda/lib/python2.7/site-packages/seaborn/axisgrid.pyc\u001b[0m in \u001b[0;36mplot_marginals\u001b[0;34m(self, func, **kwargs)\u001b[0m\n\u001b[1;32m   1729\u001b[0m         \u001b[0mkwargs\u001b[0m\u001b[0;34m[\u001b[0m\u001b[0;34m\"vertical\"\u001b[0m\u001b[0;34m]\u001b[0m \u001b[0;34m=\u001b[0m \u001b[0mFalse\u001b[0m\u001b[0;34m\u001b[0m\u001b[0m\n\u001b[1;32m   1730\u001b[0m         \u001b[0mplt\u001b[0m\u001b[0;34m.\u001b[0m\u001b[0msca\u001b[0m\u001b[0;34m(\u001b[0m\u001b[0mself\u001b[0m\u001b[0;34m.\u001b[0m\u001b[0max_marg_x\u001b[0m\u001b[0;34m)\u001b[0m\u001b[0;34m\u001b[0m\u001b[0m\n\u001b[0;32m-> 1731\u001b[0;31m         \u001b[0mfunc\u001b[0m\u001b[0;34m(\u001b[0m\u001b[0mself\u001b[0m\u001b[0;34m.\u001b[0m\u001b[0mx\u001b[0m\u001b[0;34m,\u001b[0m \u001b[0;34m**\u001b[0m\u001b[0mkwargs\u001b[0m\u001b[0;34m)\u001b[0m\u001b[0;34m\u001b[0m\u001b[0m\n\u001b[0m\u001b[1;32m   1732\u001b[0m \u001b[0;34m\u001b[0m\u001b[0m\n\u001b[1;32m   1733\u001b[0m         \u001b[0mkwargs\u001b[0m\u001b[0;34m[\u001b[0m\u001b[0;34m\"vertical\"\u001b[0m\u001b[0;34m]\u001b[0m \u001b[0;34m=\u001b[0m \u001b[0mTrue\u001b[0m\u001b[0;34m\u001b[0m\u001b[0m\n",
      "\u001b[0;32m/Users/luca/anaconda/lib/python2.7/site-packages/seaborn/distributions.pyc\u001b[0m in \u001b[0;36mdistplot\u001b[0;34m(a, bins, hist, kde, rug, fit, hist_kws, kde_kws, rug_kws, fit_kws, color, vertical, norm_hist, axlabel, label, ax)\u001b[0m\n\u001b[1;32m    204\u001b[0m     \u001b[0;32mif\u001b[0m \u001b[0mhist\u001b[0m\u001b[0;34m:\u001b[0m\u001b[0;34m\u001b[0m\u001b[0m\n\u001b[1;32m    205\u001b[0m         \u001b[0;32mif\u001b[0m \u001b[0mbins\u001b[0m \u001b[0;32mis\u001b[0m \u001b[0mNone\u001b[0m\u001b[0;34m:\u001b[0m\u001b[0;34m\u001b[0m\u001b[0m\n\u001b[0;32m--> 206\u001b[0;31m             \u001b[0mbins\u001b[0m \u001b[0;34m=\u001b[0m \u001b[0mmin\u001b[0m\u001b[0;34m(\u001b[0m\u001b[0m_freedman_diaconis_bins\u001b[0m\u001b[0;34m(\u001b[0m\u001b[0ma\u001b[0m\u001b[0;34m)\u001b[0m\u001b[0;34m,\u001b[0m \u001b[0;36m50\u001b[0m\u001b[0;34m)\u001b[0m\u001b[0;34m\u001b[0m\u001b[0m\n\u001b[0m\u001b[1;32m    207\u001b[0m         \u001b[0mhist_kws\u001b[0m\u001b[0;34m.\u001b[0m\u001b[0msetdefault\u001b[0m\u001b[0;34m(\u001b[0m\u001b[0;34m\"alpha\"\u001b[0m\u001b[0;34m,\u001b[0m \u001b[0;36m0.4\u001b[0m\u001b[0;34m)\u001b[0m\u001b[0;34m\u001b[0m\u001b[0m\n\u001b[1;32m    208\u001b[0m         \u001b[0mhist_kws\u001b[0m\u001b[0;34m.\u001b[0m\u001b[0msetdefault\u001b[0m\u001b[0;34m(\u001b[0m\u001b[0;34m\"normed\"\u001b[0m\u001b[0;34m,\u001b[0m \u001b[0mnorm_hist\u001b[0m\u001b[0;34m)\u001b[0m\u001b[0;34m\u001b[0m\u001b[0m\n",
      "\u001b[0;32m/Users/luca/anaconda/lib/python2.7/site-packages/seaborn/distributions.pyc\u001b[0m in \u001b[0;36m_freedman_diaconis_bins\u001b[0;34m(a)\u001b[0m\n\u001b[1;32m     30\u001b[0m         \u001b[0;32mreturn\u001b[0m \u001b[0mint\u001b[0m\u001b[0;34m(\u001b[0m\u001b[0mnp\u001b[0m\u001b[0;34m.\u001b[0m\u001b[0msqrt\u001b[0m\u001b[0;34m(\u001b[0m\u001b[0ma\u001b[0m\u001b[0;34m.\u001b[0m\u001b[0msize\u001b[0m\u001b[0;34m)\u001b[0m\u001b[0;34m)\u001b[0m\u001b[0;34m\u001b[0m\u001b[0m\n\u001b[1;32m     31\u001b[0m     \u001b[0;32melse\u001b[0m\u001b[0;34m:\u001b[0m\u001b[0;34m\u001b[0m\u001b[0m\n\u001b[0;32m---> 32\u001b[0;31m         \u001b[0;32mreturn\u001b[0m \u001b[0mint\u001b[0m\u001b[0;34m(\u001b[0m\u001b[0mnp\u001b[0m\u001b[0;34m.\u001b[0m\u001b[0mceil\u001b[0m\u001b[0;34m(\u001b[0m\u001b[0;34m(\u001b[0m\u001b[0ma\u001b[0m\u001b[0;34m.\u001b[0m\u001b[0mmax\u001b[0m\u001b[0;34m(\u001b[0m\u001b[0;34m)\u001b[0m \u001b[0;34m-\u001b[0m \u001b[0ma\u001b[0m\u001b[0;34m.\u001b[0m\u001b[0mmin\u001b[0m\u001b[0;34m(\u001b[0m\u001b[0;34m)\u001b[0m\u001b[0;34m)\u001b[0m \u001b[0;34m/\u001b[0m \u001b[0mh\u001b[0m\u001b[0;34m)\u001b[0m\u001b[0;34m)\u001b[0m\u001b[0;34m\u001b[0m\u001b[0m\n\u001b[0m\u001b[1;32m     33\u001b[0m \u001b[0;34m\u001b[0m\u001b[0m\n\u001b[1;32m     34\u001b[0m \u001b[0;34m\u001b[0m\u001b[0m\n",
      "\u001b[0;31mValueError\u001b[0m: cannot convert float NaN to integer"
     ]
    },
    {
     "data": {
      "image/png": "[encoded data removed]",
      "text/plain": [
       "<matplotlib.figure.Figure at 0x12ba45450>"
      ]
     },
     "metadata": {},
     "output_type": "display_data"
    }
   ],
   "source": [
    "g = sns.jointplot(SCOw,SCO)"
   ]
  },
  {
   "cell_type": "code",
   "execution_count": 134,
   "metadata": {
    "collapsed": false
   },
   "outputs": [
    {
     "data": {
      "text/plain": [
       "<seaborn.axisgrid.JointGrid at 0x126db3650>"
      ]
     },
     "execution_count": 134,
     "metadata": {},
     "output_type": "execute_result"
    },
    {
     "data": {
      "image/png": "[encoded data removed]",
      "text/plain": [
       "<matplotlib.figure.Figure at 0x12999ddd0>"
      ]
     },
     "metadata": {},
     "output_type": "display_data"
    }
   ],
   "source": [
    "sns.set_context('talk')\n",
    "medianSCO = SCO.median(axis=0)\n",
    "medianSCOw = SCOw.median(axis=0)\n",
    "g = sns.jointplot(medianSCOw,medianSCO)\n",
    "g.set_axis_labels('waist wear time','device wear time')"
   ]
  },
  {
   "cell_type": "code",
   "execution_count": 135,
   "metadata": {
    "collapsed": false
   },
   "outputs": [
    {
     "data": {
      "text/plain": [
       "<seaborn.axisgrid.JointGrid at 0x126450b50>"
      ]
     },
     "execution_count": 135,
     "metadata": {},
     "output_type": "execute_result"
    },
    {
     "data": {
      "image/png": "[encoded data removed]",
      "text/plain": [
       "<matplotlib.figure.Figure at 0x12aa2c050>"
      ]
     },
     "metadata": {},
     "output_type": "display_data"
    }
   ],
   "source": [
    "sns.set_context('talk')\n",
    "medianCBR = CBR.median(axis=0)\n",
    "medianCBRw = CBRw.median(axis=0)\n",
    "g = sns.jointplot(medianCBRw,medianCBR)\n",
    "g.set_axis_labels('waist wear time','device wear time')"
   ]
  },
  {
   "cell_type": "code",
   "execution_count": 136,
   "metadata": {
    "collapsed": false
   },
   "outputs": [
    {
     "ename": "ValueError",
     "evalue": "cannot convert float NaN to integer",
     "output_type": "error",
     "traceback": [
      "\u001b[0;31m---------------------------------------------------------------------------\u001b[0m",
      "\u001b[0;31mValueError\u001b[0m                                Traceback (most recent call last)",
      "\u001b[0;32m<ipython-input-136-e77011012607>\u001b[0m in \u001b[0;36m<module>\u001b[0;34m()\u001b[0m\n\u001b[0;32m----> 1\u001b[0;31m \u001b[0msns\u001b[0m\u001b[0;34m.\u001b[0m\u001b[0mjointplot\u001b[0m\u001b[0;34m(\u001b[0m\u001b[0mCBRw\u001b[0m\u001b[0;34m,\u001b[0m\u001b[0mCBR\u001b[0m\u001b[0;34m)\u001b[0m\u001b[0;34m\u001b[0m\u001b[0m\n\u001b[0m",
      "\u001b[0;32m/Users/luca/anaconda/lib/python2.7/site-packages/seaborn/distributions.pyc\u001b[0m in \u001b[0;36mjointplot\u001b[0;34m(x, y, data, kind, stat_func, color, size, ratio, space, dropna, xlim, ylim, joint_kws, marginal_kws, annot_kws, **kwargs)\u001b[0m\n\u001b[1;32m    803\u001b[0m         \u001b[0mmarginal_kws\u001b[0m\u001b[0;34m.\u001b[0m\u001b[0msetdefault\u001b[0m\u001b[0;34m(\u001b[0m\u001b[0;34m\"kde\"\u001b[0m\u001b[0;34m,\u001b[0m \u001b[0mFalse\u001b[0m\u001b[0;34m)\u001b[0m\u001b[0;34m\u001b[0m\u001b[0m\n\u001b[1;32m    804\u001b[0m         \u001b[0mmarginal_kws\u001b[0m\u001b[0;34m.\u001b[0m\u001b[0msetdefault\u001b[0m\u001b[0;34m(\u001b[0m\u001b[0;34m\"color\"\u001b[0m\u001b[0;34m,\u001b[0m \u001b[0mcolor\u001b[0m\u001b[0;34m)\u001b[0m\u001b[0;34m\u001b[0m\u001b[0m\n\u001b[0;32m--> 805\u001b[0;31m         \u001b[0mgrid\u001b[0m\u001b[0;34m.\u001b[0m\u001b[0mplot_marginals\u001b[0m\u001b[0;34m(\u001b[0m\u001b[0mdistplot\u001b[0m\u001b[0;34m,\u001b[0m \u001b[0;34m**\u001b[0m\u001b[0mmarginal_kws\u001b[0m\u001b[0;34m)\u001b[0m\u001b[0;34m\u001b[0m\u001b[0m\n\u001b[0m\u001b[1;32m    806\u001b[0m \u001b[0;34m\u001b[0m\u001b[0m\n\u001b[1;32m    807\u001b[0m     \u001b[0;32melif\u001b[0m \u001b[0mkind\u001b[0m\u001b[0;34m.\u001b[0m\u001b[0mstartswith\u001b[0m\u001b[0;34m(\u001b[0m\u001b[0;34m\"hex\"\u001b[0m\u001b[0;34m)\u001b[0m\u001b[0;34m:\u001b[0m\u001b[0;34m\u001b[0m\u001b[0m\n",
      "\u001b[0;32m/Users/luca/anaconda/lib/python2.7/site-packages/seaborn/axisgrid.pyc\u001b[0m in \u001b[0;36mplot_marginals\u001b[0;34m(self, func, **kwargs)\u001b[0m\n\u001b[1;32m   1729\u001b[0m         \u001b[0mkwargs\u001b[0m\u001b[0;34m[\u001b[0m\u001b[0;34m\"vertical\"\u001b[0m\u001b[0;34m]\u001b[0m \u001b[0;34m=\u001b[0m \u001b[0mFalse\u001b[0m\u001b[0;34m\u001b[0m\u001b[0m\n\u001b[1;32m   1730\u001b[0m         \u001b[0mplt\u001b[0m\u001b[0;34m.\u001b[0m\u001b[0msca\u001b[0m\u001b[0;34m(\u001b[0m\u001b[0mself\u001b[0m\u001b[0;34m.\u001b[0m\u001b[0max_marg_x\u001b[0m\u001b[0;34m)\u001b[0m\u001b[0;34m\u001b[0m\u001b[0m\n\u001b[0;32m-> 1731\u001b[0;31m         \u001b[0mfunc\u001b[0m\u001b[0;34m(\u001b[0m\u001b[0mself\u001b[0m\u001b[0;34m.\u001b[0m\u001b[0mx\u001b[0m\u001b[0;34m,\u001b[0m \u001b[0;34m**\u001b[0m\u001b[0mkwargs\u001b[0m\u001b[0;34m)\u001b[0m\u001b[0;34m\u001b[0m\u001b[0m\n\u001b[0m\u001b[1;32m   1732\u001b[0m \u001b[0;34m\u001b[0m\u001b[0m\n\u001b[1;32m   1733\u001b[0m         \u001b[0mkwargs\u001b[0m\u001b[0;34m[\u001b[0m\u001b[0;34m\"vertical\"\u001b[0m\u001b[0;34m]\u001b[0m \u001b[0;34m=\u001b[0m \u001b[0mTrue\u001b[0m\u001b[0;34m\u001b[0m\u001b[0m\n",
      "\u001b[0;32m/Users/luca/anaconda/lib/python2.7/site-packages/seaborn/distributions.pyc\u001b[0m in \u001b[0;36mdistplot\u001b[0;34m(a, bins, hist, kde, rug, fit, hist_kws, kde_kws, rug_kws, fit_kws, color, vertical, norm_hist, axlabel, label, ax)\u001b[0m\n\u001b[1;32m    204\u001b[0m     \u001b[0;32mif\u001b[0m \u001b[0mhist\u001b[0m\u001b[0;34m:\u001b[0m\u001b[0;34m\u001b[0m\u001b[0m\n\u001b[1;32m    205\u001b[0m         \u001b[0;32mif\u001b[0m \u001b[0mbins\u001b[0m \u001b[0;32mis\u001b[0m \u001b[0mNone\u001b[0m\u001b[0;34m:\u001b[0m\u001b[0;34m\u001b[0m\u001b[0m\n\u001b[0;32m--> 206\u001b[0;31m             \u001b[0mbins\u001b[0m \u001b[0;34m=\u001b[0m \u001b[0mmin\u001b[0m\u001b[0;34m(\u001b[0m\u001b[0m_freedman_diaconis_bins\u001b[0m\u001b[0;34m(\u001b[0m\u001b[0ma\u001b[0m\u001b[0;34m)\u001b[0m\u001b[0;34m,\u001b[0m \u001b[0;36m50\u001b[0m\u001b[0;34m)\u001b[0m\u001b[0;34m\u001b[0m\u001b[0m\n\u001b[0m\u001b[1;32m    207\u001b[0m         \u001b[0mhist_kws\u001b[0m\u001b[0;34m.\u001b[0m\u001b[0msetdefault\u001b[0m\u001b[0;34m(\u001b[0m\u001b[0;34m\"alpha\"\u001b[0m\u001b[0;34m,\u001b[0m \u001b[0;36m0.4\u001b[0m\u001b[0;34m)\u001b[0m\u001b[0;34m\u001b[0m\u001b[0m\n\u001b[1;32m    208\u001b[0m         \u001b[0mhist_kws\u001b[0m\u001b[0;34m.\u001b[0m\u001b[0msetdefault\u001b[0m\u001b[0;34m(\u001b[0m\u001b[0;34m\"normed\"\u001b[0m\u001b[0;34m,\u001b[0m \u001b[0mnorm_hist\u001b[0m\u001b[0;34m)\u001b[0m\u001b[0;34m\u001b[0m\u001b[0m\n",
      "\u001b[0;32m/Users/luca/anaconda/lib/python2.7/site-packages/seaborn/distributions.pyc\u001b[0m in \u001b[0;36m_freedman_diaconis_bins\u001b[0;34m(a)\u001b[0m\n\u001b[1;32m     30\u001b[0m         \u001b[0;32mreturn\u001b[0m \u001b[0mint\u001b[0m\u001b[0;34m(\u001b[0m\u001b[0mnp\u001b[0m\u001b[0;34m.\u001b[0m\u001b[0msqrt\u001b[0m\u001b[0;34m(\u001b[0m\u001b[0ma\u001b[0m\u001b[0;34m.\u001b[0m\u001b[0msize\u001b[0m\u001b[0;34m)\u001b[0m\u001b[0;34m)\u001b[0m\u001b[0;34m\u001b[0m\u001b[0m\n\u001b[1;32m     31\u001b[0m     \u001b[0;32melse\u001b[0m\u001b[0;34m:\u001b[0m\u001b[0;34m\u001b[0m\u001b[0m\n\u001b[0;32m---> 32\u001b[0;31m         \u001b[0;32mreturn\u001b[0m \u001b[0mint\u001b[0m\u001b[0;34m(\u001b[0m\u001b[0mnp\u001b[0m\u001b[0;34m.\u001b[0m\u001b[0mceil\u001b[0m\u001b[0;34m(\u001b[0m\u001b[0;34m(\u001b[0m\u001b[0ma\u001b[0m\u001b[0;34m.\u001b[0m\u001b[0mmax\u001b[0m\u001b[0;34m(\u001b[0m\u001b[0;34m)\u001b[0m \u001b[0;34m-\u001b[0m \u001b[0ma\u001b[0m\u001b[0;34m.\u001b[0m\u001b[0mmin\u001b[0m\u001b[0;34m(\u001b[0m\u001b[0;34m)\u001b[0m\u001b[0;34m)\u001b[0m \u001b[0;34m/\u001b[0m \u001b[0mh\u001b[0m\u001b[0;34m)\u001b[0m\u001b[0;34m)\u001b[0m\u001b[0;34m\u001b[0m\u001b[0m\n\u001b[0m\u001b[1;32m     33\u001b[0m \u001b[0;34m\u001b[0m\u001b[0m\n\u001b[1;32m     34\u001b[0m \u001b[0;34m\u001b[0m\u001b[0m\n",
      "\u001b[0;31mValueError\u001b[0m: cannot convert float NaN to integer"
     ]
    },
    {
     "data": {
      "image/png": "[encoded data removed]",
      "text/plain": [
       "<matplotlib.figure.Figure at 0x12ad98710>"
      ]
     },
     "metadata": {},
     "output_type": "display_data"
    }
   ],
   "source": [
    "sns.jointplot(CBRw,CBR)"
   ]
  },
  {
   "cell_type": "code",
   "execution_count": null,
   "metadata": {
    "collapsed": true
   },
   "outputs": [],
   "source": []
  }
 ],
 "metadata": {
  "kernelspec": {
   "display_name": "Python 2",
   "language": "python",
   "name": "python2"
  },
  "language_info": {
   "codemirror_mode": {
    "name": "ipython",
    "version": 2
   },
   "file_extension": ".py",
   "mimetype": "text/x-python",
   "name": "python",
   "nbconvert_exporter": "python",
   "pygments_lexer": "ipython2",
   "version": "2.7.11"
  }
 },
 "nbformat": 4,
 "nbformat_minor": 0
}
