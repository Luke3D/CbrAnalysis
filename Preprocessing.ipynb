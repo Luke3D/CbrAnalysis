{
 "cells": [
  {
   "cell_type": "code",
   "execution_count": 1,
   "metadata": {},
   "outputs": [],
   "source": [
    "import pandas as pd\n",
    "import numpy as np\n",
    "import seaborn as sns\n",
    "import datetime as dt\n",
    "import os\n",
    "import pytz\n",
    "from pytz import timezone\n",
    "import time\n",
    "\n",
    "from scipy.stats import pearsonr\n",
    "import matplotlib.pyplot as plt\n",
    "%matplotlib inline"
   ]
  },
  {
   "cell_type": "code",
   "execution_count": 2,
   "metadata": {},
   "outputs": [],
   "source": [
    "tz = timezone('US/Central') # This data uses GMT-6 rather than standard CST/CDT\n",
    "def toUTC(d):\n",
    "    return tz.normalize(tz.localize(d)).astimezone(pytz.utc)"
   ]
  },
  {
   "cell_type": "code",
   "execution_count": 3,
   "metadata": {},
   "outputs": [],
   "source": [
    "def string2datetime(stringDTSeries):\n",
    "    try:\n",
    "        return [(dt.datetime.strptime(DT,'%Y/%m/%d %I:%M:%S %p')) for DT in stringDTSeries]\n",
    "    except(ValueError):\n",
    "        try:\n",
    "            return [(dt.datetime.strptime(DT,'%Y/%m/%d %H:%M:%S')) for DT in stringDTSeries]\n",
    "        except(ValueError):\n",
    "            try:\n",
    "                return [(dt.datetime.strptime(DT,'%m/%d/%Y %I:%M:%S %p')) for DT in stringDTSeries]\n",
    "            except(ValueError):\n",
    "                try:\n",
    "                    return [(dt.datetime.strptime(DT,'%m/%d/%Y %H:%M:%S')) for DT in stringDTSeries]\n",
    "                except(ValueError):\n",
    "                    return [(dt.datetime.strptime(DT,'%m/%d/%y %H:%M:%S')) for DT in stringDTSeries]"
   ]
  },
  {
   "cell_type": "code",
   "execution_count": 4,
   "metadata": {},
   "outputs": [],
   "source": [
    "path = '/Volumes/RTO/C Brace/GPS Analysis/' #mac\n",
    "# path = 'X:/C Brace/GPS Analysis/' #win\n",
    "# path = 'Z:/C Brace/GPS Analysis/'\n"
   ]
  },
  {
   "cell_type": "markdown",
   "metadata": {},
   "source": [
    "## Add LandUse coordinates and weartime to UIC preprocessed GPS files"
   ]
  },
  {
   "cell_type": "code",
   "execution_count": 6,
   "metadata": {},
   "outputs": [
    {
     "name": "stdout",
     "output_type": "stream",
     "text": [
      "        Date  Sequence BeginTime   EndTime Mode     LandUse\n",
      "0 2015-02-10         1  11:42:37  12:09:58  Car        Trip\n",
      "1 2015-02-10         2  12:10:08  12:17:18  NaN  COM_URBMIX\n",
      "2 2015-02-10         3  12:17:28  12:36:28  Car        Trip\n",
      "3 2015-02-10         4  12:36:38  12:45:38  NaN  COM_URBMIX\n",
      "4 2015-02-10         5  12:45:48  13:55:10  Car        Trip\n",
      "0%\n"
     ]
    },
    {
     "ename": "TypeError",
     "evalue": "Cannot compare tz-naive and tz-aware datetime-like objects.",
     "output_type": "error",
     "traceback": [
      "\u001b[0;31m---------------------------------------------------------------------------\u001b[0m",
      "\u001b[0;31mTypeError\u001b[0m                                 Traceback (most recent call last)",
      "\u001b[0;32m<ipython-input-6-23bc62166939>\u001b[0m in \u001b[0;36m<module>\u001b[0;34m\u001b[0m\n\u001b[1;32m     50\u001b[0m \u001b[0;34m\u001b[0m\u001b[0m\n\u001b[1;32m     51\u001b[0m     \u001b[0;31m#find matching dates between 2 files (processed and raw) and compute features\u001b[0m\u001b[0;34m\u001b[0m\u001b[0;34m\u001b[0m\u001b[0;34m\u001b[0m\u001b[0m\n\u001b[0;32m---> 52\u001b[0;31m     \u001b[0mind\u001b[0m \u001b[0;34m=\u001b[0m \u001b[0;34m(\u001b[0m\u001b[0mGpsDates\u001b[0m \u001b[0;34m>=\u001b[0m \u001b[0mstartdate\u001b[0m\u001b[0;34m)\u001b[0m \u001b[0;34m&\u001b[0m \u001b[0;34m(\u001b[0m\u001b[0mGpsDates\u001b[0m \u001b[0;34m<=\u001b[0m \u001b[0menddate\u001b[0m\u001b[0;34m)\u001b[0m\u001b[0;34m\u001b[0m\u001b[0;34m\u001b[0m\u001b[0m\n\u001b[0m\u001b[1;32m     53\u001b[0m     \u001b[0;31m#compute and store features\u001b[0m\u001b[0;34m\u001b[0m\u001b[0;34m\u001b[0m\u001b[0;34m\u001b[0m\u001b[0m\n\u001b[1;32m     54\u001b[0m     \u001b[0mmeanLat\u001b[0m \u001b[0;34m=\u001b[0m \u001b[0mnp\u001b[0m\u001b[0;34m.\u001b[0m\u001b[0mmean\u001b[0m\u001b[0;34m(\u001b[0m\u001b[0mGpsdata\u001b[0m\u001b[0;34m[\u001b[0m\u001b[0;34m'LATITUDE'\u001b[0m\u001b[0;34m]\u001b[0m\u001b[0;34m[\u001b[0m\u001b[0mind\u001b[0m\u001b[0;34m]\u001b[0m\u001b[0;34m)\u001b[0m\u001b[0;34m\u001b[0m\u001b[0;34m\u001b[0m\u001b[0m\n",
      "\u001b[0;32m~/anaconda3/lib/python3.6/site-packages/pandas/core/ops/common.py\u001b[0m in \u001b[0;36mnew_method\u001b[0;34m(self, other)\u001b[0m\n\u001b[1;32m     62\u001b[0m         \u001b[0mother\u001b[0m \u001b[0;34m=\u001b[0m \u001b[0mitem_from_zerodim\u001b[0m\u001b[0;34m(\u001b[0m\u001b[0mother\u001b[0m\u001b[0;34m)\u001b[0m\u001b[0;34m\u001b[0m\u001b[0;34m\u001b[0m\u001b[0m\n\u001b[1;32m     63\u001b[0m \u001b[0;34m\u001b[0m\u001b[0m\n\u001b[0;32m---> 64\u001b[0;31m         \u001b[0;32mreturn\u001b[0m \u001b[0mmethod\u001b[0m\u001b[0;34m(\u001b[0m\u001b[0mself\u001b[0m\u001b[0;34m,\u001b[0m \u001b[0mother\u001b[0m\u001b[0;34m)\u001b[0m\u001b[0;34m\u001b[0m\u001b[0;34m\u001b[0m\u001b[0m\n\u001b[0m\u001b[1;32m     65\u001b[0m \u001b[0;34m\u001b[0m\u001b[0m\n\u001b[1;32m     66\u001b[0m     \u001b[0;32mreturn\u001b[0m \u001b[0mnew_method\u001b[0m\u001b[0;34m\u001b[0m\u001b[0;34m\u001b[0m\u001b[0m\n",
      "\u001b[0;32m~/anaconda3/lib/python3.6/site-packages/pandas/core/ops/__init__.py\u001b[0m in \u001b[0;36mwrapper\u001b[0;34m(self, other)\u001b[0m\n\u001b[1;32m    524\u001b[0m         \u001b[0mrvalues\u001b[0m \u001b[0;34m=\u001b[0m \u001b[0mextract_array\u001b[0m\u001b[0;34m(\u001b[0m\u001b[0mother\u001b[0m\u001b[0;34m,\u001b[0m \u001b[0mextract_numpy\u001b[0m\u001b[0;34m=\u001b[0m\u001b[0;32mTrue\u001b[0m\u001b[0;34m)\u001b[0m\u001b[0;34m\u001b[0m\u001b[0;34m\u001b[0m\u001b[0m\n\u001b[1;32m    525\u001b[0m \u001b[0;34m\u001b[0m\u001b[0m\n\u001b[0;32m--> 526\u001b[0;31m         \u001b[0mres_values\u001b[0m \u001b[0;34m=\u001b[0m \u001b[0mcomparison_op\u001b[0m\u001b[0;34m(\u001b[0m\u001b[0mlvalues\u001b[0m\u001b[0;34m,\u001b[0m \u001b[0mrvalues\u001b[0m\u001b[0;34m,\u001b[0m \u001b[0mop\u001b[0m\u001b[0;34m)\u001b[0m\u001b[0;34m\u001b[0m\u001b[0;34m\u001b[0m\u001b[0m\n\u001b[0m\u001b[1;32m    527\u001b[0m \u001b[0;34m\u001b[0m\u001b[0m\n\u001b[1;32m    528\u001b[0m         \u001b[0;32mreturn\u001b[0m \u001b[0m_construct_result\u001b[0m\u001b[0;34m(\u001b[0m\u001b[0mself\u001b[0m\u001b[0;34m,\u001b[0m \u001b[0mres_values\u001b[0m\u001b[0;34m,\u001b[0m \u001b[0mindex\u001b[0m\u001b[0;34m=\u001b[0m\u001b[0mself\u001b[0m\u001b[0;34m.\u001b[0m\u001b[0mindex\u001b[0m\u001b[0;34m,\u001b[0m \u001b[0mname\u001b[0m\u001b[0;34m=\u001b[0m\u001b[0mres_name\u001b[0m\u001b[0;34m)\u001b[0m\u001b[0;34m\u001b[0m\u001b[0;34m\u001b[0m\u001b[0m\n",
      "\u001b[0;32m~/anaconda3/lib/python3.6/site-packages/pandas/core/ops/array_ops.py\u001b[0m in \u001b[0;36mcomparison_op\u001b[0;34m(left, right, op)\u001b[0m\n\u001b[1;32m    234\u001b[0m \u001b[0;34m\u001b[0m\u001b[0m\n\u001b[1;32m    235\u001b[0m     \u001b[0;32mif\u001b[0m \u001b[0mshould_extension_dispatch\u001b[0m\u001b[0;34m(\u001b[0m\u001b[0mlvalues\u001b[0m\u001b[0;34m,\u001b[0m \u001b[0mrvalues\u001b[0m\u001b[0;34m)\u001b[0m\u001b[0;34m:\u001b[0m\u001b[0;34m\u001b[0m\u001b[0;34m\u001b[0m\u001b[0m\n\u001b[0;32m--> 236\u001b[0;31m         \u001b[0mres_values\u001b[0m \u001b[0;34m=\u001b[0m \u001b[0mdispatch_to_extension_op\u001b[0m\u001b[0;34m(\u001b[0m\u001b[0mop\u001b[0m\u001b[0;34m,\u001b[0m \u001b[0mlvalues\u001b[0m\u001b[0;34m,\u001b[0m \u001b[0mrvalues\u001b[0m\u001b[0;34m)\u001b[0m\u001b[0;34m\u001b[0m\u001b[0;34m\u001b[0m\u001b[0m\n\u001b[0m\u001b[1;32m    237\u001b[0m \u001b[0;34m\u001b[0m\u001b[0m\n\u001b[1;32m    238\u001b[0m     \u001b[0;32melif\u001b[0m \u001b[0mis_scalar\u001b[0m\u001b[0;34m(\u001b[0m\u001b[0mrvalues\u001b[0m\u001b[0;34m)\u001b[0m \u001b[0;32mand\u001b[0m \u001b[0misna\u001b[0m\u001b[0;34m(\u001b[0m\u001b[0mrvalues\u001b[0m\u001b[0;34m)\u001b[0m\u001b[0;34m:\u001b[0m\u001b[0;34m\u001b[0m\u001b[0;34m\u001b[0m\u001b[0m\n",
      "\u001b[0;32m~/anaconda3/lib/python3.6/site-packages/pandas/core/ops/dispatch.py\u001b[0m in \u001b[0;36mdispatch_to_extension_op\u001b[0;34m(op, left, right)\u001b[0m\n\u001b[1;32m    123\u001b[0m     \u001b[0;31m# The op calls will raise TypeError if the op is not defined\u001b[0m\u001b[0;34m\u001b[0m\u001b[0;34m\u001b[0m\u001b[0;34m\u001b[0m\u001b[0m\n\u001b[1;32m    124\u001b[0m     \u001b[0;31m# on the ExtensionArray\u001b[0m\u001b[0;34m\u001b[0m\u001b[0;34m\u001b[0m\u001b[0;34m\u001b[0m\u001b[0m\n\u001b[0;32m--> 125\u001b[0;31m     \u001b[0mres_values\u001b[0m \u001b[0;34m=\u001b[0m \u001b[0mop\u001b[0m\u001b[0;34m(\u001b[0m\u001b[0mleft\u001b[0m\u001b[0;34m,\u001b[0m \u001b[0mright\u001b[0m\u001b[0;34m)\u001b[0m\u001b[0;34m\u001b[0m\u001b[0;34m\u001b[0m\u001b[0m\n\u001b[0m\u001b[1;32m    126\u001b[0m     \u001b[0;32mreturn\u001b[0m \u001b[0mres_values\u001b[0m\u001b[0;34m\u001b[0m\u001b[0;34m\u001b[0m\u001b[0m\n",
      "\u001b[0;32m~/anaconda3/lib/python3.6/site-packages/pandas/core/ops/common.py\u001b[0m in \u001b[0;36mnew_method\u001b[0;34m(self, other)\u001b[0m\n\u001b[1;32m     62\u001b[0m         \u001b[0mother\u001b[0m \u001b[0;34m=\u001b[0m \u001b[0mitem_from_zerodim\u001b[0m\u001b[0;34m(\u001b[0m\u001b[0mother\u001b[0m\u001b[0;34m)\u001b[0m\u001b[0;34m\u001b[0m\u001b[0;34m\u001b[0m\u001b[0m\n\u001b[1;32m     63\u001b[0m \u001b[0;34m\u001b[0m\u001b[0m\n\u001b[0;32m---> 64\u001b[0;31m         \u001b[0;32mreturn\u001b[0m \u001b[0mmethod\u001b[0m\u001b[0;34m(\u001b[0m\u001b[0mself\u001b[0m\u001b[0;34m,\u001b[0m \u001b[0mother\u001b[0m\u001b[0;34m)\u001b[0m\u001b[0;34m\u001b[0m\u001b[0;34m\u001b[0m\u001b[0m\n\u001b[0m\u001b[1;32m     65\u001b[0m \u001b[0;34m\u001b[0m\u001b[0m\n\u001b[1;32m     66\u001b[0m     \u001b[0;32mreturn\u001b[0m \u001b[0mnew_method\u001b[0m\u001b[0;34m\u001b[0m\u001b[0;34m\u001b[0m\u001b[0m\n",
      "\u001b[0;32m~/anaconda3/lib/python3.6/site-packages/pandas/core/arrays/datetimelike.py\u001b[0m in \u001b[0;36mwrapper\u001b[0;34m(self, other)\u001b[0m\n\u001b[1;32m     72\u001b[0m         \u001b[0;32mif\u001b[0m \u001b[0misinstance\u001b[0m\u001b[0;34m(\u001b[0m\u001b[0mother\u001b[0m\u001b[0;34m,\u001b[0m \u001b[0mself\u001b[0m\u001b[0;34m.\u001b[0m\u001b[0m_recognized_scalars\u001b[0m\u001b[0;34m)\u001b[0m \u001b[0;32mor\u001b[0m \u001b[0mother\u001b[0m \u001b[0;32mis\u001b[0m \u001b[0mNaT\u001b[0m\u001b[0;34m:\u001b[0m\u001b[0;34m\u001b[0m\u001b[0;34m\u001b[0m\u001b[0m\n\u001b[1;32m     73\u001b[0m             \u001b[0mother\u001b[0m \u001b[0;34m=\u001b[0m \u001b[0mself\u001b[0m\u001b[0;34m.\u001b[0m\u001b[0m_scalar_type\u001b[0m\u001b[0;34m(\u001b[0m\u001b[0mother\u001b[0m\u001b[0;34m)\u001b[0m\u001b[0;34m\u001b[0m\u001b[0;34m\u001b[0m\u001b[0m\n\u001b[0;32m---> 74\u001b[0;31m             \u001b[0mself\u001b[0m\u001b[0;34m.\u001b[0m\u001b[0m_check_compatible_with\u001b[0m\u001b[0;34m(\u001b[0m\u001b[0mother\u001b[0m\u001b[0;34m)\u001b[0m\u001b[0;34m\u001b[0m\u001b[0;34m\u001b[0m\u001b[0m\n\u001b[0m\u001b[1;32m     75\u001b[0m \u001b[0;34m\u001b[0m\u001b[0m\n\u001b[1;32m     76\u001b[0m             \u001b[0mother_i8\u001b[0m \u001b[0;34m=\u001b[0m \u001b[0mself\u001b[0m\u001b[0;34m.\u001b[0m\u001b[0m_unbox_scalar\u001b[0m\u001b[0;34m(\u001b[0m\u001b[0mother\u001b[0m\u001b[0;34m)\u001b[0m\u001b[0;34m\u001b[0m\u001b[0;34m\u001b[0m\u001b[0m\n",
      "\u001b[0;32m~/anaconda3/lib/python3.6/site-packages/pandas/core/arrays/datetimes.py\u001b[0m in \u001b[0;36m_check_compatible_with\u001b[0;34m(self, other, setitem)\u001b[0m\n\u001b[1;32m    460\u001b[0m         \u001b[0;32mif\u001b[0m \u001b[0mother\u001b[0m \u001b[0;32mis\u001b[0m \u001b[0mNaT\u001b[0m\u001b[0;34m:\u001b[0m\u001b[0;34m\u001b[0m\u001b[0;34m\u001b[0m\u001b[0m\n\u001b[1;32m    461\u001b[0m             \u001b[0;32mreturn\u001b[0m\u001b[0;34m\u001b[0m\u001b[0;34m\u001b[0m\u001b[0m\n\u001b[0;32m--> 462\u001b[0;31m         \u001b[0mself\u001b[0m\u001b[0;34m.\u001b[0m\u001b[0m_assert_tzawareness_compat\u001b[0m\u001b[0;34m(\u001b[0m\u001b[0mother\u001b[0m\u001b[0;34m)\u001b[0m\u001b[0;34m\u001b[0m\u001b[0;34m\u001b[0m\u001b[0m\n\u001b[0m\u001b[1;32m    463\u001b[0m         \u001b[0;32mif\u001b[0m \u001b[0msetitem\u001b[0m\u001b[0;34m:\u001b[0m\u001b[0;34m\u001b[0m\u001b[0;34m\u001b[0m\u001b[0m\n\u001b[1;32m    464\u001b[0m             \u001b[0;31m# Stricter check for setitem vs comparison methods\u001b[0m\u001b[0;34m\u001b[0m\u001b[0;34m\u001b[0m\u001b[0;34m\u001b[0m\u001b[0m\n",
      "\u001b[0;32m~/anaconda3/lib/python3.6/site-packages/pandas/core/arrays/datetimes.py\u001b[0m in \u001b[0;36m_assert_tzawareness_compat\u001b[0;34m(self, other)\u001b[0m\n\u001b[1;32m    641\u001b[0m             \u001b[0;32mif\u001b[0m \u001b[0mother_tz\u001b[0m \u001b[0;32mis\u001b[0m \u001b[0;32mnot\u001b[0m \u001b[0;32mNone\u001b[0m\u001b[0;34m:\u001b[0m\u001b[0;34m\u001b[0m\u001b[0;34m\u001b[0m\u001b[0m\n\u001b[1;32m    642\u001b[0m                 raise TypeError(\n\u001b[0;32m--> 643\u001b[0;31m                     \u001b[0;34m\"Cannot compare tz-naive and tz-aware datetime-like objects.\"\u001b[0m\u001b[0;34m\u001b[0m\u001b[0;34m\u001b[0m\u001b[0m\n\u001b[0m\u001b[1;32m    644\u001b[0m                 )\n\u001b[1;32m    645\u001b[0m         \u001b[0;32melif\u001b[0m \u001b[0mother_tz\u001b[0m \u001b[0;32mis\u001b[0m \u001b[0;32mNone\u001b[0m\u001b[0;34m:\u001b[0m\u001b[0;34m\u001b[0m\u001b[0;34m\u001b[0m\u001b[0m\n",
      "\u001b[0;31mTypeError\u001b[0m: Cannot compare tz-naive and tz-aware datetime-like objects."
     ]
    }
   ],
   "source": [
    "#load single file - TEST\n",
    "fraw = 'CBR08_CBrace.csv'\n",
    "fuic = 'CBR08_Final_Summary_File.xlsx'\n",
    "Gpsdata = pd.read_csv(path+'GPSWT/'+fraw)\n",
    "Baseline = pd.read_excel(path+'UIC_GPSData/'+fuic,sheet_name='CBR')\n",
    "\n",
    "\n",
    "loc_lat = [];    loc_lon = [];  wear_frac = []; num_points = []\n",
    "spd_min = []; spd_max = []; spd_mean = []; spd_median = []\n",
    "duration = []; gap_min = [];  gap_max = []; gap_mean = []; gap_median = [] \n",
    "\n",
    "\n",
    "#Drop unnecessary cols from UIC table\n",
    "Baseline = Baseline.drop(['MeanSpeed','Numberpoints','Duration','TotalGap'],axis=1)\n",
    "print(Baseline.head())\n",
    "\n",
    "#convert date formats from raw gps\n",
    "x = Gpsdata['UTC DATE']+' '+Gpsdata['UTC TIME'] #full date/time\n",
    "GpsDates = string2datetime(x) #convert to datetime object\n",
    "GpsDates=pd.Series(GpsDates)\n",
    "\n",
    "for i in range(len(Baseline)):\n",
    "    if i%(len(Baseline)/10) == 0:\n",
    "        print(str(i)+'%')\n",
    "    start = Baseline.BeginTime[i]\n",
    "    end = Baseline.EndTime[i]\n",
    "    d = Baseline.Date[i]\n",
    "\n",
    "    if type(d) != str:\n",
    "        d = d.strftime('%Y/%m/%d') \n",
    "    if type(start) != str:\n",
    "        start = str(start)\n",
    "    if type(end) != str:\n",
    "        end = str(end)\n",
    "    try:\n",
    "        startdate = toUTC(dt.datetime.strptime(d+' '+start,'%Y/%m/%d %H:%M:%S'))\n",
    "        enddate = toUTC(dt.datetime.strptime(d+' '+end,'%Y/%m/%d %H:%M:%S'))\n",
    "    except(ValueError):\n",
    "        try:\n",
    "            startdate = toUTC(dt.datetime.strptime(d+' '+start,'%m/%d/%y %H:%M:%S'))\n",
    "            enddate = toUTC(dt.datetime.strptime(d+' '+end,'%m/%d/%y %H:%M:%S'))\n",
    "        except(ValueError):\n",
    "            try:\n",
    "                startdate = toUTC(dt.datetime.strptime(d+' '+start,'%m/%d/%Y %H:%M:%S'))\n",
    "                enddate = toUTC(dt.datetime.strptime(d+' '+end,'%m/%d/%Y %H:%M:%S'))\n",
    "            except(ValueError):\n",
    "                startdate = toUTC(dt.datetime.strptime(d+' '+start,'%Y-%m-%d %H:%M:%S'))\n",
    "                enddate = toUTC(dt.datetime.strptime(d+' '+end,'%Y-%m-%d %H:%M:%S'))\n",
    "\n",
    "\n",
    "    #find matching dates between 2 files (processed and raw) and compute features\n",
    "    ind = (GpsDates >= startdate) & (GpsDates <= enddate)\n",
    "    #compute and store features\n",
    "    meanLat = np.mean(Gpsdata['LATITUDE'][ind])\n",
    "    meanLon = np.mean(Gpsdata['LONGITUDE'][ind])\n",
    "    if np.isnan(meanLat) or np.isnan(meanLon):\n",
    "        print('null found %s'%any(ind))\n",
    "        print(startdate,enddate)\n",
    "    loc_lat.append(meanLat)\n",
    "    loc_lon.append(meanLon)\n",
    "    spd_min.append(np.min(Gpsdata['SPEED'][ind]))\n",
    "    spd_max.append(np.max(Gpsdata['SPEED'][ind]))                \n",
    "    spd_mean.append(np.mean(Gpsdata['SPEED'][ind]))\n",
    "    spd_median.append(np.median(Gpsdata['SPEED'][ind]))\n",
    "    num_points.append(sum(ind))\n",
    "    duration.append(enddate-startdate)\n",
    "    #gaps between points in secs in rawgps data for daterange\n",
    "    td = GpsDates[ind].diff()\n",
    "    gap_min.append(td.min().total_seconds())\n",
    "    gap_max.append(td.max().total_seconds())\n",
    "    gap_mean.append(td.mean().total_seconds())\n",
    "    gap_median.append(td.median().total_seconds())\n",
    "\n",
    "    wear_ind = (Gpsdata['Wear/Non-Wear']=='Wear') & ind\n",
    "    wear_frac.append(sum(wear_ind)/sum(ind))\n",
    "\n",
    "Baseline['Mean Lat'] = loc_lat; Baseline['Mean Lon'] = loc_lon; Baseline['Wear Frac'] = wear_frac\n",
    "Baseline['Duration'] = duration; Baseline['Numpoints'] = num_points\n",
    "Baseline['Speed_Mean'] = spd_mean; Baseline['Speed_Min'] = spd_min; Baseline['Speed_Max'] = spd_max\n",
    "Baseline['Speed_Median'] = spd_median\n",
    "Baseline['Gap_Min'] = gap_min; Baseline['Gap_Max']=gap_max; Baseline['Gap_Mean']=gap_mean; \n",
    "Baseline['Gap_Median']=gap_median\n",
    "\n",
    "\n",
    "# Compute Min, Max, Median, Mean of speed\n",
    "# Compute duration\n",
    "# Number of Raw GPS points\n",
    "# Min, Max, mean, std of gaps b/w points\n",
    "\n",
    "# Number of unclustered data points for each Subject/Brace"
   ]
  },
  {
   "cell_type": "code",
   "execution_count": 9,
   "metadata": {},
   "outputs": [
    {
     "data": {
      "text/plain": [
       "numpy.datetime64('2015-02-10T17:42:37.000000000')"
      ]
     },
     "execution_count": 9,
     "metadata": {},
     "output_type": "execute_result"
    }
   ],
   "source": [
    "t = GpsDates.values[0]\n"
   ]
  },
  {
   "cell_type": "code",
   "execution_count": 84,
   "metadata": {
    "scrolled": true
   },
   "outputs": [
    {
     "data": {
      "text/html": [
       "<div>\n",
       "<table border=\"1\" class=\"dataframe\">\n",
       "  <thead>\n",
       "    <tr style=\"text-align: right;\">\n",
       "      <th></th>\n",
       "      <th>Date</th>\n",
       "      <th>Sequence</th>\n",
       "      <th>BeginTime</th>\n",
       "      <th>EndTime</th>\n",
       "      <th>Mode</th>\n",
       "      <th>LandUse</th>\n",
       "      <th>Mean Lat</th>\n",
       "      <th>Mean Lon</th>\n",
       "      <th>Wear Frac</th>\n",
       "      <th>Duration</th>\n",
       "      <th>Numpoints</th>\n",
       "      <th>Speed_Mean</th>\n",
       "      <th>Speed_Min</th>\n",
       "      <th>Speed_Max</th>\n",
       "      <th>Speed_Median</th>\n",
       "      <th>Gap_Min</th>\n",
       "      <th>Gap_Max</th>\n",
       "      <th>Gap_Mean</th>\n",
       "      <th>Gap_Median</th>\n",
       "    </tr>\n",
       "  </thead>\n",
       "  <tbody>\n",
       "    <tr>\n",
       "      <th>0</th>\n",
       "      <td>2015-02-10</td>\n",
       "      <td>1</td>\n",
       "      <td>11:42:37</td>\n",
       "      <td>12:09:58</td>\n",
       "      <td>Car</td>\n",
       "      <td>Trip</td>\n",
       "      <td>41.870200</td>\n",
       "      <td>87.711023</td>\n",
       "      <td>1</td>\n",
       "      <td>00:27:21</td>\n",
       "      <td>165</td>\n",
       "      <td>46.940548</td>\n",
       "      <td>0.163532</td>\n",
       "      <td>109.548119</td>\n",
       "      <td>47.974251</td>\n",
       "      <td>10.0</td>\n",
       "      <td>11.0</td>\n",
       "      <td>10.006098</td>\n",
       "      <td>10.0</td>\n",
       "    </tr>\n",
       "    <tr>\n",
       "      <th>1</th>\n",
       "      <td>2015-02-10</td>\n",
       "      <td>2</td>\n",
       "      <td>12:10:08</td>\n",
       "      <td>12:17:18</td>\n",
       "      <td>NaN</td>\n",
       "      <td>COM_URBMIX</td>\n",
       "      <td>41.830436</td>\n",
       "      <td>87.803025</td>\n",
       "      <td>1</td>\n",
       "      <td>00:07:10</td>\n",
       "      <td>44</td>\n",
       "      <td>2.284377</td>\n",
       "      <td>0.047465</td>\n",
       "      <td>32.243301</td>\n",
       "      <td>0.642872</td>\n",
       "      <td>10.0</td>\n",
       "      <td>10.0</td>\n",
       "      <td>10.000000</td>\n",
       "      <td>10.0</td>\n",
       "    </tr>\n",
       "    <tr>\n",
       "      <th>2</th>\n",
       "      <td>2015-02-10</td>\n",
       "      <td>3</td>\n",
       "      <td>12:17:28</td>\n",
       "      <td>12:36:28</td>\n",
       "      <td>Car</td>\n",
       "      <td>Trip</td>\n",
       "      <td>41.839046</td>\n",
       "      <td>87.767186</td>\n",
       "      <td>1</td>\n",
       "      <td>00:19:00</td>\n",
       "      <td>115</td>\n",
       "      <td>20.067299</td>\n",
       "      <td>0.019340</td>\n",
       "      <td>66.380928</td>\n",
       "      <td>21.266867</td>\n",
       "      <td>10.0</td>\n",
       "      <td>10.0</td>\n",
       "      <td>10.000000</td>\n",
       "      <td>10.0</td>\n",
       "    </tr>\n",
       "    <tr>\n",
       "      <th>3</th>\n",
       "      <td>2015-02-10</td>\n",
       "      <td>4</td>\n",
       "      <td>12:36:38</td>\n",
       "      <td>12:45:38</td>\n",
       "      <td>NaN</td>\n",
       "      <td>COM_URBMIX</td>\n",
       "      <td>41.851519</td>\n",
       "      <td>87.747862</td>\n",
       "      <td>1</td>\n",
       "      <td>00:09:00</td>\n",
       "      <td>55</td>\n",
       "      <td>1.562509</td>\n",
       "      <td>0.004843</td>\n",
       "      <td>15.570488</td>\n",
       "      <td>0.511654</td>\n",
       "      <td>10.0</td>\n",
       "      <td>10.0</td>\n",
       "      <td>10.000000</td>\n",
       "      <td>10.0</td>\n",
       "    </tr>\n",
       "    <tr>\n",
       "      <th>4</th>\n",
       "      <td>2015-02-10</td>\n",
       "      <td>5</td>\n",
       "      <td>12:45:48</td>\n",
       "      <td>13:55:10</td>\n",
       "      <td>Car</td>\n",
       "      <td>Trip</td>\n",
       "      <td>41.872845</td>\n",
       "      <td>87.685020</td>\n",
       "      <td>1</td>\n",
       "      <td>01:09:22</td>\n",
       "      <td>379</td>\n",
       "      <td>26.829532</td>\n",
       "      <td>0.089908</td>\n",
       "      <td>98.430122</td>\n",
       "      <td>21.596622</td>\n",
       "      <td>10.0</td>\n",
       "      <td>123.0</td>\n",
       "      <td>11.010582</td>\n",
       "      <td>10.0</td>\n",
       "    </tr>\n",
       "  </tbody>\n",
       "</table>\n",
       "</div>"
      ],
      "text/plain": [
       "        Date  Sequence BeginTime   EndTime Mode     LandUse   Mean Lat  \\\n",
       "0 2015-02-10         1  11:42:37  12:09:58  Car        Trip  41.870200   \n",
       "1 2015-02-10         2  12:10:08  12:17:18  NaN  COM_URBMIX  41.830436   \n",
       "2 2015-02-10         3  12:17:28  12:36:28  Car        Trip  41.839046   \n",
       "3 2015-02-10         4  12:36:38  12:45:38  NaN  COM_URBMIX  41.851519   \n",
       "4 2015-02-10         5  12:45:48  13:55:10  Car        Trip  41.872845   \n",
       "\n",
       "    Mean Lon  Wear Frac  Duration  Numpoints  Speed_Mean  Speed_Min  \\\n",
       "0  87.711023          1  00:27:21        165   46.940548   0.163532   \n",
       "1  87.803025          1  00:07:10         44    2.284377   0.047465   \n",
       "2  87.767186          1  00:19:00        115   20.067299   0.019340   \n",
       "3  87.747862          1  00:09:00         55    1.562509   0.004843   \n",
       "4  87.685020          1  01:09:22        379   26.829532   0.089908   \n",
       "\n",
       "    Speed_Max  Speed_Median  Gap_Min  Gap_Max   Gap_Mean  Gap_Median  \n",
       "0  109.548119     47.974251     10.0     11.0  10.006098        10.0  \n",
       "1   32.243301      0.642872     10.0     10.0  10.000000        10.0  \n",
       "2   66.380928     21.266867     10.0     10.0  10.000000        10.0  \n",
       "3   15.570488      0.511654     10.0     10.0  10.000000        10.0  \n",
       "4   98.430122     21.596622     10.0    123.0  11.010582        10.0  "
      ]
     },
     "execution_count": 84,
     "metadata": {},
     "output_type": "execute_result"
    }
   ],
   "source": [
    "Baseline.head()"
   ]
  },
  {
   "cell_type": "code",
   "execution_count": 99,
   "metadata": {},
   "outputs": [
    {
     "data": {
      "text/plain": [
       "array([<matplotlib.axes._subplots.AxesSubplot object at 0x118bb82d0>], dtype=object)"
      ]
     },
     "execution_count": 99,
     "metadata": {},
     "output_type": "execute_result"
    },
    {
     "data": {
      "image/png": "[encoded data removed]",
      "text/plain": [
       "<matplotlib.figure.Figure at 0x118a84410>"
      ]
     },
     "metadata": {},
     "output_type": "display_data"
    }
   ],
   "source": [
    "fig = plt.figure(figsize=(16,4))\n",
    "ax = fig.add_subplot(131)\n",
    "Baseline[['Speed_Mean']].hist(ax=ax)\n",
    "ax = fig.add_subplot(132)\n",
    "Baseline[['Gap_Median']].hist(ax=ax)\n",
    "ax = fig.add_subplot(133)\n",
    "Baseline[['Numpoints']].hist(ax=ax)\n"
   ]
  },
  {
   "cell_type": "code",
   "execution_count": 121,
   "metadata": {},
   "outputs": [
    {
     "data": {
      "text/plain": [
       "<matplotlib.axes._subplots.AxesSubplot at 0x1198e6f50>"
      ]
     },
     "execution_count": 121,
     "metadata": {},
     "output_type": "execute_result"
    },
    {
     "data": {
      "image/png": "[encoded data removed]",
      "text/plain": [
       "<matplotlib.figure.Figure at 0x11ab13d50>"
      ]
     },
     "metadata": {},
     "output_type": "display_data"
    }
   ],
   "source": [
    "Baseline['Duration'].apply(lambda x: x.total_seconds()/60/60).hist()"
   ]
  },
  {
   "cell_type": "code",
   "execution_count": 23,
   "metadata": {},
   "outputs": [
    {
     "data": {
      "text/plain": [
       "datetime.timedelta(1)"
      ]
     },
     "execution_count": 23,
     "metadata": {},
     "output_type": "execute_result"
    }
   ],
   "source": [
    "dt.timedelta(days=1)"
   ]
  },
  {
   "cell_type": "code",
   "execution_count": 25,
   "metadata": {
    "collapsed": true
   },
   "outputs": [],
   "source": [
    "#Baseline: UIC Gps preprocessed Data\n",
    "#GPSdata: raw Gps data with wear time fraction\n",
    "#GpsDates: datetime object from Gpsdata to match with UIC data\n",
    "def add_latlonwear(Baseline,Gpsdata,GpsDates):\n",
    "    loc_lat = [];    loc_lon = [];     wear_frac = []\n",
    "    spd_min = []; spd_max = []; spd_mean = []; spd_median = []\n",
    "    duration = []; num_points = []; gap_min = [];  gap_max = []; gap_mean = []; gap_median = [] \n",
    "    \n",
    "\n",
    "    for i in range(len(Baseline)):\n",
    "        start = Baseline.BeginTime[i]\n",
    "        end = Baseline.EndTime[i]\n",
    "        d = Baseline.Date[i]\n",
    "        \n",
    "        if type(d) != str:\n",
    "            d = d.strftime('%Y/%m/%d') \n",
    "        if type(start) != str:\n",
    "            start = str(start)\n",
    "        if type(end) != str:\n",
    "            end = str(end)\n",
    "        try:\n",
    "            startdate = toUTC(dt.datetime.strptime(d+' '+start,'%Y/%m/%d %H:%M:%S'))\n",
    "            enddate = toUTC(dt.datetime.strptime(d+' '+end,'%Y/%m/%d %H:%M:%S'))\n",
    "        except(ValueError):\n",
    "            try:\n",
    "                startdate = toUTC(dt.datetime.strptime(d+' '+start,'%m/%d/%y %H:%M:%S'))\n",
    "                enddate = toUTC(dt.datetime.strptime(d+' '+end,'%m/%d/%y %H:%M:%S'))\n",
    "            except(ValueError):\n",
    "                try:\n",
    "                    startdate = toUTC(dt.datetime.strptime(d+' '+start,'%m/%d/%Y %H:%M:%S'))\n",
    "                    enddate = toUTC(dt.datetime.strptime(d+' '+end,'%m/%d/%Y %H:%M:%S'))\n",
    "                except(ValueError):\n",
    "                    startdate = toUTC(dt.datetime.strptime(d+' '+start,'%Y-%m-%d %H:%M:%S'))\n",
    "                    enddate = toUTC(dt.datetime.strptime(d+' '+end,'%Y-%m-%d %H:%M:%S'))\n",
    "\n",
    "\n",
    "        #find matching dates between 2 files (processed and raw) and compute features\n",
    "        ind = (GpsDates >= startdate) & (GpsDates <= enddate)\n",
    "        # track clustered points\n",
    "        if i<1:\n",
    "            UsedPoints = ind\n",
    "        else:\n",
    "            UsedPoints = UsedPoints | ind\n",
    "                \n",
    "        meanLat = np.mean(Gpsdata['LATITUDE'][ind])\n",
    "        meanLon = np.mean(Gpsdata['LONGITUDE'][ind])\n",
    "        \n",
    "        if np.isnan(meanLat) or np.isnan(meanLon):\n",
    "            print('null found %s'%any(ind))\n",
    "            print(startdate,enddate)\n",
    "        loc_lat.append(meanLat)\n",
    "        loc_lon.append(meanLon)\n",
    "\n",
    "        spd_min.append(np.min(Gpsdata['SPEED'][ind]))\n",
    "        spd_max.append(np.max(Gpsdata['SPEED'][ind]))                \n",
    "        spd_mean.append(np.mean(Gpsdata['SPEED'][ind]))\n",
    "        spd_median.append(np.median(Gpsdata['SPEED'][ind]))\n",
    "        num_points.append(sum(ind))\n",
    "        duration.append((enddate-startdate)/dt.timedelta(days=1))\n",
    "        #gaps between points in secs in rawgps data for daterange\n",
    "        td = GpsDates[ind].diff()\n",
    "        gap_min.append(td.min().total_seconds())\n",
    "        gap_max.append(td.max().total_seconds())\n",
    "        gap_mean.append(td.mean().total_seconds())\n",
    "        gap_median.append(td.median().total_seconds())\n",
    "        \n",
    "        wear_ind = (Gpsdata['Wear/Non-Wear']=='Wear') & ind\n",
    "        wear_frac.append(sum(wear_ind)/sum(ind))\n",
    "\n",
    "    Baseline['Mean Lat'] = loc_lat\n",
    "    Baseline['Mean Lon'] = loc_lon\n",
    "    Baseline['Wear Frac'] = wear_frac\n",
    "    Baseline['Duration'] = duration; Baseline['Numpoints'] = num_points\n",
    "    Baseline['Speed_Mean'] = spd_mean; Baseline['Speed_Min'] = spd_min; Baseline['Speed_Max'] = spd_max\n",
    "    Baseline['Speed_Median'] = spd_median\n",
    "    Baseline['Gap_Min'] = gap_min; Baseline['Gap_Max']=gap_max; Baseline['Gap_Mean']=gap_mean; \n",
    "    Baseline['Gap_Median']=gap_median\n",
    "\n",
    "    \n",
    "    print(str(sum(~UsedPoints)) + ', ' + str(sum(~UsedPoints)/len(UsedPoints)))\n",
    "    # Compute Min, Max, Median, Mean of speed\n",
    "    # Compute duration\n",
    "    # Number of Raw GPS points\n",
    "    # Min, Max, mean, std of gaps b/w points\n",
    "    \n",
    "    # Number of unclustered data points for each Subject-Brace"
   ]
  },
  {
   "cell_type": "markdown",
   "metadata": {},
   "source": [
    "## Add Steps to UIC files"
   ]
  },
  {
   "cell_type": "code",
   "execution_count": 39,
   "metadata": {
    "collapsed": true
   },
   "outputs": [],
   "source": [
    "#Baseline: UIC Gps preprocessed Data\n",
    "#GPSdata: raw Gps data with wear time fraction\n",
    "#GpsDates: datetime object from Gpsdata to match with UIC data\n",
    "def add_steps(Baseline,Stepsdata,StepsDates):\n",
    "    steps = []; steps_per_hr = []; steps_per_wear = []\n",
    "    \n",
    "\n",
    "    for i in range(len(Baseline)):\n",
    "        start = Baseline.BeginTime[i]\n",
    "        end = Baseline.EndTime[i]\n",
    "        d = Baseline.Date[i]\n",
    "        \n",
    "        if type(d) != str:\n",
    "            d = d.strftime('%Y/%m/%d') \n",
    "        if type(start) != str:\n",
    "            start = str(start)\n",
    "        if type(end) != str:\n",
    "            end = str(end)\n",
    "        try:\n",
    "            startdate = toUTC(dt.datetime.strptime(d+' '+start,'%Y/%m/%d %H:%M:%S'))\n",
    "            enddate = toUTC(dt.datetime.strptime(d+' '+end,'%Y/%m/%d %H:%M:%S'))\n",
    "        except(ValueError):\n",
    "            try:\n",
    "                startdate = toUTC(dt.datetime.strptime(d+' '+start,'%m/%d/%y %H:%M:%S'))\n",
    "                enddate = toUTC(dt.datetime.strptime(d+' '+end,'%m/%d/%y %H:%M:%S'))\n",
    "            except(ValueError):\n",
    "                try:\n",
    "                    startdate = toUTC(dt.datetime.strptime(d+' '+start,'%m/%d/%Y %H:%M:%S'))\n",
    "                    enddate = toUTC(dt.datetime.strptime(d+' '+end,'%m/%d/%Y %H:%M:%S'))\n",
    "                except(ValueError):\n",
    "                    startdate = toUTC(dt.datetime.strptime(d+' '+start,'%Y-%m-%d %H:%M:%S'))\n",
    "                    enddate = toUTC(dt.datetime.strptime(d+' '+end,'%Y-%m-%d %H:%M:%S'))\n",
    "\n",
    "\n",
    "        #find matching dates between 2 files (processed and raw) and compute features\n",
    "        ind = (StepsDates >= startdate) & (StepsDates <= enddate)\n",
    "        # track clustered points\n",
    "        if i<1:\n",
    "            UsedPoints = ind\n",
    "        else:\n",
    "            UsedPoints = UsedPoints | ind\n",
    "              \n",
    "        stepcount = sum(Stepsdata['steps'][ind])\n",
    "        dur = Baseline.Duration[i]\n",
    "        wearFrac = Baseline['Wear Frac'][i]\n",
    "        \n",
    "        steps.append(stepcount)\n",
    "        steps_per_hr.append(stepcount/dur/24)\n",
    "        steps_per_wear.append(stepcount/dur/24/wearFrac)\n",
    "\n",
    "    Baseline['Steps'] = steps\n",
    "    Baseline['Steps per Hour'] = steps_per_hr\n",
    "    Baseline['Steps per Hour Wear'] = steps_per_wear\n",
    "\n",
    "    \n",
    "    print(str(sum(~UsedPoints)) + ', ' + str(sum(~UsedPoints)/len(UsedPoints)))\n",
    "    # Compute Min, Max, Median, Mean of speed\n",
    "    # Compute duration\n",
    "    # Number of Raw GPS points\n",
    "    # Min, Max, mean, std of gaps b/w points\n",
    "    \n",
    "    # Number of unclustered data points for each Subject-Brace"
   ]
  },
  {
   "cell_type": "code",
   "execution_count": 46,
   "metadata": {},
   "outputs": [
    {
     "name": "stdout",
     "output_type": "stream",
     "text": [
      "CBR19_Baseline.csv\n",
      "5751, 0.810913705584\n",
      "CBR16_Baseline.csv\n",
      "File not found\n"
     ]
    },
    {
     "name": "stderr",
     "output_type": "stream",
     "text": [
      "C:\\Users\\nshawen\\AppData\\Local\\Continuum\\anaconda3\\lib\\site-packages\\ipykernel_launcher.py:49: RuntimeWarning: invalid value encountered in double_scalars\n"
     ]
    }
   ],
   "source": [
    "fwt = os.listdir('Z:/C Brace/Actigraph/Data/Home/Steps Breakdown/')\n",
    "fconv = os.listdir(path+'UIC_GPSData/w_Steps/')\n",
    "\n",
    "for f in list(set(fwt)-set(fconv)):\n",
    "# for f in fwt:\n",
    "    try:\n",
    "        #load files\n",
    "        print(f)\n",
    "        Stepsdata = pd.read_csv('Z:/C Brace/Actigraph/Data/Home/Steps Breakdown/'+f,skiprows=1)\n",
    "\n",
    "        UICdata = pd.read_csv(path+'UIC_GPSData/w_LocIDandDist/'+f)\n",
    "        \n",
    "        #convert date formats from raw gps\n",
    "        x = Stepsdata['date']+' '+Stepsdata['epoch'] #full date/time\n",
    "        StepsDates = string2datetime(x) #convert to datetime object\n",
    "        StepsDates=pd.Series(StepsDates)\n",
    "        StepsDates=StepsDates.apply(toUTC)\n",
    "                       \n",
    "#         #match dates and add lat lon and weartime to UIC processed data\n",
    "        add_steps(UICdata,Stepsdata,StepsDates)\n",
    "        \n",
    "#         #save file\n",
    "        UICdata.to_csv(path+'UIC_GPSData/w_Steps/'+f)\n",
    "    except(FileNotFoundError):\n",
    "        print('File not found')"
   ]
  },
  {
   "cell_type": "code",
   "execution_count": 44,
   "metadata": {},
   "outputs": [
    {
     "data": {
      "text/plain": [
       "0        2015-09-21 19:00:00+00:00\n",
       "1        2015-09-21 19:00:10+00:00\n",
       "2        2015-09-21 19:00:20+00:00\n",
       "3        2015-09-21 19:00:30+00:00\n",
       "4        2015-09-21 19:00:40+00:00\n",
       "5        2015-09-21 19:00:50+00:00\n",
       "6        2015-09-21 19:01:00+00:00\n",
       "7        2015-09-21 19:01:10+00:00\n",
       "8        2015-09-21 19:01:20+00:00\n",
       "9        2015-09-21 19:01:30+00:00\n",
       "10       2015-09-21 19:01:40+00:00\n",
       "11       2015-09-21 19:01:50+00:00\n",
       "12       2015-09-21 19:02:00+00:00\n",
       "13       2015-09-21 19:02:10+00:00\n",
       "14       2015-09-21 19:02:20+00:00\n",
       "15       2015-09-21 19:02:30+00:00\n",
       "16       2015-09-21 19:02:40+00:00\n",
       "17       2015-09-21 19:02:50+00:00\n",
       "18       2015-09-21 19:03:00+00:00\n",
       "19       2015-09-21 19:03:10+00:00\n",
       "20       2015-09-21 19:03:20+00:00\n",
       "21       2015-09-21 19:03:30+00:00\n",
       "22       2015-09-21 19:03:40+00:00\n",
       "23       2015-09-21 19:03:50+00:00\n",
       "24       2015-09-21 19:04:00+00:00\n",
       "25       2015-09-21 19:04:10+00:00\n",
       "26       2015-09-21 19:04:20+00:00\n",
       "27       2015-09-21 19:04:30+00:00\n",
       "28       2015-09-21 19:04:40+00:00\n",
       "29       2015-09-21 19:04:50+00:00\n",
       "                    ...           \n",
       "139082   2015-10-23 18:53:20+00:00\n",
       "139083   2015-10-23 18:53:30+00:00\n",
       "139084   2015-10-23 18:53:40+00:00\n",
       "139085   2015-10-23 18:53:50+00:00\n",
       "139086   2015-10-23 18:54:00+00:00\n",
       "139087   2015-10-23 18:54:10+00:00\n",
       "139088   2015-10-23 18:54:20+00:00\n",
       "139089   2015-10-23 18:54:30+00:00\n",
       "139090   2015-10-23 18:54:40+00:00\n",
       "139091   2015-10-23 18:54:50+00:00\n",
       "139092   2015-10-23 18:55:00+00:00\n",
       "139093   2015-10-23 18:55:10+00:00\n",
       "139094   2015-10-23 18:55:20+00:00\n",
       "139095   2015-10-23 18:55:30+00:00\n",
       "139096   2015-10-23 18:55:40+00:00\n",
       "139097   2015-10-23 18:55:50+00:00\n",
       "139098   2015-10-23 18:56:00+00:00\n",
       "139099   2015-10-23 18:56:10+00:00\n",
       "139100   2015-10-23 18:56:20+00:00\n",
       "139101   2015-10-23 18:56:30+00:00\n",
       "139102   2015-10-23 18:56:40+00:00\n",
       "139103   2015-10-23 18:56:50+00:00\n",
       "139104   2015-10-23 18:57:00+00:00\n",
       "139105   2015-10-23 18:57:10+00:00\n",
       "139106   2015-10-23 18:57:20+00:00\n",
       "139107   2015-10-23 18:57:30+00:00\n",
       "139108   2015-10-23 18:57:40+00:00\n",
       "139109   2015-10-23 18:57:50+00:00\n",
       "139110   2015-10-23 18:58:00+00:00\n",
       "139111   2015-10-23 18:58:10+00:00\n",
       "Length: 139112, dtype: datetime64[ns, UTC]"
      ]
     },
     "execution_count": 44,
     "metadata": {},
     "output_type": "execute_result"
    }
   ],
   "source": [
    "StepsDates.apply(toUTC)"
   ]
  },
  {
   "cell_type": "markdown",
   "metadata": {},
   "source": [
    "# Loop through files and add Lat, Lon and Wear Time to UIC files"
   ]
  },
  {
   "cell_type": "code",
   "execution_count": 100,
   "metadata": {
    "scrolled": true
   },
   "outputs": [
    {
     "name": "stdout",
     "output_type": "stream",
     "text": [
      "CBR22_Baseline.csv\n",
      "20086, 0.387028401865\n"
     ]
    }
   ],
   "source": [
    "fwt = os.listdir(path+'GPSWT/')\n",
    "fconv = os.listdir(path+'UIC_GPSData/w_LatLonWear/')\n",
    "\n",
    "for f in list(set(fwt)-set(fconv)):\n",
    "    try:\n",
    "        #load files\n",
    "        print(f)\n",
    "        Gpsdata = pd.read_csv(path+'GPSWT/'+f)\n",
    "        #include long sign\n",
    "        lonsgn = np.cos((Gpsdata['E/W']=='W')*np.pi)\n",
    "        Gpsdata['LONGITUDE'] = Gpsdata['LONGITUDE']*lonsgn\n",
    "        Subjid = f[:5]\n",
    "        trial = f[6] #cbrace,SCO or baseline\n",
    "        switcher = {'C':'CBR','S':'SCO','B':'Baseline'}\n",
    "        UICdata = pd.read_excel(path+'UIC_GPSData/'+Subjid+'_Final_Summary_File.xlsx',sheetname=switcher[trial])\n",
    "        \n",
    "        #convert date formats from raw gps\n",
    "        x = Gpsdata['UTC DATE']+' '+Gpsdata['UTC TIME'] #full date/time\n",
    "        GpsDates = string2datetime(x) #convert to datetime object\n",
    "        GpsDates=pd.Series(GpsDates)\n",
    "                       \n",
    "#         #match dates and add lat lon and weartime to UIC processed data\n",
    "        add_latlonwear(UICdata,Gpsdata,GpsDates)\n",
    "        \n",
    "#         #save file\n",
    "        UICdata.to_csv(path+'UIC_GPSData/w_LatLonWear/'+f)\n",
    "    except(FileNotFoundError):\n",
    "        print('File not found')"
   ]
  },
  {
   "cell_type": "code",
   "execution_count": 33,
   "metadata": {},
   "outputs": [
    {
     "name": "stdout",
     "output_type": "stream",
     "text": [
      "CBR08_CBrace.csv\n",
      "23\n",
      "CBR08_SCO.csv\n",
      "18\n",
      "CBR11_Baseline.csv\n",
      "43\n",
      "CBR11_CBrace.csv\n",
      "26\n",
      "CBR11_SCO.csv\n",
      "3\n",
      "CBR15_Baseline.csv\n",
      "25\n",
      "CBR15_CBrace.csv\n",
      "6\n",
      "CBR15_SCO.csv\n",
      "13\n",
      "CBR16_CBrace.csv\n",
      "10\n",
      "CBR16_SCO.csv\n",
      "17\n",
      "CBR19_Baseline.csv\n",
      "2\n",
      "CBR19_CBrace.csv\n",
      "2\n",
      "CBR19_SCO.csv\n",
      "2\n",
      "CBR21_Baseline.csv\n",
      "31\n",
      "CBR21_CBrace.csv\n",
      "22\n",
      "CBR21_SCO.csv\n",
      "23\n",
      "CBR22_Baseline.csv\n",
      "11\n",
      "CBR22_CBrace.csv\n",
      "17\n",
      "CBR22_SCO.csv\n",
      "4\n",
      "CBR24_Baseline.csv\n",
      "33\n",
      "CBR24_CBrace.csv\n",
      "29\n",
      "CBR24_SCO.csv\n",
      "18\n",
      "CBR25_Baseline.csv\n",
      "29\n",
      "CBR25_CBrace.csv\n",
      "36\n",
      "CBR26_Baseline.csv\n",
      "34\n",
      "CBR26_CBrace.csv\n",
      "34\n",
      "CBR26_SCO.csv\n",
      "29\n",
      "CBR27_Baseline.csv\n",
      "24\n",
      "CBR27_CBrace.csv\n",
      "16\n",
      "CBR27_SCO.csv\n",
      "34\n",
      "CBR28_Baseline.csv\n",
      "31\n",
      "CBR28_CBrace.csv\n",
      "28\n",
      "CBR28_SCO.csv\n",
      "30\n",
      "CBR30_Baseline.csv\n",
      "30\n",
      "CBR30_CBrace.csv\n",
      "29\n",
      "CBR30_SCO.csv\n",
      "15\n",
      "CBR31_Baseline.csv\n",
      "16\n",
      "CBR31_CBrace.csv\n",
      "21\n",
      "CBR31_SCO.csv\n",
      "32\n"
     ]
    }
   ],
   "source": [
    "fconv =  os.listdir(path+'GPSWT/')\n",
    "\n",
    "for f in fconv:\n",
    "    print(f)\n",
    "    Data = pd.read_csv(path+'UIC_GPSData/w_LatLonWear/'+f)\n",
    "    print(len(np.unique(np.array(Data['Date']))))"
   ]
  },
  {
   "cell_type": "markdown",
   "metadata": {
    "collapsed": true
   },
   "source": [
    "# Load Files and aggregate per brace"
   ]
  },
  {
   "cell_type": "code",
   "execution_count": 24,
   "metadata": {
    "collapsed": true
   },
   "outputs": [],
   "source": [
    "path_procfiles = os.path.join(path,'UIC_GPSData/w_Steps')"
   ]
  },
  {
   "cell_type": "code",
   "execution_count": 25,
   "metadata": {
    "collapsed": true
   },
   "outputs": [],
   "source": [
    "Data = pd.DataFrame()\n",
    "for f in os.listdir(path_procfiles):\n",
    "#     print(f)\n",
    "    if os.path.isfile(os.path.join(path_procfiles,f)):\n",
    "        d = pd.read_csv(os.path.join(path_procfiles,f))\n",
    "        del d['Unnamed: 0']\n",
    "        del d['Unnamed: 0.1']\n",
    "        d['SubjID'] = str(f[:5])\n",
    "        d['Brace'] = str.capitalize(f[6:9])\n",
    "        Data = pd.concat([Data,d]) #concatenate data from each subj\n",
    "    else:\n",
    "        #skip directories\n",
    "        continue"
   ]
  },
  {
   "cell_type": "code",
   "execution_count": 26,
   "metadata": {},
   "outputs": [
    {
     "data": {
      "text/html": [
       "<div>\n",
       "<style>\n",
       "    .dataframe thead tr:only-child th {\n",
       "        text-align: right;\n",
       "    }\n",
       "\n",
       "    .dataframe thead th {\n",
       "        text-align: left;\n",
       "    }\n",
       "\n",
       "    .dataframe tbody tr th {\n",
       "        vertical-align: top;\n",
       "    }\n",
       "</style>\n",
       "<table border=\"1\" class=\"dataframe\">\n",
       "  <thead>\n",
       "    <tr style=\"text-align: right;\">\n",
       "      <th></th>\n",
       "      <th>SubjID</th>\n",
       "      <th>Brace</th>\n",
       "      <th>BeginTime</th>\n",
       "      <th>Date</th>\n",
       "      <th>DistHome</th>\n",
       "      <th>Duration</th>\n",
       "      <th>EndTime</th>\n",
       "      <th>Gap_Max</th>\n",
       "      <th>Gap_Mean</th>\n",
       "      <th>Gap_Median</th>\n",
       "      <th>...</th>\n",
       "      <th>Speed_Max</th>\n",
       "      <th>Speed_Mean</th>\n",
       "      <th>Speed_Median</th>\n",
       "      <th>Speed_Min</th>\n",
       "      <th>Steps</th>\n",
       "      <th>Steps per Hour</th>\n",
       "      <th>Steps per Hour Wear</th>\n",
       "      <th>TotalGap</th>\n",
       "      <th>Unnamed: 0.1.1</th>\n",
       "      <th>Wear Frac</th>\n",
       "    </tr>\n",
       "  </thead>\n",
       "  <tbody>\n",
       "    <tr>\n",
       "      <th>0</th>\n",
       "      <td>CBR21</td>\n",
       "      <td>Cbr</td>\n",
       "      <td>15:18:57</td>\n",
       "      <td>2016-08-18</td>\n",
       "      <td>5442.413371</td>\n",
       "      <td>0.024306</td>\n",
       "      <td>15:53:57</td>\n",
       "      <td>1850.0</td>\n",
       "      <td>80.769231</td>\n",
       "      <td>10.0</td>\n",
       "      <td>...</td>\n",
       "      <td>7.152199</td>\n",
       "      <td>0.527363</td>\n",
       "      <td>0.171908</td>\n",
       "      <td>0.000000</td>\n",
       "      <td>120</td>\n",
       "      <td>205.714286</td>\n",
       "      <td>205.714286</td>\n",
       "      <td>90.916667</td>\n",
       "      <td>0</td>\n",
       "      <td>1.000000</td>\n",
       "    </tr>\n",
       "    <tr>\n",
       "      <th>1</th>\n",
       "      <td>CBR21</td>\n",
       "      <td>Cbr</td>\n",
       "      <td>15:54:07</td>\n",
       "      <td>2016-08-18</td>\n",
       "      <td>-1.000000</td>\n",
       "      <td>0.017824</td>\n",
       "      <td>16:19:47</td>\n",
       "      <td>10.0</td>\n",
       "      <td>10.000000</td>\n",
       "      <td>10.0</td>\n",
       "      <td>...</td>\n",
       "      <td>89.653122</td>\n",
       "      <td>33.155807</td>\n",
       "      <td>29.719219</td>\n",
       "      <td>0.012541</td>\n",
       "      <td>1</td>\n",
       "      <td>2.337662</td>\n",
       "      <td>2.337662</td>\n",
       "      <td>0.000000</td>\n",
       "      <td>1</td>\n",
       "      <td>1.000000</td>\n",
       "    </tr>\n",
       "    <tr>\n",
       "      <th>2</th>\n",
       "      <td>CBR21</td>\n",
       "      <td>Cbr</td>\n",
       "      <td>16:19:57</td>\n",
       "      <td>2016-08-18</td>\n",
       "      <td>12229.512267</td>\n",
       "      <td>0.115509</td>\n",
       "      <td>19:06:17</td>\n",
       "      <td>10.0</td>\n",
       "      <td>9.989990</td>\n",
       "      <td>10.0</td>\n",
       "      <td>...</td>\n",
       "      <td>16.163797</td>\n",
       "      <td>0.215601</td>\n",
       "      <td>0.079174</td>\n",
       "      <td>0.005376</td>\n",
       "      <td>0</td>\n",
       "      <td>0.000000</td>\n",
       "      <td>0.000000</td>\n",
       "      <td>0.000000</td>\n",
       "      <td>2</td>\n",
       "      <td>0.015000</td>\n",
       "    </tr>\n",
       "    <tr>\n",
       "      <th>3</th>\n",
       "      <td>CBR21</td>\n",
       "      <td>Cbr</td>\n",
       "      <td>19:06:27</td>\n",
       "      <td>2016-08-18</td>\n",
       "      <td>-1.000000</td>\n",
       "      <td>0.011921</td>\n",
       "      <td>19:23:37</td>\n",
       "      <td>10.0</td>\n",
       "      <td>10.000000</td>\n",
       "      <td>10.0</td>\n",
       "      <td>...</td>\n",
       "      <td>73.872200</td>\n",
       "      <td>35.997711</td>\n",
       "      <td>40.192213</td>\n",
       "      <td>0.032327</td>\n",
       "      <td>4</td>\n",
       "      <td>13.980583</td>\n",
       "      <td>13.980583</td>\n",
       "      <td>0.000000</td>\n",
       "      <td>3</td>\n",
       "      <td>1.000000</td>\n",
       "    </tr>\n",
       "    <tr>\n",
       "      <th>4</th>\n",
       "      <td>CBR21</td>\n",
       "      <td>Cbr</td>\n",
       "      <td>19:23:47</td>\n",
       "      <td>2016-08-18</td>\n",
       "      <td>6302.016284</td>\n",
       "      <td>0.073264</td>\n",
       "      <td>21:09:17</td>\n",
       "      <td>10.0</td>\n",
       "      <td>10.000000</td>\n",
       "      <td>10.0</td>\n",
       "      <td>...</td>\n",
       "      <td>2.244580</td>\n",
       "      <td>0.230411</td>\n",
       "      <td>0.080916</td>\n",
       "      <td>0.004430</td>\n",
       "      <td>0</td>\n",
       "      <td>0.000000</td>\n",
       "      <td>0.000000</td>\n",
       "      <td>0.000000</td>\n",
       "      <td>4</td>\n",
       "      <td>0.063091</td>\n",
       "    </tr>\n",
       "  </tbody>\n",
       "</table>\n",
       "<p>5 rows × 32 columns</p>\n",
       "</div>"
      ],
      "text/plain": [
       "  SubjID Brace BeginTime        Date      DistHome  Duration   EndTime  \\\n",
       "0  CBR21   Cbr  15:18:57  2016-08-18   5442.413371  0.024306  15:53:57   \n",
       "1  CBR21   Cbr  15:54:07  2016-08-18     -1.000000  0.017824  16:19:47   \n",
       "2  CBR21   Cbr  16:19:57  2016-08-18  12229.512267  0.115509  19:06:17   \n",
       "3  CBR21   Cbr  19:06:27  2016-08-18     -1.000000  0.011921  19:23:37   \n",
       "4  CBR21   Cbr  19:23:47  2016-08-18   6302.016284  0.073264  21:09:17   \n",
       "\n",
       "   Gap_Max   Gap_Mean  Gap_Median    ...     Speed_Max Speed_Mean  \\\n",
       "0   1850.0  80.769231        10.0    ...      7.152199   0.527363   \n",
       "1     10.0  10.000000        10.0    ...     89.653122  33.155807   \n",
       "2     10.0   9.989990        10.0    ...     16.163797   0.215601   \n",
       "3     10.0  10.000000        10.0    ...     73.872200  35.997711   \n",
       "4     10.0  10.000000        10.0    ...      2.244580   0.230411   \n",
       "\n",
       "   Speed_Median  Speed_Min  Steps  Steps per Hour Steps per Hour Wear  \\\n",
       "0      0.171908   0.000000    120      205.714286          205.714286   \n",
       "1     29.719219   0.012541      1        2.337662            2.337662   \n",
       "2      0.079174   0.005376      0        0.000000            0.000000   \n",
       "3     40.192213   0.032327      4       13.980583           13.980583   \n",
       "4      0.080916   0.004430      0        0.000000            0.000000   \n",
       "\n",
       "    TotalGap Unnamed: 0.1.1 Wear Frac  \n",
       "0  90.916667              0  1.000000  \n",
       "1   0.000000              1  1.000000  \n",
       "2   0.000000              2  0.015000  \n",
       "3   0.000000              3  1.000000  \n",
       "4   0.000000              4  0.063091  \n",
       "\n",
       "[5 rows x 32 columns]"
      ]
     },
     "execution_count": 26,
     "metadata": {},
     "output_type": "execute_result"
    }
   ],
   "source": [
    "cols=list((Data.columns).values)\n",
    "cols.remove('SubjID')\n",
    "cols.remove('Brace')\n",
    "Data = Data[['SubjID','Brace']+cols]\n",
    "Data['LandUse'] = Data.LandUse.astype(str)\n",
    "# Data['BeginTime']= Data[['BeginTime']].applymap(lambda x: dt.datetime.strptime(x,'%H:%M:%S').time())\n",
    "# Data['EndTime']= Data[['EndTime']].applymap(lambda x: dt.datetime.strptime(x,'%H:%M:%S').time())\n",
    "Data.head()"
   ]
  },
  {
   "cell_type": "markdown",
   "metadata": {},
   "source": [
    "## Anonymize home location"
   ]
  },
  {
   "cell_type": "code",
   "execution_count": 8,
   "metadata": {
    "collapsed": true
   },
   "outputs": [],
   "source": [
    "# Data.loc[Data.LandUse=='Home','Mean Lat'] = 41.8938732\n",
    "# Data.loc[Data.LandUse=='Home','Mean Lon'] = -87.6209879\n",
    "# Data[Data.LandUse=='Home']['Mean Lon'].unique()"
   ]
  },
  {
   "cell_type": "code",
   "execution_count": 72,
   "metadata": {
    "collapsed": true
   },
   "outputs": [],
   "source": [
    "#save anonymzed data\n",
    "# Data.to_csv(os.path.join(path+'UIC_GPSData/w_LatLonWear/','Anonymzed/AnonymzedData.csv'))\n",
    "\n",
    "Data = pd.read_csv('AnonymzedData.csv')"
   ]
  },
  {
   "cell_type": "markdown",
   "metadata": {},
   "source": [
    "## Data cleaning"
   ]
  },
  {
   "cell_type": "code",
   "execution_count": 50,
   "metadata": {
    "collapsed": true
   },
   "outputs": [],
   "source": [
    "landuse=Data[['LandUse']]\n",
    "landuse=landuse.applymap(lambda x: str.capitalize(x))\n",
    "Data['LandUse'] = landuse"
   ]
  },
  {
   "cell_type": "code",
   "execution_count": 51,
   "metadata": {},
   "outputs": [
    {
     "data": {
      "text/plain": [
       "Trip                   0.449575\n",
       "Home                   0.212102\n",
       "Com_urbmix             0.123557\n",
       "Com_regional           0.046683\n",
       "Res_sf_detached        0.040213\n",
       "Res_mf                 0.024610\n",
       "Non-parcel road row    0.016618\n",
       "Com_bigbox             0.012812\n",
       "Com_office             0.011417\n",
       "Inst_medical           0.008372\n",
       "Name: LandUse, dtype: float64"
      ]
     },
     "execution_count": 51,
     "metadata": {},
     "output_type": "execute_result"
    }
   ],
   "source": [
    "c = Data.LandUse.value_counts(normalize=True)\n",
    "c[:10]"
   ]
  },
  {
   "cell_type": "code",
   "execution_count": 52,
   "metadata": {},
   "outputs": [
    {
     "data": {
      "text/plain": [
       "0.78523404795128759"
      ]
     },
     "execution_count": 52,
     "metadata": {},
     "output_type": "execute_result"
    }
   ],
   "source": [
    "sum(c[:3]) #top 3 locs account for most data"
   ]
  },
  {
   "cell_type": "code",
   "execution_count": 53,
   "metadata": {
    "collapsed": true,
    "scrolled": true
   },
   "outputs": [],
   "source": [
    "Data.LandUse = [x.split('_')[0] for x in Data.LandUse]"
   ]
  },
  {
   "cell_type": "code",
   "execution_count": 54,
   "metadata": {},
   "outputs": [
    {
     "data": {
      "image/png": "[encoded data removed]",
      "text/plain": [
       "<matplotlib.figure.Figure at 0xf35b438>"
      ]
     },
     "metadata": {},
     "output_type": "display_data"
    }
   ],
   "source": [
    "sns.set_context('paper',font_scale=1.4)\n",
    "plt.figure(figsize=(18,8))\n",
    "ax = sns.countplot(Data.LandUse)\n",
    "ax = plt.xticks(rotation=75)"
   ]
  },
  {
   "cell_type": "code",
   "execution_count": 55,
   "metadata": {
    "scrolled": false
   },
   "outputs": [
    {
     "data": {
      "image/png": "[encoded data removed]",
      "text/plain": [
       "<matplotlib.figure.Figure at 0xe98d978>"
      ]
     },
     "metadata": {},
     "output_type": "display_data"
    }
   ],
   "source": [
    "c = Data.LandUse.value_counts(normalize=False)\n",
    "sns.set_context('paper',font_scale=1.4)\n",
    "plt.figure(figsize=(18,8))\n",
    "sns.barplot(x=c[2:].index,y=c[2:].values)\n",
    "ax = plt.xticks(rotation=75)"
   ]
  },
  {
   "cell_type": "code",
   "execution_count": 94,
   "metadata": {},
   "outputs": [
    {
     "data": {
      "text/plain": [
       "<matplotlib.axes._subplots.AxesSubplot at 0xff38a20>"
      ]
     },
     "execution_count": 94,
     "metadata": {},
     "output_type": "execute_result"
    },
    {
     "data": {
      "image/png": "[encoded data removed]",
      "text/plain": [
       "<matplotlib.figure.Figure at 0xfb0e438>"
      ]
     },
     "metadata": {},
     "output_type": "display_data"
    }
   ],
   "source": [
    "(Data[Data['LandUse']=='Non-parcel road row']['Duration']*24).hist(bins=120)"
   ]
  },
  {
   "cell_type": "code",
   "execution_count": 103,
   "metadata": {},
   "outputs": [
    {
     "data": {
      "text/plain": [
       "<matplotlib.axes._subplots.AxesSubplot at 0x11890898>"
      ]
     },
     "execution_count": 103,
     "metadata": {},
     "output_type": "execute_result"
    },
    {
     "data": {
      "image/png": "[encoded data removed]",
      "text/plain": [
       "<matplotlib.figure.Figure at 0x11693dd8>"
      ]
     },
     "metadata": {},
     "output_type": "display_data"
    }
   ],
   "source": [
    "(Data[Data['Mode']=='Walk']['Duration']*24).hist()"
   ]
  },
  {
   "cell_type": "code",
   "execution_count": 42,
   "metadata": {},
   "outputs": [
    {
     "data": {
      "text/plain": [
       "array([<matplotlib.axes._subplots.AxesSubplot object at 0x0000000010FDAE80>,\n",
       "       <matplotlib.axes._subplots.AxesSubplot object at 0x000000000CA3EB00>,\n",
       "       <matplotlib.axes._subplots.AxesSubplot object at 0x0000000015806588>], dtype=object)"
      ]
     },
     "execution_count": 42,
     "metadata": {},
     "output_type": "execute_result"
    },
    {
     "data": {
      "image/png": "[encoded data removed]",
      "text/plain": [
       "<matplotlib.figure.Figure at 0x1ad89898>"
      ]
     },
     "metadata": {},
     "output_type": "display_data"
    }
   ],
   "source": [
    "LocData = Data[(Data['LandUse']=='Com')]\n",
    "LocData.hist(column='Wear Frac',by='Brace',figsize=(12,4),layout=(1,3))"
   ]
  },
  {
   "cell_type": "code",
   "execution_count": 43,
   "metadata": {},
   "outputs": [
    {
     "data": {
      "text/plain": [
       "array([<matplotlib.axes._subplots.AxesSubplot object at 0x000000000C49E9B0>,\n",
       "       <matplotlib.axes._subplots.AxesSubplot object at 0x00000000110676D8>,\n",
       "       <matplotlib.axes._subplots.AxesSubplot object at 0x000000001318F160>], dtype=object)"
      ]
     },
     "execution_count": 43,
     "metadata": {},
     "output_type": "execute_result"
    },
    {
     "data": {
      "image/png": "[encoded data removed]",
      "text/plain": [
       "<matplotlib.figure.Figure at 0xc476128>"
      ]
     },
     "metadata": {},
     "output_type": "display_data"
    }
   ],
   "source": [
    "Data[(Data['LandUse']=='Res')].hist(column='Wear Frac',by='Brace',figsize=(12,4),layout=(1,3))"
   ]
  },
  {
   "cell_type": "code",
   "execution_count": 44,
   "metadata": {},
   "outputs": [
    {
     "data": {
      "text/plain": [
       "array([<matplotlib.axes._subplots.AxesSubplot object at 0x0000000010915438>,\n",
       "       <matplotlib.axes._subplots.AxesSubplot object at 0x000000000FE0E908>,\n",
       "       <matplotlib.axes._subplots.AxesSubplot object at 0x000000000CDAE470>], dtype=object)"
      ]
     },
     "execution_count": 44,
     "metadata": {},
     "output_type": "execute_result"
    },
    {
     "data": {
      "image/png": "[encoded data removed]",
      "text/plain": [
       "<matplotlib.figure.Figure at 0xd996f28>"
      ]
     },
     "metadata": {},
     "output_type": "display_data"
    }
   ],
   "source": [
    "Data[(Data['LandUse']=='Inst')].hist(column='Wear Frac',by='Brace',figsize=(12,4),layout=(1,3))"
   ]
  },
  {
   "cell_type": "code",
   "execution_count": 45,
   "metadata": {},
   "outputs": [
    {
     "data": {
      "text/plain": [
       "array([<matplotlib.axes._subplots.AxesSubplot object at 0x0000000012D8C6D8>,\n",
       "       <matplotlib.axes._subplots.AxesSubplot object at 0x0000000018647F28>,\n",
       "       <matplotlib.axes._subplots.AxesSubplot object at 0x000000000D321A90>], dtype=object)"
      ]
     },
     "execution_count": 45,
     "metadata": {},
     "output_type": "execute_result"
    },
    {
     "data": {
      "image/png": "[encoded data removed]",
      "text/plain": [
       "<matplotlib.figure.Figure at 0x12efa898>"
      ]
     },
     "metadata": {},
     "output_type": "display_data"
    }
   ],
   "source": [
    "Data[(Data['LandUse']=='Os')].hist(column='Wear Frac',by='Brace',figsize=(12,4),layout=(1,3))"
   ]
  },
  {
   "cell_type": "code",
   "execution_count": 54,
   "metadata": {},
   "outputs": [
    {
     "data": {
      "image/png": "[encoded data removed]",
      "text/plain": [
       "<matplotlib.figure.Figure at 0xc848400>"
      ]
     },
     "metadata": {},
     "output_type": "display_data"
    }
   ],
   "source": [
    "BraceData = Data[(~(Data['LandUse']=='Home')|(Data['LandUse']=='Trip')&(Data['Brace']=='Cbr'))]\n",
    "ax = BraceData.plot(x='Duration',y='Wear Frac',kind='scatter')\n",
    "# ax.set_xlim(-.1,10)"
   ]
  }
 ],
 "metadata": {
  "anaconda-cloud": {},
  "kernelspec": {
   "display_name": "Python 3",
   "language": "python",
   "name": "python3"
  },
  "language_info": {
   "codemirror_mode": {
    "name": "ipython",
    "version": 3
   },
   "file_extension": ".py",
   "mimetype": "text/x-python",
   "name": "python",
   "nbconvert_exporter": "python",
   "pygments_lexer": "ipython3",
   "version": "3.6.10"
  }
 },
 "nbformat": 4,
 "nbformat_minor": 1
}
