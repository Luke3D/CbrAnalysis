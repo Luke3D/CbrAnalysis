{
 "cells": [
  {
   "cell_type": "code",
   "execution_count": 217,
   "metadata": {},
   "outputs": [],
   "source": [
    "import pandas as pd\n",
    "import numpy as np\n",
    "import seaborn as sns\n",
    "import datetime as dt\n",
    "import os\n",
    "import pytz\n",
    "from pytz import timezone\n",
    "import time\n",
    "from pathlib import Path\n",
    "\n",
    "from scipy.stats import pearsonr\n",
    "import matplotlib.pyplot as plt\n",
    "%matplotlib inline"
   ]
  },
  {
   "cell_type": "code",
   "execution_count": 2,
   "metadata": {},
   "outputs": [],
   "source": [
    "tz = timezone('US/Central') # This data uses GMT-6 rather than standard CST/CDT\n",
    "def toUTC(d):\n",
    "    return tz.normalize(tz.localize(d)).astimezone(pytz.utc)"
   ]
  },
  {
   "cell_type": "code",
   "execution_count": 3,
   "metadata": {},
   "outputs": [],
   "source": [
    "def string2datetime(stringDTSeries):\n",
    "    try:\n",
    "        return [(dt.datetime.strptime(DT,'%Y/%m/%d %I:%M:%S %p')) for DT in stringDTSeries]\n",
    "    except(ValueError):\n",
    "        try:\n",
    "            return [(dt.datetime.strptime(DT,'%Y/%m/%d %H:%M:%S')) for DT in stringDTSeries]\n",
    "        except(ValueError):\n",
    "            try:\n",
    "                return [(dt.datetime.strptime(DT,'%m/%d/%Y %I:%M:%S %p')) for DT in stringDTSeries]\n",
    "            except(ValueError):\n",
    "                try:\n",
    "                    return [(dt.datetime.strptime(DT,'%m/%d/%Y %H:%M:%S')) for DT in stringDTSeries]\n",
    "                except(ValueError):\n",
    "                    return [(dt.datetime.strptime(DT,'%m/%d/%y %H:%M:%S')) for DT in stringDTSeries]"
   ]
  },
  {
   "cell_type": "code",
   "execution_count": 4,
   "metadata": {},
   "outputs": [],
   "source": [
    "path = '/Volumes/RTO/C Brace/GPS Analysis/' #mac\n",
    "# path = 'X:/C Brace/GPS Analysis/' #win\n",
    "# path = 'Z:/C Brace/GPS Analysis/'\n"
   ]
  },
  {
   "cell_type": "markdown",
   "metadata": {},
   "source": [
    "# Calculate Features"
   ]
  },
  {
   "cell_type": "code",
   "execution_count": 5,
   "metadata": {},
   "outputs": [],
   "source": [
    "path_procfiles = os.path.join(path,'UIC_GPSData/w_Steps')"
   ]
  },
  {
   "cell_type": "code",
   "execution_count": 6,
   "metadata": {},
   "outputs": [
    {
     "name": "stdout",
     "output_type": "stream",
     "text": [
      "CBR21_CBrace.csv\n"
     ]
    }
   ],
   "source": [
    "f = os.listdir(path_procfiles)[0]\n",
    "print(f)"
   ]
  },
  {
   "cell_type": "code",
   "execution_count": 9,
   "metadata": {},
   "outputs": [
    {
     "data": {
      "text/html": [
       "<div>\n",
       "<style scoped>\n",
       "    .dataframe tbody tr th:only-of-type {\n",
       "        vertical-align: middle;\n",
       "    }\n",
       "\n",
       "    .dataframe tbody tr th {\n",
       "        vertical-align: top;\n",
       "    }\n",
       "\n",
       "    .dataframe thead th {\n",
       "        text-align: right;\n",
       "    }\n",
       "</style>\n",
       "<table border=\"1\" class=\"dataframe\">\n",
       "  <thead>\n",
       "    <tr style=\"text-align: right;\">\n",
       "      <th></th>\n",
       "      <th>Date</th>\n",
       "      <th>Sequence</th>\n",
       "      <th>BeginTime</th>\n",
       "      <th>EndTime</th>\n",
       "      <th>Mode</th>\n",
       "      <th>LandUse</th>\n",
       "      <th>MeanSpeed</th>\n",
       "      <th>Numberpoints</th>\n",
       "      <th>TotalGap</th>\n",
       "      <th>Duration</th>\n",
       "      <th>...</th>\n",
       "      <th>Gap_Max</th>\n",
       "      <th>Gap_Mean</th>\n",
       "      <th>Gap_Median</th>\n",
       "      <th>LocID</th>\n",
       "      <th>DistHome</th>\n",
       "      <th>Steps</th>\n",
       "      <th>Cadence</th>\n",
       "      <th>Time walking</th>\n",
       "      <th>Steps per Hour</th>\n",
       "      <th>Steps per Hour Wear</th>\n",
       "    </tr>\n",
       "  </thead>\n",
       "  <tbody>\n",
       "    <tr>\n",
       "      <th>0</th>\n",
       "      <td>2016-08-18</td>\n",
       "      <td>1</td>\n",
       "      <td>15:18:57</td>\n",
       "      <td>15:53:57</td>\n",
       "      <td>NaN</td>\n",
       "      <td>Com_office</td>\n",
       "      <td>0.527363</td>\n",
       "      <td>27</td>\n",
       "      <td>90.916667</td>\n",
       "      <td>0.024306</td>\n",
       "      <td>...</td>\n",
       "      <td>1850.0</td>\n",
       "      <td>80.769231</td>\n",
       "      <td>10.0</td>\n",
       "      <td>1</td>\n",
       "      <td>5442.413371</td>\n",
       "      <td>120</td>\n",
       "      <td>0.222222</td>\n",
       "      <td>540</td>\n",
       "      <td>205.714286</td>\n",
       "      <td>205.714286</td>\n",
       "    </tr>\n",
       "    <tr>\n",
       "      <th>1</th>\n",
       "      <td>2016-08-18</td>\n",
       "      <td>2</td>\n",
       "      <td>15:54:07</td>\n",
       "      <td>16:19:47</td>\n",
       "      <td>Car</td>\n",
       "      <td>Trip</td>\n",
       "      <td>33.155807</td>\n",
       "      <td>155</td>\n",
       "      <td>0.000000</td>\n",
       "      <td>0.017824</td>\n",
       "      <td>...</td>\n",
       "      <td>10.0</td>\n",
       "      <td>10.000000</td>\n",
       "      <td>10.0</td>\n",
       "      <td>-1</td>\n",
       "      <td>-1.000000</td>\n",
       "      <td>1</td>\n",
       "      <td>0.100000</td>\n",
       "      <td>10</td>\n",
       "      <td>2.337662</td>\n",
       "      <td>2.337662</td>\n",
       "    </tr>\n",
       "    <tr>\n",
       "      <th>2</th>\n",
       "      <td>2016-08-18</td>\n",
       "      <td>3</td>\n",
       "      <td>16:19:57</td>\n",
       "      <td>19:06:17</td>\n",
       "      <td>NaN</td>\n",
       "      <td>Res_sf_attached</td>\n",
       "      <td>0.215601</td>\n",
       "      <td>1000</td>\n",
       "      <td>0.000000</td>\n",
       "      <td>0.115509</td>\n",
       "      <td>...</td>\n",
       "      <td>10.0</td>\n",
       "      <td>9.989990</td>\n",
       "      <td>10.0</td>\n",
       "      <td>2</td>\n",
       "      <td>12229.512267</td>\n",
       "      <td>0</td>\n",
       "      <td>NaN</td>\n",
       "      <td>0</td>\n",
       "      <td>0.000000</td>\n",
       "      <td>0.000000</td>\n",
       "    </tr>\n",
       "    <tr>\n",
       "      <th>3</th>\n",
       "      <td>2016-08-18</td>\n",
       "      <td>4</td>\n",
       "      <td>19:06:27</td>\n",
       "      <td>19:23:37</td>\n",
       "      <td>Car</td>\n",
       "      <td>Trip</td>\n",
       "      <td>35.997711</td>\n",
       "      <td>104</td>\n",
       "      <td>0.000000</td>\n",
       "      <td>0.011921</td>\n",
       "      <td>...</td>\n",
       "      <td>10.0</td>\n",
       "      <td>10.000000</td>\n",
       "      <td>10.0</td>\n",
       "      <td>-1</td>\n",
       "      <td>-1.000000</td>\n",
       "      <td>4</td>\n",
       "      <td>0.100000</td>\n",
       "      <td>40</td>\n",
       "      <td>13.980583</td>\n",
       "      <td>13.980583</td>\n",
       "    </tr>\n",
       "    <tr>\n",
       "      <th>4</th>\n",
       "      <td>2016-08-18</td>\n",
       "      <td>5</td>\n",
       "      <td>19:23:47</td>\n",
       "      <td>21:09:17</td>\n",
       "      <td>NaN</td>\n",
       "      <td>Inst_religious</td>\n",
       "      <td>0.230411</td>\n",
       "      <td>634</td>\n",
       "      <td>0.000000</td>\n",
       "      <td>0.073264</td>\n",
       "      <td>...</td>\n",
       "      <td>10.0</td>\n",
       "      <td>10.000000</td>\n",
       "      <td>10.0</td>\n",
       "      <td>3</td>\n",
       "      <td>6302.016284</td>\n",
       "      <td>0</td>\n",
       "      <td>NaN</td>\n",
       "      <td>0</td>\n",
       "      <td>0.000000</td>\n",
       "      <td>0.000000</td>\n",
       "    </tr>\n",
       "  </tbody>\n",
       "</table>\n",
       "<p>5 rows × 29 columns</p>\n",
       "</div>"
      ],
      "text/plain": [
       "         Date  Sequence BeginTime   EndTime Mode          LandUse  MeanSpeed  \\\n",
       "0  2016-08-18         1  15:18:57  15:53:57  NaN       Com_office   0.527363   \n",
       "1  2016-08-18         2  15:54:07  16:19:47  Car             Trip  33.155807   \n",
       "2  2016-08-18         3  16:19:57  19:06:17  NaN  Res_sf_attached   0.215601   \n",
       "3  2016-08-18         4  19:06:27  19:23:37  Car             Trip  35.997711   \n",
       "4  2016-08-18         5  19:23:47  21:09:17  NaN   Inst_religious   0.230411   \n",
       "\n",
       "   Numberpoints   TotalGap  Duration  ...  Gap_Max   Gap_Mean  Gap_Median  \\\n",
       "0            27  90.916667  0.024306  ...   1850.0  80.769231        10.0   \n",
       "1           155   0.000000  0.017824  ...     10.0  10.000000        10.0   \n",
       "2          1000   0.000000  0.115509  ...     10.0   9.989990        10.0   \n",
       "3           104   0.000000  0.011921  ...     10.0  10.000000        10.0   \n",
       "4           634   0.000000  0.073264  ...     10.0  10.000000        10.0   \n",
       "\n",
       "   LocID      DistHome  Steps   Cadence  Time walking  Steps per Hour  \\\n",
       "0      1   5442.413371    120  0.222222           540      205.714286   \n",
       "1     -1     -1.000000      1  0.100000            10        2.337662   \n",
       "2      2  12229.512267      0       NaN             0        0.000000   \n",
       "3     -1     -1.000000      4  0.100000            40       13.980583   \n",
       "4      3   6302.016284      0       NaN             0        0.000000   \n",
       "\n",
       "   Steps per Hour Wear  \n",
       "0           205.714286  \n",
       "1             2.337662  \n",
       "2             0.000000  \n",
       "3            13.980583  \n",
       "4             0.000000  \n",
       "\n",
       "[5 rows x 29 columns]"
      ]
     },
     "execution_count": 9,
     "metadata": {},
     "output_type": "execute_result"
    }
   ],
   "source": [
    "data = pd.read_csv(Path(path_procfiles)/f)\n",
    "del data['Unnamed: 0']\n",
    "del data['Unnamed: 0.1']\n",
    "del data['Unnamed: 0.1.1']\n",
    "data.head()"
   ]
  },
  {
   "cell_type": "code",
   "execution_count": 70,
   "metadata": {},
   "outputs": [
    {
     "data": {
      "text/plain": [
       "array([nan, 'Car', 'Walk'], dtype=object)"
      ]
     },
     "execution_count": 70,
     "metadata": {},
     "output_type": "execute_result"
    }
   ],
   "source": [
    "data.Mode.unique()"
   ]
  },
  {
   "cell_type": "code",
   "execution_count": 10,
   "metadata": {},
   "outputs": [
    {
     "data": {
      "text/plain": [
       "1      29.719219\n",
       "3      40.192213\n",
       "5      46.385415\n",
       "8      39.493252\n",
       "10     31.156977\n",
       "         ...    \n",
       "200    39.616081\n",
       "203    38.482948\n",
       "205    50.340176\n",
       "207    72.504288\n",
       "210    41.240620\n",
       "Name: Speed_Median, Length: 92, dtype: float64"
      ]
     },
     "execution_count": 10,
     "metadata": {},
     "output_type": "execute_result"
    }
   ],
   "source": [
    "data[data.Mode=='Car']['Speed_Median']"
   ]
  },
  {
   "cell_type": "markdown",
   "metadata": {},
   "source": [
    "**Retrieve Home Data only**"
   ]
  },
  {
   "cell_type": "code",
   "execution_count": 21,
   "metadata": {},
   "outputs": [],
   "source": [
    "Data = pd.DataFrame()\n",
    "for f in os.listdir(path_procfiles):\n",
    "#     print(f)\n",
    "    if os.path.isfile(os.path.join(path_procfiles,f)):\n",
    "        d = pd.read_csv(os.path.join(path_procfiles,f))\n",
    "        d.LandUse = [x.split('_')[0] for x in d.LandUse]\n",
    "        DestinationInd = d['LandUse']=='Home' #to retrieve home data\n",
    "        # don't use first row as a destination\n",
    "        if DestinationInd[0]:\n",
    "            DestinationInd[0] = False\n",
    "        \n",
    "        del d['Unnamed: 0']\n",
    "        del d['Unnamed: 0.1']\n",
    "        d['SubjID'] = str(f[:5])\n",
    "        d['Brace'] = str.capitalize(f[6:9])\n",
    "        d = d[DestinationInd]\n",
    "        Data = pd.concat([Data,d]) #concatenate data from each subj \n",
    "    else:\n",
    "        #skip directories\n",
    "        continue"
   ]
  },
  {
   "cell_type": "code",
   "execution_count": 22,
   "metadata": {},
   "outputs": [
    {
     "data": {
      "text/plain": [
       "Index(['Date', 'Sequence', 'BeginTime', 'EndTime', 'Mode', 'LandUse',\n",
       "       'MeanSpeed', 'Numberpoints', 'TotalGap', 'Duration', 'Mean Lat',\n",
       "       'Mean Lon', 'Wear Frac', 'Numpoints', 'Speed_Mean', 'Speed_Min',\n",
       "       'Speed_Max', 'Speed_Median', 'Gap_Min', 'Gap_Max', 'Gap_Mean',\n",
       "       'Gap_Median', 'LocID', 'DistHome', 'Steps', 'Cadence', 'Time walking',\n",
       "       'Steps per Hour', 'Steps per Hour Wear', 'SubjID', 'Brace',\n",
       "       'MaximumSpeed', 'MinimumSpeed'],\n",
       "      dtype='object')"
      ]
     },
     "execution_count": 22,
     "metadata": {},
     "output_type": "execute_result"
    }
   ],
   "source": [
    "Data=Data.drop('Unnamed: 0.1.1',axis=1)\n",
    "Data.columns"
   ]
  },
  {
   "cell_type": "code",
   "execution_count": 23,
   "metadata": {},
   "outputs": [
    {
     "data": {
      "text/plain": [
       "array(['CBR21', 'CBR30', 'CBR22', 'CBR24', 'CBR27', 'CBR26', 'CBR11',\n",
       "       'CBR16', 'CBR28', 'CBR31', 'CBR15', 'CBR19', 'CBR25', 'CBR08'],\n",
       "      dtype=object)"
      ]
     },
     "execution_count": 23,
     "metadata": {},
     "output_type": "execute_result"
    }
   ],
   "source": [
    "Data.SubjID.unique()"
   ]
  },
  {
   "cell_type": "code",
   "execution_count": 25,
   "metadata": {},
   "outputs": [
    {
     "data": {
      "text/plain": [
       "<matplotlib.axes._subplots.AxesSubplot at 0x1a1a75b550>"
      ]
     },
     "execution_count": 25,
     "metadata": {},
     "output_type": "execute_result"
    },
    {
     "data": {
      "image/png": "[encoded data removed]",
      "text/plain": [
       "<Figure size 432x288 with 1 Axes>"
      ]
     },
     "metadata": {
      "needs_background": "light"
     },
     "output_type": "display_data"
    }
   ],
   "source": [
    "Data['Duration'].hist()"
   ]
  },
  {
   "cell_type": "code",
   "execution_count": 26,
   "metadata": {
    "scrolled": true
   },
   "outputs": [
    {
     "data": {
      "text/plain": [
       "<matplotlib.axes._subplots.AxesSubplot at 0x1a1a75b8d0>"
      ]
     },
     "execution_count": 26,
     "metadata": {},
     "output_type": "execute_result"
    },
    {
     "data": {
      "image/png": "[encoded data removed]",
      "text/plain": [
       "<Figure size 432x288 with 1 Axes>"
      ]
     },
     "metadata": {
      "needs_background": "light"
     },
     "output_type": "display_data"
    }
   ],
   "source": [
    "Data.boxplot(column='Duration',by='Brace')"
   ]
  },
  {
   "cell_type": "code",
   "execution_count": 27,
   "metadata": {},
   "outputs": [],
   "source": [
    "#assign new brace category\n",
    "Data['NewBrace']=0"
   ]
  },
  {
   "cell_type": "code",
   "execution_count": 28,
   "metadata": {},
   "outputs": [
    {
     "name": "stdout",
     "output_type": "stream",
     "text": [
      "CBR21 ['Cbr' 'Sco' 'Bas']\n",
      "CBR30 ['Bas' 'Cbr' 'Sco']\n",
      "CBR22 ['Cbr' 'Sco' 'Bas']\n",
      "CBR24 ['Sco' 'Cbr' 'Bas']\n",
      "CBR27 ['Sco' 'Bas' 'Cbr']\n",
      "CBR26 ['Bas' 'Cbr' 'Sco']\n",
      "CBR11 ['Cbr' 'Bas' 'Sco']\n",
      "CBR16 ['Cbr' 'Sco']\n",
      "CBR28 ['Cbr' 'Bas' 'Sco']\n",
      "CBR31 ['Sco' 'Bas' 'Cbr']\n",
      "CBR15 ['Cbr' 'Bas' 'Sco']\n",
      "CBR19 ['Sco' 'Cbr' 'Bas']\n",
      "CBR25 ['Cbr' 'Bas']\n",
      "CBR08 ['Sco' 'Cbr']\n"
     ]
    }
   ],
   "source": [
    "for s in Data.SubjID.unique():\n",
    "    print(s,Data[Data['SubjID']==s].Brace.unique())\n"
   ]
  },
  {
   "cell_type": "code",
   "execution_count": 29,
   "metadata": {},
   "outputs": [],
   "source": [
    "Data=Data.reset_index(drop=True)\n",
    "#add label of new brace\n",
    "for s in Data.SubjID.unique():\n",
    "    if len(Data[Data['SubjID']==s].Brace.unique()) > 2: #if baseline device data exists, assumes CBR and SCO are both the new brace\n",
    "        Data.loc[(Data['SubjID']==s) & (Data['Brace']=='Cbr'),'NewBrace']=1\n",
    "        Data.loc[(Data['SubjID']==s) & (Data['Brace']=='Sco'),'NewBrace']=1\n",
    "    else: #if only SCO or Cbr data exists\n",
    "        if 'Cbr' in Data[Data['SubjID']==s].Brace.unique():\n",
    "            Data.loc[(Data['SubjID']==s) & (Data['Brace']=='Cbr'),'NewBrace']=1    \n",
    "        else:\n",
    "            Data.loc[(Data['SubjID']==s) & (Data['Brace']=='Sco'),'NewBrace']=1    \n",
    "            "
   ]
  },
  {
   "cell_type": "code",
   "execution_count": 30,
   "metadata": {},
   "outputs": [
    {
     "data": {
      "text/plain": [
       "1303"
      ]
     },
     "execution_count": 30,
     "metadata": {},
     "output_type": "execute_result"
    }
   ],
   "source": [
    "#To remove SCO data (for speed analysis) if 3 devices exist\n",
    "for s in Data.SubjID.unique():\n",
    "    if len(Data[Data['SubjID']==s].Brace.unique()) > 2: #if baseline device data exists, assumes CBR and SCO are both the new brace\n",
    "        inds= np.where((Data['SubjID']==s) & (Data['Brace']=='Sco'))[0]\n",
    "        Data=Data.drop(inds)\n",
    "        Data=Data.reset_index(drop=True)\n",
    "len(Data)  "
   ]
  },
  {
   "cell_type": "code",
   "execution_count": 31,
   "metadata": {
    "scrolled": true
   },
   "outputs": [
    {
     "name": "stdout",
     "output_type": "stream",
     "text": [
      "CBR21 ['Cbr' 'Bas']\n",
      "CBR30 ['Bas' 'Cbr']\n",
      "CBR22 ['Cbr' 'Bas']\n",
      "CBR27 ['Bas' 'Cbr']\n",
      "CBR26 ['Bas' 'Cbr']\n",
      "CBR11 ['Cbr' 'Bas']\n",
      "CBR16 ['Cbr' 'Sco']\n",
      "CBR28 ['Cbr' 'Bas']\n",
      "CBR15 ['Cbr' 'Bas']\n",
      "CBR25 ['Cbr' 'Bas']\n",
      "CBR19 ['Cbr' 'Bas']\n",
      "CBR08 ['Sco' 'Cbr']\n",
      "CBR24 ['Cbr' 'Bas']\n",
      "CBR31 ['Bas' 'Cbr']\n"
     ]
    }
   ],
   "source": [
    "for s in Data.SubjID.unique():\n",
    "    print(s,Data[Data['SubjID']==s].Brace.unique())\n"
   ]
  },
  {
   "cell_type": "code",
   "execution_count": 32,
   "metadata": {},
   "outputs": [],
   "source": [
    "Features = pd.DataFrame({'Wear Frac':np.array(Data['Wear Frac'])})"
   ]
  },
  {
   "cell_type": "code",
   "execution_count": 35,
   "metadata": {},
   "outputs": [],
   "source": [
    "Features['Duration'] = (Data['Duration']*24)\n",
    "Features['Mean Speed'] = Data['Speed_Mean']\n",
    "Features['SubjID'] = Data['SubjID']\n",
    "Features['NewBrace'] = Data['NewBrace']\n",
    "Features['LocID'] = Data['LocID']\n",
    "Features['Steps'] = Data['Steps']\n",
    "Features['Cadence'] = Data['Cadence']\n",
    "Features['Steps per Hour'] = Data['Steps per Hour']\n",
    "Features['Steps per Hour Wear'] = Data['Steps per Hour Wear']\n",
    "Features['Date'] = Data['Date']"
   ]
  },
  {
   "cell_type": "code",
   "execution_count": 36,
   "metadata": {},
   "outputs": [
    {
     "data": {
      "text/html": [
       "<div>\n",
       "<style scoped>\n",
       "    .dataframe tbody tr th:only-of-type {\n",
       "        vertical-align: middle;\n",
       "    }\n",
       "\n",
       "    .dataframe tbody tr th {\n",
       "        vertical-align: top;\n",
       "    }\n",
       "\n",
       "    .dataframe thead th {\n",
       "        text-align: right;\n",
       "    }\n",
       "</style>\n",
       "<table border=\"1\" class=\"dataframe\">\n",
       "  <thead>\n",
       "    <tr style=\"text-align: right;\">\n",
       "      <th></th>\n",
       "      <th>Wear Frac</th>\n",
       "      <th>Duration</th>\n",
       "      <th>Mean Speed</th>\n",
       "      <th>SubjID</th>\n",
       "      <th>NewBrace</th>\n",
       "      <th>LocID</th>\n",
       "      <th>Steps</th>\n",
       "      <th>Steps per Hour</th>\n",
       "      <th>Steps per Hour Wear</th>\n",
       "      <th>Date</th>\n",
       "      <th>Cadence</th>\n",
       "    </tr>\n",
       "  </thead>\n",
       "  <tbody>\n",
       "    <tr>\n",
       "      <th>0</th>\n",
       "      <td>0.033473</td>\n",
       "      <td>2.652778</td>\n",
       "      <td>0.076119</td>\n",
       "      <td>CBR21</td>\n",
       "      <td>1</td>\n",
       "      <td>0</td>\n",
       "      <td>30</td>\n",
       "      <td>11.308901</td>\n",
       "      <td>337.853403</td>\n",
       "      <td>2016-08-18</td>\n",
       "      <td>0.333333</td>\n",
       "    </tr>\n",
       "    <tr>\n",
       "      <th>1</th>\n",
       "      <td>0.000000</td>\n",
       "      <td>18.044444</td>\n",
       "      <td>0.037787</td>\n",
       "      <td>CBR21</td>\n",
       "      <td>1</td>\n",
       "      <td>0</td>\n",
       "      <td>0</td>\n",
       "      <td>0.000000</td>\n",
       "      <td>NaN</td>\n",
       "      <td>2016-08-19</td>\n",
       "      <td>NaN</td>\n",
       "    </tr>\n",
       "    <tr>\n",
       "      <th>2</th>\n",
       "      <td>0.000000</td>\n",
       "      <td>4.041667</td>\n",
       "      <td>0.063728</td>\n",
       "      <td>CBR21</td>\n",
       "      <td>1</td>\n",
       "      <td>0</td>\n",
       "      <td>0</td>\n",
       "      <td>0.000000</td>\n",
       "      <td>NaN</td>\n",
       "      <td>2016-08-19</td>\n",
       "      <td>NaN</td>\n",
       "    </tr>\n",
       "    <tr>\n",
       "      <th>3</th>\n",
       "      <td>0.000000</td>\n",
       "      <td>12.708333</td>\n",
       "      <td>0.046796</td>\n",
       "      <td>CBR21</td>\n",
       "      <td>1</td>\n",
       "      <td>0</td>\n",
       "      <td>0</td>\n",
       "      <td>0.000000</td>\n",
       "      <td>NaN</td>\n",
       "      <td>2016-08-20</td>\n",
       "      <td>NaN</td>\n",
       "    </tr>\n",
       "    <tr>\n",
       "      <th>4</th>\n",
       "      <td>0.000000</td>\n",
       "      <td>1.600000</td>\n",
       "      <td>0.212844</td>\n",
       "      <td>CBR21</td>\n",
       "      <td>1</td>\n",
       "      <td>0</td>\n",
       "      <td>0</td>\n",
       "      <td>0.000000</td>\n",
       "      <td>NaN</td>\n",
       "      <td>2016-08-20</td>\n",
       "      <td>NaN</td>\n",
       "    </tr>\n",
       "    <tr>\n",
       "      <th>...</th>\n",
       "      <td>...</td>\n",
       "      <td>...</td>\n",
       "      <td>...</td>\n",
       "      <td>...</td>\n",
       "      <td>...</td>\n",
       "      <td>...</td>\n",
       "      <td>...</td>\n",
       "      <td>...</td>\n",
       "      <td>...</td>\n",
       "      <td>...</td>\n",
       "      <td>...</td>\n",
       "    </tr>\n",
       "    <tr>\n",
       "      <th>1011</th>\n",
       "      <td>0.000000</td>\n",
       "      <td>9.832500</td>\n",
       "      <td>0.043803</td>\n",
       "      <td>CBR21</td>\n",
       "      <td>0</td>\n",
       "      <td>0</td>\n",
       "      <td>0</td>\n",
       "      <td>0.000000</td>\n",
       "      <td>NaN</td>\n",
       "      <td>2016-01-19</td>\n",
       "      <td>NaN</td>\n",
       "    </tr>\n",
       "    <tr>\n",
       "      <th>1012</th>\n",
       "      <td>0.000000</td>\n",
       "      <td>10.123889</td>\n",
       "      <td>0.108452</td>\n",
       "      <td>CBR21</td>\n",
       "      <td>0</td>\n",
       "      <td>0</td>\n",
       "      <td>0</td>\n",
       "      <td>0.000000</td>\n",
       "      <td>NaN</td>\n",
       "      <td>2016-01-19</td>\n",
       "      <td>NaN</td>\n",
       "    </tr>\n",
       "    <tr>\n",
       "      <th>1013</th>\n",
       "      <td>0.000000</td>\n",
       "      <td>8.155833</td>\n",
       "      <td>0.056561</td>\n",
       "      <td>CBR21</td>\n",
       "      <td>0</td>\n",
       "      <td>0</td>\n",
       "      <td>0</td>\n",
       "      <td>0.000000</td>\n",
       "      <td>NaN</td>\n",
       "      <td>2016-01-20</td>\n",
       "      <td>NaN</td>\n",
       "    </tr>\n",
       "    <tr>\n",
       "      <th>1014</th>\n",
       "      <td>0.000000</td>\n",
       "      <td>7.810833</td>\n",
       "      <td>0.106688</td>\n",
       "      <td>CBR21</td>\n",
       "      <td>0</td>\n",
       "      <td>0</td>\n",
       "      <td>0</td>\n",
       "      <td>0.000000</td>\n",
       "      <td>NaN</td>\n",
       "      <td>2016-01-20</td>\n",
       "      <td>NaN</td>\n",
       "    </tr>\n",
       "    <tr>\n",
       "      <th>1015</th>\n",
       "      <td>0.000000</td>\n",
       "      <td>9.580000</td>\n",
       "      <td>0.091130</td>\n",
       "      <td>CBR21</td>\n",
       "      <td>0</td>\n",
       "      <td>0</td>\n",
       "      <td>0</td>\n",
       "      <td>0.000000</td>\n",
       "      <td>NaN</td>\n",
       "      <td>2016-01-21</td>\n",
       "      <td>NaN</td>\n",
       "    </tr>\n",
       "  </tbody>\n",
       "</table>\n",
       "<p>126 rows × 11 columns</p>\n",
       "</div>"
      ],
      "text/plain": [
       "      Wear Frac   Duration  Mean Speed SubjID  NewBrace  LocID  Steps  \\\n",
       "0      0.033473   2.652778    0.076119  CBR21         1      0     30   \n",
       "1      0.000000  18.044444    0.037787  CBR21         1      0      0   \n",
       "2      0.000000   4.041667    0.063728  CBR21         1      0      0   \n",
       "3      0.000000  12.708333    0.046796  CBR21         1      0      0   \n",
       "4      0.000000   1.600000    0.212844  CBR21         1      0      0   \n",
       "...         ...        ...         ...    ...       ...    ...    ...   \n",
       "1011   0.000000   9.832500    0.043803  CBR21         0      0      0   \n",
       "1012   0.000000  10.123889    0.108452  CBR21         0      0      0   \n",
       "1013   0.000000   8.155833    0.056561  CBR21         0      0      0   \n",
       "1014   0.000000   7.810833    0.106688  CBR21         0      0      0   \n",
       "1015   0.000000   9.580000    0.091130  CBR21         0      0      0   \n",
       "\n",
       "      Steps per Hour  Steps per Hour Wear        Date   Cadence  \n",
       "0          11.308901           337.853403  2016-08-18  0.333333  \n",
       "1           0.000000                  NaN  2016-08-19       NaN  \n",
       "2           0.000000                  NaN  2016-08-19       NaN  \n",
       "3           0.000000                  NaN  2016-08-20       NaN  \n",
       "4           0.000000                  NaN  2016-08-20       NaN  \n",
       "...              ...                  ...         ...       ...  \n",
       "1011        0.000000                  NaN  2016-01-19       NaN  \n",
       "1012        0.000000                  NaN  2016-01-19       NaN  \n",
       "1013        0.000000                  NaN  2016-01-20       NaN  \n",
       "1014        0.000000                  NaN  2016-01-20       NaN  \n",
       "1015        0.000000                  NaN  2016-01-21       NaN  \n",
       "\n",
       "[126 rows x 11 columns]"
      ]
     },
     "execution_count": 36,
     "metadata": {},
     "output_type": "execute_result"
    }
   ],
   "source": [
    "Features[Features.SubjID=='CBR21']"
   ]
  },
  {
   "cell_type": "code",
   "execution_count": 37,
   "metadata": {},
   "outputs": [],
   "source": [
    "demographics = pd.read_excel('../Data/Demographics_analysis.xlsx')\n",
    "Features['Age'] = [demographics[demographics['SubjID']==x]['Age'].values[0] for x in Data['SubjID']]\n",
    "Features['Diagnosis'] = [demographics[demographics['SubjID']==x]['Short Diagnosis'].values[0] for x in Data['SubjID']]\n",
    "Features['BaselineYrs'] = [demographics[demographics['SubjID']==x]['y of baseline use'].values[0] for x in Data['SubjID']]\n",
    "ClinicalMeasures = ['6mwt', '10mwt_ss', '10mwt_fast']\n",
    "for name in ClinicalMeasures:\n",
    "    d = pd.read_csv('./Clinical Measures/'+name+'.csv')\n",
    "    Features[name] = [d[d['SubjID']==x][y].values[0] for x, y in Data[['SubjID', 'Brace']].values]"
   ]
  },
  {
   "cell_type": "code",
   "execution_count": 38,
   "metadata": {},
   "outputs": [],
   "source": [
    "Features.to_csv('../Data/GPSandClinicalData_Home.csv',index=False)"
   ]
  },
  {
   "cell_type": "markdown",
   "metadata": {},
   "source": [
    "**Retrieve Destinations data only**"
   ]
  },
  {
   "cell_type": "code",
   "execution_count": 46,
   "metadata": {},
   "outputs": [],
   "source": [
    "d = pd.read_csv(Path(path_procfiles)/os.listdir(path_procfiles)[0])"
   ]
  },
  {
   "cell_type": "code",
   "execution_count": 47,
   "metadata": {},
   "outputs": [
    {
     "data": {
      "text/plain": [
       "Index(['Unnamed: 0', 'Unnamed: 0.1', 'Unnamed: 0.1.1', 'Date', 'Sequence',\n",
       "       'BeginTime', 'EndTime', 'Mode', 'LandUse', 'MeanSpeed', 'Numberpoints',\n",
       "       'TotalGap', 'Duration', 'Mean Lat', 'Mean Lon', 'Wear Frac',\n",
       "       'Numpoints', 'Speed_Mean', 'Speed_Min', 'Speed_Max', 'Speed_Median',\n",
       "       'Gap_Min', 'Gap_Max', 'Gap_Mean', 'Gap_Median', 'LocID', 'DistHome',\n",
       "       'Steps', 'Cadence', 'Time walking', 'Steps per Hour',\n",
       "       'Steps per Hour Wear'],\n",
       "      dtype='object')"
      ]
     },
     "execution_count": 47,
     "metadata": {},
     "output_type": "execute_result"
    }
   ],
   "source": [
    "d.columns"
   ]
  },
  {
   "cell_type": "code",
   "execution_count": 12,
   "metadata": {},
   "outputs": [],
   "source": [
    "def getTripDur(PreDestInd,Data):\n",
    "    d = Data[PreDestInd]\n",
    "    TripDur=[]\n",
    "    for i in range(len(d)):\n",
    "        if d['LandUse'].iloc[i]=='Trip':\n",
    "            TripDur.append(d['Duration'][i])\n",
    "        else:\n",
    "            TripDur.append(np.float('nan'))\n",
    "            \n",
    "    return pd.Series(TripDur)"
   ]
  },
  {
   "cell_type": "code",
   "execution_count": 144,
   "metadata": {
    "scrolled": true
   },
   "outputs": [
    {
     "name": "stderr",
     "output_type": "stream",
     "text": [
      "/Users/luca/opt/anaconda3/lib/python3.7/site-packages/ipykernel_launcher.py:25: UserWarning: Boolean Series key will be reindexed to match DataFrame index.\n",
      "/Users/luca/opt/anaconda3/lib/python3.7/site-packages/ipykernel_launcher.py:2: UserWarning: Boolean Series key will be reindexed to match DataFrame index.\n",
      "  \n",
      "/Users/luca/opt/anaconda3/lib/python3.7/site-packages/ipykernel_launcher.py:10: DeprecationWarning: The default dtype for empty Series will be 'object' instead of 'float64' in a future version. Specify a dtype explicitly to silence this warning.\n",
      "  # Remove the CWD from sys.path while we load stuff.\n",
      "/Users/luca/opt/anaconda3/lib/python3.7/site-packages/ipykernel_launcher.py:31: DeprecationWarning: The default dtype for empty Series will be 'object' instead of 'float64' in a future version. Specify a dtype explicitly to silence this warning.\n",
      "/Users/luca/opt/anaconda3/lib/python3.7/site-packages/ipykernel_launcher.py:32: DeprecationWarning: The default dtype for empty Series will be 'object' instead of 'float64' in a future version. Specify a dtype explicitly to silence this warning.\n"
     ]
    }
   ],
   "source": [
    "Data = pd.DataFrame()\n",
    "for f in os.listdir(path_procfiles):\n",
    "#     print(f)\n",
    "    if os.path.isfile(os.path.join(path_procfiles,f)):\n",
    "        d = pd.read_csv(os.path.join(path_procfiles,f))\n",
    "        d.LandUse = [x.split('_')[0] for x in d.LandUse]\n",
    "        DestinationInd = (d['LandUse']!='Home')&(d['LandUse']!='Trip')\n",
    "        # don't use first row as a destination\n",
    "        if DestinationInd[0]:\n",
    "            DestinationInd[0] = False\n",
    "        \n",
    "        del d['Unnamed: 0']\n",
    "        del d['Unnamed: 0.1']\n",
    "        d['SubjID'] = str(f[:5])\n",
    "        d['Brace'] = str.capitalize(f[6:9])\n",
    "        \n",
    "#         print(sum(DestinationInd), sum(d['LandUse']=='Trip'))\n",
    "        \n",
    "        # Calculate trip features\n",
    "        PreDestInd = DestinationInd[1::]\n",
    "        PreDestInd = PreDestInd.append(pd.Series(False))\n",
    "#         print(d[PreDestInd]['LandUse'].unique())\n",
    "\n",
    "#         TripMode = pd.Series(np.float('nan')).append(d[PreDestInd]['Mode'])\n",
    "        TripMode = d[PreDestInd]['Mode']\n",
    "#         TripDuration = pd.Series(np.float('nan')).append(getTripDur(PreDestInd,d))\n",
    "        TripDuration = getTripDur(PreDestInd,d)\n",
    "        \n",
    "        # Calculate aggregate features\n",
    "        d = d[DestinationInd]\n",
    "        d['Relative Freq'] = pd.Series([sum(d['LocID']==x)/sum(DestinationInd) for x in d['LocID']]).values\n",
    "        d['Relative Duration'] = pd.Series([sum(d[d['LocID']==x]['Duration'])/sum(d['Duration']) for x in d['LocID']]).values\n",
    "#         print(np.sum(np.unique(d['Relative Duration'])))\n",
    "        d['TripMode'] = TripMode.values\n",
    "        d['TripDuration'] = TripDuration.values\n",
    "        Data = pd.concat([Data,d]) #concatenate data from each subj\n",
    "    else:\n",
    "        #skip directories\n",
    "        continue\n",
    "\n",
    "OtherDestInd = (Data['LandUse']!='Inst')&(Data['LandUse']!='Res')&(Data['LandUse']!='Com')&(Data['LandUse']!='Os')\n",
    "Data.loc[OtherDestInd,'LandUse'] = 'Other'"
   ]
  },
  {
   "cell_type": "code",
   "execution_count": 148,
   "metadata": {},
   "outputs": [
    {
     "name": "stdout",
     "output_type": "stream",
     "text": [
      "CBR21 1.0000000000000002 39 39\n",
      "CBR30 0.9976407575081299 82 83\n",
      "CBR22 0.9991856556952281 28 29\n",
      "CBR24 1.0 20 20\n",
      "CBR27 0.0 0 0\n",
      "CBR26 0.9907811777156934 30 33\n",
      "CBR11 0.9965563598074217 52 57\n",
      "CBR16 0.9974227278584709 30 31\n",
      "CBR28 1.0 4 4\n",
      "CBR31 0.9954183747287193 19 20\n",
      "CBR15 0.9999999999999999 11 11\n",
      "CBR19 1.0 4 4\n",
      "CBR25 1.0 12 12\n",
      "CBR08 0.9929137779139692 24 25\n"
     ]
    }
   ],
   "source": [
    "newbrace = 'Cbr'\n",
    "for s in Data.SubjID.unique():\n",
    "    Data_ = Data[(Data['SubjID']==s)&(Data['Brace']==newbrace)]\n",
    "    print(s,np.sum(np.unique(Data_['Relative Duration'])),len(np.unique(Data_['Relative Duration'])), len(np.unique(Data_['LocID'])))\n"
   ]
  },
  {
   "cell_type": "code",
   "execution_count": 218,
   "metadata": {},
   "outputs": [
    {
     "data": {
      "text/plain": [
       "Index(['Unnamed: 0.1.1', 'Date', 'Sequence', 'BeginTime', 'EndTime', 'Mode',\n",
       "       'LandUse', 'MeanSpeed', 'Numberpoints', 'TotalGap', 'Duration',\n",
       "       'Mean Lat', 'Mean Lon', 'Wear Frac', 'Numpoints', 'Speed_Mean',\n",
       "       'Speed_Min', 'Speed_Max', 'Speed_Median', 'Gap_Min', 'Gap_Max',\n",
       "       'Gap_Mean', 'Gap_Median', 'LocID', 'DistHome', 'Steps', 'Cadence',\n",
       "       'Time walking', 'Steps per Hour', 'Steps per Hour Wear', 'SubjID',\n",
       "       'Brace', 'Relative Freq', 'Relative Duration', 'TripMode',\n",
       "       'TripDuration', 'MaximumSpeed', 'MinimumSpeed', 'NewBrace'],\n",
       "      dtype='object')"
      ]
     },
     "execution_count": 218,
     "metadata": {},
     "output_type": "execute_result"
    }
   ],
   "source": [
    "Data.columns"
   ]
  },
  {
   "cell_type": "code",
   "execution_count": 32,
   "metadata": {},
   "outputs": [
    {
     "data": {
      "text/plain": [
       "array([ 3,  5,  7, 11,  9, 13,  1, 15,  6,  8, 10, 12, 14,  2,  4, 16, 18,\n",
       "       20, 22, 17, 19, 21, 23, 25, 29, 27, 31, 35, 33, 37, 39, 26, 28, 30,\n",
       "       32, 34, 36, 40, 44, 41, 43, 45, 47, 49, 24, 38])"
      ]
     },
     "execution_count": 32,
     "metadata": {},
     "output_type": "execute_result"
    }
   ],
   "source": [
    "Data.Sequence.unique()"
   ]
  },
  {
   "cell_type": "code",
   "execution_count": 149,
   "metadata": {},
   "outputs": [],
   "source": [
    "Datacopy = Data.copy()"
   ]
  },
  {
   "cell_type": "code",
   "execution_count": 150,
   "metadata": {},
   "outputs": [],
   "source": [
    "Data=Datacopy.copy()"
   ]
  },
  {
   "cell_type": "code",
   "execution_count": 151,
   "metadata": {},
   "outputs": [
    {
     "name": "stdout",
     "output_type": "stream",
     "text": [
      "2653\n"
     ]
    }
   ],
   "source": [
    "Data=Data.reset_index(drop=True)\n",
    "Data.head()\n",
    "print(len(Data))"
   ]
  },
  {
   "cell_type": "code",
   "execution_count": 152,
   "metadata": {},
   "outputs": [],
   "source": [
    "#assign new brace category\n",
    "Data['NewBrace']=0"
   ]
  },
  {
   "cell_type": "code",
   "execution_count": 153,
   "metadata": {},
   "outputs": [
    {
     "name": "stdout",
     "output_type": "stream",
     "text": [
      "CBR21 ['Cbr' 'Sco' 'Bas']\n",
      "CBR30 ['Bas' 'Cbr' 'Sco']\n",
      "CBR22 ['Cbr' 'Sco' 'Bas']\n",
      "CBR24 ['Sco' 'Cbr' 'Bas']\n",
      "CBR27 ['Sco' 'Bas']\n",
      "CBR26 ['Bas' 'Cbr' 'Sco']\n",
      "CBR11 ['Cbr' 'Bas' 'Sco']\n",
      "CBR16 ['Cbr' 'Sco']\n",
      "CBR28 ['Cbr' 'Bas' 'Sco']\n",
      "CBR31 ['Sco' 'Bas' 'Cbr']\n",
      "CBR15 ['Cbr' 'Bas' 'Sco']\n",
      "CBR19 ['Sco' 'Cbr' 'Bas']\n",
      "CBR25 ['Cbr' 'Bas']\n",
      "CBR08 ['Sco' 'Cbr']\n"
     ]
    }
   ],
   "source": [
    "for s in Data.SubjID.unique():\n",
    "    print(s,Data[Data['SubjID']==s].Brace.unique())\n"
   ]
  },
  {
   "cell_type": "code",
   "execution_count": 154,
   "metadata": {},
   "outputs": [],
   "source": [
    "#add label of new brace\n",
    "for s in Data.SubjID.unique():\n",
    "#     print(Data[Data['SubjID']==s].Brace.unique())\n",
    "    if len(Data[Data['SubjID']==s].Brace.unique()) > 2: #if baseline device data exists, assumes CBR and SCO are both the new brace\n",
    "        Data.loc[(Data['SubjID']==s) & (Data['Brace']=='Cbr'),'NewBrace']=1\n",
    "        Data.loc[(Data['SubjID']==s) & (Data['Brace']=='Sco'),'NewBrace']=1\n",
    "    else: #if only SCO or Cbr data exists\n",
    "        if 'Cbr' in Data[Data['SubjID']==s].Brace.unique():\n",
    "            Data.loc[(Data['SubjID']==s) & (Data['Brace']=='Cbr'),'NewBrace']=1    \n",
    "        else:\n",
    "            Data.loc[(Data['SubjID']==s) & (Data['Brace']=='Sco'),'NewBrace']=1    \n",
    "            "
   ]
  },
  {
   "cell_type": "code",
   "execution_count": 155,
   "metadata": {},
   "outputs": [
    {
     "data": {
      "text/plain": [
       "2181"
      ]
     },
     "execution_count": 155,
     "metadata": {},
     "output_type": "execute_result"
    }
   ],
   "source": [
    "#To remove SCO data (for speed analysis) if 3 devices exist\n",
    "for s in Data.SubjID.unique():\n",
    "    if len(Data[Data['SubjID']==s].Brace.unique()) > 2: #if baseline device data exists, assumes CBR and SCO are both the new brace\n",
    "        inds= np.where(((Data['SubjID']==s) & (Data['Brace']=='Sco')))[0]\n",
    "        Data=Data.drop(inds)\n",
    "        Data=Data.reset_index(drop=True)\n",
    "len(Data)  "
   ]
  },
  {
   "cell_type": "code",
   "execution_count": 156,
   "metadata": {
    "scrolled": true
   },
   "outputs": [
    {
     "name": "stdout",
     "output_type": "stream",
     "text": [
      "CBR21 ['Cbr' 'Bas']\n",
      "CBR30 ['Bas' 'Cbr']\n",
      "CBR22 ['Cbr' 'Bas']\n",
      "CBR27 ['Sco' 'Bas']\n",
      "CBR26 ['Bas' 'Cbr']\n",
      "CBR11 ['Cbr' 'Bas']\n",
      "CBR16 ['Cbr' 'Sco']\n",
      "CBR28 ['Cbr' 'Bas']\n",
      "CBR15 ['Cbr' 'Bas']\n",
      "CBR25 ['Cbr' 'Bas']\n",
      "CBR19 ['Cbr' 'Bas']\n",
      "CBR08 ['Sco' 'Cbr']\n",
      "CBR24 ['Cbr' 'Bas']\n",
      "CBR31 ['Bas' 'Cbr']\n"
     ]
    }
   ],
   "source": [
    "for s in Data.SubjID.unique():\n",
    "    print(s,Data[Data['SubjID']==s].Brace.unique())\n"
   ]
  },
  {
   "cell_type": "code",
   "execution_count": 104,
   "metadata": {
    "collapsed": true
   },
   "outputs": [],
   "source": [
    "# Data.to_csv('GPSData.csv',index=False)"
   ]
  },
  {
   "cell_type": "code",
   "execution_count": 157,
   "metadata": {},
   "outputs": [],
   "source": [
    "Features = pd.DataFrame({'Wear Frac':np.array(Data['Wear Frac'])})"
   ]
  },
  {
   "cell_type": "code",
   "execution_count": 172,
   "metadata": {},
   "outputs": [],
   "source": [
    "Features['DestinationType'] = Data['LandUse']\n",
    "Features['Distance'] = (Data['DistHome']/1000)\n",
    "Features['Duration'] = (Data['Duration']*24)\n",
    "Features['Mean Speed'] = Data['Speed_Mean']\n",
    "# Features['TripMode'] = Data['TripMode'].as_matrix()\n",
    "Features['TripDuration'] = Data['TripDuration']\n",
    "Features['Relative_Freq'] = Data['Relative Freq']\n",
    "Features['Relative_Duration'] = Data['Relative Duration']\n",
    "Features['SubjID'] = Data['SubjID']\n",
    "# Features['Brace'] = Data['Brace'].as_matrix()\n",
    "Features['NewBrace'] = Data['NewBrace']\n",
    "Features['Steps'] = Data['Steps']\n",
    "Features['Cadence'] = Data['Cadence']\n",
    "Features['Steps per Hour'] = Data['Steps per Hour']\n",
    "Features['Steps per Hour Wear'] = Data['Steps per Hour Wear']\n",
    "Features['Date'] = Data['Date']"
   ]
  },
  {
   "cell_type": "code",
   "execution_count": 170,
   "metadata": {},
   "outputs": [
    {
     "data": {
      "text/plain": [
       "Index(['SubjID', 'median WT CBR', 'median WT SCO', 'median WT Baseline',\n",
       "       'med sph CBR', 'med sph SCO', 'med sph Baseline', 'y of baseline use',\n",
       "       'Diagnosis', 'Short Diagnosis', 'Age', 'Ncluster CBR',\n",
       "       'MeanAwayTime CBR', 'Away/Home Time CBR', 'Home_WT CBR', 'Away_WT CBR',\n",
       "       'Ncluster SCO', 'MeanAwayTime SCO', 'Away/Home Time SCO', 'Home_WT SCO',\n",
       "       'Away_WT SCO'],\n",
       "      dtype='object')"
      ]
     },
     "execution_count": 170,
     "metadata": {},
     "output_type": "execute_result"
    }
   ],
   "source": [
    "demographics = pd.read_excel('../Data/Demographics_analysis.xlsx')\n",
    "demographics.columns"
   ]
  },
  {
   "cell_type": "code",
   "execution_count": 176,
   "metadata": {},
   "outputs": [
    {
     "data": {
      "text/html": [
       "<div>\n",
       "<style scoped>\n",
       "    .dataframe tbody tr th:only-of-type {\n",
       "        vertical-align: middle;\n",
       "    }\n",
       "\n",
       "    .dataframe tbody tr th {\n",
       "        vertical-align: top;\n",
       "    }\n",
       "\n",
       "    .dataframe thead th {\n",
       "        text-align: right;\n",
       "    }\n",
       "</style>\n",
       "<table border=\"1\" class=\"dataframe\">\n",
       "  <thead>\n",
       "    <tr style=\"text-align: right;\">\n",
       "      <th></th>\n",
       "      <th>SubjID</th>\n",
       "      <th>median WT CBR</th>\n",
       "      <th>median WT SCO</th>\n",
       "      <th>median WT Baseline</th>\n",
       "      <th>med sph CBR</th>\n",
       "      <th>med sph SCO</th>\n",
       "      <th>med sph Baseline</th>\n",
       "      <th>y of baseline use</th>\n",
       "      <th>Diagnosis</th>\n",
       "      <th>Short Diagnosis</th>\n",
       "      <th>...</th>\n",
       "      <th>Ncluster CBR</th>\n",
       "      <th>MeanAwayTime CBR</th>\n",
       "      <th>Away/Home Time CBR</th>\n",
       "      <th>Home_WT CBR</th>\n",
       "      <th>Away_WT CBR</th>\n",
       "      <th>Ncluster SCO</th>\n",
       "      <th>MeanAwayTime SCO</th>\n",
       "      <th>Away/Home Time SCO</th>\n",
       "      <th>Home_WT SCO</th>\n",
       "      <th>Away_WT SCO</th>\n",
       "    </tr>\n",
       "  </thead>\n",
       "  <tbody>\n",
       "    <tr>\n",
       "      <th>0</th>\n",
       "      <td>CBR08</td>\n",
       "      <td>0.048</td>\n",
       "      <td>0.000</td>\n",
       "      <td>NaN</td>\n",
       "      <td>171.0</td>\n",
       "      <td>195.0</td>\n",
       "      <td>NaN</td>\n",
       "      <td>39.00</td>\n",
       "      <td>poliomyelitis</td>\n",
       "      <td>poliomyelitis</td>\n",
       "      <td>...</td>\n",
       "      <td>NaN</td>\n",
       "      <td>NaN</td>\n",
       "      <td>NaN</td>\n",
       "      <td>NaN</td>\n",
       "      <td>NaN</td>\n",
       "      <td>NaN</td>\n",
       "      <td>NaN</td>\n",
       "      <td>NaN</td>\n",
       "      <td>NaN</td>\n",
       "      <td>NaN</td>\n",
       "    </tr>\n",
       "    <tr>\n",
       "      <th>1</th>\n",
       "      <td>CBR11</td>\n",
       "      <td>10.800</td>\n",
       "      <td>0.648</td>\n",
       "      <td>11.532</td>\n",
       "      <td>126.0</td>\n",
       "      <td>72.0</td>\n",
       "      <td>144.0</td>\n",
       "      <td>5.00</td>\n",
       "      <td>traumatic T-12 ASIA D SCI</td>\n",
       "      <td>SCI</td>\n",
       "      <td>...</td>\n",
       "      <td>0.0</td>\n",
       "      <td>-0.085136</td>\n",
       "      <td>-0.255409</td>\n",
       "      <td>0.151221</td>\n",
       "      <td>0.521152</td>\n",
       "      <td>2.0</td>\n",
       "      <td>-0.172722</td>\n",
       "      <td>-0.391055</td>\n",
       "      <td>0.126550</td>\n",
       "      <td>0.348087</td>\n",
       "    </tr>\n",
       "    <tr>\n",
       "      <th>2</th>\n",
       "      <td>CBR15</td>\n",
       "      <td>12.876</td>\n",
       "      <td>11.844</td>\n",
       "      <td>10.776</td>\n",
       "      <td>72.0</td>\n",
       "      <td>69.0</td>\n",
       "      <td>126.0</td>\n",
       "      <td>0.50</td>\n",
       "      <td>West Nile encephalitis</td>\n",
       "      <td>other</td>\n",
       "      <td>...</td>\n",
       "      <td>7.0</td>\n",
       "      <td>0.164986</td>\n",
       "      <td>2.572308</td>\n",
       "      <td>-0.393580</td>\n",
       "      <td>-0.774352</td>\n",
       "      <td>-1.0</td>\n",
       "      <td>-0.013593</td>\n",
       "      <td>-0.119056</td>\n",
       "      <td>0.011352</td>\n",
       "      <td>0.086319</td>\n",
       "    </tr>\n",
       "    <tr>\n",
       "      <th>3</th>\n",
       "      <td>CBR16</td>\n",
       "      <td>12.768</td>\n",
       "      <td>9.816</td>\n",
       "      <td>10.128</td>\n",
       "      <td>288.0</td>\n",
       "      <td>216.0</td>\n",
       "      <td>288.0</td>\n",
       "      <td>1.00</td>\n",
       "      <td>peripheral neuropathy</td>\n",
       "      <td>other</td>\n",
       "      <td>...</td>\n",
       "      <td>-3.0</td>\n",
       "      <td>0.052646</td>\n",
       "      <td>-0.061229</td>\n",
       "      <td>0.024939</td>\n",
       "      <td>-0.048250</td>\n",
       "      <td>-2.0</td>\n",
       "      <td>0.017994</td>\n",
       "      <td>-0.057033</td>\n",
       "      <td>0.044296</td>\n",
       "      <td>0.033655</td>\n",
       "    </tr>\n",
       "    <tr>\n",
       "      <th>4</th>\n",
       "      <td>CBR19</td>\n",
       "      <td>0.000</td>\n",
       "      <td>0.000</td>\n",
       "      <td>0.000</td>\n",
       "      <td>117.0</td>\n",
       "      <td>111.0</td>\n",
       "      <td>186.0</td>\n",
       "      <td>0.08</td>\n",
       "      <td>poliomyelitis</td>\n",
       "      <td>poliomyelitis</td>\n",
       "      <td>...</td>\n",
       "      <td>0.0</td>\n",
       "      <td>-0.146621</td>\n",
       "      <td>-0.293243</td>\n",
       "      <td>0.001750</td>\n",
       "      <td>-0.116212</td>\n",
       "      <td>-1.0</td>\n",
       "      <td>-0.166035</td>\n",
       "      <td>-0.340787</td>\n",
       "      <td>0.026098</td>\n",
       "      <td>0.210914</td>\n",
       "    </tr>\n",
       "    <tr>\n",
       "      <th>5</th>\n",
       "      <td>CBR21</td>\n",
       "      <td>0.000</td>\n",
       "      <td>0.000</td>\n",
       "      <td>11.292</td>\n",
       "      <td>123.0</td>\n",
       "      <td>66.0</td>\n",
       "      <td>183.0</td>\n",
       "      <td>60.00</td>\n",
       "      <td>poliomyelitis</td>\n",
       "      <td>poliomyelitis</td>\n",
       "      <td>...</td>\n",
       "      <td>2.0</td>\n",
       "      <td>0.027761</td>\n",
       "      <td>0.220709</td>\n",
       "      <td>-0.273694</td>\n",
       "      <td>-0.442997</td>\n",
       "      <td>2.0</td>\n",
       "      <td>0.015059</td>\n",
       "      <td>0.169901</td>\n",
       "      <td>-0.255333</td>\n",
       "      <td>-0.415144</td>\n",
       "    </tr>\n",
       "    <tr>\n",
       "      <th>6</th>\n",
       "      <td>CBR22</td>\n",
       "      <td>3.408</td>\n",
       "      <td>0.000</td>\n",
       "      <td>0.096</td>\n",
       "      <td>108.0</td>\n",
       "      <td>93.0</td>\n",
       "      <td>108.0</td>\n",
       "      <td>2.00</td>\n",
       "      <td>peripheral nerve injury</td>\n",
       "      <td>other</td>\n",
       "      <td>...</td>\n",
       "      <td>12.0</td>\n",
       "      <td>-0.014582</td>\n",
       "      <td>2.056380</td>\n",
       "      <td>0.697704</td>\n",
       "      <td>0.197757</td>\n",
       "      <td>4.0</td>\n",
       "      <td>-0.043135</td>\n",
       "      <td>0.303327</td>\n",
       "      <td>0.723778</td>\n",
       "      <td>0.220365</td>\n",
       "    </tr>\n",
       "    <tr>\n",
       "      <th>7</th>\n",
       "      <td>CBR24</td>\n",
       "      <td>3.840</td>\n",
       "      <td>3.384</td>\n",
       "      <td>10.392</td>\n",
       "      <td>114.0</td>\n",
       "      <td>150.0</td>\n",
       "      <td>243.0</td>\n",
       "      <td>30.00</td>\n",
       "      <td>traumatic ASIA D SCI</td>\n",
       "      <td>SCI</td>\n",
       "      <td>...</td>\n",
       "      <td>-2.0</td>\n",
       "      <td>0.007013</td>\n",
       "      <td>-0.065909</td>\n",
       "      <td>-0.275521</td>\n",
       "      <td>-0.543035</td>\n",
       "      <td>-2.0</td>\n",
       "      <td>-0.007549</td>\n",
       "      <td>-0.080471</td>\n",
       "      <td>-0.337964</td>\n",
       "      <td>-0.474622</td>\n",
       "    </tr>\n",
       "    <tr>\n",
       "      <th>8</th>\n",
       "      <td>CBR25</td>\n",
       "      <td>6.888</td>\n",
       "      <td>NaN</td>\n",
       "      <td>12.960</td>\n",
       "      <td>90.0</td>\n",
       "      <td>NaN</td>\n",
       "      <td>315.0</td>\n",
       "      <td>66.00</td>\n",
       "      <td>poliomyelitis</td>\n",
       "      <td>poliomyelitis</td>\n",
       "      <td>...</td>\n",
       "      <td>2.0</td>\n",
       "      <td>-0.027065</td>\n",
       "      <td>0.026296</td>\n",
       "      <td>-0.276561</td>\n",
       "      <td>-0.531728</td>\n",
       "      <td>NaN</td>\n",
       "      <td>NaN</td>\n",
       "      <td>NaN</td>\n",
       "      <td>NaN</td>\n",
       "      <td>NaN</td>\n",
       "    </tr>\n",
       "    <tr>\n",
       "      <th>9</th>\n",
       "      <td>CBR26</td>\n",
       "      <td>3.084</td>\n",
       "      <td>8.952</td>\n",
       "      <td>15.384</td>\n",
       "      <td>249.0</td>\n",
       "      <td>324.0</td>\n",
       "      <td>378.0</td>\n",
       "      <td>0.50</td>\n",
       "      <td>traumatic brain injury</td>\n",
       "      <td>TBI</td>\n",
       "      <td>...</td>\n",
       "      <td>-3.0</td>\n",
       "      <td>-0.050623</td>\n",
       "      <td>-0.375679</td>\n",
       "      <td>-0.402853</td>\n",
       "      <td>-0.323277</td>\n",
       "      <td>-2.0</td>\n",
       "      <td>-0.030015</td>\n",
       "      <td>-0.273000</td>\n",
       "      <td>-0.220680</td>\n",
       "      <td>-0.144298</td>\n",
       "    </tr>\n",
       "    <tr>\n",
       "      <th>10</th>\n",
       "      <td>CBR27</td>\n",
       "      <td>0.000</td>\n",
       "      <td>0.000</td>\n",
       "      <td>12.852</td>\n",
       "      <td>6.0</td>\n",
       "      <td>6.0</td>\n",
       "      <td>48.0</td>\n",
       "      <td>70.00</td>\n",
       "      <td>poliomyelitis</td>\n",
       "      <td>poliomyelitis</td>\n",
       "      <td>...</td>\n",
       "      <td>0.0</td>\n",
       "      <td>-0.066642</td>\n",
       "      <td>-0.066642</td>\n",
       "      <td>-0.484264</td>\n",
       "      <td>-0.192814</td>\n",
       "      <td>0.0</td>\n",
       "      <td>-0.067560</td>\n",
       "      <td>-0.067560</td>\n",
       "      <td>-0.470001</td>\n",
       "      <td>-0.302588</td>\n",
       "    </tr>\n",
       "    <tr>\n",
       "      <th>11</th>\n",
       "      <td>CBR28</td>\n",
       "      <td>0.000</td>\n",
       "      <td>0.312</td>\n",
       "      <td>0.276</td>\n",
       "      <td>138.0</td>\n",
       "      <td>126.0</td>\n",
       "      <td>144.0</td>\n",
       "      <td>0.08</td>\n",
       "      <td>traumatic ASIA C SCI</td>\n",
       "      <td>SCI</td>\n",
       "      <td>...</td>\n",
       "      <td>-1.0</td>\n",
       "      <td>-0.007353</td>\n",
       "      <td>-0.026703</td>\n",
       "      <td>-0.011603</td>\n",
       "      <td>-0.198434</td>\n",
       "      <td>-1.0</td>\n",
       "      <td>0.019125</td>\n",
       "      <td>-0.000225</td>\n",
       "      <td>0.007324</td>\n",
       "      <td>-0.080922</td>\n",
       "    </tr>\n",
       "    <tr>\n",
       "      <th>12</th>\n",
       "      <td>CBR30</td>\n",
       "      <td>15.840</td>\n",
       "      <td>15.456</td>\n",
       "      <td>14.388</td>\n",
       "      <td>294.0</td>\n",
       "      <td>276.0</td>\n",
       "      <td>318.0</td>\n",
       "      <td>37.00</td>\n",
       "      <td>traumatic SCI</td>\n",
       "      <td>SCI</td>\n",
       "      <td>...</td>\n",
       "      <td>1.0</td>\n",
       "      <td>0.030955</td>\n",
       "      <td>0.228934</td>\n",
       "      <td>-0.012619</td>\n",
       "      <td>-0.070090</td>\n",
       "      <td>-1.0</td>\n",
       "      <td>0.047005</td>\n",
       "      <td>0.066856</td>\n",
       "      <td>0.105429</td>\n",
       "      <td>-0.043805</td>\n",
       "    </tr>\n",
       "    <tr>\n",
       "      <th>13</th>\n",
       "      <td>CBR31</td>\n",
       "      <td>13.968</td>\n",
       "      <td>NaN</td>\n",
       "      <td>13.512</td>\n",
       "      <td>162.0</td>\n",
       "      <td>NaN</td>\n",
       "      <td>222.0</td>\n",
       "      <td>50.00</td>\n",
       "      <td>poliomyelitis</td>\n",
       "      <td>poliomyelitis</td>\n",
       "      <td>...</td>\n",
       "      <td>1.0</td>\n",
       "      <td>-0.019852</td>\n",
       "      <td>0.015504</td>\n",
       "      <td>-0.101826</td>\n",
       "      <td>-0.148729</td>\n",
       "      <td>NaN</td>\n",
       "      <td>NaN</td>\n",
       "      <td>NaN</td>\n",
       "      <td>NaN</td>\n",
       "      <td>NaN</td>\n",
       "    </tr>\n",
       "  </tbody>\n",
       "</table>\n",
       "<p>14 rows × 21 columns</p>\n",
       "</div>"
      ],
      "text/plain": [
       "   SubjID  median WT CBR  median WT SCO  median WT Baseline  med sph CBR  \\\n",
       "0   CBR08          0.048          0.000                 NaN        171.0   \n",
       "1   CBR11         10.800          0.648              11.532        126.0   \n",
       "2   CBR15         12.876         11.844              10.776         72.0   \n",
       "3   CBR16         12.768          9.816              10.128        288.0   \n",
       "4   CBR19          0.000          0.000               0.000        117.0   \n",
       "5   CBR21          0.000          0.000              11.292        123.0   \n",
       "6   CBR22          3.408          0.000               0.096        108.0   \n",
       "7   CBR24          3.840          3.384              10.392        114.0   \n",
       "8   CBR25          6.888            NaN              12.960         90.0   \n",
       "9   CBR26          3.084          8.952              15.384        249.0   \n",
       "10  CBR27          0.000          0.000              12.852          6.0   \n",
       "11  CBR28          0.000          0.312               0.276        138.0   \n",
       "12  CBR30         15.840         15.456              14.388        294.0   \n",
       "13  CBR31         13.968            NaN              13.512        162.0   \n",
       "\n",
       "    med sph SCO  med sph Baseline  y of baseline use  \\\n",
       "0         195.0               NaN              39.00   \n",
       "1          72.0             144.0               5.00   \n",
       "2          69.0             126.0               0.50   \n",
       "3         216.0             288.0               1.00   \n",
       "4         111.0             186.0               0.08   \n",
       "5          66.0             183.0              60.00   \n",
       "6          93.0             108.0               2.00   \n",
       "7         150.0             243.0              30.00   \n",
       "8           NaN             315.0              66.00   \n",
       "9         324.0             378.0               0.50   \n",
       "10          6.0              48.0              70.00   \n",
       "11        126.0             144.0               0.08   \n",
       "12        276.0             318.0              37.00   \n",
       "13          NaN             222.0              50.00   \n",
       "\n",
       "                    Diagnosis Short Diagnosis  ...  Ncluster CBR  \\\n",
       "0               poliomyelitis   poliomyelitis  ...           NaN   \n",
       "1   traumatic T-12 ASIA D SCI             SCI  ...           0.0   \n",
       "2      West Nile encephalitis           other  ...           7.0   \n",
       "3       peripheral neuropathy           other  ...          -3.0   \n",
       "4               poliomyelitis   poliomyelitis  ...           0.0   \n",
       "5               poliomyelitis   poliomyelitis  ...           2.0   \n",
       "6     peripheral nerve injury           other  ...          12.0   \n",
       "7        traumatic ASIA D SCI             SCI  ...          -2.0   \n",
       "8               poliomyelitis   poliomyelitis  ...           2.0   \n",
       "9      traumatic brain injury             TBI  ...          -3.0   \n",
       "10              poliomyelitis   poliomyelitis  ...           0.0   \n",
       "11       traumatic ASIA C SCI             SCI  ...          -1.0   \n",
       "12              traumatic SCI             SCI  ...           1.0   \n",
       "13              poliomyelitis   poliomyelitis  ...           1.0   \n",
       "\n",
       "    MeanAwayTime CBR  Away/Home Time CBR  Home_WT CBR  Away_WT CBR  \\\n",
       "0                NaN                 NaN          NaN          NaN   \n",
       "1          -0.085136           -0.255409     0.151221     0.521152   \n",
       "2           0.164986            2.572308    -0.393580    -0.774352   \n",
       "3           0.052646           -0.061229     0.024939    -0.048250   \n",
       "4          -0.146621           -0.293243     0.001750    -0.116212   \n",
       "5           0.027761            0.220709    -0.273694    -0.442997   \n",
       "6          -0.014582            2.056380     0.697704     0.197757   \n",
       "7           0.007013           -0.065909    -0.275521    -0.543035   \n",
       "8          -0.027065            0.026296    -0.276561    -0.531728   \n",
       "9          -0.050623           -0.375679    -0.402853    -0.323277   \n",
       "10         -0.066642           -0.066642    -0.484264    -0.192814   \n",
       "11         -0.007353           -0.026703    -0.011603    -0.198434   \n",
       "12          0.030955            0.228934    -0.012619    -0.070090   \n",
       "13         -0.019852            0.015504    -0.101826    -0.148729   \n",
       "\n",
       "    Ncluster SCO  MeanAwayTime SCO  Away/Home Time SCO  Home_WT SCO  \\\n",
       "0            NaN               NaN                 NaN          NaN   \n",
       "1            2.0         -0.172722           -0.391055     0.126550   \n",
       "2           -1.0         -0.013593           -0.119056     0.011352   \n",
       "3           -2.0          0.017994           -0.057033     0.044296   \n",
       "4           -1.0         -0.166035           -0.340787     0.026098   \n",
       "5            2.0          0.015059            0.169901    -0.255333   \n",
       "6            4.0         -0.043135            0.303327     0.723778   \n",
       "7           -2.0         -0.007549           -0.080471    -0.337964   \n",
       "8            NaN               NaN                 NaN          NaN   \n",
       "9           -2.0         -0.030015           -0.273000    -0.220680   \n",
       "10           0.0         -0.067560           -0.067560    -0.470001   \n",
       "11          -1.0          0.019125           -0.000225     0.007324   \n",
       "12          -1.0          0.047005            0.066856     0.105429   \n",
       "13           NaN               NaN                 NaN          NaN   \n",
       "\n",
       "    Away_WT SCO  \n",
       "0           NaN  \n",
       "1      0.348087  \n",
       "2      0.086319  \n",
       "3      0.033655  \n",
       "4      0.210914  \n",
       "5     -0.415144  \n",
       "6      0.220365  \n",
       "7     -0.474622  \n",
       "8           NaN  \n",
       "9     -0.144298  \n",
       "10    -0.302588  \n",
       "11    -0.080922  \n",
       "12    -0.043805  \n",
       "13          NaN  \n",
       "\n",
       "[14 rows x 21 columns]"
      ]
     },
     "execution_count": 176,
     "metadata": {},
     "output_type": "execute_result"
    }
   ],
   "source": [
    "demographics"
   ]
  },
  {
   "cell_type": "code",
   "execution_count": 177,
   "metadata": {},
   "outputs": [],
   "source": [
    "Features['Age'] = [demographics[demographics['SubjID']==x]['Age'].values[0] for x in Data['SubjID']]\n",
    "Features['Diagnosis'] = [demographics[demographics['SubjID']==x]['Short Diagnosis'].values[0] for x in Data['SubjID']]\n",
    "Features['BaselineYrs'] = [demographics[demographics['SubjID']==x]['y of baseline use'].values[0] for x in Data['SubjID']]\n"
   ]
  },
  {
   "cell_type": "code",
   "execution_count": 180,
   "metadata": {},
   "outputs": [],
   "source": [
    "ClinicalMeasures = ['6mwt', '10mwt_ss', '10mwt_fast']\n",
    "for name in ClinicalMeasures:\n",
    "    d = pd.read_csv('./Clinical Measures/'+name+'.csv')\n",
    "    Features[name] = [d[d['SubjID']==x][y].values[0] for x, y in Data[['SubjID', 'Brace']].values]"
   ]
  },
  {
   "cell_type": "code",
   "execution_count": 181,
   "metadata": {},
   "outputs": [],
   "source": [
    "#threshold max distance and bin age\n",
    "Features.loc[Features['Distance']>1000,'Distance'] = 1000\n",
    "# bin age\n",
    "# bins = [0, 30, 64, 80]\n",
    "# group_names = ['0-30', '30-64', '64+']\n",
    "# Age_binned = pd.cut(Features['Age'], bins, labels=group_names)\n",
    "# Features['Age']=Age_binned\n",
    "# pd.value_counts(Features['Age'],normalize=True)"
   ]
  },
  {
   "cell_type": "code",
   "execution_count": 182,
   "metadata": {},
   "outputs": [],
   "source": [
    "#convert nan to unknown category for Tripmode\n",
    "# ind = Features['TripMode'].isnull()\n",
    "# Features.loc[ind,'TripMode']='unknown'"
   ]
  },
  {
   "cell_type": "code",
   "execution_count": 183,
   "metadata": {},
   "outputs": [],
   "source": [
    "#conver wear frac to binary \n",
    "# Features.loc[Features['Wear Frac']>.5,'Wear Frac'] = 1\n",
    "# Features.loc[Features['Wear Frac']<.5,'Wear Frac'] = 0"
   ]
  },
  {
   "cell_type": "code",
   "execution_count": 184,
   "metadata": {},
   "outputs": [],
   "source": [
    "#add lat and lon\n",
    "# Features['Mean Lat'] = Data['Mean Lat'].as_matrix()\n",
    "# Features['Mean Lon'] = Data['Mean Lon'].as_matrix()\n",
    "# Features['LocID'] = Data['LocID'].as_matrix()"
   ]
  },
  {
   "cell_type": "code",
   "execution_count": 186,
   "metadata": {},
   "outputs": [],
   "source": [
    "Features.to_csv('../Data/GPSandClinicalData.csv',index=False)"
   ]
  },
  {
   "cell_type": "code",
   "execution_count": 185,
   "metadata": {},
   "outputs": [
    {
     "data": {
      "text/html": [
       "<div>\n",
       "<style scoped>\n",
       "    .dataframe tbody tr th:only-of-type {\n",
       "        vertical-align: middle;\n",
       "    }\n",
       "\n",
       "    .dataframe tbody tr th {\n",
       "        vertical-align: top;\n",
       "    }\n",
       "\n",
       "    .dataframe thead th {\n",
       "        text-align: right;\n",
       "    }\n",
       "</style>\n",
       "<table border=\"1\" class=\"dataframe\">\n",
       "  <thead>\n",
       "    <tr style=\"text-align: right;\">\n",
       "      <th></th>\n",
       "      <th>Wear Frac</th>\n",
       "      <th>DestinationType</th>\n",
       "      <th>Distance</th>\n",
       "      <th>Duration</th>\n",
       "      <th>Mean Speed</th>\n",
       "      <th>TripDuration</th>\n",
       "      <th>Relative_Freq</th>\n",
       "      <th>Relative_Duration</th>\n",
       "      <th>SubjID</th>\n",
       "      <th>NewBrace</th>\n",
       "      <th>...</th>\n",
       "      <th>Steps per Hour</th>\n",
       "      <th>Steps per Hour Wear</th>\n",
       "      <th>Date</th>\n",
       "      <th>Cadence</th>\n",
       "      <th>Age</th>\n",
       "      <th>Diagnosis</th>\n",
       "      <th>BaselineYrs</th>\n",
       "      <th>6mwt</th>\n",
       "      <th>10mwt_ss</th>\n",
       "      <th>10mwt_fast</th>\n",
       "    </tr>\n",
       "  </thead>\n",
       "  <tbody>\n",
       "    <tr>\n",
       "      <th>0</th>\n",
       "      <td>0.015000</td>\n",
       "      <td>Res</td>\n",
       "      <td>12.229512</td>\n",
       "      <td>2.772222</td>\n",
       "      <td>0.215601</td>\n",
       "      <td>NaN</td>\n",
       "      <td>0.014925</td>\n",
       "      <td>0.021452</td>\n",
       "      <td>CBR21</td>\n",
       "      <td>1</td>\n",
       "      <td>...</td>\n",
       "      <td>0.0</td>\n",
       "      <td>0.0</td>\n",
       "      <td>2016-08-18</td>\n",
       "      <td>NaN</td>\n",
       "      <td>65</td>\n",
       "      <td>poliomyelitis</td>\n",
       "      <td>60.0</td>\n",
       "      <td>231.93</td>\n",
       "      <td>0.69</td>\n",
       "      <td>0.85</td>\n",
       "    </tr>\n",
       "    <tr>\n",
       "      <th>1</th>\n",
       "      <td>0.063091</td>\n",
       "      <td>Inst</td>\n",
       "      <td>6.302016</td>\n",
       "      <td>1.758333</td>\n",
       "      <td>0.230411</td>\n",
       "      <td>NaN</td>\n",
       "      <td>0.014925</td>\n",
       "      <td>0.013607</td>\n",
       "      <td>CBR21</td>\n",
       "      <td>1</td>\n",
       "      <td>...</td>\n",
       "      <td>0.0</td>\n",
       "      <td>0.0</td>\n",
       "      <td>2016-08-18</td>\n",
       "      <td>NaN</td>\n",
       "      <td>65</td>\n",
       "      <td>poliomyelitis</td>\n",
       "      <td>60.0</td>\n",
       "      <td>231.93</td>\n",
       "      <td>0.69</td>\n",
       "      <td>0.85</td>\n",
       "    </tr>\n",
       "    <tr>\n",
       "      <th>2</th>\n",
       "      <td>0.000000</td>\n",
       "      <td>Com</td>\n",
       "      <td>5.095353</td>\n",
       "      <td>1.016389</td>\n",
       "      <td>0.591493</td>\n",
       "      <td>NaN</td>\n",
       "      <td>0.014925</td>\n",
       "      <td>0.007865</td>\n",
       "      <td>CBR21</td>\n",
       "      <td>1</td>\n",
       "      <td>...</td>\n",
       "      <td>0.0</td>\n",
       "      <td>NaN</td>\n",
       "      <td>2016-08-19</td>\n",
       "      <td>NaN</td>\n",
       "      <td>65</td>\n",
       "      <td>poliomyelitis</td>\n",
       "      <td>60.0</td>\n",
       "      <td>231.93</td>\n",
       "      <td>0.69</td>\n",
       "      <td>0.85</td>\n",
       "    </tr>\n",
       "    <tr>\n",
       "      <th>3</th>\n",
       "      <td>0.000000</td>\n",
       "      <td>Com</td>\n",
       "      <td>5.172335</td>\n",
       "      <td>0.366111</td>\n",
       "      <td>1.607549</td>\n",
       "      <td>NaN</td>\n",
       "      <td>0.029851</td>\n",
       "      <td>0.004252</td>\n",
       "      <td>CBR21</td>\n",
       "      <td>1</td>\n",
       "      <td>...</td>\n",
       "      <td>0.0</td>\n",
       "      <td>NaN</td>\n",
       "      <td>2016-08-19</td>\n",
       "      <td>NaN</td>\n",
       "      <td>65</td>\n",
       "      <td>poliomyelitis</td>\n",
       "      <td>60.0</td>\n",
       "      <td>231.93</td>\n",
       "      <td>0.69</td>\n",
       "      <td>0.85</td>\n",
       "    </tr>\n",
       "    <tr>\n",
       "      <th>4</th>\n",
       "      <td>0.000000</td>\n",
       "      <td>Com</td>\n",
       "      <td>2.871296</td>\n",
       "      <td>0.052778</td>\n",
       "      <td>4.483316</td>\n",
       "      <td>NaN</td>\n",
       "      <td>0.044776</td>\n",
       "      <td>0.001827</td>\n",
       "      <td>CBR21</td>\n",
       "      <td>1</td>\n",
       "      <td>...</td>\n",
       "      <td>0.0</td>\n",
       "      <td>NaN</td>\n",
       "      <td>2016-08-19</td>\n",
       "      <td>NaN</td>\n",
       "      <td>65</td>\n",
       "      <td>poliomyelitis</td>\n",
       "      <td>60.0</td>\n",
       "      <td>231.93</td>\n",
       "      <td>0.69</td>\n",
       "      <td>0.85</td>\n",
       "    </tr>\n",
       "  </tbody>\n",
       "</table>\n",
       "<p>5 rows × 21 columns</p>\n",
       "</div>"
      ],
      "text/plain": [
       "   Wear Frac DestinationType   Distance  Duration  Mean Speed  TripDuration  \\\n",
       "0   0.015000             Res  12.229512  2.772222    0.215601           NaN   \n",
       "1   0.063091            Inst   6.302016  1.758333    0.230411           NaN   \n",
       "2   0.000000             Com   5.095353  1.016389    0.591493           NaN   \n",
       "3   0.000000             Com   5.172335  0.366111    1.607549           NaN   \n",
       "4   0.000000             Com   2.871296  0.052778    4.483316           NaN   \n",
       "\n",
       "   Relative_Freq  Relative_Duration SubjID  NewBrace  ...  Steps per Hour  \\\n",
       "0       0.014925           0.021452  CBR21         1  ...             0.0   \n",
       "1       0.014925           0.013607  CBR21         1  ...             0.0   \n",
       "2       0.014925           0.007865  CBR21         1  ...             0.0   \n",
       "3       0.029851           0.004252  CBR21         1  ...             0.0   \n",
       "4       0.044776           0.001827  CBR21         1  ...             0.0   \n",
       "\n",
       "   Steps per Hour Wear        Date Cadence  Age      Diagnosis BaselineYrs  \\\n",
       "0                  0.0  2016-08-18     NaN   65  poliomyelitis        60.0   \n",
       "1                  0.0  2016-08-18     NaN   65  poliomyelitis        60.0   \n",
       "2                  NaN  2016-08-19     NaN   65  poliomyelitis        60.0   \n",
       "3                  NaN  2016-08-19     NaN   65  poliomyelitis        60.0   \n",
       "4                  NaN  2016-08-19     NaN   65  poliomyelitis        60.0   \n",
       "\n",
       "     6mwt  10mwt_ss  10mwt_fast  \n",
       "0  231.93      0.69        0.85  \n",
       "1  231.93      0.69        0.85  \n",
       "2  231.93      0.69        0.85  \n",
       "3  231.93      0.69        0.85  \n",
       "4  231.93      0.69        0.85  \n",
       "\n",
       "[5 rows x 21 columns]"
      ]
     },
     "execution_count": 185,
     "metadata": {},
     "output_type": "execute_result"
    }
   ],
   "source": [
    "Features.head()"
   ]
  },
  {
   "cell_type": "code",
   "execution_count": 210,
   "metadata": {},
   "outputs": [
    {
     "data": {
      "text/plain": [
       "<matplotlib.axes._subplots.AxesSubplot at 0x1a215b4090>"
      ]
     },
     "execution_count": 210,
     "metadata": {},
     "output_type": "execute_result"
    },
    {
     "data": {
      "image/png": "[encoded data removed]",
      "text/plain": [
       "<Figure size 432x288 with 1 Axes>"
      ]
     },
     "metadata": {
      "needs_background": "light"
     },
     "output_type": "display_data"
    }
   ],
   "source": [
    "Features.groupby('SubjID').Steps.mean().plot(kind='bar')"
   ]
  },
  {
   "cell_type": "code",
   "execution_count": 216,
   "metadata": {},
   "outputs": [
    {
     "data": {
      "text/plain": [
       "<matplotlib.axes._subplots.AxesSubplot at 0x1a21aba9d0>"
      ]
     },
     "execution_count": 216,
     "metadata": {},
     "output_type": "execute_result"
    },
    {
     "data": {
      "image/png": "[encoded data removed]",
      "text/plain": [
       "<Figure size 432x288 with 1 Axes>"
      ]
     },
     "metadata": {
      "needs_background": "light"
     },
     "output_type": "display_data"
    }
   ],
   "source": [
    "Features.groupby('SubjID').Steps.sum().plot(kind='bar')"
   ]
  },
  {
   "cell_type": "code",
   "execution_count": 188,
   "metadata": {},
   "outputs": [
    {
     "data": {
      "text/plain": [
       "Index(['Wear Frac', 'DestinationType', 'Distance', 'Duration', 'Mean Speed',\n",
       "       'TripDuration', 'Relative_Freq', 'Relative_Duration', 'SubjID',\n",
       "       'NewBrace', 'Steps', 'Steps per Hour', 'Steps per Hour Wear', 'Date',\n",
       "       'Cadence', 'Age', 'Diagnosis', 'BaselineYrs', '6mwt', '10mwt_ss',\n",
       "       '10mwt_fast'],\n",
       "      dtype='object')"
      ]
     },
     "execution_count": 188,
     "metadata": {},
     "output_type": "execute_result"
    }
   ],
   "source": [
    "Features.columns"
   ]
  },
  {
   "cell_type": "code",
   "execution_count": 215,
   "metadata": {},
   "outputs": [
    {
     "data": {
      "text/plain": [
       "<matplotlib.axes._subplots.AxesSubplot at 0x1a219fc2d0>"
      ]
     },
     "execution_count": 215,
     "metadata": {},
     "output_type": "execute_result"
    },
    {
     "data": {
      "image/png": "[encoded data removed]",
      "text/plain": [
       "<Figure size 432x288 with 1 Axes>"
      ]
     },
     "metadata": {
      "needs_background": "light"
     },
     "output_type": "display_data"
    }
   ],
   "source": [
    "Features[Features['Duration'] > 8] = 8\n",
    "sns.distplot(Features['Duration'])"
   ]
  },
  {
   "cell_type": "code",
   "execution_count": 206,
   "metadata": {},
   "outputs": [
    {
     "data": {
      "text/plain": [
       "<matplotlib.axes._subplots.AxesSubplot at 0x1a20b42350>"
      ]
     },
     "execution_count": 206,
     "metadata": {},
     "output_type": "execute_result"
    },
    {
     "data": {
      "image/png": "[encoded data removed]",
      "text/plain": [
       "<Figure size 432x288 with 1 Axes>"
      ]
     },
     "metadata": {
      "needs_background": "light"
     },
     "output_type": "display_data"
    }
   ],
   "source": [
    "sns.distplot(Features['Cadence'])"
   ]
  },
  {
   "cell_type": "code",
   "execution_count": 213,
   "metadata": {},
   "outputs": [
    {
     "data": {
      "text/plain": [
       "<matplotlib.axes._subplots.AxesSubplot at 0x1a217dc790>"
      ]
     },
     "execution_count": 213,
     "metadata": {},
     "output_type": "execute_result"
    },
    {
     "data": {
      "image/png": "[encoded data removed]",
      "text/plain": [
       "<Figure size 432x288 with 1 Axes>"
      ]
     },
     "metadata": {
      "needs_background": "light"
     },
     "output_type": "display_data"
    }
   ],
   "source": [
    "sns.scatterplot(x='Steps', y='Cadence', data=Features, hue='NewBrace')"
   ]
  },
  {
   "cell_type": "code",
   "execution_count": null,
   "metadata": {},
   "outputs": [],
   "source": []
  }
 ],
 "metadata": {
  "anaconda-cloud": {},
  "kernelspec": {
   "display_name": "Python 3",
   "language": "python",
   "name": "python3"
  },
  "language_info": {
   "codemirror_mode": {
    "name": "ipython",
    "version": 3
   },
   "file_extension": ".py",
   "mimetype": "text/x-python",
   "name": "python",
   "nbconvert_exporter": "python",
   "pygments_lexer": "ipython3",
   "version": "3.7.6"
  }
 },
 "nbformat": 4,
 "nbformat_minor": 1
}
